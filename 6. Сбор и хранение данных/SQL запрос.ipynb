{
 "cells": [
  {
   "cell_type": "code",
   "execution_count": null,
   "id": "cdaa28cf",
   "metadata": {},
   "outputs": [],
   "source": [
    "import requests\n",
    "\n",
    "URL = 'https://code.s3.yandex.net/learning-materials/data-analyst/festival_news/index.html'\n",
    "\n",
    "req = requests.get(URL)\n",
    "#print(req.text)\n",
    "\n",
    "from bs4 import BeautifulSoup\n",
    "soup=BeautifulSoup(req.text, 'lxml')\n",
    "\n",
    "table = soup.find('table')\n",
    "# применим метод find к тегу table\n",
    "\n",
    "heading_table = [] \n",
    "for row in table.find_all('th'): \n",
    "        heading_table.append(row.text) \n",
    "\n",
    "content=[] \n",
    "for row in table.find_all('tr'): \n",
    "\n",
    "    if not row.find_all('th'): \n",
    "            content.append([element.text for element in row.find_all('td')])\n",
    "\n",
    "import pandas as pd\n",
    "festivals = pd.DataFrame(content, columns=heading_table) \n",
    "print(festivals)"
   ]
  },
  {
   "cell_type": "code",
   "execution_count": null,
   "id": "7735803f",
   "metadata": {},
   "outputs": [],
   "source": [
    "SELECT\n",
    "    EXTRACT(week FROM CAST(flights.arrival_time AS date)) AS week_number,\n",
    "    COUNT(ticket_flights.ticket_no) AS ticket_amount,\n",
    "    sub.festival_week AS festival_week,\n",
    "    sub.festival_name AS festival_name\n",
    "    \n",
    "FROM tickets\n",
    "    LEFT JOIN ticket_flights ON ticket_flights.ticket_no  = tickets.ticket_no\n",
    "    LEFT JOIN flights ON flights.flight_id  = ticket_flights.flight_id\n",
    "    LEFT JOIN airports ON airports.airport_code = flights.arrival_airport\n",
    "    LEFT JOIN\n",
    "        (SELECT\n",
    "             festival_name,\n",
    "             EXTRACT(WEEK FROM CAST(festival_date AS date)) AS festival_week\n",
    "         FROM\n",
    "             festivals\n",
    "         WHERE\n",
    "             festival_city = 'Москва' AND festival_date BETWEEN '2018-07-23' AND '2018-09-30') as sub ON sub.festival_week = EXTRACT(week FROM CAST(flights.arrival_time AS date))\n",
    "WHERE\n",
    "    airports.city = 'Москва' AND\n",
    "    CAST(flights.arrival_time AS date) BETWEEN '2018-07-23' AND '2018-09-30'\n",
    "GROUP BY\n",
    "    EXTRACT(week FROM CAST(flights.arrival_time AS date)), \n",
    "    festival_week, \n",
    "    festival_name"
   ]
  }
 ],
 "metadata": {
  "kernelspec": {
   "display_name": "Python 3 (ipykernel)",
   "language": "python",
   "name": "python3"
  },
  "language_info": {
   "codemirror_mode": {
    "name": "ipython",
    "version": 3
   },
   "file_extension": ".py",
   "mimetype": "text/x-python",
   "name": "python",
   "nbconvert_exporter": "python",
   "pygments_lexer": "ipython3",
   "version": "3.9.7"
  }
 },
 "nbformat": 4,
 "nbformat_minor": 5
}
