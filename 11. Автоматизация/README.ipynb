{
 "cells": [
  {
   "cell_type": "markdown",
   "id": "b706668a",
   "metadata": {},
   "source": [
    "# Создание дашборда Яндекс.Дзен"
   ]
  },
  {
   "cell_type": "markdown",
   "id": "2138626b",
   "metadata": {},
   "source": [
    "## Цели и задачи исследования\n"
   ]
  },
  {
   "cell_type": "markdown",
   "id": "158054b4",
   "metadata": {},
   "source": [
    "---"
   ]
  },
  {
   "cell_type": "markdown",
   "id": "76c3c290",
   "metadata": {},
   "source": [
    "Автоматизировать процесс отчетности через создание дашборда в Tableau.\n",
    "\n",
    "Определить:\n",
    "- Сколько взаимодействий пользователей с карточками происходит в системе с разбивкой по темам карточек;\n",
    "- Как много карточек генерируют источники с разными темами;\n",
    "- Как соотносятся темы карточек и темы источников.\n",
    "\n",
    "\n",
    "Подготовить презентацию с отчетом.\n"
   ]
  },
  {
   "cell_type": "markdown",
   "id": "dbd505d9",
   "metadata": {},
   "source": [
    "## Результаты исследования"
   ]
  },
  {
   "cell_type": "markdown",
   "id": "b8cf247d",
   "metadata": {},
   "source": [
    "---"
   ]
  },
  {
   "cell_type": "markdown",
   "id": "d589e318",
   "metadata": {},
   "source": [
    "\n",
    "В системе происходит более 60 тысяч взаимодействий пользователей с карточками. Пик активности с 18:50 до 19:00. Больше всего взаимодействий в категориях - наука, отношения, общество и интересные факты. Больше всего карточек генерируют источники - Семейные отношения, Россия, Полезные советы."
   ]
  },
  {
   "cell_type": "markdown",
   "id": "4b67a55f",
   "metadata": {},
   "source": [
    "## Использованные библиотеки"
   ]
  },
  {
   "cell_type": "markdown",
   "id": "3a743188",
   "metadata": {},
   "source": [
    "---"
   ]
  },
  {
   "cell_type": "markdown",
   "id": "b8b7678e",
   "metadata": {},
   "source": [
    "- *pandas*\n",
    "- *sqlalchemy*\n"
   ]
  }
 ],
 "metadata": {
  "kernelspec": {
   "display_name": "Python 3 (ipykernel)",
   "language": "python",
   "name": "python3"
  },
  "language_info": {
   "codemirror_mode": {
    "name": "ipython",
    "version": 3
   },
   "file_extension": ".py",
   "mimetype": "text/x-python",
   "name": "python",
   "nbconvert_exporter": "python",
   "pygments_lexer": "ipython3",
   "version": "3.9.7"
  }
 },
 "nbformat": 4,
 "nbformat_minor": 5
}
