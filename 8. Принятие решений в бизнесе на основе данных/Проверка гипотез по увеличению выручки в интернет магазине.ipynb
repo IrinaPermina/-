{
 "cells": [
  {
   "cell_type": "markdown",
   "metadata": {},
   "source": [
    "# Описание проекта\n",
    "\n",
    "Необходимо проанализировать гипотезы для увеличения выручки крупного интернет-магазина.\n",
    "Запустить А/В тестирование и сделать выводы."
   ]
  },
  {
   "cell_type": "markdown",
   "metadata": {},
   "source": [
    "## Часть 1. Приоритизация гипотез.\n",
    "В файле /datasets/hypothesis.csv 9 гипотез по увеличению выручки интернет-магазина с указанными параметрами Reach, Impact, Confidence, Effort.\n"
   ]
  },
  {
   "cell_type": "code",
   "execution_count": 1,
   "metadata": {},
   "outputs": [],
   "source": [
    "import pandas as pd\n",
    "from scipy import stats as st\n",
    "import matplotlib.pyplot as plt\n",
    "import numpy as np\n",
    "import seaborn as sns\n",
    "from matplotlib import pyplot as plt\n",
    "import datetime as dt\n",
    "import scipy.stats as stats"
   ]
  },
  {
   "cell_type": "code",
   "execution_count": 2,
   "metadata": {},
   "outputs": [],
   "source": [
    "pd.set_option('display.max_colwidth', 1000)"
   ]
  },
  {
   "cell_type": "code",
   "execution_count": 3,
   "metadata": {},
   "outputs": [
    {
     "data": {
      "text/html": [
       "<div>\n",
       "<style scoped>\n",
       "    .dataframe tbody tr th:only-of-type {\n",
       "        vertical-align: middle;\n",
       "    }\n",
       "\n",
       "    .dataframe tbody tr th {\n",
       "        vertical-align: top;\n",
       "    }\n",
       "\n",
       "    .dataframe thead th {\n",
       "        text-align: right;\n",
       "    }\n",
       "</style>\n",
       "<table border=\"1\" class=\"dataframe\">\n",
       "  <thead>\n",
       "    <tr style=\"text-align: right;\">\n",
       "      <th></th>\n",
       "      <th>Hypothesis</th>\n",
       "      <th>Reach</th>\n",
       "      <th>Impact</th>\n",
       "      <th>Confidence</th>\n",
       "      <th>Efforts</th>\n",
       "    </tr>\n",
       "  </thead>\n",
       "  <tbody>\n",
       "    <tr>\n",
       "      <td>0</td>\n",
       "      <td>Добавить два новых канала привлечения трафика, что позволит привлекать на 30% больше пользователей</td>\n",
       "      <td>3</td>\n",
       "      <td>10</td>\n",
       "      <td>8</td>\n",
       "      <td>6</td>\n",
       "    </tr>\n",
       "    <tr>\n",
       "      <td>1</td>\n",
       "      <td>Запустить собственную службу доставки, что сократит срок доставки заказов</td>\n",
       "      <td>2</td>\n",
       "      <td>5</td>\n",
       "      <td>4</td>\n",
       "      <td>10</td>\n",
       "    </tr>\n",
       "    <tr>\n",
       "      <td>2</td>\n",
       "      <td>Добавить блоки рекомендаций товаров на сайт интернет магазина, чтобы повысить конверсию и средний чек заказа</td>\n",
       "      <td>8</td>\n",
       "      <td>3</td>\n",
       "      <td>7</td>\n",
       "      <td>3</td>\n",
       "    </tr>\n",
       "    <tr>\n",
       "      <td>3</td>\n",
       "      <td>Изменить структура категорий, что увеличит конверсию, т.к. пользователи быстрее найдут нужный товар</td>\n",
       "      <td>8</td>\n",
       "      <td>3</td>\n",
       "      <td>3</td>\n",
       "      <td>8</td>\n",
       "    </tr>\n",
       "    <tr>\n",
       "      <td>4</td>\n",
       "      <td>Изменить цвет фона главной страницы, чтобы увеличить вовлеченность пользователей</td>\n",
       "      <td>3</td>\n",
       "      <td>1</td>\n",
       "      <td>1</td>\n",
       "      <td>1</td>\n",
       "    </tr>\n",
       "  </tbody>\n",
       "</table>\n",
       "</div>"
      ],
      "text/plain": [
       "                                                                                                     Hypothesis  \\\n",
       "0            Добавить два новых канала привлечения трафика, что позволит привлекать на 30% больше пользователей   \n",
       "1                                     Запустить собственную службу доставки, что сократит срок доставки заказов   \n",
       "2  Добавить блоки рекомендаций товаров на сайт интернет магазина, чтобы повысить конверсию и средний чек заказа   \n",
       "3           Изменить структура категорий, что увеличит конверсию, т.к. пользователи быстрее найдут нужный товар   \n",
       "4                              Изменить цвет фона главной страницы, чтобы увеличить вовлеченность пользователей   \n",
       "\n",
       "   Reach  Impact  Confidence  Efforts  \n",
       "0      3      10           8        6  \n",
       "1      2       5           4       10  \n",
       "2      8       3           7        3  \n",
       "3      8       3           3        8  \n",
       "4      3       1           1        1  "
      ]
     },
     "execution_count": 3,
     "metadata": {},
     "output_type": "execute_result"
    }
   ],
   "source": [
    "data = pd.read_csv('/datasets/hypothesis.csv')\n",
    "data.head()"
   ]
  },
  {
   "cell_type": "code",
   "execution_count": 4,
   "metadata": {},
   "outputs": [
    {
     "data": {
      "text/html": [
       "<div>\n",
       "<style scoped>\n",
       "    .dataframe tbody tr th:only-of-type {\n",
       "        vertical-align: middle;\n",
       "    }\n",
       "\n",
       "    .dataframe tbody tr th {\n",
       "        vertical-align: top;\n",
       "    }\n",
       "\n",
       "    .dataframe thead th {\n",
       "        text-align: right;\n",
       "    }\n",
       "</style>\n",
       "<table border=\"1\" class=\"dataframe\">\n",
       "  <thead>\n",
       "    <tr style=\"text-align: right;\">\n",
       "      <th></th>\n",
       "      <th>Hypothesis</th>\n",
       "      <th>Reach</th>\n",
       "      <th>Impact</th>\n",
       "      <th>Confidence</th>\n",
       "      <th>Efforts</th>\n",
       "    </tr>\n",
       "  </thead>\n",
       "  <tbody>\n",
       "    <tr>\n",
       "      <td>0</td>\n",
       "      <td>Добавить два новых канала привлечения трафика, что позволит привлекать на 30% больше пользователей</td>\n",
       "      <td>3</td>\n",
       "      <td>10</td>\n",
       "      <td>8</td>\n",
       "      <td>6</td>\n",
       "    </tr>\n",
       "    <tr>\n",
       "      <td>1</td>\n",
       "      <td>Запустить собственную службу доставки, что сократит срок доставки заказов</td>\n",
       "      <td>2</td>\n",
       "      <td>5</td>\n",
       "      <td>4</td>\n",
       "      <td>10</td>\n",
       "    </tr>\n",
       "    <tr>\n",
       "      <td>2</td>\n",
       "      <td>Добавить блоки рекомендаций товаров на сайт интернет магазина, чтобы повысить конверсию и средний чек заказа</td>\n",
       "      <td>8</td>\n",
       "      <td>3</td>\n",
       "      <td>7</td>\n",
       "      <td>3</td>\n",
       "    </tr>\n",
       "    <tr>\n",
       "      <td>3</td>\n",
       "      <td>Изменить структура категорий, что увеличит конверсию, т.к. пользователи быстрее найдут нужный товар</td>\n",
       "      <td>8</td>\n",
       "      <td>3</td>\n",
       "      <td>3</td>\n",
       "      <td>8</td>\n",
       "    </tr>\n",
       "    <tr>\n",
       "      <td>4</td>\n",
       "      <td>Изменить цвет фона главной страницы, чтобы увеличить вовлеченность пользователей</td>\n",
       "      <td>3</td>\n",
       "      <td>1</td>\n",
       "      <td>1</td>\n",
       "      <td>1</td>\n",
       "    </tr>\n",
       "    <tr>\n",
       "      <td>5</td>\n",
       "      <td>Добавить страницу отзывов клиентов о магазине, что позволит увеличить количество заказов</td>\n",
       "      <td>3</td>\n",
       "      <td>2</td>\n",
       "      <td>2</td>\n",
       "      <td>3</td>\n",
       "    </tr>\n",
       "    <tr>\n",
       "      <td>6</td>\n",
       "      <td>Показать на главной странице баннеры с актуальными акциями и распродажами, чтобы увеличить конверсию</td>\n",
       "      <td>5</td>\n",
       "      <td>3</td>\n",
       "      <td>8</td>\n",
       "      <td>3</td>\n",
       "    </tr>\n",
       "    <tr>\n",
       "      <td>7</td>\n",
       "      <td>Добавить форму подписки на все основные страницы, чтобы собрать базу клиентов для email-рассылок</td>\n",
       "      <td>10</td>\n",
       "      <td>7</td>\n",
       "      <td>8</td>\n",
       "      <td>5</td>\n",
       "    </tr>\n",
       "    <tr>\n",
       "      <td>8</td>\n",
       "      <td>Запустить акцию, дающую скидку на товар в день рождения</td>\n",
       "      <td>1</td>\n",
       "      <td>9</td>\n",
       "      <td>9</td>\n",
       "      <td>5</td>\n",
       "    </tr>\n",
       "  </tbody>\n",
       "</table>\n",
       "</div>"
      ],
      "text/plain": [
       "                                                                                                     Hypothesis  \\\n",
       "0            Добавить два новых канала привлечения трафика, что позволит привлекать на 30% больше пользователей   \n",
       "1                                     Запустить собственную службу доставки, что сократит срок доставки заказов   \n",
       "2  Добавить блоки рекомендаций товаров на сайт интернет магазина, чтобы повысить конверсию и средний чек заказа   \n",
       "3           Изменить структура категорий, что увеличит конверсию, т.к. пользователи быстрее найдут нужный товар   \n",
       "4                              Изменить цвет фона главной страницы, чтобы увеличить вовлеченность пользователей   \n",
       "5                      Добавить страницу отзывов клиентов о магазине, что позволит увеличить количество заказов   \n",
       "6          Показать на главной странице баннеры с актуальными акциями и распродажами, чтобы увеличить конверсию   \n",
       "7              Добавить форму подписки на все основные страницы, чтобы собрать базу клиентов для email-рассылок   \n",
       "8                                                       Запустить акцию, дающую скидку на товар в день рождения   \n",
       "\n",
       "   Reach  Impact  Confidence  Efforts  \n",
       "0      3      10           8        6  \n",
       "1      2       5           4       10  \n",
       "2      8       3           7        3  \n",
       "3      8       3           3        8  \n",
       "4      3       1           1        1  \n",
       "5      3       2           2        3  \n",
       "6      5       3           8        3  \n",
       "7     10       7           8        5  \n",
       "8      1       9           9        5  "
      ]
     },
     "execution_count": 4,
     "metadata": {},
     "output_type": "execute_result"
    }
   ],
   "source": [
    "\n",
    "data = pd.read_csv('/datasets/hypothesis.csv', sep=',')\n",
    "data"
   ]
  },
  {
   "cell_type": "markdown",
   "metadata": {},
   "source": [
    "Приведем названия столбцов к нижнему регистру"
   ]
  },
  {
   "cell_type": "code",
   "execution_count": 5,
   "metadata": {},
   "outputs": [
    {
     "data": {
      "text/html": [
       "<div>\n",
       "<style scoped>\n",
       "    .dataframe tbody tr th:only-of-type {\n",
       "        vertical-align: middle;\n",
       "    }\n",
       "\n",
       "    .dataframe tbody tr th {\n",
       "        vertical-align: top;\n",
       "    }\n",
       "\n",
       "    .dataframe thead th {\n",
       "        text-align: right;\n",
       "    }\n",
       "</style>\n",
       "<table border=\"1\" class=\"dataframe\">\n",
       "  <thead>\n",
       "    <tr style=\"text-align: right;\">\n",
       "      <th></th>\n",
       "      <th>hypothesis</th>\n",
       "      <th>reach</th>\n",
       "      <th>impact</th>\n",
       "      <th>confidence</th>\n",
       "      <th>efforts</th>\n",
       "    </tr>\n",
       "  </thead>\n",
       "  <tbody>\n",
       "    <tr>\n",
       "      <td>0</td>\n",
       "      <td>Добавить два новых канала привлечения трафика, что позволит привлекать на 30% больше пользователей</td>\n",
       "      <td>3</td>\n",
       "      <td>10</td>\n",
       "      <td>8</td>\n",
       "      <td>6</td>\n",
       "    </tr>\n",
       "    <tr>\n",
       "      <td>1</td>\n",
       "      <td>Запустить собственную службу доставки, что сократит срок доставки заказов</td>\n",
       "      <td>2</td>\n",
       "      <td>5</td>\n",
       "      <td>4</td>\n",
       "      <td>10</td>\n",
       "    </tr>\n",
       "    <tr>\n",
       "      <td>2</td>\n",
       "      <td>Добавить блоки рекомендаций товаров на сайт интернет магазина, чтобы повысить конверсию и средний чек заказа</td>\n",
       "      <td>8</td>\n",
       "      <td>3</td>\n",
       "      <td>7</td>\n",
       "      <td>3</td>\n",
       "    </tr>\n",
       "    <tr>\n",
       "      <td>3</td>\n",
       "      <td>Изменить структура категорий, что увеличит конверсию, т.к. пользователи быстрее найдут нужный товар</td>\n",
       "      <td>8</td>\n",
       "      <td>3</td>\n",
       "      <td>3</td>\n",
       "      <td>8</td>\n",
       "    </tr>\n",
       "    <tr>\n",
       "      <td>4</td>\n",
       "      <td>Изменить цвет фона главной страницы, чтобы увеличить вовлеченность пользователей</td>\n",
       "      <td>3</td>\n",
       "      <td>1</td>\n",
       "      <td>1</td>\n",
       "      <td>1</td>\n",
       "    </tr>\n",
       "    <tr>\n",
       "      <td>5</td>\n",
       "      <td>Добавить страницу отзывов клиентов о магазине, что позволит увеличить количество заказов</td>\n",
       "      <td>3</td>\n",
       "      <td>2</td>\n",
       "      <td>2</td>\n",
       "      <td>3</td>\n",
       "    </tr>\n",
       "    <tr>\n",
       "      <td>6</td>\n",
       "      <td>Показать на главной странице баннеры с актуальными акциями и распродажами, чтобы увеличить конверсию</td>\n",
       "      <td>5</td>\n",
       "      <td>3</td>\n",
       "      <td>8</td>\n",
       "      <td>3</td>\n",
       "    </tr>\n",
       "    <tr>\n",
       "      <td>7</td>\n",
       "      <td>Добавить форму подписки на все основные страницы, чтобы собрать базу клиентов для email-рассылок</td>\n",
       "      <td>10</td>\n",
       "      <td>7</td>\n",
       "      <td>8</td>\n",
       "      <td>5</td>\n",
       "    </tr>\n",
       "    <tr>\n",
       "      <td>8</td>\n",
       "      <td>Запустить акцию, дающую скидку на товар в день рождения</td>\n",
       "      <td>1</td>\n",
       "      <td>9</td>\n",
       "      <td>9</td>\n",
       "      <td>5</td>\n",
       "    </tr>\n",
       "  </tbody>\n",
       "</table>\n",
       "</div>"
      ],
      "text/plain": [
       "                                                                                                     hypothesis  \\\n",
       "0            Добавить два новых канала привлечения трафика, что позволит привлекать на 30% больше пользователей   \n",
       "1                                     Запустить собственную службу доставки, что сократит срок доставки заказов   \n",
       "2  Добавить блоки рекомендаций товаров на сайт интернет магазина, чтобы повысить конверсию и средний чек заказа   \n",
       "3           Изменить структура категорий, что увеличит конверсию, т.к. пользователи быстрее найдут нужный товар   \n",
       "4                              Изменить цвет фона главной страницы, чтобы увеличить вовлеченность пользователей   \n",
       "5                      Добавить страницу отзывов клиентов о магазине, что позволит увеличить количество заказов   \n",
       "6          Показать на главной странице баннеры с актуальными акциями и распродажами, чтобы увеличить конверсию   \n",
       "7              Добавить форму подписки на все основные страницы, чтобы собрать базу клиентов для email-рассылок   \n",
       "8                                                       Запустить акцию, дающую скидку на товар в день рождения   \n",
       "\n",
       "   reach  impact  confidence  efforts  \n",
       "0      3      10           8        6  \n",
       "1      2       5           4       10  \n",
       "2      8       3           7        3  \n",
       "3      8       3           3        8  \n",
       "4      3       1           1        1  \n",
       "5      3       2           2        3  \n",
       "6      5       3           8        3  \n",
       "7     10       7           8        5  \n",
       "8      1       9           9        5  "
      ]
     },
     "execution_count": 5,
     "metadata": {},
     "output_type": "execute_result"
    }
   ],
   "source": [
    "data.columns=data.columns.str.lower()\n",
    "data"
   ]
  },
  {
   "cell_type": "markdown",
   "metadata": {},
   "source": [
    "### Применим фреймворк ICE для приоритизации гипотез и отсортируем их по убыванию приоритета"
   ]
  },
  {
   "cell_type": "code",
   "execution_count": 6,
   "metadata": {},
   "outputs": [
    {
     "data": {
      "text/html": [
       "<div>\n",
       "<style scoped>\n",
       "    .dataframe tbody tr th:only-of-type {\n",
       "        vertical-align: middle;\n",
       "    }\n",
       "\n",
       "    .dataframe tbody tr th {\n",
       "        vertical-align: top;\n",
       "    }\n",
       "\n",
       "    .dataframe thead th {\n",
       "        text-align: right;\n",
       "    }\n",
       "</style>\n",
       "<table border=\"1\" class=\"dataframe\">\n",
       "  <thead>\n",
       "    <tr style=\"text-align: right;\">\n",
       "      <th></th>\n",
       "      <th>hypothesis</th>\n",
       "      <th>ICE</th>\n",
       "    </tr>\n",
       "  </thead>\n",
       "  <tbody>\n",
       "    <tr>\n",
       "      <td>8</td>\n",
       "      <td>Запустить акцию, дающую скидку на товар в день рождения</td>\n",
       "      <td>16.2</td>\n",
       "    </tr>\n",
       "    <tr>\n",
       "      <td>0</td>\n",
       "      <td>Добавить два новых канала привлечения трафика, что позволит привлекать на 30% больше пользователей</td>\n",
       "      <td>13.3</td>\n",
       "    </tr>\n",
       "    <tr>\n",
       "      <td>7</td>\n",
       "      <td>Добавить форму подписки на все основные страницы, чтобы собрать базу клиентов для email-рассылок</td>\n",
       "      <td>11.2</td>\n",
       "    </tr>\n",
       "    <tr>\n",
       "      <td>6</td>\n",
       "      <td>Показать на главной странице баннеры с актуальными акциями и распродажами, чтобы увеличить конверсию</td>\n",
       "      <td>8.0</td>\n",
       "    </tr>\n",
       "    <tr>\n",
       "      <td>2</td>\n",
       "      <td>Добавить блоки рекомендаций товаров на сайт интернет магазина, чтобы повысить конверсию и средний чек заказа</td>\n",
       "      <td>7.0</td>\n",
       "    </tr>\n",
       "    <tr>\n",
       "      <td>1</td>\n",
       "      <td>Запустить собственную службу доставки, что сократит срок доставки заказов</td>\n",
       "      <td>2.0</td>\n",
       "    </tr>\n",
       "    <tr>\n",
       "      <td>5</td>\n",
       "      <td>Добавить страницу отзывов клиентов о магазине, что позволит увеличить количество заказов</td>\n",
       "      <td>1.3</td>\n",
       "    </tr>\n",
       "    <tr>\n",
       "      <td>3</td>\n",
       "      <td>Изменить структура категорий, что увеличит конверсию, т.к. пользователи быстрее найдут нужный товар</td>\n",
       "      <td>1.1</td>\n",
       "    </tr>\n",
       "    <tr>\n",
       "      <td>4</td>\n",
       "      <td>Изменить цвет фона главной страницы, чтобы увеличить вовлеченность пользователей</td>\n",
       "      <td>1.0</td>\n",
       "    </tr>\n",
       "  </tbody>\n",
       "</table>\n",
       "</div>"
      ],
      "text/plain": [
       "                                                                                                     hypothesis  \\\n",
       "8                                                       Запустить акцию, дающую скидку на товар в день рождения   \n",
       "0            Добавить два новых канала привлечения трафика, что позволит привлекать на 30% больше пользователей   \n",
       "7              Добавить форму подписки на все основные страницы, чтобы собрать базу клиентов для email-рассылок   \n",
       "6          Показать на главной странице баннеры с актуальными акциями и распродажами, чтобы увеличить конверсию   \n",
       "2  Добавить блоки рекомендаций товаров на сайт интернет магазина, чтобы повысить конверсию и средний чек заказа   \n",
       "1                                     Запустить собственную службу доставки, что сократит срок доставки заказов   \n",
       "5                      Добавить страницу отзывов клиентов о магазине, что позволит увеличить количество заказов   \n",
       "3           Изменить структура категорий, что увеличит конверсию, т.к. пользователи быстрее найдут нужный товар   \n",
       "4                              Изменить цвет фона главной страницы, чтобы увеличить вовлеченность пользователей   \n",
       "\n",
       "    ICE  \n",
       "8  16.2  \n",
       "0  13.3  \n",
       "7  11.2  \n",
       "6   8.0  \n",
       "2   7.0  \n",
       "1   2.0  \n",
       "5   1.3  \n",
       "3   1.1  \n",
       "4   1.0  "
      ]
     },
     "metadata": {},
     "output_type": "display_data"
    }
   ],
   "source": [
    "data['ICE'] = (data['impact'] * data['confidence'] / data['efforts']).round(1)\n",
    "display(data[['hypothesis', 'ICE']].sort_values(by='ICE', ascending=False))"
   ]
  },
  {
   "cell_type": "markdown",
   "metadata": {},
   "source": [
    "### Применим фреймворк RICE для приоритизации гипотез и отсортируем их по убыванию приоритета"
   ]
  },
  {
   "cell_type": "code",
   "execution_count": 7,
   "metadata": {},
   "outputs": [
    {
     "data": {
      "text/html": [
       "<div>\n",
       "<style scoped>\n",
       "    .dataframe tbody tr th:only-of-type {\n",
       "        vertical-align: middle;\n",
       "    }\n",
       "\n",
       "    .dataframe tbody tr th {\n",
       "        vertical-align: top;\n",
       "    }\n",
       "\n",
       "    .dataframe thead th {\n",
       "        text-align: right;\n",
       "    }\n",
       "</style>\n",
       "<table border=\"1\" class=\"dataframe\">\n",
       "  <thead>\n",
       "    <tr style=\"text-align: right;\">\n",
       "      <th></th>\n",
       "      <th>hypothesis</th>\n",
       "      <th>RICE</th>\n",
       "    </tr>\n",
       "  </thead>\n",
       "  <tbody>\n",
       "    <tr>\n",
       "      <td>7</td>\n",
       "      <td>Добавить форму подписки на все основные страницы, чтобы собрать базу клиентов для email-рассылок</td>\n",
       "      <td>112.0</td>\n",
       "    </tr>\n",
       "    <tr>\n",
       "      <td>2</td>\n",
       "      <td>Добавить блоки рекомендаций товаров на сайт интернет магазина, чтобы повысить конверсию и средний чек заказа</td>\n",
       "      <td>56.0</td>\n",
       "    </tr>\n",
       "    <tr>\n",
       "      <td>0</td>\n",
       "      <td>Добавить два новых канала привлечения трафика, что позволит привлекать на 30% больше пользователей</td>\n",
       "      <td>40.0</td>\n",
       "    </tr>\n",
       "    <tr>\n",
       "      <td>6</td>\n",
       "      <td>Показать на главной странице баннеры с актуальными акциями и распродажами, чтобы увеличить конверсию</td>\n",
       "      <td>40.0</td>\n",
       "    </tr>\n",
       "    <tr>\n",
       "      <td>8</td>\n",
       "      <td>Запустить акцию, дающую скидку на товар в день рождения</td>\n",
       "      <td>16.2</td>\n",
       "    </tr>\n",
       "    <tr>\n",
       "      <td>3</td>\n",
       "      <td>Изменить структура категорий, что увеличит конверсию, т.к. пользователи быстрее найдут нужный товар</td>\n",
       "      <td>9.0</td>\n",
       "    </tr>\n",
       "    <tr>\n",
       "      <td>1</td>\n",
       "      <td>Запустить собственную службу доставки, что сократит срок доставки заказов</td>\n",
       "      <td>4.0</td>\n",
       "    </tr>\n",
       "    <tr>\n",
       "      <td>5</td>\n",
       "      <td>Добавить страницу отзывов клиентов о магазине, что позволит увеличить количество заказов</td>\n",
       "      <td>4.0</td>\n",
       "    </tr>\n",
       "    <tr>\n",
       "      <td>4</td>\n",
       "      <td>Изменить цвет фона главной страницы, чтобы увеличить вовлеченность пользователей</td>\n",
       "      <td>3.0</td>\n",
       "    </tr>\n",
       "  </tbody>\n",
       "</table>\n",
       "</div>"
      ],
      "text/plain": [
       "                                                                                                     hypothesis  \\\n",
       "7              Добавить форму подписки на все основные страницы, чтобы собрать базу клиентов для email-рассылок   \n",
       "2  Добавить блоки рекомендаций товаров на сайт интернет магазина, чтобы повысить конверсию и средний чек заказа   \n",
       "0            Добавить два новых канала привлечения трафика, что позволит привлекать на 30% больше пользователей   \n",
       "6          Показать на главной странице баннеры с актуальными акциями и распродажами, чтобы увеличить конверсию   \n",
       "8                                                       Запустить акцию, дающую скидку на товар в день рождения   \n",
       "3           Изменить структура категорий, что увеличит конверсию, т.к. пользователи быстрее найдут нужный товар   \n",
       "1                                     Запустить собственную службу доставки, что сократит срок доставки заказов   \n",
       "5                      Добавить страницу отзывов клиентов о магазине, что позволит увеличить количество заказов   \n",
       "4                              Изменить цвет фона главной страницы, чтобы увеличить вовлеченность пользователей   \n",
       "\n",
       "    RICE  \n",
       "7  112.0  \n",
       "2   56.0  \n",
       "0   40.0  \n",
       "6   40.0  \n",
       "8   16.2  \n",
       "3    9.0  \n",
       "1    4.0  \n",
       "5    4.0  \n",
       "4    3.0  "
      ]
     },
     "metadata": {},
     "output_type": "display_data"
    }
   ],
   "source": [
    "data['RICE'] = (data['reach'] * data['impact'] * data['confidence'] / data['efforts']).round(1)\n",
    "display(data[['hypothesis', 'RICE']].sort_values(by='RICE', ascending=False))"
   ]
  },
  {
   "cell_type": "markdown",
   "metadata": {},
   "source": [
    "### Укажите, как изменилась приоритизация гипотез при применении RICE вместо ICE. Объясните, почему так произошло."
   ]
  },
  {
   "cell_type": "code",
   "execution_count": null,
   "metadata": {},
   "outputs": [],
   "source": []
  },
  {
   "cell_type": "markdown",
   "metadata": {},
   "source": [
    "При применении фреймворка ICE наиболее перспективными гипотезами являются - 8, 0 и 7, однако с учетом параметра охвата пользователей (Reach) наиболее перспективными гипотезами являются - 7, 2 и 0.\n",
    "\n",
    "Так получилось, потому, что у гипотезы 7 максимальная оценка Reach, следом за ней идут гипотезы 2 и 3 с оценкой 8, но т.к. у гипотезы 3 высокий Efforts, это снижает ее общую оценку в приоритизации, при этом гипотеза 0 вышла в топ-3 по причине максимально оцененного Impact и высокого Confidence.\n",
    "\n",
    "В связи с вышеизложенным рекомендовано в первую очередь проводить тестирование гипотез 7 и 0."
   ]
  },
  {
   "cell_type": "markdown",
   "metadata": {},
   "source": [
    "## Часть 2. Анализ A/B-теста\n",
    "Вы провели A/B-тест и получили результаты, которые описаны в файлах /datasets/orders.csv и /datasets/visitors.csv."
   ]
  },
  {
   "cell_type": "markdown",
   "metadata": {},
   "source": [
    "Файл /datasets/orders.csv:\n",
    "\n",
    "transactionId — идентификатор заказа;\n",
    "visitorId — идентификатор пользователя, совершившего заказ;\n",
    "date — дата, когда был совершён заказ;\n",
    "revenue — выручка заказа;\n",
    "group — группа A/B-теста, в которую попал заказ.\n",
    "\n",
    "Файл /datasets/visitors.csv:\n",
    "\n",
    "date — дата;\n",
    "group — группа A/B-теста;\n",
    "visitors — количество пользователей в указанную дату в указанной группе A/B-теста\n",
    "Проанализируем A/B-тест."
   ]
  },
  {
   "cell_type": "code",
   "execution_count": 8,
   "metadata": {},
   "outputs": [
    {
     "data": {
      "text/html": [
       "<div>\n",
       "<style scoped>\n",
       "    .dataframe tbody tr th:only-of-type {\n",
       "        vertical-align: middle;\n",
       "    }\n",
       "\n",
       "    .dataframe tbody tr th {\n",
       "        vertical-align: top;\n",
       "    }\n",
       "\n",
       "    .dataframe thead th {\n",
       "        text-align: right;\n",
       "    }\n",
       "</style>\n",
       "<table border=\"1\" class=\"dataframe\">\n",
       "  <thead>\n",
       "    <tr style=\"text-align: right;\">\n",
       "      <th></th>\n",
       "      <th>date</th>\n",
       "      <th>group</th>\n",
       "      <th>visitors</th>\n",
       "    </tr>\n",
       "  </thead>\n",
       "  <tbody>\n",
       "    <tr>\n",
       "      <td>0</td>\n",
       "      <td>2019-08-01</td>\n",
       "      <td>A</td>\n",
       "      <td>719</td>\n",
       "    </tr>\n",
       "    <tr>\n",
       "      <td>1</td>\n",
       "      <td>2019-08-02</td>\n",
       "      <td>A</td>\n",
       "      <td>619</td>\n",
       "    </tr>\n",
       "    <tr>\n",
       "      <td>2</td>\n",
       "      <td>2019-08-03</td>\n",
       "      <td>A</td>\n",
       "      <td>507</td>\n",
       "    </tr>\n",
       "    <tr>\n",
       "      <td>3</td>\n",
       "      <td>2019-08-04</td>\n",
       "      <td>A</td>\n",
       "      <td>717</td>\n",
       "    </tr>\n",
       "    <tr>\n",
       "      <td>4</td>\n",
       "      <td>2019-08-05</td>\n",
       "      <td>A</td>\n",
       "      <td>756</td>\n",
       "    </tr>\n",
       "  </tbody>\n",
       "</table>\n",
       "</div>"
      ],
      "text/plain": [
       "         date group  visitors\n",
       "0  2019-08-01     A       719\n",
       "1  2019-08-02     A       619\n",
       "2  2019-08-03     A       507\n",
       "3  2019-08-04     A       717\n",
       "4  2019-08-05     A       756"
      ]
     },
     "metadata": {},
     "output_type": "display_data"
    },
    {
     "name": "stdout",
     "output_type": "stream",
     "text": [
      "<class 'pandas.core.frame.DataFrame'>\n",
      "RangeIndex: 62 entries, 0 to 61\n",
      "Data columns (total 3 columns):\n",
      "date        62 non-null object\n",
      "group       62 non-null object\n",
      "visitors    62 non-null int64\n",
      "dtypes: int64(1), object(2)\n",
      "memory usage: 1.6+ KB\n"
     ]
    },
    {
     "data": {
      "text/plain": [
       "date        0\n",
       "group       0\n",
       "visitors    0\n",
       "dtype: int64"
      ]
     },
     "metadata": {},
     "output_type": "display_data"
    },
    {
     "data": {
      "text/html": [
       "<div>\n",
       "<style scoped>\n",
       "    .dataframe tbody tr th:only-of-type {\n",
       "        vertical-align: middle;\n",
       "    }\n",
       "\n",
       "    .dataframe tbody tr th {\n",
       "        vertical-align: top;\n",
       "    }\n",
       "\n",
       "    .dataframe thead th {\n",
       "        text-align: right;\n",
       "    }\n",
       "</style>\n",
       "<table border=\"1\" class=\"dataframe\">\n",
       "  <thead>\n",
       "    <tr style=\"text-align: right;\">\n",
       "      <th></th>\n",
       "      <th>transactionId</th>\n",
       "      <th>visitorId</th>\n",
       "      <th>date</th>\n",
       "      <th>revenue</th>\n",
       "      <th>group</th>\n",
       "    </tr>\n",
       "  </thead>\n",
       "  <tbody>\n",
       "    <tr>\n",
       "      <td>0</td>\n",
       "      <td>3667963787</td>\n",
       "      <td>3312258926</td>\n",
       "      <td>2019-08-15</td>\n",
       "      <td>1650</td>\n",
       "      <td>B</td>\n",
       "    </tr>\n",
       "    <tr>\n",
       "      <td>1</td>\n",
       "      <td>2804400009</td>\n",
       "      <td>3642806036</td>\n",
       "      <td>2019-08-15</td>\n",
       "      <td>730</td>\n",
       "      <td>B</td>\n",
       "    </tr>\n",
       "    <tr>\n",
       "      <td>2</td>\n",
       "      <td>2961555356</td>\n",
       "      <td>4069496402</td>\n",
       "      <td>2019-08-15</td>\n",
       "      <td>400</td>\n",
       "      <td>A</td>\n",
       "    </tr>\n",
       "    <tr>\n",
       "      <td>3</td>\n",
       "      <td>3797467345</td>\n",
       "      <td>1196621759</td>\n",
       "      <td>2019-08-15</td>\n",
       "      <td>9759</td>\n",
       "      <td>B</td>\n",
       "    </tr>\n",
       "    <tr>\n",
       "      <td>4</td>\n",
       "      <td>2282983706</td>\n",
       "      <td>2322279887</td>\n",
       "      <td>2019-08-15</td>\n",
       "      <td>2308</td>\n",
       "      <td>B</td>\n",
       "    </tr>\n",
       "  </tbody>\n",
       "</table>\n",
       "</div>"
      ],
      "text/plain": [
       "   transactionId   visitorId        date  revenue group\n",
       "0     3667963787  3312258926  2019-08-15     1650     B\n",
       "1     2804400009  3642806036  2019-08-15      730     B\n",
       "2     2961555356  4069496402  2019-08-15      400     A\n",
       "3     3797467345  1196621759  2019-08-15     9759     B\n",
       "4     2282983706  2322279887  2019-08-15     2308     B"
      ]
     },
     "metadata": {},
     "output_type": "display_data"
    },
    {
     "name": "stdout",
     "output_type": "stream",
     "text": [
      "<class 'pandas.core.frame.DataFrame'>\n",
      "RangeIndex: 1197 entries, 0 to 1196\n",
      "Data columns (total 5 columns):\n",
      "transactionId    1197 non-null int64\n",
      "visitorId        1197 non-null int64\n",
      "date             1197 non-null object\n",
      "revenue          1197 non-null int64\n",
      "group            1197 non-null object\n",
      "dtypes: int64(3), object(2)\n",
      "memory usage: 46.9+ KB\n"
     ]
    },
    {
     "data": {
      "text/plain": [
       "transactionId    0\n",
       "visitorId        0\n",
       "date             0\n",
       "revenue          0\n",
       "group            0\n",
       "dtype: int64"
      ]
     },
     "metadata": {},
     "output_type": "display_data"
    }
   ],
   "source": [
    "orders = pd.read_csv('/datasets/orders.csv')\n",
    "visitors = pd.read_csv('/datasets/visitors.csv')\n",
    "df_list = [visitors, orders]\n",
    "for df in df_list:\n",
    "  display(df.head())\n",
    "  df.info()\n",
    "  display(df.isna().sum())"
   ]
  },
  {
   "cell_type": "markdown",
   "metadata": {},
   "source": [
    "Типы данных: orders и visitors: перевести в формат даты колонку date.\n",
    "Дубликаты: отсутствуют.\n",
    "Пропуски: отсутствуют.\n",
    "Аномалии в данных: отсутствуют."
   ]
  },
  {
   "cell_type": "code",
   "execution_count": 9,
   "metadata": {},
   "outputs": [
    {
     "data": {
      "text/plain": [
       "(58, 2)"
      ]
     },
     "execution_count": 9,
     "metadata": {},
     "output_type": "execute_result"
    }
   ],
   "source": [
    "orders_grouped = orders.groupby('visitorId').agg({'group': 'nunique'})\n",
    "usersInTwoGroups = orders_grouped[orders_grouped['group'] == 2].reset_index()\n",
    "usersInTwoGroups.shape"
   ]
  },
  {
   "cell_type": "markdown",
   "metadata": {},
   "source": [
    "58 пользователей попали в обе группы. Нужно сообщить об этом коллегам, которые занимались распределением пользователей."
   ]
  },
  {
   "cell_type": "code",
   "execution_count": 10,
   "metadata": {},
   "outputs": [],
   "source": [
    "orders['date'] = orders['date'].map(\n",
    "    lambda x: dt.datetime.strptime(x, '%Y-%m-%d')\n",
    ")"
   ]
  },
  {
   "cell_type": "code",
   "execution_count": 11,
   "metadata": {},
   "outputs": [],
   "source": [
    "visitors['date'] = visitors['date'].map(\n",
    "    lambda x: dt.datetime.strptime(x, '%Y-%m-%d')\n",
    ")"
   ]
  },
  {
   "cell_type": "markdown",
   "metadata": {},
   "source": [
    "### Постройте график кумулятивной выручки по группам. Сделайте выводы и предположения."
   ]
  },
  {
   "cell_type": "code",
   "execution_count": 12,
   "metadata": {},
   "outputs": [
    {
     "data": {
      "text/html": [
       "<div>\n",
       "<style scoped>\n",
       "    .dataframe tbody tr th:only-of-type {\n",
       "        vertical-align: middle;\n",
       "    }\n",
       "\n",
       "    .dataframe tbody tr th {\n",
       "        vertical-align: top;\n",
       "    }\n",
       "\n",
       "    .dataframe thead th {\n",
       "        text-align: right;\n",
       "    }\n",
       "</style>\n",
       "<table border=\"1\" class=\"dataframe\">\n",
       "  <thead>\n",
       "    <tr style=\"text-align: right;\">\n",
       "      <th></th>\n",
       "      <th>transactionId</th>\n",
       "      <th>visitorId</th>\n",
       "      <th>date</th>\n",
       "      <th>revenue</th>\n",
       "      <th>group</th>\n",
       "    </tr>\n",
       "  </thead>\n",
       "  <tbody>\n",
       "    <tr>\n",
       "      <td>0</td>\n",
       "      <td>3667963787</td>\n",
       "      <td>3312258926</td>\n",
       "      <td>2019-08-15</td>\n",
       "      <td>1650</td>\n",
       "      <td>B</td>\n",
       "    </tr>\n",
       "    <tr>\n",
       "      <td>1</td>\n",
       "      <td>2804400009</td>\n",
       "      <td>3642806036</td>\n",
       "      <td>2019-08-15</td>\n",
       "      <td>730</td>\n",
       "      <td>B</td>\n",
       "    </tr>\n",
       "    <tr>\n",
       "      <td>2</td>\n",
       "      <td>2961555356</td>\n",
       "      <td>4069496402</td>\n",
       "      <td>2019-08-15</td>\n",
       "      <td>400</td>\n",
       "      <td>A</td>\n",
       "    </tr>\n",
       "    <tr>\n",
       "      <td>3</td>\n",
       "      <td>3797467345</td>\n",
       "      <td>1196621759</td>\n",
       "      <td>2019-08-15</td>\n",
       "      <td>9759</td>\n",
       "      <td>B</td>\n",
       "    </tr>\n",
       "    <tr>\n",
       "      <td>4</td>\n",
       "      <td>2282983706</td>\n",
       "      <td>2322279887</td>\n",
       "      <td>2019-08-15</td>\n",
       "      <td>2308</td>\n",
       "      <td>B</td>\n",
       "    </tr>\n",
       "  </tbody>\n",
       "</table>\n",
       "</div>"
      ],
      "text/plain": [
       "   transactionId   visitorId       date  revenue group\n",
       "0     3667963787  3312258926 2019-08-15     1650     B\n",
       "1     2804400009  3642806036 2019-08-15      730     B\n",
       "2     2961555356  4069496402 2019-08-15      400     A\n",
       "3     3797467345  1196621759 2019-08-15     9759     B\n",
       "4     2282983706  2322279887 2019-08-15     2308     B"
      ]
     },
     "execution_count": 12,
     "metadata": {},
     "output_type": "execute_result"
    }
   ],
   "source": [
    "orders.head()"
   ]
  },
  {
   "cell_type": "code",
   "execution_count": 13,
   "metadata": {},
   "outputs": [
    {
     "data": {
      "text/html": [
       "<div>\n",
       "<style scoped>\n",
       "    .dataframe tbody tr th:only-of-type {\n",
       "        vertical-align: middle;\n",
       "    }\n",
       "\n",
       "    .dataframe tbody tr th {\n",
       "        vertical-align: top;\n",
       "    }\n",
       "\n",
       "    .dataframe thead th {\n",
       "        text-align: right;\n",
       "    }\n",
       "</style>\n",
       "<table border=\"1\" class=\"dataframe\">\n",
       "  <thead>\n",
       "    <tr style=\"text-align: right;\">\n",
       "      <th></th>\n",
       "      <th>date</th>\n",
       "      <th>group</th>\n",
       "      <th>orders</th>\n",
       "      <th>buyers</th>\n",
       "      <th>revenue</th>\n",
       "      <th>visitors</th>\n",
       "    </tr>\n",
       "  </thead>\n",
       "  <tbody>\n",
       "    <tr>\n",
       "      <td>0</td>\n",
       "      <td>2019-08-01</td>\n",
       "      <td>A</td>\n",
       "      <td>24</td>\n",
       "      <td>20</td>\n",
       "      <td>148579</td>\n",
       "      <td>719</td>\n",
       "    </tr>\n",
       "    <tr>\n",
       "      <td>1</td>\n",
       "      <td>2019-08-01</td>\n",
       "      <td>B</td>\n",
       "      <td>21</td>\n",
       "      <td>20</td>\n",
       "      <td>101217</td>\n",
       "      <td>713</td>\n",
       "    </tr>\n",
       "    <tr>\n",
       "      <td>2</td>\n",
       "      <td>2019-08-02</td>\n",
       "      <td>A</td>\n",
       "      <td>44</td>\n",
       "      <td>38</td>\n",
       "      <td>242401</td>\n",
       "      <td>1338</td>\n",
       "    </tr>\n",
       "    <tr>\n",
       "      <td>3</td>\n",
       "      <td>2019-08-02</td>\n",
       "      <td>B</td>\n",
       "      <td>45</td>\n",
       "      <td>43</td>\n",
       "      <td>266748</td>\n",
       "      <td>1294</td>\n",
       "    </tr>\n",
       "    <tr>\n",
       "      <td>4</td>\n",
       "      <td>2019-08-03</td>\n",
       "      <td>A</td>\n",
       "      <td>68</td>\n",
       "      <td>62</td>\n",
       "      <td>354874</td>\n",
       "      <td>1845</td>\n",
       "    </tr>\n",
       "  </tbody>\n",
       "</table>\n",
       "</div>"
      ],
      "text/plain": [
       "        date group  orders  buyers  revenue  visitors\n",
       "0 2019-08-01     A      24      20   148579       719\n",
       "1 2019-08-01     B      21      20   101217       713\n",
       "2 2019-08-02     A      44      38   242401      1338\n",
       "3 2019-08-02     B      45      43   266748      1294\n",
       "4 2019-08-03     A      68      62   354874      1845"
      ]
     },
     "metadata": {},
     "output_type": "display_data"
    }
   ],
   "source": [
    "# создаем массив уникальных пар значений дат и групп теста\n",
    "datesGroups = orders[['date','group']].drop_duplicates()\n",
    "\n",
    "# получаем агрегированные кумулятивные по дням данные о заказах \n",
    "ordersAggregated = datesGroups.apply(lambda x: orders[np.logical_and(orders['date'] <= x['date'], orders['group'] == x['group'])].agg({'date' : 'max', 'group' : 'max', 'transactionId' : pd.Series.nunique, 'visitorId' : pd.Series.nunique, 'revenue' : 'sum'}), axis=1).sort_values(by=['date','group'])\n",
    "\n",
    "# получаем агрегированные кумулятивные по дням данные о посетителях интернет-магазина \n",
    "visitorsAggregated = datesGroups.apply(lambda x: visitors[np.logical_and(visitors['date'] <= x['date'], visitors['group'] == x['group'])].agg({'date' : 'max', 'group' : 'max', 'visitors' : 'sum'}), axis=1).sort_values(by=['date','group'])\n",
    "\n",
    "# объединяем кумулятивные данные в одной таблице и присваиваем ее столбцам понятные названия\n",
    "cumulativeData = ordersAggregated.merge(visitorsAggregated, left_on=['date', 'group'], right_on=['date', 'group'])\n",
    "cumulativeData.columns = ['date', 'group', 'orders', 'buyers', 'revenue', 'visitors']\n",
    "\n",
    "display(cumulativeData.head(5)) "
   ]
  },
  {
   "cell_type": "code",
   "execution_count": 14,
   "metadata": {},
   "outputs": [
    {
     "data": {
      "image/png": "[encoded data removed]",
      "text/plain": [
       "<Figure size 1440x432 with 1 Axes>"
      ]
     },
     "metadata": {
      "needs_background": "light"
     },
     "output_type": "display_data"
    }
   ],
   "source": [
    "from pandas.plotting import register_matplotlib_converters\n",
    "register_matplotlib_converters()  \n",
    "# датафрейм с кумулятивным количеством заказов и кумулятивной выручкой по дням в группе А\n",
    "cumulativeRevenueA = cumulativeData[cumulativeData['group']=='A'][['date','revenue', 'orders']]\n",
    "\n",
    "# датафрейм с кумулятивным количеством заказов и кумулятивной выручкой по дням в группе B\n",
    "cumulativeRevenueB = cumulativeData[cumulativeData['group']=='B'][['date','revenue', 'orders']]\n",
    "plt.figure(figsize=(20,6))\n",
    "# Строим график выручки группы А\n",
    "plt.plot(cumulativeRevenueA['date'], cumulativeRevenueA['revenue'], label='A')\n",
    "\n",
    "# Строим график выручки группы B\n",
    "plt.plot(cumulativeRevenueB['date'], cumulativeRevenueB['revenue'], label='B')\n",
    "\n",
    "plt.title('График кумулятивной выручки по группам', size=14)\n",
    "plt.xlabel(\"Даты\")\n",
    "plt.ylabel(\"Выручка\")\n",
    "plt.legend();"
   ]
  },
  {
   "cell_type": "markdown",
   "metadata": {},
   "source": [
    "Выручка почти равномерно увеличивается в течение всего теста.\n",
    "Однако график выручки группы В резко растет. Это может сигнализировать о всплесках числа заказов, либо о появлении очень дорогих заказов в выборке. Такие выбросы проанализируем ниже."
   ]
  },
  {
   "cell_type": "markdown",
   "metadata": {},
   "source": [
    "### Постройте график кумулятивного среднего чека по группам. Сделайте выводы и предположения."
   ]
  },
  {
   "cell_type": "code",
   "execution_count": 15,
   "metadata": {},
   "outputs": [
    {
     "data": {
      "image/png": "[encoded data removed]",
      "text/plain": [
       "<Figure size 1440x432 with 1 Axes>"
      ]
     },
     "metadata": {
      "needs_background": "light"
     },
     "output_type": "display_data"
    }
   ],
   "source": [
    "plt.figure(figsize=(20,6))\n",
    "plt.plot(cumulativeRevenueA['date'], cumulativeRevenueA['revenue']/cumulativeRevenueA['orders'], label='A')\n",
    "plt.plot(cumulativeRevenueB['date'], cumulativeRevenueB['revenue']/cumulativeRevenueB['orders'], label='B')\n",
    "plt.title('График кумулятивного среднего чека по группам', size=14)\n",
    "plt.xlabel(\"Даты\")\n",
    "plt.ylabel(\"Сумма среднего чека\")\n",
    "plt.legend(); "
   ]
  },
  {
   "cell_type": "markdown",
   "metadata": {},
   "source": [
    "Средний чек соответсвенно в группе В в один момент резко возрастает. Возможно это связано с попаданием крупных заказов. После этого отрезка чек группы В снижается, а чек заказов группы А начинает расти. Возможно надо больше данных, чтобы прийти к реальному среднему чеку."
   ]
  },
  {
   "cell_type": "markdown",
   "metadata": {},
   "source": [
    "### Постройте график относительного изменения кумулятивного среднего чека группы B к группе A. Сделайте выводы и предположения."
   ]
  },
  {
   "cell_type": "code",
   "execution_count": 16,
   "metadata": {},
   "outputs": [
    {
     "data": {
      "text/plain": [
       "<matplotlib.lines.Line2D at 0x7f69d2032f10>"
      ]
     },
     "execution_count": 16,
     "metadata": {},
     "output_type": "execute_result"
    },
    {
     "data": {
      "image/png": "[encoded data removed]",
      "text/plain": [
       "<Figure size 1440x432 with 1 Axes>"
      ]
     },
     "metadata": {
      "needs_background": "light"
     },
     "output_type": "display_data"
    }
   ],
   "source": [
    "# собираем данные в одном датафрейме\n",
    "mergedCumulativeRevenue = cumulativeRevenueA.merge(cumulativeRevenueB, left_on='date', right_on='date', how='left', suffixes=['A', 'B'])\n",
    "plt.figure(figsize=(20,6))\n",
    "# cтроим отношение средних чеков\n",
    "plt.plot(mergedCumulativeRevenue['date'], (mergedCumulativeRevenue['revenueB']/mergedCumulativeRevenue['ordersB'])/(mergedCumulativeRevenue['revenueA']/mergedCumulativeRevenue['ordersA'])-1)\n",
    "plt.title('График относительного изменения кумулятивного среднего чека группы B к группе A', size=14)\n",
    "plt.xlabel(\"Даты\")\n",
    "plt.ylabel(\"Соотношение среднего чека группы В к группе А\")\n",
    "# добавляем ось X\n",
    "plt.axhline(y=0, color='black', linestyle='--') "
   ]
  },
  {
   "cell_type": "markdown",
   "metadata": {},
   "source": [
    "В нескольких точках график различия между сегментами резко «скачет». Где-то уж точно спрятались крупные заказы и выбросы. Найдём их позже."
   ]
  },
  {
   "cell_type": "markdown",
   "metadata": {},
   "source": [
    "### Постройте график кумулятивной конверсии по группам. Сделайте выводы и предположения."
   ]
  },
  {
   "cell_type": "code",
   "execution_count": 17,
   "metadata": {},
   "outputs": [
    {
     "data": {
      "image/png": "[encoded data removed]",
      "text/plain": [
       "<Figure size 1440x432 with 1 Axes>"
      ]
     },
     "metadata": {
      "needs_background": "light"
     },
     "output_type": "display_data"
    }
   ],
   "source": [
    "# считаем кумулятивную конверсию\n",
    "cumulativeData['conversion'] = cumulativeData['orders']/cumulativeData['visitors']\n",
    "\n",
    "# отделяем данные по группе A\n",
    "cumulativeDataA = cumulativeData[cumulativeData['group']=='A']\n",
    "\n",
    "# отделяем данные по группе B\n",
    "cumulativeDataB = cumulativeData[cumulativeData['group']=='B']\n",
    "plt.figure(figsize=(20,6))\n",
    "# строим графики\n",
    "plt.plot(cumulativeDataA['date'], cumulativeDataA['conversion'], label='A')\n",
    "plt.plot(cumulativeDataB['date'], cumulativeDataB['conversion'], label='B')\n",
    "plt.title('График кумулятивной конверсии по группам', size=14)\n",
    "plt.xlabel(\"Даты\")\n",
    "plt.ylabel(\"Кумулятивная конверсия\")\n",
    "plt.legend();\n",
    "\n"
   ]
  },
  {
   "cell_type": "markdown",
   "metadata": {},
   "source": [
    "В начале теста сегмент А имел большую конверсию. Далее наблюдались скачки и резкое снижение конверсии по сегменту А, по сегменту В же конверсия стала больше.\n",
    "\n",
    "К концу теста колебания по конверсии по сегментам составляют значения:\n",
    "\n",
    "А - 0,029-0,031\n",
    "\n",
    "В - 0,033-0,034"
   ]
  },
  {
   "cell_type": "markdown",
   "metadata": {},
   "source": [
    "### Постройте график относительного изменения кумулятивной конверсии группы B к группе A. Сделайте выводы и предположения."
   ]
  },
  {
   "cell_type": "code",
   "execution_count": 18,
   "metadata": {},
   "outputs": [
    {
     "data": {
      "text/plain": [
       "<matplotlib.lines.Line2D at 0x7f69d1f51150>"
      ]
     },
     "execution_count": 18,
     "metadata": {},
     "output_type": "execute_result"
    },
    {
     "data": {
      "image/png": "[encoded data removed]",
      "text/plain": [
       "<Figure size 1440x432 with 1 Axes>"
      ]
     },
     "metadata": {
      "needs_background": "light"
     },
     "output_type": "display_data"
    }
   ],
   "source": [
    "mergedCumulativeConversions = cumulativeDataA[['date','conversion']].merge(cumulativeDataB[['date','conversion']], left_on='date', right_on='date', how='left', suffixes=['A', 'B'])\n",
    "plt.figure(figsize=(20,6))\n",
    "plt.plot(mergedCumulativeConversions['date'], mergedCumulativeConversions['conversionB']/mergedCumulativeConversions['conversionA']-1, label=\"Относительный прирост конверсии группы B относительно группы A\")\n",
    "\n",
    "plt.title('График относительного изменения кумулятивной конверсии группы B к группе A', size=14)\n",
    "plt.axhline(y=0, color='black', linestyle='--')\n",
    "plt.axhline(y=-0.1, color='grey', linestyle='--')\n"
   ]
  },
  {
   "cell_type": "markdown",
   "metadata": {},
   "source": [
    "Почти с самого начала теста группа В лидирует по конверсии: становится лучше и лучше, либо зафиксировалась около прироста в 15 % относительно группы А, но количество дней теста небольшое."
   ]
  },
  {
   "cell_type": "markdown",
   "metadata": {},
   "source": [
    "### Постройте точечный график количества заказов по пользователям. Сделайте выводы и предположения."
   ]
  },
  {
   "cell_type": "code",
   "execution_count": 19,
   "metadata": {},
   "outputs": [
    {
     "name": "stdout",
     "output_type": "stream",
     "text": [
      "       visitorId  orders\n",
      "1023  4256040402      11\n",
      "591   2458001652      11\n",
      "569   2378935119       9\n",
      "487   2038680547       8\n",
      "44     199603092       5\n",
      "744   3062433592       5\n",
      "55     237748145       5\n",
      "917   3803269165       5\n",
      "299   1230306981       5\n",
      "897   3717692402       5\n"
     ]
    },
    {
     "data": {
      "image/png": "[encoded data removed]",
      "text/plain": [
       "<Figure size 432x288 with 1 Axes>"
      ]
     },
     "metadata": {
      "needs_background": "light"
     },
     "output_type": "display_data"
    }
   ],
   "source": [
    "orders_per_user = orders.drop(['group', 'revenue', 'date'], axis=1).groupby('visitorId', as_index=False).agg({'transactionId' : pd.Series.nunique})\n",
    "orders_per_user.columns = ['visitorId','orders']\n",
    "\n",
    "print(orders_per_user.sort_values(by='orders',ascending=False).head(10))\n",
    "x_values = pd.Series(range(0,len(orders_per_user)))\n",
    "plt.title('Точечный график количества заказов')\n",
    "plt.xlabel('Количество пользователей')\n",
    "plt.ylabel('Количество заказов')\n",
    "plt.scatter(x_values, orders_per_user['orders']);"
   ]
  },
  {
   "cell_type": "markdown",
   "metadata": {},
   "source": [
    "Пользователей, заказавших более двух раз, совсем мало. Они вполне могут быть аномальными."
   ]
  },
  {
   "cell_type": "markdown",
   "metadata": {},
   "source": [
    "### Посчитайте 95-й и 99-й перцентили количества заказов на пользователя. Выберите границу для определения аномальных пользователей."
   ]
  },
  {
   "cell_type": "code",
   "execution_count": 20,
   "metadata": {},
   "outputs": [
    {
     "name": "stdout",
     "output_type": "stream",
     "text": [
      "[2. 4.]\n"
     ]
    }
   ],
   "source": [
    "print(np.percentile(orders_per_user['orders'], [95, 99]))"
   ]
  },
  {
   "cell_type": "markdown",
   "metadata": {},
   "source": [
    "\n",
    "Не более 5% пользователей совершали больше двух заказов. И не более 1% пользователей — больше четырёх заказов. Все, что за 99 перцентилем — аномально."
   ]
  },
  {
   "cell_type": "markdown",
   "metadata": {},
   "source": [
    "### Постройте точечный график стоимостей заказов. Сделайте выводы и предположения."
   ]
  },
  {
   "cell_type": "code",
   "execution_count": 21,
   "metadata": {},
   "outputs": [
    {
     "name": "stdout",
     "output_type": "stream",
     "text": [
      "      transactionId   visitorId       date  revenue group\n",
      "425       590470918  1920142716 2019-08-19  1294500     B\n",
      "1196     3936777065  2108080724 2019-08-15   202740     B\n",
      "858       192721366  1316129916 2019-08-27    93940     A\n",
      "1136      666610489  1307669133 2019-08-13    92550     A\n",
      "744      3668308183   888512513 2019-08-27    86620     B\n",
      "682      1216533772  4266935830 2019-08-29    78990     B\n",
      "662      1811671147  4266935830 2019-08-29    78990     A\n",
      "743      3603576309  4133034833 2019-08-09    67990     A\n",
      "1103     1348774318  1164614297 2019-08-12    66350     A\n",
      "1099      316924019   148427295 2019-08-12    65710     A\n"
     ]
    },
    {
     "data": {
      "image/png": "[encoded data removed]",
      "text/plain": [
       "<Figure size 432x288 with 1 Axes>"
      ]
     },
     "metadata": {
      "needs_background": "light"
     },
     "output_type": "display_data"
    }
   ],
   "source": [
    "print(orders.sort_values(by='revenue',ascending=False).head(10))\n",
    "\n",
    "x_values = pd.Series(range(0,len(orders['revenue'])))\n",
    "plt.title('Распределение стоимости заказов')\n",
    "plt.xlabel('Количество заказов')\n",
    "plt.ylabel('Стоимость заказов')\n",
    "plt.scatter(x_values, orders['revenue']) ;\n",
    "# plt.ylim(0, 100000)"
   ]
  },
  {
   "cell_type": "markdown",
   "metadata": {},
   "source": [
    "Видны 2 явных выброса."
   ]
  },
  {
   "cell_type": "code",
   "execution_count": 22,
   "metadata": {},
   "outputs": [
    {
     "data": {
      "image/png": "[encoded data removed]",
      "text/plain": [
       "<Figure size 432x288 with 1 Axes>"
      ]
     },
     "metadata": {
      "needs_background": "light"
     },
     "output_type": "display_data"
    }
   ],
   "source": [
    "x_values = pd.Series(range(0,len(orders['revenue'])))\n",
    "plt.title('Распределение стоимости заказов')\n",
    "plt.xlabel('Количество заказов')\n",
    "plt.ylabel('Стоимость заказов')\n",
    "plt.scatter(x_values, orders['revenue'])\n",
    "plt.axis([0, 1200, 0, 100000])\n",
    "plt.show()"
   ]
  },
  {
   "cell_type": "markdown",
   "metadata": {},
   "source": [
    "Практически все значения находят до 30 тыс. Основная масса располагается до 20 тыс. "
   ]
  },
  {
   "cell_type": "markdown",
   "metadata": {},
   "source": [
    "Комментарий студента: График еще дорисовала"
   ]
  },
  {
   "cell_type": "markdown",
   "metadata": {},
   "source": [
    "### Посчитайте 95-й и 99-й перцентили стоимости заказов. Выберите границу для определения аномальных заказов."
   ]
  },
  {
   "cell_type": "code",
   "execution_count": 23,
   "metadata": {},
   "outputs": [
    {
     "name": "stdout",
     "output_type": "stream",
     "text": [
      "[28000.  58233.2]\n"
     ]
    }
   ],
   "source": [
    "print(np.percentile(orders['revenue'], [95, 99])) "
   ]
  },
  {
   "cell_type": "markdown",
   "metadata": {},
   "source": [
    "Не более 5 % заказов на сумму 28000, не более 1 % - 58233.2. Все, что за 95 перцентилем — аномально."
   ]
  },
  {
   "cell_type": "markdown",
   "metadata": {},
   "source": [
    "### Посчитайте статистическую значимость различий в конверсии между группами по «сырым» данным. Сделайте выводы и предположения."
   ]
  },
  {
   "cell_type": "code",
   "execution_count": 24,
   "metadata": {},
   "outputs": [
    {
     "data": {
      "text/html": [
       "<div>\n",
       "<style scoped>\n",
       "    .dataframe tbody tr th:only-of-type {\n",
       "        vertical-align: middle;\n",
       "    }\n",
       "\n",
       "    .dataframe tbody tr th {\n",
       "        vertical-align: top;\n",
       "    }\n",
       "\n",
       "    .dataframe thead th {\n",
       "        text-align: right;\n",
       "    }\n",
       "</style>\n",
       "<table border=\"1\" class=\"dataframe\">\n",
       "  <thead>\n",
       "    <tr style=\"text-align: right;\">\n",
       "      <th></th>\n",
       "      <th>transactionId</th>\n",
       "      <th>visitorId</th>\n",
       "      <th>date</th>\n",
       "      <th>revenue</th>\n",
       "      <th>group</th>\n",
       "    </tr>\n",
       "  </thead>\n",
       "  <tbody>\n",
       "    <tr>\n",
       "      <td>0</td>\n",
       "      <td>3667963787</td>\n",
       "      <td>3312258926</td>\n",
       "      <td>2019-08-15</td>\n",
       "      <td>1650</td>\n",
       "      <td>B</td>\n",
       "    </tr>\n",
       "    <tr>\n",
       "      <td>1</td>\n",
       "      <td>2804400009</td>\n",
       "      <td>3642806036</td>\n",
       "      <td>2019-08-15</td>\n",
       "      <td>730</td>\n",
       "      <td>B</td>\n",
       "    </tr>\n",
       "    <tr>\n",
       "      <td>2</td>\n",
       "      <td>2961555356</td>\n",
       "      <td>4069496402</td>\n",
       "      <td>2019-08-15</td>\n",
       "      <td>400</td>\n",
       "      <td>A</td>\n",
       "    </tr>\n",
       "    <tr>\n",
       "      <td>3</td>\n",
       "      <td>3797467345</td>\n",
       "      <td>1196621759</td>\n",
       "      <td>2019-08-15</td>\n",
       "      <td>9759</td>\n",
       "      <td>B</td>\n",
       "    </tr>\n",
       "    <tr>\n",
       "      <td>4</td>\n",
       "      <td>2282983706</td>\n",
       "      <td>2322279887</td>\n",
       "      <td>2019-08-15</td>\n",
       "      <td>2308</td>\n",
       "      <td>B</td>\n",
       "    </tr>\n",
       "  </tbody>\n",
       "</table>\n",
       "</div>"
      ],
      "text/plain": [
       "   transactionId   visitorId       date  revenue group\n",
       "0     3667963787  3312258926 2019-08-15     1650     B\n",
       "1     2804400009  3642806036 2019-08-15      730     B\n",
       "2     2961555356  4069496402 2019-08-15      400     A\n",
       "3     3797467345  1196621759 2019-08-15     9759     B\n",
       "4     2282983706  2322279887 2019-08-15     2308     B"
      ]
     },
     "execution_count": 24,
     "metadata": {},
     "output_type": "execute_result"
    }
   ],
   "source": [
    "orders.head()"
   ]
  },
  {
   "cell_type": "code",
   "execution_count": 25,
   "metadata": {},
   "outputs": [
    {
     "data": {
      "text/html": [
       "<div>\n",
       "<style scoped>\n",
       "    .dataframe tbody tr th:only-of-type {\n",
       "        vertical-align: middle;\n",
       "    }\n",
       "\n",
       "    .dataframe tbody tr th {\n",
       "        vertical-align: top;\n",
       "    }\n",
       "\n",
       "    .dataframe thead th {\n",
       "        text-align: right;\n",
       "    }\n",
       "</style>\n",
       "<table border=\"1\" class=\"dataframe\">\n",
       "  <thead>\n",
       "    <tr style=\"text-align: right;\">\n",
       "      <th></th>\n",
       "      <th>date</th>\n",
       "      <th>group</th>\n",
       "      <th>visitors</th>\n",
       "    </tr>\n",
       "  </thead>\n",
       "  <tbody>\n",
       "    <tr>\n",
       "      <td>0</td>\n",
       "      <td>2019-08-01</td>\n",
       "      <td>A</td>\n",
       "      <td>719</td>\n",
       "    </tr>\n",
       "    <tr>\n",
       "      <td>1</td>\n",
       "      <td>2019-08-02</td>\n",
       "      <td>A</td>\n",
       "      <td>619</td>\n",
       "    </tr>\n",
       "    <tr>\n",
       "      <td>2</td>\n",
       "      <td>2019-08-03</td>\n",
       "      <td>A</td>\n",
       "      <td>507</td>\n",
       "    </tr>\n",
       "    <tr>\n",
       "      <td>3</td>\n",
       "      <td>2019-08-04</td>\n",
       "      <td>A</td>\n",
       "      <td>717</td>\n",
       "    </tr>\n",
       "    <tr>\n",
       "      <td>4</td>\n",
       "      <td>2019-08-05</td>\n",
       "      <td>A</td>\n",
       "      <td>756</td>\n",
       "    </tr>\n",
       "  </tbody>\n",
       "</table>\n",
       "</div>"
      ],
      "text/plain": [
       "        date group  visitors\n",
       "0 2019-08-01     A       719\n",
       "1 2019-08-02     A       619\n",
       "2 2019-08-03     A       507\n",
       "3 2019-08-04     A       717\n",
       "4 2019-08-05     A       756"
      ]
     },
     "execution_count": 25,
     "metadata": {},
     "output_type": "execute_result"
    }
   ],
   "source": [
    "visitors.head()"
   ]
  },
  {
   "cell_type": "code",
   "execution_count": 26,
   "metadata": {},
   "outputs": [
    {
     "data": {
      "text/html": [
       "<div>\n",
       "<style scoped>\n",
       "    .dataframe tbody tr th:only-of-type {\n",
       "        vertical-align: middle;\n",
       "    }\n",
       "\n",
       "    .dataframe tbody tr th {\n",
       "        vertical-align: top;\n",
       "    }\n",
       "\n",
       "    .dataframe thead th {\n",
       "        text-align: right;\n",
       "    }\n",
       "</style>\n",
       "<table border=\"1\" class=\"dataframe\">\n",
       "  <thead>\n",
       "    <tr style=\"text-align: right;\">\n",
       "      <th></th>\n",
       "      <th>date</th>\n",
       "      <th>ordersPerDateA</th>\n",
       "      <th>revenuePerDateA</th>\n",
       "      <th>ordersPerDateB</th>\n",
       "      <th>revenuePerDateB</th>\n",
       "      <th>ordersCummulativeA</th>\n",
       "      <th>revenueCummulativeA</th>\n",
       "      <th>ordersCummulativeB</th>\n",
       "      <th>revenueCummulativeB</th>\n",
       "      <th>visitorsPerDateA</th>\n",
       "      <th>visitorsPerDateB</th>\n",
       "      <th>visitorsCummulativeA</th>\n",
       "      <th>visitorsCummulativeB</th>\n",
       "    </tr>\n",
       "  </thead>\n",
       "  <tbody>\n",
       "    <tr>\n",
       "      <td>0</td>\n",
       "      <td>2019-08-01</td>\n",
       "      <td>24</td>\n",
       "      <td>148579</td>\n",
       "      <td>21</td>\n",
       "      <td>101217</td>\n",
       "      <td>24</td>\n",
       "      <td>148579</td>\n",
       "      <td>21</td>\n",
       "      <td>101217</td>\n",
       "      <td>719</td>\n",
       "      <td>713</td>\n",
       "      <td>719</td>\n",
       "      <td>713</td>\n",
       "    </tr>\n",
       "    <tr>\n",
       "      <td>1</td>\n",
       "      <td>2019-08-02</td>\n",
       "      <td>20</td>\n",
       "      <td>93822</td>\n",
       "      <td>24</td>\n",
       "      <td>165531</td>\n",
       "      <td>44</td>\n",
       "      <td>242401</td>\n",
       "      <td>45</td>\n",
       "      <td>266748</td>\n",
       "      <td>619</td>\n",
       "      <td>581</td>\n",
       "      <td>1338</td>\n",
       "      <td>1294</td>\n",
       "    </tr>\n",
       "    <tr>\n",
       "      <td>2</td>\n",
       "      <td>2019-08-03</td>\n",
       "      <td>24</td>\n",
       "      <td>112473</td>\n",
       "      <td>16</td>\n",
       "      <td>114248</td>\n",
       "      <td>68</td>\n",
       "      <td>354874</td>\n",
       "      <td>61</td>\n",
       "      <td>380996</td>\n",
       "      <td>507</td>\n",
       "      <td>509</td>\n",
       "      <td>1845</td>\n",
       "      <td>1803</td>\n",
       "    </tr>\n",
       "    <tr>\n",
       "      <td>3</td>\n",
       "      <td>2019-08-04</td>\n",
       "      <td>16</td>\n",
       "      <td>70825</td>\n",
       "      <td>17</td>\n",
       "      <td>108571</td>\n",
       "      <td>84</td>\n",
       "      <td>425699</td>\n",
       "      <td>78</td>\n",
       "      <td>489567</td>\n",
       "      <td>717</td>\n",
       "      <td>770</td>\n",
       "      <td>2562</td>\n",
       "      <td>2573</td>\n",
       "    </tr>\n",
       "    <tr>\n",
       "      <td>4</td>\n",
       "      <td>2019-08-05</td>\n",
       "      <td>25</td>\n",
       "      <td>124218</td>\n",
       "      <td>23</td>\n",
       "      <td>92428</td>\n",
       "      <td>109</td>\n",
       "      <td>549917</td>\n",
       "      <td>101</td>\n",
       "      <td>581995</td>\n",
       "      <td>756</td>\n",
       "      <td>707</td>\n",
       "      <td>3318</td>\n",
       "      <td>3280</td>\n",
       "    </tr>\n",
       "  </tbody>\n",
       "</table>\n",
       "</div>"
      ],
      "text/plain": [
       "        date  ordersPerDateA  revenuePerDateA  ordersPerDateB  \\\n",
       "0 2019-08-01              24           148579              21   \n",
       "1 2019-08-02              20            93822              24   \n",
       "2 2019-08-03              24           112473              16   \n",
       "3 2019-08-04              16            70825              17   \n",
       "4 2019-08-05              25           124218              23   \n",
       "\n",
       "   revenuePerDateB  ordersCummulativeA  revenueCummulativeA  \\\n",
       "0           101217                  24               148579   \n",
       "1           165531                  44               242401   \n",
       "2           114248                  68               354874   \n",
       "3           108571                  84               425699   \n",
       "4            92428                 109               549917   \n",
       "\n",
       "   ordersCummulativeB  revenueCummulativeB  visitorsPerDateA  \\\n",
       "0                  21               101217               719   \n",
       "1                  45               266748               619   \n",
       "2                  61               380996               507   \n",
       "3                  78               489567               717   \n",
       "4                 101               581995               756   \n",
       "\n",
       "   visitorsPerDateB  visitorsCummulativeA  visitorsCummulativeB  \n",
       "0               713                   719                   713  \n",
       "1               581                  1338                  1294  \n",
       "2               509                  1845                  1803  \n",
       "3               770                  2562                  2573  \n",
       "4               707                  3318                  3280  "
      ]
     },
     "execution_count": 26,
     "metadata": {},
     "output_type": "execute_result"
    }
   ],
   "source": [
    "visitorsADaily = visitors[visitors['group'] == 'A'][['date', 'visitors']]\n",
    "visitorsADaily.columns = ['date', 'visitorsPerDateA']\n",
    "visitorsACummulative = visitorsADaily.apply(\n",
    "    lambda x: visitorsADaily[visitorsADaily['date'] <= x['date']].agg(\n",
    "        {'date': 'max', 'visitorsPerDateA': 'sum'}\n",
    "    ),\n",
    "    axis=1,\n",
    ")\n",
    "visitorsACummulative.columns = ['date', 'visitorsCummulativeA']\n",
    "\n",
    "visitorsBDaily = visitors[visitors['group'] == 'B'][['date', 'visitors']]\n",
    "visitorsBDaily.columns = ['date', 'visitorsPerDateB']\n",
    "\n",
    "visitorsBCummulative = visitorsBDaily.apply(\n",
    "    lambda x: visitorsBDaily[visitorsBDaily['date'] <= x['date']].agg(\n",
    "        {'date': 'max', 'visitorsPerDateB': 'sum'}\n",
    "    ),\n",
    "    axis=1,\n",
    ")\n",
    "visitorsBCummulative.columns = ['date', 'visitorsCummulativeB']\n",
    "\n",
    "ordersADaily = (\n",
    "    orders[orders['group'] == 'A'][['date', 'transactionId', 'visitorId', 'revenue']]\n",
    "    .groupby('date', as_index=False)\n",
    "    .agg({'transactionId': pd.Series.nunique, 'revenue': 'sum'})\n",
    ")\n",
    "ordersADaily.columns = ['date', 'ordersPerDateA', 'revenuePerDateA']\n",
    "\n",
    "ordersACummulative = ordersADaily.apply(\n",
    "    lambda x: ordersADaily[ordersADaily['date'] <= x['date']].agg(\n",
    "        {'date': 'max', 'ordersPerDateA': 'sum', 'revenuePerDateA': 'sum'}\n",
    "    ),\n",
    "    axis=1,\n",
    ").sort_values(by=['date'])\n",
    "ordersACummulative.columns = [\n",
    "    'date',\n",
    "    'ordersCummulativeA',\n",
    "    'revenueCummulativeA',\n",
    "]\n",
    "\n",
    "ordersBDaily = (\n",
    "    orders[orders['group'] == 'B'][['date', 'transactionId', 'visitorId', 'revenue']]\n",
    "    .groupby('date', as_index=False)\n",
    "    .agg({'transactionId': pd.Series.nunique, 'revenue': 'sum'})\n",
    ")\n",
    "ordersBDaily.columns = ['date', 'ordersPerDateB', 'revenuePerDateB']\n",
    "\n",
    "ordersBCummulative = ordersBDaily.apply(\n",
    "    lambda x: ordersBDaily[ordersBDaily['date'] <= x['date']].agg(\n",
    "        {'date': 'max', 'ordersPerDateB': 'sum', 'revenuePerDateB': 'sum'}\n",
    "    ),\n",
    "    axis=1,\n",
    ").sort_values(by=['date'])\n",
    "ordersBCummulative.columns = [\n",
    "    'date',\n",
    "    'ordersCummulativeB',\n",
    "    'revenueCummulativeB',\n",
    "]\n",
    "\n",
    "data = (\n",
    "    ordersADaily.merge(\n",
    "        ordersBDaily, left_on='date', right_on='date', how='left'\n",
    "    )\n",
    "    .merge(ordersACummulative, left_on='date', right_on='date', how='left')\n",
    "    .merge(ordersBCummulative, left_on='date', right_on='date', how='left')\n",
    "    .merge(visitorsADaily, left_on='date', right_on='date', how='left')\n",
    "    .merge(visitorsBDaily, left_on='date', right_on='date', how='left')\n",
    "    .merge(visitorsACummulative, left_on='date', right_on='date', how='left')\n",
    "    .merge(visitorsBCummulative, left_on='date', right_on='date', how='left')\n",
    ")\n",
    "data.head(5)"
   ]
  },
  {
   "cell_type": "code",
   "execution_count": 27,
   "metadata": {},
   "outputs": [],
   "source": [
    "ordersByUsersA = (\n",
    "    orders[orders['group'] == 'A']\n",
    "    .groupby('visitorId', as_index=False)\n",
    "    .agg({'transactionId': pd.Series.nunique})\n",
    ")\n",
    "ordersByUsersA.columns = ['userId', 'orders']\n",
    "\n",
    "ordersByUsersB = (\n",
    "    orders[orders['group'] == 'B']\n",
    "    .groupby('visitorId', as_index=False)\n",
    "    .agg({'transactionId': pd.Series.nunique})\n",
    ")\n",
    "ordersByUsersB.columns = ['userId', 'orders'] "
   ]
  },
  {
   "cell_type": "code",
   "execution_count": 28,
   "metadata": {},
   "outputs": [],
   "source": [
    "sampleA = pd.concat([ordersByUsersA['orders'],pd.Series(0, index=np.arange(data['visitorsPerDateA'].sum() - len(ordersByUsersA['orders'])), name='orders')],axis=0)\n",
    "\n",
    "sampleB = pd.concat([ordersByUsersB['orders'],pd.Series(0, index=np.arange(data['visitorsPerDateB'].sum() - len(ordersByUsersB['orders'])), name='orders')],axis=0) "
   ]
  },
  {
   "cell_type": "code",
   "execution_count": 29,
   "metadata": {},
   "outputs": [
    {
     "name": "stdout",
     "output_type": "stream",
     "text": [
      "0.008\n",
      "0.138\n"
     ]
    }
   ],
   "source": [
    "print(\"{0:.3f}\".format(stats.mannwhitneyu(sampleA, sampleB)[1]))\n",
    "\n",
    "print(\"{0:.3f}\".format(sampleB.mean() / sampleA.mean() - 1))"
   ]
  },
  {
   "cell_type": "markdown",
   "metadata": {},
   "source": [
    "p-value = 0.008 меньше 0.05. Значит,статистически значимые различия в конверсии между группами есть."
   ]
  },
  {
   "cell_type": "markdown",
   "metadata": {},
   "source": [
    "Относительный прирост конверсии группы B к группе А равен 13,8%."
   ]
  },
  {
   "cell_type": "markdown",
   "metadata": {},
   "source": [
    "### Посчитайте статистическую значимость различий в среднем чеке заказа между группами по «сырым» данным. Сделайте выводы и предположения."
   ]
  },
  {
   "cell_type": "markdown",
   "metadata": {},
   "source": [
    "Нулевая гипотеза: Средний чек заказа пользователей в группе А и В статистически не отличается;\n",
    "Альтернативная гипотеза: Средний чек заказа пользователей в группе А и В различается."
   ]
  },
  {
   "cell_type": "code",
   "execution_count": 30,
   "metadata": {},
   "outputs": [
    {
     "name": "stdout",
     "output_type": "stream",
     "text": [
      "0.365\n",
      "0.259\n"
     ]
    }
   ],
   "source": [
    "print('{0:.3f}'.format(stats.mannwhitneyu(orders[orders['group']=='A']['revenue'], orders[orders['group']=='B']['revenue'])[1]))\n",
    "print('{0:.3f}'.format(orders[orders['group']=='B']['revenue'].mean()/orders[orders['group']=='A']['revenue'].mean()-1)) "
   ]
  },
  {
   "cell_type": "markdown",
   "metadata": {},
   "source": [
    "p-value=0.365 больше 0.05, значит статистически средние чеки групп не отличаются\n",
    "Хотя средний чек группы B гораздо больше (25%) чем у группы А."
   ]
  },
  {
   "cell_type": "markdown",
   "metadata": {},
   "source": [
    "### Посчитайте статистическую значимость различий в конверсии между группами по «очищенным» данным. Сделайте выводы и предположения."
   ]
  },
  {
   "cell_type": "markdown",
   "metadata": {},
   "source": [
    "Фильтруем по ранее посчитанным перцентилям: количество заказов 2, стоимость 28000.\n"
   ]
  },
  {
   "cell_type": "code",
   "execution_count": 31,
   "metadata": {},
   "outputs": [
    {
     "data": {
      "text/html": [
       "<div>\n",
       "<style scoped>\n",
       "    .dataframe tbody tr th:only-of-type {\n",
       "        vertical-align: middle;\n",
       "    }\n",
       "\n",
       "    .dataframe tbody tr th {\n",
       "        vertical-align: top;\n",
       "    }\n",
       "\n",
       "    .dataframe thead th {\n",
       "        text-align: right;\n",
       "    }\n",
       "</style>\n",
       "<table border=\"1\" class=\"dataframe\">\n",
       "  <thead>\n",
       "    <tr style=\"text-align: right;\">\n",
       "      <th></th>\n",
       "      <th>userId</th>\n",
       "      <th>orders</th>\n",
       "    </tr>\n",
       "  </thead>\n",
       "  <tbody>\n",
       "    <tr>\n",
       "      <td>0</td>\n",
       "      <td>5114589</td>\n",
       "      <td>1</td>\n",
       "    </tr>\n",
       "    <tr>\n",
       "      <td>1</td>\n",
       "      <td>6958315</td>\n",
       "      <td>1</td>\n",
       "    </tr>\n",
       "    <tr>\n",
       "      <td>2</td>\n",
       "      <td>8300375</td>\n",
       "      <td>1</td>\n",
       "    </tr>\n",
       "    <tr>\n",
       "      <td>3</td>\n",
       "      <td>39475350</td>\n",
       "      <td>1</td>\n",
       "    </tr>\n",
       "    <tr>\n",
       "      <td>4</td>\n",
       "      <td>47206413</td>\n",
       "      <td>1</td>\n",
       "    </tr>\n",
       "  </tbody>\n",
       "</table>\n",
       "</div>"
      ],
      "text/plain": [
       "     userId  orders\n",
       "0   5114589       1\n",
       "1   6958315       1\n",
       "2   8300375       1\n",
       "3  39475350       1\n",
       "4  47206413       1"
      ]
     },
     "execution_count": 31,
     "metadata": {},
     "output_type": "execute_result"
    }
   ],
   "source": [
    "ordersByUsersB.head()"
   ]
  },
  {
   "cell_type": "code",
   "execution_count": 32,
   "metadata": {},
   "outputs": [
    {
     "data": {
      "text/html": [
       "<div>\n",
       "<style scoped>\n",
       "    .dataframe tbody tr th:only-of-type {\n",
       "        vertical-align: middle;\n",
       "    }\n",
       "\n",
       "    .dataframe tbody tr th {\n",
       "        vertical-align: top;\n",
       "    }\n",
       "\n",
       "    .dataframe thead th {\n",
       "        text-align: right;\n",
       "    }\n",
       "</style>\n",
       "<table border=\"1\" class=\"dataframe\">\n",
       "  <thead>\n",
       "    <tr style=\"text-align: right;\">\n",
       "      <th></th>\n",
       "      <th>transactionId</th>\n",
       "      <th>visitorId</th>\n",
       "      <th>date</th>\n",
       "      <th>revenue</th>\n",
       "      <th>group</th>\n",
       "    </tr>\n",
       "  </thead>\n",
       "  <tbody>\n",
       "    <tr>\n",
       "      <td>0</td>\n",
       "      <td>3667963787</td>\n",
       "      <td>3312258926</td>\n",
       "      <td>2019-08-15</td>\n",
       "      <td>1650</td>\n",
       "      <td>B</td>\n",
       "    </tr>\n",
       "    <tr>\n",
       "      <td>1</td>\n",
       "      <td>2804400009</td>\n",
       "      <td>3642806036</td>\n",
       "      <td>2019-08-15</td>\n",
       "      <td>730</td>\n",
       "      <td>B</td>\n",
       "    </tr>\n",
       "    <tr>\n",
       "      <td>2</td>\n",
       "      <td>2961555356</td>\n",
       "      <td>4069496402</td>\n",
       "      <td>2019-08-15</td>\n",
       "      <td>400</td>\n",
       "      <td>A</td>\n",
       "    </tr>\n",
       "    <tr>\n",
       "      <td>3</td>\n",
       "      <td>3797467345</td>\n",
       "      <td>1196621759</td>\n",
       "      <td>2019-08-15</td>\n",
       "      <td>9759</td>\n",
       "      <td>B</td>\n",
       "    </tr>\n",
       "    <tr>\n",
       "      <td>4</td>\n",
       "      <td>2282983706</td>\n",
       "      <td>2322279887</td>\n",
       "      <td>2019-08-15</td>\n",
       "      <td>2308</td>\n",
       "      <td>B</td>\n",
       "    </tr>\n",
       "  </tbody>\n",
       "</table>\n",
       "</div>"
      ],
      "text/plain": [
       "   transactionId   visitorId       date  revenue group\n",
       "0     3667963787  3312258926 2019-08-15     1650     B\n",
       "1     2804400009  3642806036 2019-08-15      730     B\n",
       "2     2961555356  4069496402 2019-08-15      400     A\n",
       "3     3797467345  1196621759 2019-08-15     9759     B\n",
       "4     2282983706  2322279887 2019-08-15     2308     B"
      ]
     },
     "execution_count": 32,
     "metadata": {},
     "output_type": "execute_result"
    }
   ],
   "source": [
    "orders.head()"
   ]
  },
  {
   "cell_type": "code",
   "execution_count": 33,
   "metadata": {},
   "outputs": [
    {
     "data": {
      "text/plain": [
       "1099    148427295\n",
       "18      199603092\n",
       "928     204675465\n",
       "23      237748145\n",
       "37      249864742\n",
       "dtype: int64"
      ]
     },
     "execution_count": 33,
     "metadata": {},
     "output_type": "execute_result"
    }
   ],
   "source": [
    "usersWithManyOrders = pd.concat(\n",
    "    [\n",
    "        ordersByUsersA[ordersByUsersA['orders'] > 2]['userId'],\n",
    "        ordersByUsersB[ordersByUsersB['orders'] > 2]['userId'],\n",
    "    ],\n",
    "    axis=0,\n",
    ")\n",
    "usersWithExpensiveOrders = orders[orders['revenue'] > 28000]['visitorId']\n",
    "abnormalUsers = (\n",
    "    pd.concat([usersWithManyOrders, usersWithExpensiveOrders], axis=0)\n",
    "    .drop_duplicates()\n",
    "    .sort_values()\n",
    ")\n",
    "abnormalUsers.head(5)\n"
   ]
  },
  {
   "cell_type": "code",
   "execution_count": 34,
   "metadata": {},
   "outputs": [
    {
     "data": {
      "text/plain": [
       "(74,)"
      ]
     },
     "execution_count": 34,
     "metadata": {},
     "output_type": "execute_result"
    }
   ],
   "source": [
    "abnormalUsers.shape"
   ]
  },
  {
   "cell_type": "markdown",
   "metadata": {},
   "source": [
    "Всего аномальных пользователей 74."
   ]
  },
  {
   "cell_type": "code",
   "execution_count": 35,
   "metadata": {},
   "outputs": [],
   "source": [
    "sampleAFiltered = pd.concat(\n",
    "    [\n",
    "        ordersByUsersA[\n",
    "            np.logical_not(ordersByUsersA['userId'].isin(abnormalUsers))\n",
    "        ]['orders'],\n",
    "        pd.Series(\n",
    "            0,\n",
    "            index=np.arange(\n",
    "                data['visitorsPerDateA'].sum() - len(ordersByUsersA['orders'])\n",
    "            ),\n",
    "            name='orders',\n",
    "        ),\n",
    "    ],\n",
    "    axis=0,\n",
    ")\n",
    "\n",
    "sampleBFiltered = pd.concat(\n",
    "    [\n",
    "        ordersByUsersB[\n",
    "            np.logical_not(ordersByUsersB['userId'].isin(abnormalUsers))\n",
    "        ]['orders'],\n",
    "        pd.Series(\n",
    "            0,\n",
    "            index=np.arange(\n",
    "                data['visitorsPerDateB'].sum() - len(ordersByUsersB['orders'])\n",
    "            ),\n",
    "            name='orders',\n",
    "        ),\n",
    "    ],\n",
    "    axis=0,\n",
    ") "
   ]
  },
  {
   "cell_type": "markdown",
   "metadata": {},
   "source": [
    "Нулевая гипотеза: Конверсия пользователей в группе А и В статистически не отличается;\n",
    "Альтернативная гипотеза: Конверсия пользователей в группе А и В различается."
   ]
  },
  {
   "cell_type": "code",
   "execution_count": 36,
   "metadata": {},
   "outputs": [
    {
     "name": "stdout",
     "output_type": "stream",
     "text": [
      "0.007\n"
     ]
    }
   ],
   "source": [
    "print('{0:.3f}'.format(stats.mannwhitneyu(sampleAFiltered, sampleBFiltered)[1]))\n"
   ]
  },
  {
   "cell_type": "markdown",
   "metadata": {},
   "source": [
    "На отфильтрованных данных результат не изменился, p-value меньше 0,05 и статистические различия есть"
   ]
  },
  {
   "cell_type": "code",
   "execution_count": 37,
   "metadata": {},
   "outputs": [
    {
     "name": "stdout",
     "output_type": "stream",
     "text": [
      "0.173\n"
     ]
    }
   ],
   "source": [
    "print('{0:.3f}'.format(sampleBFiltered.mean()/sampleAFiltered.mean()-1)) "
   ]
  },
  {
   "cell_type": "markdown",
   "metadata": {},
   "source": [
    "А вот прирост конверсии группы B увеличился, теперь 17,3% , относительно результата по \"сырым данным\"."
   ]
  },
  {
   "cell_type": "markdown",
   "metadata": {},
   "source": [
    "### Посчитайте статистическую значимость различий в среднем чеке заказа между группами по «очищенным» данным. Сделайте выводы и предположения."
   ]
  },
  {
   "cell_type": "markdown",
   "metadata": {},
   "source": [
    "Нулевая гипотеза: Средний чек заказа пользователей в группе А и В статистически не отличается;\n",
    "Альтернативная гипотеза: Средний чек заказа пользователей в группе А и В различается."
   ]
  },
  {
   "cell_type": "code",
   "execution_count": 38,
   "metadata": {},
   "outputs": [
    {
     "name": "stdout",
     "output_type": "stream",
     "text": [
      "0.369\n"
     ]
    }
   ],
   "source": [
    "print(\n",
    "    '{0:.3f}'.format(\n",
    "        stats.mannwhitneyu(\n",
    "            orders[\n",
    "                np.logical_and(\n",
    "                    orders['group'] == 'A',\n",
    "                    np.logical_not(orders['visitorId'].isin(abnormalUsers)),\n",
    "                )\n",
    "            ]['revenue'],\n",
    "            orders[\n",
    "                np.logical_and(\n",
    "                    orders['group'] == 'B',\n",
    "                    np.logical_not(orders['visitorId'].isin(abnormalUsers)),\n",
    "                )\n",
    "            ]['revenue'],\n",
    "        )[1]\n",
    "    )\n",
    ")\n",
    "\n"
   ]
  },
  {
   "cell_type": "markdown",
   "metadata": {},
   "source": [
    "По среднему чеку результат p-value так же не изменился, чеки групп не отличаются."
   ]
  },
  {
   "cell_type": "code",
   "execution_count": 39,
   "metadata": {},
   "outputs": [
    {
     "name": "stdout",
     "output_type": "stream",
     "text": [
      "-0.020\n"
     ]
    }
   ],
   "source": [
    "print(\n",
    "    \"{0:.3f}\".format(\n",
    "        orders[\n",
    "            np.logical_and(\n",
    "                orders['group'] == 'B',\n",
    "                np.logical_not(orders['visitorId'].isin(abnormalUsers)),\n",
    "            )\n",
    "        ]['revenue'].mean()\n",
    "        / orders[\n",
    "            np.logical_and(\n",
    "                orders['group'] == 'A',\n",
    "                np.logical_not(orders['visitorId'].isin(abnormalUsers)),\n",
    "            )\n",
    "        ]['revenue'].mean()\n",
    "        - 1\n",
    "    )\n",
    ")"
   ]
  },
  {
   "cell_type": "markdown",
   "metadata": {},
   "source": [
    "\n",
    "p-value практически не изменился, а разница между сегментами изменилась сильно, если раньше средний чек группы В на 25% был больше чем у группы А, то теперь получается они практически равны, да еще и у А чуть больше.\n",
    "\n",
    "Выбросы очень повлияли на результаты анализа по среднему чеку."
   ]
  },
  {
   "cell_type": "markdown",
   "metadata": {},
   "source": [
    "### Примите решение по результатам теста и объясните его. Варианты решений: 1. Остановить тест, зафиксировать победу одной из групп. 2. Остановить тест, зафиксировать отсутствие различий между группами. 3. Продолжить тест."
   ]
  },
  {
   "cell_type": "markdown",
   "metadata": {},
   "source": [
    "Средний чек в группах статистически не отличается, но конверсия группы B на 17% больше, чем у группы A, то есть пользователи группы B стали чаще совершать покупки. Мне кажется, стоит остановить тест и признать гипотезу успешной."
   ]
  },
  {
   "cell_type": "markdown",
   "metadata": {},
   "source": [
    "# Вывод:\n",
    "Проанализировала таблицу с гипотезами, на основе ICE и RICE выделила три приоритетные гипотезы:\n",
    "(7) Добавить форму подписки на все основные страницы, чтобы собрать базу клиентов для email-рассылок\n",
    "(0) Добавить два новых канала привлечения трафика, что позволит привлекать на 30% больше пользователей\n",
    "(6) Показать на главной странице баннеры с актуальными акциями и распродажами, чтобы увеличить конверсию\n",
    "Анализ A/B-теста\n",
    "1) По графикам:\n",
    "\n",
    "- в обеих группах выручка растет\n",
    "- средние чеки в группах не стабильны, скачками, у группы B тенденция к снижению среднего чека, у группы A как будто зафиксироваллась на определенном уровне\n",
    "- в целом кумулятивный средний чек группы B выше, но был момент, когда группа A лидировала\n",
    "- конверсия группы B выше\n",
    "- аномальные выбросы скорее всего были в начале у обеих групп\n",
    "\n",
    "2) По персентилям выделила аномальные значения:\n",
    "\n",
    "- пользователи, сделавшие более 2х заказов\n",
    "- пользователи, купившие более чем на 28000 у.е.\n",
    "\n",
    "3) По статистическим тестам:\n",
    "\n",
    "- есть статистически значимые различия по конверсии в группах как на сырых, так и на очищенных данных\n",
    "- конверсия группы B выше\n",
    "- аномальные значения повлияли на средний чек\n",
    "- на сырых данных средний чек групп статистически равен, но у B , был выше\n",
    "- на очищенных данных средние чеки равны\n",
    "Средний чек в группах статистически не отличается, но конверсия группы B на 17% больше, чем у группы A, то есть пользователи группы B стали чаще совершать покупки. Мне кажется, стоит остановить тест и признать гипотезу успешной."
   ]
  }
 ],
 "metadata": {
  "ExecuteTimeLog": [
   {
    "duration": 718,
    "start_time": "2021-10-22T06:46:37.648Z"
   },
   {
    "duration": 22,
    "start_time": "2021-10-22T06:46:48.711Z"
   },
   {
    "duration": 8956,
    "start_time": "2021-10-22T10:53:44.521Z"
   },
   {
    "duration": 288,
    "start_time": "2021-10-22T10:56:22.521Z"
   },
   {
    "duration": 286,
    "start_time": "2021-10-22T10:56:36.774Z"
   },
   {
    "duration": 3,
    "start_time": "2021-10-22T10:58:07.478Z"
   },
   {
    "duration": 9,
    "start_time": "2021-10-22T10:58:18.014Z"
   },
   {
    "duration": 13,
    "start_time": "2021-10-22T10:58:22.759Z"
   },
   {
    "duration": 658,
    "start_time": "2021-10-22T11:00:12.743Z"
   },
   {
    "duration": 8,
    "start_time": "2021-10-22T11:00:13.403Z"
   },
   {
    "duration": 49,
    "start_time": "2021-10-22T11:00:13.413Z"
   },
   {
    "duration": 38,
    "start_time": "2021-10-22T11:00:13.464Z"
   },
   {
    "duration": 53,
    "start_time": "2021-10-22T11:44:55.412Z"
   },
   {
    "duration": 579,
    "start_time": "2021-10-22T11:46:36.413Z"
   },
   {
    "duration": 23,
    "start_time": "2021-10-22T11:46:36.994Z"
   },
   {
    "duration": 13,
    "start_time": "2021-10-22T11:46:37.357Z"
   },
   {
    "duration": 8,
    "start_time": "2021-10-22T11:46:38.232Z"
   },
   {
    "duration": 9,
    "start_time": "2021-10-22T11:46:39.009Z"
   },
   {
    "duration": 452,
    "start_time": "2021-10-22T11:46:59.528Z"
   },
   {
    "duration": 94,
    "start_time": "2021-10-22T11:47:13.204Z"
   },
   {
    "duration": 79,
    "start_time": "2021-10-22T11:49:14.061Z"
   },
   {
    "duration": 15,
    "start_time": "2021-10-22T11:56:03.022Z"
   },
   {
    "duration": 16,
    "start_time": "2021-10-22T11:56:10.866Z"
   },
   {
    "duration": 481,
    "start_time": "2021-10-22T12:01:06.453Z"
   },
   {
    "duration": 812,
    "start_time": "2021-10-22T12:12:27.794Z"
   },
   {
    "duration": 808,
    "start_time": "2021-10-22T12:13:29.031Z"
   },
   {
    "duration": 1302,
    "start_time": "2021-10-23T12:56:36.806Z"
   },
   {
    "duration": 26,
    "start_time": "2021-10-23T12:56:38.110Z"
   },
   {
    "duration": 8,
    "start_time": "2021-10-23T12:56:38.138Z"
   },
   {
    "duration": 18,
    "start_time": "2021-10-23T12:56:38.148Z"
   },
   {
    "duration": 11,
    "start_time": "2021-10-23T12:56:38.176Z"
   },
   {
    "duration": 85,
    "start_time": "2021-10-23T12:56:38.189Z"
   },
   {
    "duration": 1216,
    "start_time": "2021-10-23T13:19:19.687Z"
   },
   {
    "duration": 25,
    "start_time": "2021-10-23T13:19:20.905Z"
   },
   {
    "duration": 8,
    "start_time": "2021-10-23T13:19:20.932Z"
   },
   {
    "duration": 12,
    "start_time": "2021-10-23T13:19:20.942Z"
   },
   {
    "duration": 22,
    "start_time": "2021-10-23T13:19:20.956Z"
   },
   {
    "duration": 117,
    "start_time": "2021-10-23T13:19:20.980Z"
   },
   {
    "duration": 13,
    "start_time": "2021-10-23T13:20:27.695Z"
   },
   {
    "duration": 1799,
    "start_time": "2021-10-23T13:20:37.531Z"
   },
   {
    "duration": 6,
    "start_time": "2021-10-23T13:21:21.042Z"
   },
   {
    "duration": 9700,
    "start_time": "2021-10-23T13:21:50.658Z"
   },
   {
    "duration": 9,
    "start_time": "2021-10-23T13:22:43.445Z"
   },
   {
    "duration": 354,
    "start_time": "2021-10-23T13:24:10.514Z"
   },
   {
    "duration": 385,
    "start_time": "2021-10-23T13:24:28.901Z"
   },
   {
    "duration": 205,
    "start_time": "2021-10-23T13:25:12.273Z"
   },
   {
    "duration": 185,
    "start_time": "2021-10-23T13:27:48.549Z"
   },
   {
    "duration": 357,
    "start_time": "2021-10-23T13:33:02.271Z"
   },
   {
    "duration": 204,
    "start_time": "2021-10-23T13:33:37.351Z"
   },
   {
    "duration": 336,
    "start_time": "2021-10-23T13:34:22.843Z"
   },
   {
    "duration": 1230,
    "start_time": "2021-10-23T13:34:40.048Z"
   },
   {
    "duration": 26,
    "start_time": "2021-10-23T13:34:41.280Z"
   },
   {
    "duration": 7,
    "start_time": "2021-10-23T13:34:41.308Z"
   },
   {
    "duration": 11,
    "start_time": "2021-10-23T13:34:41.317Z"
   },
   {
    "duration": 10,
    "start_time": "2021-10-23T13:34:41.329Z"
   },
   {
    "duration": 92,
    "start_time": "2021-10-23T13:34:41.341Z"
   },
   {
    "duration": 12,
    "start_time": "2021-10-23T13:34:41.435Z"
   },
   {
    "duration": 8,
    "start_time": "2021-10-23T13:34:41.449Z"
   },
   {
    "duration": 11,
    "start_time": "2021-10-23T13:34:41.459Z"
   },
   {
    "duration": 353,
    "start_time": "2021-10-23T13:34:41.472Z"
   },
   {
    "duration": 221,
    "start_time": "2021-10-23T13:34:41.827Z"
   },
   {
    "duration": 219,
    "start_time": "2021-10-23T13:34:42.049Z"
   },
   {
    "duration": 344,
    "start_time": "2021-10-23T13:34:42.270Z"
   },
   {
    "duration": 195,
    "start_time": "2021-10-23T13:34:42.616Z"
   },
   {
    "duration": 282,
    "start_time": "2021-10-23T13:34:42.813Z"
   },
   {
    "duration": 202,
    "start_time": "2021-10-23T13:36:21.447Z"
   },
   {
    "duration": 379,
    "start_time": "2021-10-23T13:36:51.219Z"
   },
   {
    "duration": 9624,
    "start_time": "2021-10-23T19:35:12.574Z"
   },
   {
    "duration": 278,
    "start_time": "2021-10-23T19:36:35.714Z"
   },
   {
    "duration": 1436,
    "start_time": "2021-10-24T07:23:54.397Z"
   },
   {
    "duration": 31,
    "start_time": "2021-10-24T07:23:55.836Z"
   },
   {
    "duration": 15,
    "start_time": "2021-10-24T07:23:55.870Z"
   },
   {
    "duration": 33,
    "start_time": "2021-10-24T07:23:55.889Z"
   },
   {
    "duration": 18,
    "start_time": "2021-10-24T07:23:55.924Z"
   },
   {
    "duration": 97,
    "start_time": "2021-10-24T07:23:55.946Z"
   },
   {
    "duration": 20,
    "start_time": "2021-10-24T07:23:56.045Z"
   },
   {
    "duration": 11,
    "start_time": "2021-10-24T07:23:56.068Z"
   },
   {
    "duration": 47,
    "start_time": "2021-10-24T07:23:56.084Z"
   },
   {
    "duration": 604,
    "start_time": "2021-10-24T07:23:56.135Z"
   },
   {
    "duration": 355,
    "start_time": "2021-10-24T07:23:56.742Z"
   },
   {
    "duration": 312,
    "start_time": "2021-10-24T07:23:57.099Z"
   },
   {
    "duration": 412,
    "start_time": "2021-10-24T07:23:57.414Z"
   },
   {
    "duration": 345,
    "start_time": "2021-10-24T07:23:57.829Z"
   },
   {
    "duration": 460,
    "start_time": "2021-10-24T07:23:58.176Z"
   },
   {
    "duration": 386,
    "start_time": "2021-10-24T07:23:58.639Z"
   },
   {
    "duration": 625,
    "start_time": "2021-10-24T07:54:56.139Z"
   },
   {
    "duration": 402,
    "start_time": "2021-10-24T07:55:46.134Z"
   },
   {
    "duration": 273,
    "start_time": "2021-10-24T07:56:05.863Z"
   },
   {
    "duration": 17,
    "start_time": "2021-10-24T07:56:58.879Z"
   },
   {
    "duration": 601,
    "start_time": "2021-10-24T07:57:50.384Z"
   },
   {
    "duration": 568,
    "start_time": "2021-10-24T07:58:40.223Z"
   },
   {
    "duration": 99,
    "start_time": "2021-10-24T07:58:56.853Z"
   },
   {
    "duration": 1386,
    "start_time": "2021-10-24T08:00:06.301Z"
   },
   {
    "duration": 4,
    "start_time": "2021-10-24T08:00:07.690Z"
   },
   {
    "duration": 36,
    "start_time": "2021-10-24T08:00:07.697Z"
   },
   {
    "duration": 12,
    "start_time": "2021-10-24T08:00:07.736Z"
   },
   {
    "duration": 16,
    "start_time": "2021-10-24T08:00:07.751Z"
   },
   {
    "duration": 52,
    "start_time": "2021-10-24T08:00:07.770Z"
   },
   {
    "duration": 88,
    "start_time": "2021-10-24T08:00:07.825Z"
   },
   {
    "duration": 21,
    "start_time": "2021-10-24T08:00:07.916Z"
   },
   {
    "duration": 7,
    "start_time": "2021-10-24T08:00:07.942Z"
   },
   {
    "duration": 16,
    "start_time": "2021-10-24T08:00:07.952Z"
   },
   {
    "duration": 608,
    "start_time": "2021-10-24T08:00:07.971Z"
   },
   {
    "duration": 482,
    "start_time": "2021-10-24T08:00:08.581Z"
   },
   {
    "duration": 462,
    "start_time": "2021-10-24T08:00:09.066Z"
   },
   {
    "duration": 395,
    "start_time": "2021-10-24T08:00:09.531Z"
   },
   {
    "duration": 335,
    "start_time": "2021-10-24T08:00:09.929Z"
   },
   {
    "duration": 477,
    "start_time": "2021-10-24T08:00:10.268Z"
   },
   {
    "duration": 591,
    "start_time": "2021-10-24T08:00:10.748Z"
   },
   {
    "duration": 95,
    "start_time": "2021-10-24T08:01:50.348Z"
   },
   {
    "duration": 20,
    "start_time": "2021-10-24T08:01:56.004Z"
   },
   {
    "duration": 20,
    "start_time": "2021-10-24T08:02:21.872Z"
   },
   {
    "duration": 16,
    "start_time": "2021-10-24T08:02:44.248Z"
   },
   {
    "duration": 404,
    "start_time": "2021-10-24T08:08:17.991Z"
   },
   {
    "duration": 490,
    "start_time": "2021-10-24T08:09:05.578Z"
   },
   {
    "duration": 480,
    "start_time": "2021-10-24T08:09:51.226Z"
   },
   {
    "duration": 548,
    "start_time": "2021-10-24T08:10:54.251Z"
   },
   {
    "duration": 514,
    "start_time": "2021-10-24T08:11:37.654Z"
   },
   {
    "duration": 594,
    "start_time": "2021-10-24T08:13:01.190Z"
   },
   {
    "duration": 418,
    "start_time": "2021-10-24T08:13:50.585Z"
   },
   {
    "duration": 6680,
    "start_time": "2021-10-24T08:17:34.336Z"
   },
   {
    "duration": 5,
    "start_time": "2021-10-24T08:18:01.541Z"
   },
   {
    "duration": 6,
    "start_time": "2021-10-24T08:19:26.571Z"
   },
   {
    "duration": 5,
    "start_time": "2021-10-24T08:20:14.927Z"
   },
   {
    "duration": 328,
    "start_time": "2021-10-24T08:26:27.323Z"
   },
   {
    "duration": 12,
    "start_time": "2021-10-24T08:27:11.758Z"
   },
   {
    "duration": 225,
    "start_time": "2021-10-24T08:28:17.322Z"
   },
   {
    "duration": 7443,
    "start_time": "2021-10-24T08:28:51.933Z"
   },
   {
    "duration": 12,
    "start_time": "2021-10-24T08:38:15.711Z"
   },
   {
    "duration": 6675,
    "start_time": "2021-10-24T08:41:05.756Z"
   },
   {
    "duration": 457,
    "start_time": "2021-10-24T08:42:06.948Z"
   },
   {
    "duration": 219,
    "start_time": "2021-10-24T08:42:14.007Z"
   },
   {
    "duration": 8,
    "start_time": "2021-10-24T08:42:15.571Z"
   },
   {
    "duration": 1513,
    "start_time": "2021-10-24T08:43:10.302Z"
   },
   {
    "duration": 7,
    "start_time": "2021-10-24T08:43:11.817Z"
   },
   {
    "duration": 38,
    "start_time": "2021-10-24T08:43:11.832Z"
   },
   {
    "duration": 12,
    "start_time": "2021-10-24T08:43:11.872Z"
   },
   {
    "duration": 45,
    "start_time": "2021-10-24T08:43:11.886Z"
   },
   {
    "duration": 18,
    "start_time": "2021-10-24T08:43:11.934Z"
   },
   {
    "duration": 85,
    "start_time": "2021-10-24T08:43:11.955Z"
   },
   {
    "duration": 20,
    "start_time": "2021-10-24T08:43:12.044Z"
   },
   {
    "duration": 12,
    "start_time": "2021-10-24T08:43:12.067Z"
   },
   {
    "duration": 44,
    "start_time": "2021-10-24T08:43:12.082Z"
   },
   {
    "duration": 627,
    "start_time": "2021-10-24T08:43:12.129Z"
   },
   {
    "duration": 601,
    "start_time": "2021-10-24T08:43:12.758Z"
   },
   {
    "duration": 545,
    "start_time": "2021-10-24T08:43:13.362Z"
   },
   {
    "duration": 623,
    "start_time": "2021-10-24T08:43:13.909Z"
   },
   {
    "duration": 553,
    "start_time": "2021-10-24T08:43:14.535Z"
   },
   {
    "duration": 626,
    "start_time": "2021-10-24T08:43:15.090Z"
   },
   {
    "duration": 603,
    "start_time": "2021-10-24T08:43:15.722Z"
   },
   {
    "duration": 6,
    "start_time": "2021-10-24T08:43:16.328Z"
   },
   {
    "duration": 493,
    "start_time": "2021-10-24T08:43:16.337Z"
   },
   {
    "duration": 7,
    "start_time": "2021-10-24T08:43:16.833Z"
   },
   {
    "duration": 15,
    "start_time": "2021-10-24T08:43:16.843Z"
   },
   {
    "duration": 16,
    "start_time": "2021-10-24T08:43:16.861Z"
   },
   {
    "duration": 515,
    "start_time": "2021-10-24T08:43:16.879Z"
   },
   {
    "duration": 231,
    "start_time": "2021-10-24T08:43:17.396Z"
   },
   {
    "duration": 9,
    "start_time": "2021-10-24T08:43:17.629Z"
   },
   {
    "duration": 420,
    "start_time": "2021-10-24T09:26:15.054Z"
   },
   {
    "duration": 274,
    "start_time": "2021-10-24T09:26:55.022Z"
   },
   {
    "duration": 1742,
    "start_time": "2021-10-24T09:27:32.418Z"
   },
   {
    "duration": 5,
    "start_time": "2021-10-24T09:27:34.164Z"
   },
   {
    "duration": 52,
    "start_time": "2021-10-24T09:27:34.172Z"
   },
   {
    "duration": 19,
    "start_time": "2021-10-24T09:27:34.227Z"
   },
   {
    "duration": 35,
    "start_time": "2021-10-24T09:27:34.248Z"
   },
   {
    "duration": 24,
    "start_time": "2021-10-24T09:27:34.286Z"
   },
   {
    "duration": 94,
    "start_time": "2021-10-24T09:27:34.321Z"
   },
   {
    "duration": 20,
    "start_time": "2021-10-24T09:27:34.419Z"
   },
   {
    "duration": 13,
    "start_time": "2021-10-24T09:27:34.442Z"
   },
   {
    "duration": 29,
    "start_time": "2021-10-24T09:27:34.458Z"
   },
   {
    "duration": 1003,
    "start_time": "2021-10-24T09:27:34.490Z"
   },
   {
    "duration": 562,
    "start_time": "2021-10-24T09:27:35.496Z"
   },
   {
    "duration": 518,
    "start_time": "2021-10-24T09:27:36.060Z"
   },
   {
    "duration": 735,
    "start_time": "2021-10-24T09:27:36.581Z"
   },
   {
    "duration": 609,
    "start_time": "2021-10-24T09:27:37.323Z"
   },
   {
    "duration": 571,
    "start_time": "2021-10-24T09:27:37.935Z"
   },
   {
    "duration": 624,
    "start_time": "2021-10-24T09:27:38.508Z"
   },
   {
    "duration": 6,
    "start_time": "2021-10-24T09:27:39.134Z"
   },
   {
    "duration": 510,
    "start_time": "2021-10-24T09:27:39.142Z"
   },
   {
    "duration": 6,
    "start_time": "2021-10-24T09:27:39.655Z"
   },
   {
    "duration": 381,
    "start_time": "2021-10-24T09:27:39.664Z"
   },
   {
    "duration": 13,
    "start_time": "2021-10-24T09:27:40.047Z"
   },
   {
    "duration": 468,
    "start_time": "2021-10-24T09:27:40.062Z"
   },
   {
    "duration": 248,
    "start_time": "2021-10-24T09:27:40.533Z"
   },
   {
    "duration": 8,
    "start_time": "2021-10-24T09:27:40.783Z"
   },
   {
    "duration": 28,
    "start_time": "2021-10-24T09:27:40.795Z"
   },
   {
    "duration": 393,
    "start_time": "2021-10-24T09:28:09.277Z"
   },
   {
    "duration": 5,
    "start_time": "2021-10-24T09:28:46.557Z"
   },
   {
    "duration": 13,
    "start_time": "2021-10-24T09:28:48.093Z"
   },
   {
    "duration": 13,
    "start_time": "2021-10-24T09:30:57.885Z"
   },
   {
    "duration": 1475,
    "start_time": "2021-10-24T09:35:38.329Z"
   },
   {
    "duration": 4,
    "start_time": "2021-10-24T09:35:39.807Z"
   },
   {
    "duration": 39,
    "start_time": "2021-10-24T09:35:39.814Z"
   },
   {
    "duration": 12,
    "start_time": "2021-10-24T09:35:39.856Z"
   },
   {
    "duration": 17,
    "start_time": "2021-10-24T09:35:39.870Z"
   },
   {
    "duration": 40,
    "start_time": "2021-10-24T09:35:39.889Z"
   },
   {
    "duration": 85,
    "start_time": "2021-10-24T09:35:39.931Z"
   },
   {
    "duration": 21,
    "start_time": "2021-10-24T09:35:40.021Z"
   },
   {
    "duration": 9,
    "start_time": "2021-10-24T09:35:40.046Z"
   },
   {
    "duration": 14,
    "start_time": "2021-10-24T09:35:40.057Z"
   },
   {
    "duration": 624,
    "start_time": "2021-10-24T09:35:40.073Z"
   },
   {
    "duration": 545,
    "start_time": "2021-10-24T09:35:40.700Z"
   },
   {
    "duration": 527,
    "start_time": "2021-10-24T09:35:41.247Z"
   },
   {
    "duration": 621,
    "start_time": "2021-10-24T09:35:41.777Z"
   },
   {
    "duration": 522,
    "start_time": "2021-10-24T09:35:42.400Z"
   },
   {
    "duration": 611,
    "start_time": "2021-10-24T09:35:42.925Z"
   },
   {
    "duration": 587,
    "start_time": "2021-10-24T09:35:43.539Z"
   },
   {
    "duration": 5,
    "start_time": "2021-10-24T09:35:44.129Z"
   },
   {
    "duration": 512,
    "start_time": "2021-10-24T09:35:44.136Z"
   },
   {
    "duration": 7,
    "start_time": "2021-10-24T09:35:44.651Z"
   },
   {
    "duration": 15,
    "start_time": "2021-10-24T09:35:44.661Z"
   },
   {
    "duration": 50,
    "start_time": "2021-10-24T09:35:44.678Z"
   },
   {
    "duration": 483,
    "start_time": "2021-10-24T09:35:44.735Z"
   },
   {
    "duration": 244,
    "start_time": "2021-10-24T09:35:45.222Z"
   },
   {
    "duration": 9,
    "start_time": "2021-10-24T09:35:45.468Z"
   },
   {
    "duration": 11,
    "start_time": "2021-10-24T09:35:45.479Z"
   },
   {
    "duration": 40,
    "start_time": "2021-10-24T09:35:45.493Z"
   },
   {
    "duration": 7625,
    "start_time": "2021-10-24T09:58:58.868Z"
   },
   {
    "duration": 10,
    "start_time": "2021-10-24T10:01:24.736Z"
   },
   {
    "duration": 7,
    "start_time": "2021-10-24T10:02:33.167Z"
   },
   {
    "duration": 270,
    "start_time": "2021-10-24T10:02:45.942Z"
   },
   {
    "duration": 7123,
    "start_time": "2021-10-24T10:03:31.024Z"
   },
   {
    "duration": 12,
    "start_time": "2021-10-24T10:04:25.618Z"
   },
   {
    "duration": 15,
    "start_time": "2021-10-24T10:04:44.051Z"
   },
   {
    "duration": 16,
    "start_time": "2021-10-24T10:05:25.126Z"
   },
   {
    "duration": 17,
    "start_time": "2021-10-24T10:06:01.506Z"
   },
   {
    "duration": 7,
    "start_time": "2021-10-24T10:06:02.885Z"
   },
   {
    "duration": 13,
    "start_time": "2021-10-24T10:07:41.710Z"
   },
   {
    "duration": 10,
    "start_time": "2021-10-24T10:07:58.901Z"
   },
   {
    "duration": 1457,
    "start_time": "2021-10-24T10:09:10.557Z"
   },
   {
    "duration": 6,
    "start_time": "2021-10-24T10:09:12.017Z"
   },
   {
    "duration": 45,
    "start_time": "2021-10-24T10:09:12.027Z"
   },
   {
    "duration": 17,
    "start_time": "2021-10-24T10:09:12.075Z"
   },
   {
    "duration": 27,
    "start_time": "2021-10-24T10:09:12.094Z"
   },
   {
    "duration": 19,
    "start_time": "2021-10-24T10:09:12.124Z"
   },
   {
    "duration": 97,
    "start_time": "2021-10-24T10:09:12.146Z"
   },
   {
    "duration": 20,
    "start_time": "2021-10-24T10:09:12.248Z"
   },
   {
    "duration": 12,
    "start_time": "2021-10-24T10:09:12.273Z"
   },
   {
    "duration": 43,
    "start_time": "2021-10-24T10:09:12.288Z"
   },
   {
    "duration": 728,
    "start_time": "2021-10-24T10:09:12.334Z"
   },
   {
    "duration": 516,
    "start_time": "2021-10-24T10:09:13.065Z"
   },
   {
    "duration": 501,
    "start_time": "2021-10-24T10:09:13.584Z"
   },
   {
    "duration": 705,
    "start_time": "2021-10-24T10:09:14.087Z"
   },
   {
    "duration": 518,
    "start_time": "2021-10-24T10:09:14.795Z"
   },
   {
    "duration": 580,
    "start_time": "2021-10-24T10:09:15.316Z"
   },
   {
    "duration": 602,
    "start_time": "2021-10-24T10:09:15.898Z"
   },
   {
    "duration": 6,
    "start_time": "2021-10-24T10:09:16.503Z"
   },
   {
    "duration": 498,
    "start_time": "2021-10-24T10:09:16.522Z"
   },
   {
    "duration": 5,
    "start_time": "2021-10-24T10:09:17.022Z"
   },
   {
    "duration": 22,
    "start_time": "2021-10-24T10:09:17.029Z"
   },
   {
    "duration": 20,
    "start_time": "2021-10-24T10:09:17.054Z"
   },
   {
    "duration": 479,
    "start_time": "2021-10-24T10:09:17.078Z"
   },
   {
    "duration": 264,
    "start_time": "2021-10-24T10:09:17.560Z"
   },
   {
    "duration": 10,
    "start_time": "2021-10-24T10:09:17.827Z"
   },
   {
    "duration": 21,
    "start_time": "2021-10-24T10:09:17.840Z"
   },
   {
    "duration": 15,
    "start_time": "2021-10-24T10:09:17.863Z"
   },
   {
    "duration": 45,
    "start_time": "2021-10-24T10:09:17.881Z"
   },
   {
    "duration": 21,
    "start_time": "2021-10-24T10:09:17.929Z"
   },
   {
    "duration": 18,
    "start_time": "2021-10-24T10:09:17.953Z"
   },
   {
    "duration": 10,
    "start_time": "2021-10-24T10:09:17.973Z"
   },
   {
    "duration": 17,
    "start_time": "2021-10-24T10:09:17.985Z"
   },
   {
    "duration": 8,
    "start_time": "2021-10-24T10:09:18.022Z"
   },
   {
    "duration": 87,
    "start_time": "2021-10-24T10:09:18.033Z"
   },
   {
    "duration": -26,
    "start_time": "2021-10-24T10:09:18.149Z"
   },
   {
    "duration": -28,
    "start_time": "2021-10-24T10:09:18.152Z"
   },
   {
    "duration": 5,
    "start_time": "2021-10-24T10:09:27.029Z"
   },
   {
    "duration": 101,
    "start_time": "2021-10-24T10:10:16.669Z"
   },
   {
    "duration": 6839,
    "start_time": "2021-10-24T10:10:47.450Z"
   },
   {
    "duration": 23,
    "start_time": "2021-10-24T10:11:52.742Z"
   },
   {
    "duration": 1459,
    "start_time": "2021-10-24T10:12:35.657Z"
   },
   {
    "duration": 4,
    "start_time": "2021-10-24T10:12:37.118Z"
   },
   {
    "duration": 32,
    "start_time": "2021-10-24T10:12:37.125Z"
   },
   {
    "duration": 16,
    "start_time": "2021-10-24T10:12:37.161Z"
   },
   {
    "duration": 19,
    "start_time": "2021-10-24T10:12:37.180Z"
   },
   {
    "duration": 18,
    "start_time": "2021-10-24T10:12:37.224Z"
   },
   {
    "duration": 118,
    "start_time": "2021-10-24T10:12:37.244Z"
   },
   {
    "duration": 20,
    "start_time": "2021-10-24T10:12:37.365Z"
   },
   {
    "duration": 31,
    "start_time": "2021-10-24T10:12:37.391Z"
   },
   {
    "duration": 12,
    "start_time": "2021-10-24T10:12:37.427Z"
   },
   {
    "duration": 663,
    "start_time": "2021-10-24T10:12:37.441Z"
   },
   {
    "duration": 540,
    "start_time": "2021-10-24T10:12:38.106Z"
   },
   {
    "duration": 612,
    "start_time": "2021-10-24T10:12:38.649Z"
   },
   {
    "duration": 578,
    "start_time": "2021-10-24T10:12:39.263Z"
   },
   {
    "duration": 531,
    "start_time": "2021-10-24T10:12:39.843Z"
   },
   {
    "duration": 607,
    "start_time": "2021-10-24T10:12:40.377Z"
   },
   {
    "duration": 553,
    "start_time": "2021-10-24T10:12:40.987Z"
   },
   {
    "duration": 6,
    "start_time": "2021-10-24T10:12:41.543Z"
   },
   {
    "duration": 477,
    "start_time": "2021-10-24T10:12:41.552Z"
   },
   {
    "duration": 5,
    "start_time": "2021-10-24T10:12:42.032Z"
   },
   {
    "duration": 17,
    "start_time": "2021-10-24T10:12:42.039Z"
   },
   {
    "duration": 12,
    "start_time": "2021-10-24T10:12:42.058Z"
   },
   {
    "duration": 485,
    "start_time": "2021-10-24T10:12:42.072Z"
   },
   {
    "duration": 228,
    "start_time": "2021-10-24T10:12:42.559Z"
   },
   {
    "duration": 8,
    "start_time": "2021-10-24T10:12:42.789Z"
   },
   {
    "duration": 23,
    "start_time": "2021-10-24T10:12:42.800Z"
   },
   {
    "duration": 15,
    "start_time": "2021-10-24T10:12:42.829Z"
   },
   {
    "duration": 10,
    "start_time": "2021-10-24T10:12:42.847Z"
   },
   {
    "duration": 15,
    "start_time": "2021-10-24T10:12:42.859Z"
   },
   {
    "duration": 59,
    "start_time": "2021-10-24T10:12:42.876Z"
   },
   {
    "duration": 9,
    "start_time": "2021-10-24T10:12:42.937Z"
   },
   {
    "duration": 13,
    "start_time": "2021-10-24T10:12:42.948Z"
   },
   {
    "duration": 8,
    "start_time": "2021-10-24T10:12:42.963Z"
   },
   {
    "duration": 5,
    "start_time": "2021-10-24T10:12:42.974Z"
   },
   {
    "duration": 54,
    "start_time": "2021-10-24T10:12:42.981Z"
   },
   {
    "duration": 12,
    "start_time": "2021-10-24T10:12:43.037Z"
   },
   {
    "duration": 3044,
    "start_time": "2021-10-24T10:20:01.566Z"
   },
   {
    "duration": 4,
    "start_time": "2021-10-24T10:20:04.612Z"
   },
   {
    "duration": 32,
    "start_time": "2021-10-24T10:20:04.623Z"
   },
   {
    "duration": 12,
    "start_time": "2021-10-24T10:20:04.658Z"
   },
   {
    "duration": 16,
    "start_time": "2021-10-24T10:20:04.673Z"
   },
   {
    "duration": 45,
    "start_time": "2021-10-24T10:20:04.691Z"
   },
   {
    "duration": 83,
    "start_time": "2021-10-24T10:20:04.738Z"
   },
   {
    "duration": 20,
    "start_time": "2021-10-24T10:20:04.825Z"
   },
   {
    "duration": 7,
    "start_time": "2021-10-24T10:20:04.848Z"
   },
   {
    "duration": 13,
    "start_time": "2021-10-24T10:20:04.857Z"
   },
   {
    "duration": 617,
    "start_time": "2021-10-24T10:20:04.873Z"
   },
   {
    "duration": 523,
    "start_time": "2021-10-24T10:20:05.493Z"
   },
   {
    "duration": 515,
    "start_time": "2021-10-24T10:20:06.022Z"
   },
   {
    "duration": 570,
    "start_time": "2021-10-24T10:20:06.540Z"
   },
   {
    "duration": 510,
    "start_time": "2021-10-24T10:20:07.112Z"
   },
   {
    "duration": 567,
    "start_time": "2021-10-24T10:20:07.625Z"
   },
   {
    "duration": 600,
    "start_time": "2021-10-24T10:20:08.195Z"
   },
   {
    "duration": 6,
    "start_time": "2021-10-24T10:20:08.798Z"
   },
   {
    "duration": 519,
    "start_time": "2021-10-24T10:20:08.806Z"
   },
   {
    "duration": 6,
    "start_time": "2021-10-24T10:20:09.328Z"
   },
   {
    "duration": 14,
    "start_time": "2021-10-24T10:20:09.337Z"
   },
   {
    "duration": 13,
    "start_time": "2021-10-24T10:20:09.354Z"
   },
   {
    "duration": 504,
    "start_time": "2021-10-24T10:20:09.371Z"
   },
   {
    "duration": 216,
    "start_time": "2021-10-24T10:20:09.878Z"
   },
   {
    "duration": 8,
    "start_time": "2021-10-24T10:20:10.096Z"
   },
   {
    "duration": 21,
    "start_time": "2021-10-24T10:20:10.106Z"
   },
   {
    "duration": 24,
    "start_time": "2021-10-24T10:20:10.130Z"
   },
   {
    "duration": 9,
    "start_time": "2021-10-24T10:20:10.156Z"
   },
   {
    "duration": 20,
    "start_time": "2021-10-24T10:20:10.167Z"
   },
   {
    "duration": 40,
    "start_time": "2021-10-24T10:20:10.190Z"
   },
   {
    "duration": 25,
    "start_time": "2021-10-24T10:20:10.232Z"
   },
   {
    "duration": 22,
    "start_time": "2021-10-24T10:20:10.259Z"
   },
   {
    "duration": 23,
    "start_time": "2021-10-24T10:20:10.284Z"
   },
   {
    "duration": 7,
    "start_time": "2021-10-24T10:20:10.309Z"
   },
   {
    "duration": 16,
    "start_time": "2021-10-24T10:20:10.319Z"
   },
   {
    "duration": 12,
    "start_time": "2021-10-24T10:20:10.338Z"
   },
   {
    "duration": 1468,
    "start_time": "2021-10-24T10:21:58.398Z"
   },
   {
    "duration": 3,
    "start_time": "2021-10-24T10:21:59.869Z"
   },
   {
    "duration": 33,
    "start_time": "2021-10-24T10:21:59.875Z"
   },
   {
    "duration": 20,
    "start_time": "2021-10-24T10:21:59.911Z"
   },
   {
    "duration": 17,
    "start_time": "2021-10-24T10:21:59.933Z"
   },
   {
    "duration": 15,
    "start_time": "2021-10-24T10:21:59.952Z"
   },
   {
    "duration": 90,
    "start_time": "2021-10-24T10:21:59.969Z"
   },
   {
    "duration": 20,
    "start_time": "2021-10-24T10:22:00.063Z"
   },
   {
    "duration": 35,
    "start_time": "2021-10-24T10:22:00.087Z"
   },
   {
    "duration": 16,
    "start_time": "2021-10-24T10:22:00.125Z"
   },
   {
    "duration": 620,
    "start_time": "2021-10-24T10:22:00.144Z"
   },
   {
    "duration": 539,
    "start_time": "2021-10-24T10:22:00.766Z"
   },
   {
    "duration": 508,
    "start_time": "2021-10-24T10:22:01.307Z"
   },
   {
    "duration": 582,
    "start_time": "2021-10-24T10:22:01.818Z"
   },
   {
    "duration": 528,
    "start_time": "2021-10-24T10:22:02.402Z"
   },
   {
    "duration": 576,
    "start_time": "2021-10-24T10:22:02.932Z"
   },
   {
    "duration": 571,
    "start_time": "2021-10-24T10:22:03.511Z"
   },
   {
    "duration": 6,
    "start_time": "2021-10-24T10:22:04.084Z"
   },
   {
    "duration": 507,
    "start_time": "2021-10-24T10:22:04.093Z"
   },
   {
    "duration": 6,
    "start_time": "2021-10-24T10:22:04.603Z"
   },
   {
    "duration": 17,
    "start_time": "2021-10-24T10:22:04.623Z"
   },
   {
    "duration": 17,
    "start_time": "2021-10-24T10:22:04.643Z"
   },
   {
    "duration": 497,
    "start_time": "2021-10-24T10:22:04.665Z"
   },
   {
    "duration": 230,
    "start_time": "2021-10-24T10:22:05.165Z"
   },
   {
    "duration": 9,
    "start_time": "2021-10-24T10:22:05.397Z"
   },
   {
    "duration": 22,
    "start_time": "2021-10-24T10:22:05.409Z"
   },
   {
    "duration": 14,
    "start_time": "2021-10-24T10:22:05.433Z"
   },
   {
    "duration": 9,
    "start_time": "2021-10-24T10:22:05.450Z"
   },
   {
    "duration": 12,
    "start_time": "2021-10-24T10:22:05.462Z"
   },
   {
    "duration": 57,
    "start_time": "2021-10-24T10:22:05.476Z"
   },
   {
    "duration": 7,
    "start_time": "2021-10-24T10:22:05.535Z"
   },
   {
    "duration": 13,
    "start_time": "2021-10-24T10:22:05.544Z"
   },
   {
    "duration": 17,
    "start_time": "2021-10-24T10:22:05.559Z"
   },
   {
    "duration": 5,
    "start_time": "2021-10-24T10:22:05.579Z"
   },
   {
    "duration": 46,
    "start_time": "2021-10-24T10:22:05.586Z"
   },
   {
    "duration": 15,
    "start_time": "2021-10-24T10:22:05.635Z"
   },
   {
    "duration": 1495,
    "start_time": "2021-10-24T11:33:01.990Z"
   },
   {
    "duration": 5,
    "start_time": "2021-10-24T11:33:03.488Z"
   },
   {
    "duration": 33,
    "start_time": "2021-10-24T11:33:03.496Z"
   },
   {
    "duration": 15,
    "start_time": "2021-10-24T11:33:03.533Z"
   },
   {
    "duration": 36,
    "start_time": "2021-10-24T11:33:03.550Z"
   },
   {
    "duration": 16,
    "start_time": "2021-10-24T11:33:03.589Z"
   },
   {
    "duration": 91,
    "start_time": "2021-10-24T11:33:03.607Z"
   },
   {
    "duration": 21,
    "start_time": "2021-10-24T11:33:03.702Z"
   },
   {
    "duration": 11,
    "start_time": "2021-10-24T11:33:03.726Z"
   },
   {
    "duration": 36,
    "start_time": "2021-10-24T11:33:03.740Z"
   },
   {
    "duration": 608,
    "start_time": "2021-10-24T11:33:03.778Z"
   },
   {
    "duration": 571,
    "start_time": "2021-10-24T11:33:04.388Z"
   },
   {
    "duration": 514,
    "start_time": "2021-10-24T11:33:04.962Z"
   },
   {
    "duration": 588,
    "start_time": "2021-10-24T11:33:05.479Z"
   },
   {
    "duration": 524,
    "start_time": "2021-10-24T11:33:06.069Z"
   },
   {
    "duration": 597,
    "start_time": "2021-10-24T11:33:06.596Z"
   },
   {
    "duration": 565,
    "start_time": "2021-10-24T11:33:07.196Z"
   },
   {
    "duration": 7,
    "start_time": "2021-10-24T11:33:07.763Z"
   },
   {
    "duration": 497,
    "start_time": "2021-10-24T11:33:07.772Z"
   },
   {
    "duration": 6,
    "start_time": "2021-10-24T11:33:08.273Z"
   },
   {
    "duration": 14,
    "start_time": "2021-10-24T11:33:08.283Z"
   },
   {
    "duration": 13,
    "start_time": "2021-10-24T11:33:08.300Z"
   },
   {
    "duration": 506,
    "start_time": "2021-10-24T11:33:08.320Z"
   },
   {
    "duration": 258,
    "start_time": "2021-10-24T11:33:08.829Z"
   },
   {
    "duration": 8,
    "start_time": "2021-10-24T11:33:09.090Z"
   },
   {
    "duration": 11,
    "start_time": "2021-10-24T11:33:09.101Z"
   },
   {
    "duration": 15,
    "start_time": "2021-10-24T11:33:09.114Z"
   },
   {
    "duration": 9,
    "start_time": "2021-10-24T11:33:09.168Z"
   },
   {
    "duration": 16,
    "start_time": "2021-10-24T11:33:09.180Z"
   },
   {
    "duration": 16,
    "start_time": "2021-10-24T11:33:09.198Z"
   },
   {
    "duration": 7,
    "start_time": "2021-10-24T11:33:09.217Z"
   },
   {
    "duration": 48,
    "start_time": "2021-10-24T11:33:09.226Z"
   },
   {
    "duration": 11,
    "start_time": "2021-10-24T11:33:09.276Z"
   },
   {
    "duration": 6,
    "start_time": "2021-10-24T11:33:09.289Z"
   },
   {
    "duration": 13,
    "start_time": "2021-10-24T11:33:09.297Z"
   },
   {
    "duration": 59,
    "start_time": "2021-10-24T11:33:09.312Z"
   },
   {
    "duration": 1128,
    "start_time": "2021-10-25T06:19:30.809Z"
   },
   {
    "duration": 3,
    "start_time": "2021-10-25T06:19:31.938Z"
   },
   {
    "duration": 26,
    "start_time": "2021-10-25T06:19:31.945Z"
   },
   {
    "duration": 14,
    "start_time": "2021-10-25T06:19:31.977Z"
   },
   {
    "duration": 15,
    "start_time": "2021-10-25T06:19:31.993Z"
   },
   {
    "duration": 10,
    "start_time": "2021-10-25T06:19:32.009Z"
   },
   {
    "duration": 86,
    "start_time": "2021-10-25T06:19:32.022Z"
   },
   {
    "duration": 12,
    "start_time": "2021-10-25T06:19:32.110Z"
   },
   {
    "duration": 15,
    "start_time": "2021-10-25T06:19:32.124Z"
   },
   {
    "duration": 9,
    "start_time": "2021-10-25T06:19:32.141Z"
   },
   {
    "duration": 380,
    "start_time": "2021-10-25T06:19:32.152Z"
   },
   {
    "duration": 342,
    "start_time": "2021-10-25T06:19:32.534Z"
   },
   {
    "duration": 327,
    "start_time": "2021-10-25T06:19:32.878Z"
   },
   {
    "duration": 418,
    "start_time": "2021-10-25T06:19:33.207Z"
   },
   {
    "duration": 331,
    "start_time": "2021-10-25T06:19:33.627Z"
   },
   {
    "duration": 444,
    "start_time": "2021-10-25T06:19:33.960Z"
   },
   {
    "duration": 396,
    "start_time": "2021-10-25T06:19:34.406Z"
   },
   {
    "duration": 4,
    "start_time": "2021-10-25T06:19:34.804Z"
   },
   {
    "duration": 387,
    "start_time": "2021-10-25T06:19:34.810Z"
   },
   {
    "duration": 4,
    "start_time": "2021-10-25T06:19:35.199Z"
   },
   {
    "duration": 18,
    "start_time": "2021-10-25T06:19:35.205Z"
   },
   {
    "duration": 21,
    "start_time": "2021-10-25T06:19:35.226Z"
   },
   {
    "duration": 291,
    "start_time": "2021-10-25T06:19:35.249Z"
   },
   {
    "duration": 127,
    "start_time": "2021-10-25T06:19:35.542Z"
   },
   {
    "duration": 13,
    "start_time": "2021-10-25T06:19:35.678Z"
   },
   {
    "duration": 9,
    "start_time": "2021-10-25T06:19:35.693Z"
   },
   {
    "duration": 10,
    "start_time": "2021-10-25T06:19:35.704Z"
   },
   {
    "duration": 6,
    "start_time": "2021-10-25T06:19:35.716Z"
   },
   {
    "duration": 10,
    "start_time": "2021-10-25T06:19:35.724Z"
   },
   {
    "duration": 10,
    "start_time": "2021-10-25T06:19:35.736Z"
   },
   {
    "duration": 38,
    "start_time": "2021-10-25T06:19:35.748Z"
   },
   {
    "duration": 8,
    "start_time": "2021-10-25T06:19:35.788Z"
   },
   {
    "duration": 7,
    "start_time": "2021-10-25T06:19:35.798Z"
   },
   {
    "duration": 4,
    "start_time": "2021-10-25T06:19:35.807Z"
   },
   {
    "duration": 10,
    "start_time": "2021-10-25T06:19:35.812Z"
   },
   {
    "duration": 8,
    "start_time": "2021-10-25T06:19:35.824Z"
   },
   {
    "duration": 417,
    "start_time": "2021-10-26T18:58:04.053Z"
   },
   {
    "duration": 1189,
    "start_time": "2021-10-26T18:58:13.446Z"
   },
   {
    "duration": 2,
    "start_time": "2021-10-26T18:58:14.637Z"
   },
   {
    "duration": 28,
    "start_time": "2021-10-26T18:58:14.641Z"
   },
   {
    "duration": 10,
    "start_time": "2021-10-26T18:58:14.671Z"
   },
   {
    "duration": 16,
    "start_time": "2021-10-26T18:58:14.684Z"
   },
   {
    "duration": 12,
    "start_time": "2021-10-26T18:58:14.702Z"
   },
   {
    "duration": 120,
    "start_time": "2021-10-26T18:58:14.715Z"
   },
   {
    "duration": 10,
    "start_time": "2021-10-26T18:58:14.837Z"
   },
   {
    "duration": 15,
    "start_time": "2021-10-26T18:58:14.850Z"
   },
   {
    "duration": 5,
    "start_time": "2021-10-26T18:58:14.867Z"
   },
   {
    "duration": 17,
    "start_time": "2021-10-26T18:58:14.874Z"
   },
   {
    "duration": 375,
    "start_time": "2021-10-26T18:58:14.893Z"
   },
   {
    "duration": 346,
    "start_time": "2021-10-26T18:58:15.270Z"
   },
   {
    "duration": 318,
    "start_time": "2021-10-26T18:58:15.618Z"
   },
   {
    "duration": 428,
    "start_time": "2021-10-26T18:58:15.938Z"
   },
   {
    "duration": 331,
    "start_time": "2021-10-26T18:58:16.376Z"
   },
   {
    "duration": 413,
    "start_time": "2021-10-26T18:58:16.708Z"
   },
   {
    "duration": 403,
    "start_time": "2021-10-26T18:58:17.122Z"
   },
   {
    "duration": 4,
    "start_time": "2021-10-26T18:58:17.527Z"
   },
   {
    "duration": 371,
    "start_time": "2021-10-26T18:58:17.532Z"
   },
   {
    "duration": 4,
    "start_time": "2021-10-26T18:58:17.905Z"
   },
   {
    "duration": 10,
    "start_time": "2021-10-26T18:58:17.911Z"
   },
   {
    "duration": 8,
    "start_time": "2021-10-26T18:58:17.922Z"
   },
   {
    "duration": 310,
    "start_time": "2021-10-26T18:58:17.932Z"
   },
   {
    "duration": 135,
    "start_time": "2021-10-26T18:58:18.244Z"
   },
   {
    "duration": 6,
    "start_time": "2021-10-26T18:58:18.381Z"
   },
   {
    "duration": 8,
    "start_time": "2021-10-26T18:58:18.391Z"
   },
   {
    "duration": 10,
    "start_time": "2021-10-26T18:58:18.401Z"
   },
   {
    "duration": 7,
    "start_time": "2021-10-26T18:58:18.413Z"
   },
   {
    "duration": 9,
    "start_time": "2021-10-26T18:58:18.422Z"
   },
   {
    "duration": 10,
    "start_time": "2021-10-26T18:58:18.433Z"
   },
   {
    "duration": 4,
    "start_time": "2021-10-26T18:58:18.477Z"
   },
   {
    "duration": 11,
    "start_time": "2021-10-26T18:58:18.486Z"
   },
   {
    "duration": 9,
    "start_time": "2021-10-26T18:58:18.499Z"
   },
   {
    "duration": 4,
    "start_time": "2021-10-26T18:58:18.510Z"
   },
   {
    "duration": 10,
    "start_time": "2021-10-26T18:58:18.516Z"
   },
   {
    "duration": 9,
    "start_time": "2021-10-26T18:58:18.528Z"
   },
   {
    "duration": 1183,
    "start_time": "2021-10-26T19:01:17.132Z"
   },
   {
    "duration": 2,
    "start_time": "2021-10-26T19:01:18.318Z"
   },
   {
    "duration": 27,
    "start_time": "2021-10-26T19:01:18.322Z"
   },
   {
    "duration": 9,
    "start_time": "2021-10-26T19:01:18.351Z"
   },
   {
    "duration": 17,
    "start_time": "2021-10-26T19:01:18.361Z"
   },
   {
    "duration": 14,
    "start_time": "2021-10-26T19:01:18.380Z"
   },
   {
    "duration": 1196,
    "start_time": "2021-10-26T19:01:23.292Z"
   },
   {
    "duration": 2,
    "start_time": "2021-10-26T19:01:24.491Z"
   },
   {
    "duration": 24,
    "start_time": "2021-10-26T19:01:24.498Z"
   },
   {
    "duration": 7,
    "start_time": "2021-10-26T19:01:24.524Z"
   },
   {
    "duration": 12,
    "start_time": "2021-10-26T19:01:24.533Z"
   },
   {
    "duration": 10,
    "start_time": "2021-10-26T19:01:24.546Z"
   },
   {
    "duration": 77,
    "start_time": "2021-10-26T19:01:24.578Z"
   },
   {
    "duration": 8,
    "start_time": "2021-10-26T19:01:24.657Z"
   },
   {
    "duration": 21,
    "start_time": "2021-10-26T19:01:24.666Z"
   },
   {
    "duration": 10,
    "start_time": "2021-10-26T19:01:24.689Z"
   },
   {
    "duration": 10,
    "start_time": "2021-10-26T19:01:24.701Z"
   },
   {
    "duration": 383,
    "start_time": "2021-10-26T19:01:24.712Z"
   },
   {
    "duration": 337,
    "start_time": "2021-10-26T19:01:25.097Z"
   },
   {
    "duration": 323,
    "start_time": "2021-10-26T19:01:25.436Z"
   },
   {
    "duration": 442,
    "start_time": "2021-10-26T19:01:25.761Z"
   },
   {
    "duration": 340,
    "start_time": "2021-10-26T19:01:26.205Z"
   },
   {
    "duration": 463,
    "start_time": "2021-10-26T19:01:26.546Z"
   },
   {
    "duration": 606,
    "start_time": "2021-10-26T19:01:27.011Z"
   },
   {
    "duration": 4,
    "start_time": "2021-10-26T19:01:27.618Z"
   },
   {
    "duration": 367,
    "start_time": "2021-10-26T19:01:27.624Z"
   },
   {
    "duration": 5,
    "start_time": "2021-10-26T19:01:27.993Z"
   },
   {
    "duration": 14,
    "start_time": "2021-10-26T19:01:28.003Z"
   },
   {
    "duration": 9,
    "start_time": "2021-10-26T19:01:28.019Z"
   },
   {
    "duration": 322,
    "start_time": "2021-10-26T19:01:28.030Z"
   },
   {
    "duration": 116,
    "start_time": "2021-10-26T19:01:28.354Z"
   },
   {
    "duration": 8,
    "start_time": "2021-10-26T19:01:28.471Z"
   },
   {
    "duration": 14,
    "start_time": "2021-10-26T19:01:28.480Z"
   },
   {
    "duration": 11,
    "start_time": "2021-10-26T19:01:28.496Z"
   },
   {
    "duration": 7,
    "start_time": "2021-10-26T19:01:28.509Z"
   },
   {
    "duration": 10,
    "start_time": "2021-10-26T19:01:28.518Z"
   },
   {
    "duration": 54,
    "start_time": "2021-10-26T19:01:28.530Z"
   },
   {
    "duration": 4,
    "start_time": "2021-10-26T19:01:28.587Z"
   },
   {
    "duration": 9,
    "start_time": "2021-10-26T19:01:28.593Z"
   },
   {
    "duration": 10,
    "start_time": "2021-10-26T19:01:28.603Z"
   },
   {
    "duration": 3,
    "start_time": "2021-10-26T19:01:28.615Z"
   },
   {
    "duration": 13,
    "start_time": "2021-10-26T19:01:28.620Z"
   },
   {
    "duration": 8,
    "start_time": "2021-10-26T19:01:28.634Z"
   },
   {
    "duration": 440,
    "start_time": "2021-10-26T19:03:42.397Z"
   },
   {
    "duration": 777,
    "start_time": "2021-10-26T19:05:49.261Z"
   },
   {
    "duration": 645,
    "start_time": "2021-10-26T19:07:11.821Z"
   },
   {
    "duration": 600,
    "start_time": "2021-10-26T19:10:43.913Z"
   },
   {
    "duration": 373,
    "start_time": "2021-10-26T19:12:02.111Z"
   },
   {
    "duration": 346,
    "start_time": "2021-10-26T19:14:13.494Z"
   },
   {
    "duration": 356,
    "start_time": "2021-10-26T19:16:37.082Z"
   },
   {
    "duration": 289,
    "start_time": "2021-10-26T19:17:35.027Z"
   },
   {
    "duration": 1223,
    "start_time": "2021-10-26T19:22:20.882Z"
   },
   {
    "duration": 3,
    "start_time": "2021-10-26T19:22:22.107Z"
   },
   {
    "duration": 27,
    "start_time": "2021-10-26T19:22:22.113Z"
   },
   {
    "duration": 14,
    "start_time": "2021-10-26T19:22:22.142Z"
   },
   {
    "duration": 28,
    "start_time": "2021-10-26T19:22:22.158Z"
   },
   {
    "duration": 12,
    "start_time": "2021-10-26T19:22:22.188Z"
   },
   {
    "duration": 76,
    "start_time": "2021-10-26T19:22:22.202Z"
   },
   {
    "duration": 15,
    "start_time": "2021-10-26T19:22:22.281Z"
   },
   {
    "duration": 16,
    "start_time": "2021-10-26T19:22:22.299Z"
   },
   {
    "duration": 11,
    "start_time": "2021-10-26T19:22:22.318Z"
   },
   {
    "duration": 10,
    "start_time": "2021-10-26T19:22:22.331Z"
   },
   {
    "duration": 396,
    "start_time": "2021-10-26T19:22:22.343Z"
   },
   {
    "duration": 347,
    "start_time": "2021-10-26T19:22:22.741Z"
   },
   {
    "duration": 333,
    "start_time": "2021-10-26T19:22:23.090Z"
   },
   {
    "duration": 418,
    "start_time": "2021-10-26T19:22:23.424Z"
   },
   {
    "duration": 343,
    "start_time": "2021-10-26T19:22:23.844Z"
   },
   {
    "duration": 446,
    "start_time": "2021-10-26T19:22:24.189Z"
   },
   {
    "duration": 450,
    "start_time": "2021-10-26T19:22:24.637Z"
   },
   {
    "duration": 8,
    "start_time": "2021-10-26T19:22:25.089Z"
   },
   {
    "duration": 483,
    "start_time": "2021-10-26T19:22:25.099Z"
   },
   {
    "duration": 314,
    "start_time": "2021-10-26T19:22:25.584Z"
   },
   {
    "duration": 6,
    "start_time": "2021-10-26T19:22:25.900Z"
   },
   {
    "duration": 13,
    "start_time": "2021-10-26T19:22:25.908Z"
   },
   {
    "duration": 10,
    "start_time": "2021-10-26T19:22:25.923Z"
   },
   {
    "duration": 463,
    "start_time": "2021-10-26T19:22:25.935Z"
   },
   {
    "duration": 137,
    "start_time": "2021-10-26T19:22:26.400Z"
   },
   {
    "duration": 6,
    "start_time": "2021-10-26T19:22:26.542Z"
   },
   {
    "duration": 9,
    "start_time": "2021-10-26T19:22:26.550Z"
   },
   {
    "duration": 24,
    "start_time": "2021-10-26T19:22:26.561Z"
   },
   {
    "duration": 16,
    "start_time": "2021-10-26T19:22:26.587Z"
   },
   {
    "duration": 9,
    "start_time": "2021-10-26T19:22:26.605Z"
   },
   {
    "duration": 10,
    "start_time": "2021-10-26T19:22:26.616Z"
   },
   {
    "duration": 8,
    "start_time": "2021-10-26T19:22:26.628Z"
   },
   {
    "duration": 11,
    "start_time": "2021-10-26T19:22:26.637Z"
   },
   {
    "duration": 11,
    "start_time": "2021-10-26T19:22:26.676Z"
   },
   {
    "duration": 4,
    "start_time": "2021-10-26T19:22:26.689Z"
   },
   {
    "duration": 12,
    "start_time": "2021-10-26T19:22:26.695Z"
   },
   {
    "duration": 10,
    "start_time": "2021-10-26T19:22:26.709Z"
   },
   {
    "duration": 450,
    "start_time": "2021-10-26T19:23:16.917Z"
   },
   {
    "duration": 400,
    "start_time": "2021-10-26T19:25:38.102Z"
   },
   {
    "duration": 346,
    "start_time": "2021-10-26T19:26:33.866Z"
   },
   {
    "duration": 313,
    "start_time": "2021-10-26T19:26:48.178Z"
   },
   {
    "duration": 1161,
    "start_time": "2021-10-26T19:27:03.275Z"
   },
   {
    "duration": 3,
    "start_time": "2021-10-26T19:27:04.437Z"
   },
   {
    "duration": 26,
    "start_time": "2021-10-26T19:27:04.443Z"
   },
   {
    "duration": 15,
    "start_time": "2021-10-26T19:27:04.471Z"
   },
   {
    "duration": 13,
    "start_time": "2021-10-26T19:27:04.488Z"
   },
   {
    "duration": 11,
    "start_time": "2021-10-26T19:27:04.502Z"
   },
   {
    "duration": 74,
    "start_time": "2021-10-26T19:27:04.515Z"
   },
   {
    "duration": 9,
    "start_time": "2021-10-26T19:27:04.591Z"
   },
   {
    "duration": 13,
    "start_time": "2021-10-26T19:27:04.602Z"
   },
   {
    "duration": 6,
    "start_time": "2021-10-26T19:27:04.617Z"
   },
   {
    "duration": 10,
    "start_time": "2021-10-26T19:27:04.624Z"
   },
   {
    "duration": 390,
    "start_time": "2021-10-26T19:27:04.636Z"
   },
   {
    "duration": 336,
    "start_time": "2021-10-26T19:27:05.028Z"
   },
   {
    "duration": 330,
    "start_time": "2021-10-26T19:27:05.366Z"
   },
   {
    "duration": 431,
    "start_time": "2021-10-26T19:27:05.699Z"
   },
   {
    "duration": 336,
    "start_time": "2021-10-26T19:27:06.132Z"
   },
   {
    "duration": 443,
    "start_time": "2021-10-26T19:27:06.469Z"
   },
   {
    "duration": 399,
    "start_time": "2021-10-26T19:27:06.914Z"
   },
   {
    "duration": 4,
    "start_time": "2021-10-26T19:27:07.315Z"
   },
   {
    "duration": 388,
    "start_time": "2021-10-26T19:27:07.321Z"
   },
   {
    "duration": 290,
    "start_time": "2021-10-26T19:27:07.711Z"
   },
   {
    "duration": 4,
    "start_time": "2021-10-26T19:27:08.003Z"
   },
   {
    "duration": 11,
    "start_time": "2021-10-26T19:27:08.009Z"
   },
   {
    "duration": 8,
    "start_time": "2021-10-26T19:27:08.022Z"
   },
   {
    "duration": 311,
    "start_time": "2021-10-26T19:27:08.032Z"
   },
   {
    "duration": 120,
    "start_time": "2021-10-26T19:27:08.345Z"
   },
   {
    "duration": 9,
    "start_time": "2021-10-26T19:27:08.468Z"
   },
   {
    "duration": 13,
    "start_time": "2021-10-26T19:27:08.480Z"
   },
   {
    "duration": 10,
    "start_time": "2021-10-26T19:27:08.494Z"
   },
   {
    "duration": 6,
    "start_time": "2021-10-26T19:27:08.506Z"
   },
   {
    "duration": 11,
    "start_time": "2021-10-26T19:27:08.514Z"
   },
   {
    "duration": 11,
    "start_time": "2021-10-26T19:27:08.527Z"
   },
   {
    "duration": 37,
    "start_time": "2021-10-26T19:27:08.540Z"
   },
   {
    "duration": 10,
    "start_time": "2021-10-26T19:27:08.579Z"
   },
   {
    "duration": 7,
    "start_time": "2021-10-26T19:27:08.591Z"
   },
   {
    "duration": 4,
    "start_time": "2021-10-26T19:27:08.599Z"
   },
   {
    "duration": 9,
    "start_time": "2021-10-26T19:27:08.604Z"
   },
   {
    "duration": 7,
    "start_time": "2021-10-26T19:27:08.615Z"
   },
   {
    "duration": 501,
    "start_time": "2021-11-29T08:28:23.923Z"
   },
   {
    "duration": 1630,
    "start_time": "2021-11-29T08:28:32.091Z"
   },
   {
    "duration": 5,
    "start_time": "2021-11-29T08:28:33.724Z"
   },
   {
    "duration": 38,
    "start_time": "2021-11-29T08:28:33.733Z"
   },
   {
    "duration": 18,
    "start_time": "2021-11-29T08:28:33.775Z"
   },
   {
    "duration": 18,
    "start_time": "2021-11-29T08:28:33.795Z"
   },
   {
    "duration": 21,
    "start_time": "2021-11-29T08:28:33.816Z"
   },
   {
    "duration": 44,
    "start_time": "2021-11-29T08:28:33.840Z"
   },
   {
    "duration": 119,
    "start_time": "2021-11-29T08:28:33.890Z"
   },
   {
    "duration": 12,
    "start_time": "2021-11-29T08:28:34.011Z"
   },
   {
    "duration": 33,
    "start_time": "2021-11-29T08:28:34.025Z"
   },
   {
    "duration": 26,
    "start_time": "2021-11-29T08:28:34.060Z"
   },
   {
    "duration": 21,
    "start_time": "2021-11-29T08:28:34.089Z"
   },
   {
    "duration": 574,
    "start_time": "2021-11-29T08:28:34.112Z"
   },
   {
    "duration": 749,
    "start_time": "2021-11-29T08:28:34.689Z"
   },
   {
    "duration": 707,
    "start_time": "2021-11-29T08:28:35.441Z"
   },
   {
    "duration": 806,
    "start_time": "2021-11-29T08:28:36.151Z"
   },
   {
    "duration": 641,
    "start_time": "2021-11-29T08:28:36.960Z"
   },
   {
    "duration": 691,
    "start_time": "2021-11-29T08:28:37.604Z"
   },
   {
    "duration": 613,
    "start_time": "2021-11-29T08:28:38.297Z"
   },
   {
    "duration": 6,
    "start_time": "2021-11-29T08:28:38.912Z"
   },
   {
    "duration": 512,
    "start_time": "2021-11-29T08:28:38.920Z"
   },
   {
    "duration": 511,
    "start_time": "2021-11-29T08:28:39.435Z"
   },
   {
    "duration": 6,
    "start_time": "2021-11-29T08:28:39.951Z"
   },
   {
    "duration": 30,
    "start_time": "2021-11-29T08:28:39.960Z"
   },
   {
    "duration": 10,
    "start_time": "2021-11-29T08:28:39.992Z"
   },
   {
    "duration": 593,
    "start_time": "2021-11-29T08:28:40.005Z"
   },
   {
    "duration": 364,
    "start_time": "2021-11-29T08:28:40.602Z"
   },
   {
    "duration": 16,
    "start_time": "2021-11-29T08:28:40.969Z"
   },
   {
    "duration": 11,
    "start_time": "2021-11-29T08:28:40.988Z"
   },
   {
    "duration": 19,
    "start_time": "2021-11-29T08:28:41.002Z"
   },
   {
    "duration": 18,
    "start_time": "2021-11-29T08:28:41.023Z"
   },
   {
    "duration": 44,
    "start_time": "2021-11-29T08:28:41.043Z"
   },
   {
    "duration": 18,
    "start_time": "2021-11-29T08:28:41.089Z"
   },
   {
    "duration": 10,
    "start_time": "2021-11-29T08:28:41.110Z"
   },
   {
    "duration": 13,
    "start_time": "2021-11-29T08:28:41.123Z"
   },
   {
    "duration": 51,
    "start_time": "2021-11-29T08:28:41.138Z"
   },
   {
    "duration": 6,
    "start_time": "2021-11-29T08:28:41.192Z"
   },
   {
    "duration": 17,
    "start_time": "2021-11-29T08:28:41.201Z"
   },
   {
    "duration": 12,
    "start_time": "2021-11-29T08:28:41.221Z"
   }
  ],
  "kernelspec": {
   "display_name": "Python 3 (ipykernel)",
   "language": "python",
   "name": "python3"
  },
  "language_info": {
   "codemirror_mode": {
    "name": "ipython",
    "version": 3
   },
   "file_extension": ".py",
   "mimetype": "text/x-python",
   "name": "python",
   "nbconvert_exporter": "python",
   "pygments_lexer": "ipython3",
   "version": "3.9.7"
  },
  "toc": {
   "base_numbering": 1,
   "nav_menu": {},
   "number_sections": true,
   "sideBar": true,
   "skip_h1_title": true,
   "title_cell": "Table of Contents",
   "title_sidebar": "Contents",
   "toc_cell": false,
   "toc_position": {},
   "toc_section_display": true,
   "toc_window_display": false
  }
 },
 "nbformat": 4,
 "nbformat_minor": 2
}
