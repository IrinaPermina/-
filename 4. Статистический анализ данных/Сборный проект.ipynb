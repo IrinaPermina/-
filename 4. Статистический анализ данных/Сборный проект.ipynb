{
 "cells": [
  {
   "cell_type": "markdown",
   "metadata": {},
   "source": [
    "# Описание проекта\n",
    "Вы работаете в интернет-магазине «Стримчик», который продаёт по всему миру компьютерные игры. Из открытых источников доступны исторические данные о продажах игр, оценки пользователей и экспертов, жанры и платформы (например, Xbox или PlayStation). Вам нужно выявить определяющие успешность игры закономерности. Это позволит сделать ставку на потенциально популярный продукт и спланировать рекламные кампании.\n",
    "\n",
    "Перед вами данные до 2016 года. Представим, что сейчас декабрь 2016 г., и вы планируете кампанию на 2017-й. Нужно отработать принцип работы с данными. Неважно, прогнозируете ли вы продажи на 2017 год по данным 2016-го или же 2027-й — по данным 2026 года.\n",
    "\n",
    "В наборе данных попадается аббревиатура ESRB (Entertainment Software Rating Board) — это ассоциация, определяющая возрастной рейтинг компьютерных игр. ESRB оценивает игровой контент и присваивает ему подходящую возрастную категорию, например, «Для взрослых», «Для детей младшего возраста» или «Для подростков»."
   ]
  },
  {
   "cell_type": "markdown",
   "metadata": {},
   "source": [
    "## Общая информация"
   ]
  },
  {
   "cell_type": "markdown",
   "metadata": {},
   "source": [
    "Путь к файлу: /datasets/games.csv"
   ]
  },
  {
   "cell_type": "code",
   "execution_count": 1,
   "metadata": {},
   "outputs": [],
   "source": [
    "import pandas as pd\n",
    "import matplotlib.pyplot as plt\n",
    "import numpy as np\n",
    "from IPython.display import display\n",
    "import math\n",
    "from statsmodels.stats import weightstats as stests\n",
    "import seaborn as sns\n",
    "from scipy import stats as st\n"
   ]
  },
  {
   "cell_type": "code",
   "execution_count": 2,
   "metadata": {},
   "outputs": [],
   "source": [
    "import warnings\n",
    "\n",
    "warnings.filterwarnings('ignore')"
   ]
  },
  {
   "cell_type": "code",
   "execution_count": 3,
   "metadata": {},
   "outputs": [
    {
     "data": {
      "text/html": [
       "<div>\n",
       "<style scoped>\n",
       "    .dataframe tbody tr th:only-of-type {\n",
       "        vertical-align: middle;\n",
       "    }\n",
       "\n",
       "    .dataframe tbody tr th {\n",
       "        vertical-align: top;\n",
       "    }\n",
       "\n",
       "    .dataframe thead th {\n",
       "        text-align: right;\n",
       "    }\n",
       "</style>\n",
       "<table border=\"1\" class=\"dataframe\">\n",
       "  <thead>\n",
       "    <tr style=\"text-align: right;\">\n",
       "      <th></th>\n",
       "      <th>Name</th>\n",
       "      <th>Platform</th>\n",
       "      <th>Year_of_Release</th>\n",
       "      <th>Genre</th>\n",
       "      <th>NA_sales</th>\n",
       "      <th>EU_sales</th>\n",
       "      <th>JP_sales</th>\n",
       "      <th>Other_sales</th>\n",
       "      <th>Critic_Score</th>\n",
       "      <th>User_Score</th>\n",
       "      <th>Rating</th>\n",
       "    </tr>\n",
       "  </thead>\n",
       "  <tbody>\n",
       "    <tr>\n",
       "      <td>0</td>\n",
       "      <td>Wii Sports</td>\n",
       "      <td>Wii</td>\n",
       "      <td>2006.0</td>\n",
       "      <td>Sports</td>\n",
       "      <td>41.36</td>\n",
       "      <td>28.96</td>\n",
       "      <td>3.77</td>\n",
       "      <td>8.45</td>\n",
       "      <td>76.0</td>\n",
       "      <td>8</td>\n",
       "      <td>E</td>\n",
       "    </tr>\n",
       "    <tr>\n",
       "      <td>1</td>\n",
       "      <td>Super Mario Bros.</td>\n",
       "      <td>NES</td>\n",
       "      <td>1985.0</td>\n",
       "      <td>Platform</td>\n",
       "      <td>29.08</td>\n",
       "      <td>3.58</td>\n",
       "      <td>6.81</td>\n",
       "      <td>0.77</td>\n",
       "      <td>NaN</td>\n",
       "      <td>NaN</td>\n",
       "      <td>NaN</td>\n",
       "    </tr>\n",
       "    <tr>\n",
       "      <td>2</td>\n",
       "      <td>Mario Kart Wii</td>\n",
       "      <td>Wii</td>\n",
       "      <td>2008.0</td>\n",
       "      <td>Racing</td>\n",
       "      <td>15.68</td>\n",
       "      <td>12.76</td>\n",
       "      <td>3.79</td>\n",
       "      <td>3.29</td>\n",
       "      <td>82.0</td>\n",
       "      <td>8.3</td>\n",
       "      <td>E</td>\n",
       "    </tr>\n",
       "    <tr>\n",
       "      <td>3</td>\n",
       "      <td>Wii Sports Resort</td>\n",
       "      <td>Wii</td>\n",
       "      <td>2009.0</td>\n",
       "      <td>Sports</td>\n",
       "      <td>15.61</td>\n",
       "      <td>10.93</td>\n",
       "      <td>3.28</td>\n",
       "      <td>2.95</td>\n",
       "      <td>80.0</td>\n",
       "      <td>8</td>\n",
       "      <td>E</td>\n",
       "    </tr>\n",
       "    <tr>\n",
       "      <td>4</td>\n",
       "      <td>Pokemon Red/Pokemon Blue</td>\n",
       "      <td>GB</td>\n",
       "      <td>1996.0</td>\n",
       "      <td>Role-Playing</td>\n",
       "      <td>11.27</td>\n",
       "      <td>8.89</td>\n",
       "      <td>10.22</td>\n",
       "      <td>1.00</td>\n",
       "      <td>NaN</td>\n",
       "      <td>NaN</td>\n",
       "      <td>NaN</td>\n",
       "    </tr>\n",
       "    <tr>\n",
       "      <td>5</td>\n",
       "      <td>Tetris</td>\n",
       "      <td>GB</td>\n",
       "      <td>1989.0</td>\n",
       "      <td>Puzzle</td>\n",
       "      <td>23.20</td>\n",
       "      <td>2.26</td>\n",
       "      <td>4.22</td>\n",
       "      <td>0.58</td>\n",
       "      <td>NaN</td>\n",
       "      <td>NaN</td>\n",
       "      <td>NaN</td>\n",
       "    </tr>\n",
       "    <tr>\n",
       "      <td>6</td>\n",
       "      <td>New Super Mario Bros.</td>\n",
       "      <td>DS</td>\n",
       "      <td>2006.0</td>\n",
       "      <td>Platform</td>\n",
       "      <td>11.28</td>\n",
       "      <td>9.14</td>\n",
       "      <td>6.50</td>\n",
       "      <td>2.88</td>\n",
       "      <td>89.0</td>\n",
       "      <td>8.5</td>\n",
       "      <td>E</td>\n",
       "    </tr>\n",
       "    <tr>\n",
       "      <td>7</td>\n",
       "      <td>Wii Play</td>\n",
       "      <td>Wii</td>\n",
       "      <td>2006.0</td>\n",
       "      <td>Misc</td>\n",
       "      <td>13.96</td>\n",
       "      <td>9.18</td>\n",
       "      <td>2.93</td>\n",
       "      <td>2.84</td>\n",
       "      <td>58.0</td>\n",
       "      <td>6.6</td>\n",
       "      <td>E</td>\n",
       "    </tr>\n",
       "    <tr>\n",
       "      <td>8</td>\n",
       "      <td>New Super Mario Bros. Wii</td>\n",
       "      <td>Wii</td>\n",
       "      <td>2009.0</td>\n",
       "      <td>Platform</td>\n",
       "      <td>14.44</td>\n",
       "      <td>6.94</td>\n",
       "      <td>4.70</td>\n",
       "      <td>2.24</td>\n",
       "      <td>87.0</td>\n",
       "      <td>8.4</td>\n",
       "      <td>E</td>\n",
       "    </tr>\n",
       "    <tr>\n",
       "      <td>9</td>\n",
       "      <td>Duck Hunt</td>\n",
       "      <td>NES</td>\n",
       "      <td>1984.0</td>\n",
       "      <td>Shooter</td>\n",
       "      <td>26.93</td>\n",
       "      <td>0.63</td>\n",
       "      <td>0.28</td>\n",
       "      <td>0.47</td>\n",
       "      <td>NaN</td>\n",
       "      <td>NaN</td>\n",
       "      <td>NaN</td>\n",
       "    </tr>\n",
       "  </tbody>\n",
       "</table>\n",
       "</div>"
      ],
      "text/plain": [
       "                        Name Platform  Year_of_Release         Genre  \\\n",
       "0                 Wii Sports      Wii           2006.0        Sports   \n",
       "1          Super Mario Bros.      NES           1985.0      Platform   \n",
       "2             Mario Kart Wii      Wii           2008.0        Racing   \n",
       "3          Wii Sports Resort      Wii           2009.0        Sports   \n",
       "4   Pokemon Red/Pokemon Blue       GB           1996.0  Role-Playing   \n",
       "5                     Tetris       GB           1989.0        Puzzle   \n",
       "6      New Super Mario Bros.       DS           2006.0      Platform   \n",
       "7                   Wii Play      Wii           2006.0          Misc   \n",
       "8  New Super Mario Bros. Wii      Wii           2009.0      Platform   \n",
       "9                  Duck Hunt      NES           1984.0       Shooter   \n",
       "\n",
       "   NA_sales  EU_sales  JP_sales  Other_sales  Critic_Score User_Score Rating  \n",
       "0     41.36     28.96      3.77         8.45          76.0          8      E  \n",
       "1     29.08      3.58      6.81         0.77           NaN        NaN    NaN  \n",
       "2     15.68     12.76      3.79         3.29          82.0        8.3      E  \n",
       "3     15.61     10.93      3.28         2.95          80.0          8      E  \n",
       "4     11.27      8.89     10.22         1.00           NaN        NaN    NaN  \n",
       "5     23.20      2.26      4.22         0.58           NaN        NaN    NaN  \n",
       "6     11.28      9.14      6.50         2.88          89.0        8.5      E  \n",
       "7     13.96      9.18      2.93         2.84          58.0        6.6      E  \n",
       "8     14.44      6.94      4.70         2.24          87.0        8.4      E  \n",
       "9     26.93      0.63      0.28         0.47           NaN        NaN    NaN  "
      ]
     },
     "execution_count": 3,
     "metadata": {},
     "output_type": "execute_result"
    }
   ],
   "source": [
    "df = pd.read_csv('/datasets/games.csv')\n",
    "df.head(10)"
   ]
  },
  {
   "cell_type": "code",
   "execution_count": 4,
   "metadata": {},
   "outputs": [
    {
     "name": "stdout",
     "output_type": "stream",
     "text": [
      "<class 'pandas.core.frame.DataFrame'>\n",
      "RangeIndex: 16715 entries, 0 to 16714\n",
      "Data columns (total 11 columns):\n",
      "Name               16713 non-null object\n",
      "Platform           16715 non-null object\n",
      "Year_of_Release    16446 non-null float64\n",
      "Genre              16713 non-null object\n",
      "NA_sales           16715 non-null float64\n",
      "EU_sales           16715 non-null float64\n",
      "JP_sales           16715 non-null float64\n",
      "Other_sales        16715 non-null float64\n",
      "Critic_Score       8137 non-null float64\n",
      "User_Score         10014 non-null object\n",
      "Rating             9949 non-null object\n",
      "dtypes: float64(6), object(5)\n",
      "memory usage: 1.4+ MB\n"
     ]
    }
   ],
   "source": [
    "df.info()"
   ]
  },
  {
   "cell_type": "code",
   "execution_count": 5,
   "metadata": {},
   "outputs": [
    {
     "data": {
      "text/plain": [
       "Name                  2\n",
       "Platform              0\n",
       "Year_of_Release     269\n",
       "Genre                 2\n",
       "NA_sales              0\n",
       "EU_sales              0\n",
       "JP_sales              0\n",
       "Other_sales           0\n",
       "Critic_Score       8578\n",
       "User_Score         6701\n",
       "Rating             6766\n",
       "dtype: int64"
      ]
     },
     "execution_count": 5,
     "metadata": {},
     "output_type": "execute_result"
    }
   ],
   "source": [
    "df.isna().sum()"
   ]
  },
  {
   "cell_type": "code",
   "execution_count": 6,
   "metadata": {},
   "outputs": [
    {
     "data": {
      "text/html": [
       "<div>\n",
       "<style scoped>\n",
       "    .dataframe tbody tr th:only-of-type {\n",
       "        vertical-align: middle;\n",
       "    }\n",
       "\n",
       "    .dataframe tbody tr th {\n",
       "        vertical-align: top;\n",
       "    }\n",
       "\n",
       "    .dataframe thead th {\n",
       "        text-align: right;\n",
       "    }\n",
       "</style>\n",
       "<table border=\"1\" class=\"dataframe\">\n",
       "  <thead>\n",
       "    <tr style=\"text-align: right;\">\n",
       "      <th></th>\n",
       "      <th>Year_of_Release</th>\n",
       "      <th>NA_sales</th>\n",
       "      <th>EU_sales</th>\n",
       "      <th>JP_sales</th>\n",
       "      <th>Other_sales</th>\n",
       "      <th>Critic_Score</th>\n",
       "    </tr>\n",
       "  </thead>\n",
       "  <tbody>\n",
       "    <tr>\n",
       "      <td>count</td>\n",
       "      <td>16446.000000</td>\n",
       "      <td>16715.000000</td>\n",
       "      <td>16715.000000</td>\n",
       "      <td>16715.000000</td>\n",
       "      <td>16715.000000</td>\n",
       "      <td>8137.000000</td>\n",
       "    </tr>\n",
       "    <tr>\n",
       "      <td>mean</td>\n",
       "      <td>2006.484616</td>\n",
       "      <td>0.263377</td>\n",
       "      <td>0.145060</td>\n",
       "      <td>0.077617</td>\n",
       "      <td>0.047342</td>\n",
       "      <td>68.967679</td>\n",
       "    </tr>\n",
       "    <tr>\n",
       "      <td>std</td>\n",
       "      <td>5.877050</td>\n",
       "      <td>0.813604</td>\n",
       "      <td>0.503339</td>\n",
       "      <td>0.308853</td>\n",
       "      <td>0.186731</td>\n",
       "      <td>13.938165</td>\n",
       "    </tr>\n",
       "    <tr>\n",
       "      <td>min</td>\n",
       "      <td>1980.000000</td>\n",
       "      <td>0.000000</td>\n",
       "      <td>0.000000</td>\n",
       "      <td>0.000000</td>\n",
       "      <td>0.000000</td>\n",
       "      <td>13.000000</td>\n",
       "    </tr>\n",
       "    <tr>\n",
       "      <td>25%</td>\n",
       "      <td>2003.000000</td>\n",
       "      <td>0.000000</td>\n",
       "      <td>0.000000</td>\n",
       "      <td>0.000000</td>\n",
       "      <td>0.000000</td>\n",
       "      <td>60.000000</td>\n",
       "    </tr>\n",
       "    <tr>\n",
       "      <td>50%</td>\n",
       "      <td>2007.000000</td>\n",
       "      <td>0.080000</td>\n",
       "      <td>0.020000</td>\n",
       "      <td>0.000000</td>\n",
       "      <td>0.010000</td>\n",
       "      <td>71.000000</td>\n",
       "    </tr>\n",
       "    <tr>\n",
       "      <td>75%</td>\n",
       "      <td>2010.000000</td>\n",
       "      <td>0.240000</td>\n",
       "      <td>0.110000</td>\n",
       "      <td>0.040000</td>\n",
       "      <td>0.030000</td>\n",
       "      <td>79.000000</td>\n",
       "    </tr>\n",
       "    <tr>\n",
       "      <td>max</td>\n",
       "      <td>2016.000000</td>\n",
       "      <td>41.360000</td>\n",
       "      <td>28.960000</td>\n",
       "      <td>10.220000</td>\n",
       "      <td>10.570000</td>\n",
       "      <td>98.000000</td>\n",
       "    </tr>\n",
       "  </tbody>\n",
       "</table>\n",
       "</div>"
      ],
      "text/plain": [
       "       Year_of_Release      NA_sales      EU_sales      JP_sales  \\\n",
       "count     16446.000000  16715.000000  16715.000000  16715.000000   \n",
       "mean       2006.484616      0.263377      0.145060      0.077617   \n",
       "std           5.877050      0.813604      0.503339      0.308853   \n",
       "min        1980.000000      0.000000      0.000000      0.000000   \n",
       "25%        2003.000000      0.000000      0.000000      0.000000   \n",
       "50%        2007.000000      0.080000      0.020000      0.000000   \n",
       "75%        2010.000000      0.240000      0.110000      0.040000   \n",
       "max        2016.000000     41.360000     28.960000     10.220000   \n",
       "\n",
       "        Other_sales  Critic_Score  \n",
       "count  16715.000000   8137.000000  \n",
       "mean       0.047342     68.967679  \n",
       "std        0.186731     13.938165  \n",
       "min        0.000000     13.000000  \n",
       "25%        0.000000     60.000000  \n",
       "50%        0.010000     71.000000  \n",
       "75%        0.030000     79.000000  \n",
       "max       10.570000     98.000000  "
      ]
     },
     "execution_count": 6,
     "metadata": {},
     "output_type": "execute_result"
    }
   ],
   "source": [
    "df.describe()"
   ]
  },
  {
   "cell_type": "markdown",
   "metadata": {},
   "source": [
    "Необходимо скорректировать названия колонок.\n",
    "Изменить тип данных год релиза, оценки пользователей.\n",
    "Отработать пропуски в наименовании игр, рейтинге, оценках критиков и пользователей."
   ]
  },
  {
   "cell_type": "markdown",
   "metadata": {},
   "source": [
    "## Подготовка данных"
   ]
  },
  {
   "cell_type": "markdown",
   "metadata": {},
   "source": [
    "### Корректировка названия столбцов"
   ]
  },
  {
   "cell_type": "markdown",
   "metadata": {},
   "source": [
    "Заменим названия столбцов (приведем к нижнему регистру)"
   ]
  },
  {
   "cell_type": "code",
   "execution_count": 7,
   "metadata": {},
   "outputs": [
    {
     "data": {
      "text/html": [
       "<div>\n",
       "<style scoped>\n",
       "    .dataframe tbody tr th:only-of-type {\n",
       "        vertical-align: middle;\n",
       "    }\n",
       "\n",
       "    .dataframe tbody tr th {\n",
       "        vertical-align: top;\n",
       "    }\n",
       "\n",
       "    .dataframe thead th {\n",
       "        text-align: right;\n",
       "    }\n",
       "</style>\n",
       "<table border=\"1\" class=\"dataframe\">\n",
       "  <thead>\n",
       "    <tr style=\"text-align: right;\">\n",
       "      <th></th>\n",
       "      <th>name</th>\n",
       "      <th>platform</th>\n",
       "      <th>year_of_release</th>\n",
       "      <th>genre</th>\n",
       "      <th>na_sales</th>\n",
       "      <th>eu_sales</th>\n",
       "      <th>jp_sales</th>\n",
       "      <th>other_sales</th>\n",
       "      <th>critic_score</th>\n",
       "      <th>user_score</th>\n",
       "      <th>rating</th>\n",
       "    </tr>\n",
       "  </thead>\n",
       "  <tbody>\n",
       "    <tr>\n",
       "      <td>0</td>\n",
       "      <td>Wii Sports</td>\n",
       "      <td>Wii</td>\n",
       "      <td>2006.0</td>\n",
       "      <td>Sports</td>\n",
       "      <td>41.36</td>\n",
       "      <td>28.96</td>\n",
       "      <td>3.77</td>\n",
       "      <td>8.45</td>\n",
       "      <td>76.0</td>\n",
       "      <td>8</td>\n",
       "      <td>E</td>\n",
       "    </tr>\n",
       "    <tr>\n",
       "      <td>1</td>\n",
       "      <td>Super Mario Bros.</td>\n",
       "      <td>NES</td>\n",
       "      <td>1985.0</td>\n",
       "      <td>Platform</td>\n",
       "      <td>29.08</td>\n",
       "      <td>3.58</td>\n",
       "      <td>6.81</td>\n",
       "      <td>0.77</td>\n",
       "      <td>NaN</td>\n",
       "      <td>NaN</td>\n",
       "      <td>NaN</td>\n",
       "    </tr>\n",
       "    <tr>\n",
       "      <td>2</td>\n",
       "      <td>Mario Kart Wii</td>\n",
       "      <td>Wii</td>\n",
       "      <td>2008.0</td>\n",
       "      <td>Racing</td>\n",
       "      <td>15.68</td>\n",
       "      <td>12.76</td>\n",
       "      <td>3.79</td>\n",
       "      <td>3.29</td>\n",
       "      <td>82.0</td>\n",
       "      <td>8.3</td>\n",
       "      <td>E</td>\n",
       "    </tr>\n",
       "    <tr>\n",
       "      <td>3</td>\n",
       "      <td>Wii Sports Resort</td>\n",
       "      <td>Wii</td>\n",
       "      <td>2009.0</td>\n",
       "      <td>Sports</td>\n",
       "      <td>15.61</td>\n",
       "      <td>10.93</td>\n",
       "      <td>3.28</td>\n",
       "      <td>2.95</td>\n",
       "      <td>80.0</td>\n",
       "      <td>8</td>\n",
       "      <td>E</td>\n",
       "    </tr>\n",
       "    <tr>\n",
       "      <td>4</td>\n",
       "      <td>Pokemon Red/Pokemon Blue</td>\n",
       "      <td>GB</td>\n",
       "      <td>1996.0</td>\n",
       "      <td>Role-Playing</td>\n",
       "      <td>11.27</td>\n",
       "      <td>8.89</td>\n",
       "      <td>10.22</td>\n",
       "      <td>1.00</td>\n",
       "      <td>NaN</td>\n",
       "      <td>NaN</td>\n",
       "      <td>NaN</td>\n",
       "    </tr>\n",
       "  </tbody>\n",
       "</table>\n",
       "</div>"
      ],
      "text/plain": [
       "                       name platform  year_of_release         genre  na_sales  \\\n",
       "0                Wii Sports      Wii           2006.0        Sports     41.36   \n",
       "1         Super Mario Bros.      NES           1985.0      Platform     29.08   \n",
       "2            Mario Kart Wii      Wii           2008.0        Racing     15.68   \n",
       "3         Wii Sports Resort      Wii           2009.0        Sports     15.61   \n",
       "4  Pokemon Red/Pokemon Blue       GB           1996.0  Role-Playing     11.27   \n",
       "\n",
       "   eu_sales  jp_sales  other_sales  critic_score user_score rating  \n",
       "0     28.96      3.77         8.45          76.0          8      E  \n",
       "1      3.58      6.81         0.77           NaN        NaN    NaN  \n",
       "2     12.76      3.79         3.29          82.0        8.3      E  \n",
       "3     10.93      3.28         2.95          80.0          8      E  \n",
       "4      8.89     10.22         1.00           NaN        NaN    NaN  "
      ]
     },
     "execution_count": 7,
     "metadata": {},
     "output_type": "execute_result"
    }
   ],
   "source": [
    "df.columns = df.columns.str.lower()\n",
    "df.head()"
   ]
  },
  {
   "cell_type": "markdown",
   "metadata": {},
   "source": [
    "### Изменение типа данных"
   ]
  },
  {
   "cell_type": "markdown",
   "metadata": {},
   "source": [
    "Преобразуйте данные в нужные типы. Столбец с годом переводим в целочисленный тип. Оценка пользователей приведена к десятичному числовому типу, значения tbd заменены на NaN, т.к. по ним рейтинг пока отсутствует и неизвестно каким он будет."
   ]
  },
  {
   "cell_type": "code",
   "execution_count": 8,
   "metadata": {},
   "outputs": [
    {
     "data": {
      "text/plain": [
       "name                object\n",
       "platform            object\n",
       "year_of_release      int64\n",
       "genre               object\n",
       "na_sales           float64\n",
       "eu_sales           float64\n",
       "jp_sales           float64\n",
       "other_sales        float64\n",
       "critic_score       float64\n",
       "user_score          object\n",
       "rating              object\n",
       "dtype: object"
      ]
     },
     "execution_count": 8,
     "metadata": {},
     "output_type": "execute_result"
    }
   ],
   "source": [
    "df['year_of_release'] = df['year_of_release'].fillna(0).astype(int)\n",
    "df.dtypes"
   ]
  },
  {
   "cell_type": "code",
   "execution_count": 9,
   "metadata": {},
   "outputs": [
    {
     "data": {
      "text/plain": [
       "name                object\n",
       "platform            object\n",
       "year_of_release      int64\n",
       "genre               object\n",
       "na_sales           float64\n",
       "eu_sales           float64\n",
       "jp_sales           float64\n",
       "other_sales        float64\n",
       "critic_score       float64\n",
       "user_score         float64\n",
       "rating              object\n",
       "dtype: object"
      ]
     },
     "execution_count": 9,
     "metadata": {},
     "output_type": "execute_result"
    }
   ],
   "source": [
    "df['user_score'] = pd.to_numeric(df['user_score'], errors='coerce')\n",
    "df.dtypes"
   ]
  },
  {
   "cell_type": "markdown",
   "metadata": {},
   "source": [
    "### Обработка пропусков"
   ]
  },
  {
   "cell_type": "code",
   "execution_count": 10,
   "metadata": {},
   "outputs": [
    {
     "data": {
      "text/plain": [
       "name                  2\n",
       "platform              0\n",
       "year_of_release       0\n",
       "genre                 2\n",
       "na_sales              0\n",
       "eu_sales              0\n",
       "jp_sales              0\n",
       "other_sales           0\n",
       "critic_score       8578\n",
       "user_score         9125\n",
       "rating             6766\n",
       "dtype: int64"
      ]
     },
     "execution_count": 10,
     "metadata": {},
     "output_type": "execute_result"
    }
   ],
   "source": [
    "df.isna().sum()"
   ]
  },
  {
   "cell_type": "markdown",
   "metadata": {},
   "source": [
    "Игр без наименования всего 2, удалим их. Пропуски значений в оценках критиков и пользователей, а также в рейтинге заменим на значение  0. Потом при необходимости сможем его заменить."
   ]
  },
  {
   "cell_type": "code",
   "execution_count": 11,
   "metadata": {},
   "outputs": [],
   "source": [
    "df=df.dropna(subset=['name'])"
   ]
  },
  {
   "cell_type": "code",
   "execution_count": 12,
   "metadata": {},
   "outputs": [],
   "source": [
    "df.fillna(dict.fromkeys(['critic_score', 'user_score'], 0), inplace=True)"
   ]
  },
  {
   "cell_type": "code",
   "execution_count": 13,
   "metadata": {},
   "outputs": [],
   "source": [
    "\n",
    "df['rating'] = df['rating'].fillna('unknown')\n"
   ]
  },
  {
   "cell_type": "code",
   "execution_count": 14,
   "metadata": {},
   "outputs": [
    {
     "data": {
      "text/html": [
       "<div>\n",
       "<style scoped>\n",
       "    .dataframe tbody tr th:only-of-type {\n",
       "        vertical-align: middle;\n",
       "    }\n",
       "\n",
       "    .dataframe tbody tr th {\n",
       "        vertical-align: top;\n",
       "    }\n",
       "\n",
       "    .dataframe thead th {\n",
       "        text-align: right;\n",
       "    }\n",
       "</style>\n",
       "<table border=\"1\" class=\"dataframe\">\n",
       "  <thead>\n",
       "    <tr style=\"text-align: right;\">\n",
       "      <th></th>\n",
       "      <th>name</th>\n",
       "      <th>platform</th>\n",
       "      <th>year_of_release</th>\n",
       "      <th>genre</th>\n",
       "      <th>na_sales</th>\n",
       "      <th>eu_sales</th>\n",
       "      <th>jp_sales</th>\n",
       "      <th>other_sales</th>\n",
       "      <th>critic_score</th>\n",
       "      <th>user_score</th>\n",
       "      <th>rating</th>\n",
       "    </tr>\n",
       "  </thead>\n",
       "  <tbody>\n",
       "    <tr>\n",
       "      <td>0</td>\n",
       "      <td>Wii Sports</td>\n",
       "      <td>Wii</td>\n",
       "      <td>2006</td>\n",
       "      <td>Sports</td>\n",
       "      <td>41.36</td>\n",
       "      <td>28.96</td>\n",
       "      <td>3.77</td>\n",
       "      <td>8.45</td>\n",
       "      <td>76.0</td>\n",
       "      <td>8.0</td>\n",
       "      <td>E</td>\n",
       "    </tr>\n",
       "    <tr>\n",
       "      <td>1</td>\n",
       "      <td>Super Mario Bros.</td>\n",
       "      <td>NES</td>\n",
       "      <td>1985</td>\n",
       "      <td>Platform</td>\n",
       "      <td>29.08</td>\n",
       "      <td>3.58</td>\n",
       "      <td>6.81</td>\n",
       "      <td>0.77</td>\n",
       "      <td>0.0</td>\n",
       "      <td>0.0</td>\n",
       "      <td>unknown</td>\n",
       "    </tr>\n",
       "    <tr>\n",
       "      <td>2</td>\n",
       "      <td>Mario Kart Wii</td>\n",
       "      <td>Wii</td>\n",
       "      <td>2008</td>\n",
       "      <td>Racing</td>\n",
       "      <td>15.68</td>\n",
       "      <td>12.76</td>\n",
       "      <td>3.79</td>\n",
       "      <td>3.29</td>\n",
       "      <td>82.0</td>\n",
       "      <td>8.3</td>\n",
       "      <td>E</td>\n",
       "    </tr>\n",
       "    <tr>\n",
       "      <td>3</td>\n",
       "      <td>Wii Sports Resort</td>\n",
       "      <td>Wii</td>\n",
       "      <td>2009</td>\n",
       "      <td>Sports</td>\n",
       "      <td>15.61</td>\n",
       "      <td>10.93</td>\n",
       "      <td>3.28</td>\n",
       "      <td>2.95</td>\n",
       "      <td>80.0</td>\n",
       "      <td>8.0</td>\n",
       "      <td>E</td>\n",
       "    </tr>\n",
       "    <tr>\n",
       "      <td>4</td>\n",
       "      <td>Pokemon Red/Pokemon Blue</td>\n",
       "      <td>GB</td>\n",
       "      <td>1996</td>\n",
       "      <td>Role-Playing</td>\n",
       "      <td>11.27</td>\n",
       "      <td>8.89</td>\n",
       "      <td>10.22</td>\n",
       "      <td>1.00</td>\n",
       "      <td>0.0</td>\n",
       "      <td>0.0</td>\n",
       "      <td>unknown</td>\n",
       "    </tr>\n",
       "  </tbody>\n",
       "</table>\n",
       "</div>"
      ],
      "text/plain": [
       "                       name platform  year_of_release         genre  na_sales  \\\n",
       "0                Wii Sports      Wii             2006        Sports     41.36   \n",
       "1         Super Mario Bros.      NES             1985      Platform     29.08   \n",
       "2            Mario Kart Wii      Wii             2008        Racing     15.68   \n",
       "3         Wii Sports Resort      Wii             2009        Sports     15.61   \n",
       "4  Pokemon Red/Pokemon Blue       GB             1996  Role-Playing     11.27   \n",
       "\n",
       "   eu_sales  jp_sales  other_sales  critic_score  user_score   rating  \n",
       "0     28.96      3.77         8.45          76.0         8.0        E  \n",
       "1      3.58      6.81         0.77           0.0         0.0  unknown  \n",
       "2     12.76      3.79         3.29          82.0         8.3        E  \n",
       "3     10.93      3.28         2.95          80.0         8.0        E  \n",
       "4      8.89     10.22         1.00           0.0         0.0  unknown  "
      ]
     },
     "execution_count": 14,
     "metadata": {},
     "output_type": "execute_result"
    }
   ],
   "source": [
    "df.head()"
   ]
  },
  {
   "cell_type": "code",
   "execution_count": 15,
   "metadata": {},
   "outputs": [
    {
     "data": {
      "text/plain": [
       "(16713, 11)"
      ]
     },
     "execution_count": 15,
     "metadata": {},
     "output_type": "execute_result"
    }
   ],
   "source": [
    "df.shape"
   ]
  },
  {
   "cell_type": "markdown",
   "metadata": {},
   "source": [
    "Удалим возможные дубли."
   ]
  },
  {
   "cell_type": "code",
   "execution_count": 16,
   "metadata": {},
   "outputs": [
    {
     "data": {
      "text/html": [
       "<div>\n",
       "<style scoped>\n",
       "    .dataframe tbody tr th:only-of-type {\n",
       "        vertical-align: middle;\n",
       "    }\n",
       "\n",
       "    .dataframe tbody tr th {\n",
       "        vertical-align: top;\n",
       "    }\n",
       "\n",
       "    .dataframe thead th {\n",
       "        text-align: right;\n",
       "    }\n",
       "</style>\n",
       "<table border=\"1\" class=\"dataframe\">\n",
       "  <thead>\n",
       "    <tr style=\"text-align: right;\">\n",
       "      <th></th>\n",
       "      <th>name</th>\n",
       "      <th>platform</th>\n",
       "      <th>year_of_release</th>\n",
       "      <th>genre</th>\n",
       "      <th>na_sales</th>\n",
       "      <th>eu_sales</th>\n",
       "      <th>jp_sales</th>\n",
       "      <th>other_sales</th>\n",
       "      <th>critic_score</th>\n",
       "      <th>user_score</th>\n",
       "      <th>rating</th>\n",
       "    </tr>\n",
       "  </thead>\n",
       "  <tbody>\n",
       "    <tr>\n",
       "      <td>0</td>\n",
       "      <td>Wii Sports</td>\n",
       "      <td>Wii</td>\n",
       "      <td>2006</td>\n",
       "      <td>Sports</td>\n",
       "      <td>41.36</td>\n",
       "      <td>28.96</td>\n",
       "      <td>3.77</td>\n",
       "      <td>8.45</td>\n",
       "      <td>76.0</td>\n",
       "      <td>8.0</td>\n",
       "      <td>E</td>\n",
       "    </tr>\n",
       "    <tr>\n",
       "      <td>1</td>\n",
       "      <td>Super Mario Bros.</td>\n",
       "      <td>NES</td>\n",
       "      <td>1985</td>\n",
       "      <td>Platform</td>\n",
       "      <td>29.08</td>\n",
       "      <td>3.58</td>\n",
       "      <td>6.81</td>\n",
       "      <td>0.77</td>\n",
       "      <td>0.0</td>\n",
       "      <td>0.0</td>\n",
       "      <td>unknown</td>\n",
       "    </tr>\n",
       "    <tr>\n",
       "      <td>2</td>\n",
       "      <td>Mario Kart Wii</td>\n",
       "      <td>Wii</td>\n",
       "      <td>2008</td>\n",
       "      <td>Racing</td>\n",
       "      <td>15.68</td>\n",
       "      <td>12.76</td>\n",
       "      <td>3.79</td>\n",
       "      <td>3.29</td>\n",
       "      <td>82.0</td>\n",
       "      <td>8.3</td>\n",
       "      <td>E</td>\n",
       "    </tr>\n",
       "    <tr>\n",
       "      <td>3</td>\n",
       "      <td>Wii Sports Resort</td>\n",
       "      <td>Wii</td>\n",
       "      <td>2009</td>\n",
       "      <td>Sports</td>\n",
       "      <td>15.61</td>\n",
       "      <td>10.93</td>\n",
       "      <td>3.28</td>\n",
       "      <td>2.95</td>\n",
       "      <td>80.0</td>\n",
       "      <td>8.0</td>\n",
       "      <td>E</td>\n",
       "    </tr>\n",
       "    <tr>\n",
       "      <td>4</td>\n",
       "      <td>Pokemon Red/Pokemon Blue</td>\n",
       "      <td>GB</td>\n",
       "      <td>1996</td>\n",
       "      <td>Role-Playing</td>\n",
       "      <td>11.27</td>\n",
       "      <td>8.89</td>\n",
       "      <td>10.22</td>\n",
       "      <td>1.00</td>\n",
       "      <td>0.0</td>\n",
       "      <td>0.0</td>\n",
       "      <td>unknown</td>\n",
       "    </tr>\n",
       "    <tr>\n",
       "      <td>...</td>\n",
       "      <td>...</td>\n",
       "      <td>...</td>\n",
       "      <td>...</td>\n",
       "      <td>...</td>\n",
       "      <td>...</td>\n",
       "      <td>...</td>\n",
       "      <td>...</td>\n",
       "      <td>...</td>\n",
       "      <td>...</td>\n",
       "      <td>...</td>\n",
       "      <td>...</td>\n",
       "    </tr>\n",
       "    <tr>\n",
       "      <td>16710</td>\n",
       "      <td>Samurai Warriors: Sanada Maru</td>\n",
       "      <td>PS3</td>\n",
       "      <td>2016</td>\n",
       "      <td>Action</td>\n",
       "      <td>0.00</td>\n",
       "      <td>0.00</td>\n",
       "      <td>0.01</td>\n",
       "      <td>0.00</td>\n",
       "      <td>0.0</td>\n",
       "      <td>0.0</td>\n",
       "      <td>unknown</td>\n",
       "    </tr>\n",
       "    <tr>\n",
       "      <td>16711</td>\n",
       "      <td>LMA Manager 2007</td>\n",
       "      <td>X360</td>\n",
       "      <td>2006</td>\n",
       "      <td>Sports</td>\n",
       "      <td>0.00</td>\n",
       "      <td>0.01</td>\n",
       "      <td>0.00</td>\n",
       "      <td>0.00</td>\n",
       "      <td>0.0</td>\n",
       "      <td>0.0</td>\n",
       "      <td>unknown</td>\n",
       "    </tr>\n",
       "    <tr>\n",
       "      <td>16712</td>\n",
       "      <td>Haitaka no Psychedelica</td>\n",
       "      <td>PSV</td>\n",
       "      <td>2016</td>\n",
       "      <td>Adventure</td>\n",
       "      <td>0.00</td>\n",
       "      <td>0.00</td>\n",
       "      <td>0.01</td>\n",
       "      <td>0.00</td>\n",
       "      <td>0.0</td>\n",
       "      <td>0.0</td>\n",
       "      <td>unknown</td>\n",
       "    </tr>\n",
       "    <tr>\n",
       "      <td>16713</td>\n",
       "      <td>Spirits &amp; Spells</td>\n",
       "      <td>GBA</td>\n",
       "      <td>2003</td>\n",
       "      <td>Platform</td>\n",
       "      <td>0.01</td>\n",
       "      <td>0.00</td>\n",
       "      <td>0.00</td>\n",
       "      <td>0.00</td>\n",
       "      <td>0.0</td>\n",
       "      <td>0.0</td>\n",
       "      <td>unknown</td>\n",
       "    </tr>\n",
       "    <tr>\n",
       "      <td>16714</td>\n",
       "      <td>Winning Post 8 2016</td>\n",
       "      <td>PSV</td>\n",
       "      <td>2016</td>\n",
       "      <td>Simulation</td>\n",
       "      <td>0.00</td>\n",
       "      <td>0.00</td>\n",
       "      <td>0.01</td>\n",
       "      <td>0.00</td>\n",
       "      <td>0.0</td>\n",
       "      <td>0.0</td>\n",
       "      <td>unknown</td>\n",
       "    </tr>\n",
       "  </tbody>\n",
       "</table>\n",
       "<p>16713 rows × 11 columns</p>\n",
       "</div>"
      ],
      "text/plain": [
       "                                name platform  year_of_release         genre  \\\n",
       "0                         Wii Sports      Wii             2006        Sports   \n",
       "1                  Super Mario Bros.      NES             1985      Platform   \n",
       "2                     Mario Kart Wii      Wii             2008        Racing   \n",
       "3                  Wii Sports Resort      Wii             2009        Sports   \n",
       "4           Pokemon Red/Pokemon Blue       GB             1996  Role-Playing   \n",
       "...                              ...      ...              ...           ...   \n",
       "16710  Samurai Warriors: Sanada Maru      PS3             2016        Action   \n",
       "16711               LMA Manager 2007     X360             2006        Sports   \n",
       "16712        Haitaka no Psychedelica      PSV             2016     Adventure   \n",
       "16713               Spirits & Spells      GBA             2003      Platform   \n",
       "16714            Winning Post 8 2016      PSV             2016    Simulation   \n",
       "\n",
       "       na_sales  eu_sales  jp_sales  other_sales  critic_score  user_score  \\\n",
       "0         41.36     28.96      3.77         8.45          76.0         8.0   \n",
       "1         29.08      3.58      6.81         0.77           0.0         0.0   \n",
       "2         15.68     12.76      3.79         3.29          82.0         8.3   \n",
       "3         15.61     10.93      3.28         2.95          80.0         8.0   \n",
       "4         11.27      8.89     10.22         1.00           0.0         0.0   \n",
       "...         ...       ...       ...          ...           ...         ...   \n",
       "16710      0.00      0.00      0.01         0.00           0.0         0.0   \n",
       "16711      0.00      0.01      0.00         0.00           0.0         0.0   \n",
       "16712      0.00      0.00      0.01         0.00           0.0         0.0   \n",
       "16713      0.01      0.00      0.00         0.00           0.0         0.0   \n",
       "16714      0.00      0.00      0.01         0.00           0.0         0.0   \n",
       "\n",
       "        rating  \n",
       "0            E  \n",
       "1      unknown  \n",
       "2            E  \n",
       "3            E  \n",
       "4      unknown  \n",
       "...        ...  \n",
       "16710  unknown  \n",
       "16711  unknown  \n",
       "16712  unknown  \n",
       "16713  unknown  \n",
       "16714  unknown  \n",
       "\n",
       "[16713 rows x 11 columns]"
      ]
     },
     "execution_count": 16,
     "metadata": {},
     "output_type": "execute_result"
    }
   ],
   "source": [
    "df.drop_duplicates(keep=False)"
   ]
  },
  {
   "cell_type": "code",
   "execution_count": 17,
   "metadata": {},
   "outputs": [
    {
     "data": {
      "text/plain": [
       "(16713, 11)"
      ]
     },
     "execution_count": 17,
     "metadata": {},
     "output_type": "execute_result"
    }
   ],
   "source": [
    "df.shape"
   ]
  },
  {
   "cell_type": "code",
   "execution_count": 18,
   "metadata": {},
   "outputs": [
    {
     "data": {
      "text/html": [
       "<div>\n",
       "<style scoped>\n",
       "    .dataframe tbody tr th:only-of-type {\n",
       "        vertical-align: middle;\n",
       "    }\n",
       "\n",
       "    .dataframe tbody tr th {\n",
       "        vertical-align: top;\n",
       "    }\n",
       "\n",
       "    .dataframe thead th {\n",
       "        text-align: right;\n",
       "    }\n",
       "</style>\n",
       "<table border=\"1\" class=\"dataframe\">\n",
       "  <thead>\n",
       "    <tr style=\"text-align: right;\">\n",
       "      <th></th>\n",
       "      <th>name</th>\n",
       "      <th>platform</th>\n",
       "      <th>year_of_release</th>\n",
       "      <th>genre</th>\n",
       "      <th>na_sales</th>\n",
       "      <th>eu_sales</th>\n",
       "      <th>jp_sales</th>\n",
       "      <th>other_sales</th>\n",
       "      <th>critic_score</th>\n",
       "      <th>user_score</th>\n",
       "      <th>rating</th>\n",
       "      <th>global_sales</th>\n",
       "    </tr>\n",
       "  </thead>\n",
       "  <tbody>\n",
       "    <tr>\n",
       "      <td>0</td>\n",
       "      <td>Wii Sports</td>\n",
       "      <td>Wii</td>\n",
       "      <td>2006</td>\n",
       "      <td>Sports</td>\n",
       "      <td>41.36</td>\n",
       "      <td>28.96</td>\n",
       "      <td>3.77</td>\n",
       "      <td>8.45</td>\n",
       "      <td>76.0</td>\n",
       "      <td>8.0</td>\n",
       "      <td>E</td>\n",
       "      <td>74.09</td>\n",
       "    </tr>\n",
       "    <tr>\n",
       "      <td>1</td>\n",
       "      <td>Super Mario Bros.</td>\n",
       "      <td>NES</td>\n",
       "      <td>1985</td>\n",
       "      <td>Platform</td>\n",
       "      <td>29.08</td>\n",
       "      <td>3.58</td>\n",
       "      <td>6.81</td>\n",
       "      <td>0.77</td>\n",
       "      <td>0.0</td>\n",
       "      <td>0.0</td>\n",
       "      <td>unknown</td>\n",
       "      <td>39.47</td>\n",
       "    </tr>\n",
       "    <tr>\n",
       "      <td>2</td>\n",
       "      <td>Mario Kart Wii</td>\n",
       "      <td>Wii</td>\n",
       "      <td>2008</td>\n",
       "      <td>Racing</td>\n",
       "      <td>15.68</td>\n",
       "      <td>12.76</td>\n",
       "      <td>3.79</td>\n",
       "      <td>3.29</td>\n",
       "      <td>82.0</td>\n",
       "      <td>8.3</td>\n",
       "      <td>E</td>\n",
       "      <td>32.23</td>\n",
       "    </tr>\n",
       "    <tr>\n",
       "      <td>4</td>\n",
       "      <td>Pokemon Red/Pokemon Blue</td>\n",
       "      <td>GB</td>\n",
       "      <td>1996</td>\n",
       "      <td>Role-Playing</td>\n",
       "      <td>11.27</td>\n",
       "      <td>8.89</td>\n",
       "      <td>10.22</td>\n",
       "      <td>1.00</td>\n",
       "      <td>0.0</td>\n",
       "      <td>0.0</td>\n",
       "      <td>unknown</td>\n",
       "      <td>30.38</td>\n",
       "    </tr>\n",
       "    <tr>\n",
       "      <td>3</td>\n",
       "      <td>Wii Sports Resort</td>\n",
       "      <td>Wii</td>\n",
       "      <td>2009</td>\n",
       "      <td>Sports</td>\n",
       "      <td>15.61</td>\n",
       "      <td>10.93</td>\n",
       "      <td>3.28</td>\n",
       "      <td>2.95</td>\n",
       "      <td>80.0</td>\n",
       "      <td>8.0</td>\n",
       "      <td>E</td>\n",
       "      <td>29.82</td>\n",
       "    </tr>\n",
       "    <tr>\n",
       "      <td>...</td>\n",
       "      <td>...</td>\n",
       "      <td>...</td>\n",
       "      <td>...</td>\n",
       "      <td>...</td>\n",
       "      <td>...</td>\n",
       "      <td>...</td>\n",
       "      <td>...</td>\n",
       "      <td>...</td>\n",
       "      <td>...</td>\n",
       "      <td>...</td>\n",
       "      <td>...</td>\n",
       "      <td>...</td>\n",
       "    </tr>\n",
       "    <tr>\n",
       "      <td>16179</td>\n",
       "      <td>Pro Angler Moves</td>\n",
       "      <td>PS3</td>\n",
       "      <td>2012</td>\n",
       "      <td>Sports</td>\n",
       "      <td>0.01</td>\n",
       "      <td>0.00</td>\n",
       "      <td>0.00</td>\n",
       "      <td>0.00</td>\n",
       "      <td>0.0</td>\n",
       "      <td>0.0</td>\n",
       "      <td>E</td>\n",
       "      <td>0.01</td>\n",
       "    </tr>\n",
       "    <tr>\n",
       "      <td>16162</td>\n",
       "      <td>Neverwinter Nights 2: Mask of the Betrayer</td>\n",
       "      <td>PC</td>\n",
       "      <td>2007</td>\n",
       "      <td>Role-Playing</td>\n",
       "      <td>0.00</td>\n",
       "      <td>0.01</td>\n",
       "      <td>0.00</td>\n",
       "      <td>0.00</td>\n",
       "      <td>82.0</td>\n",
       "      <td>8.8</td>\n",
       "      <td>T</td>\n",
       "      <td>0.01</td>\n",
       "    </tr>\n",
       "    <tr>\n",
       "      <td>16676</td>\n",
       "      <td>G1 Jockey 4 2008</td>\n",
       "      <td>PS3</td>\n",
       "      <td>2008</td>\n",
       "      <td>Sports</td>\n",
       "      <td>0.00</td>\n",
       "      <td>0.00</td>\n",
       "      <td>0.00</td>\n",
       "      <td>0.00</td>\n",
       "      <td>0.0</td>\n",
       "      <td>0.0</td>\n",
       "      <td>unknown</td>\n",
       "      <td>0.00</td>\n",
       "    </tr>\n",
       "    <tr>\n",
       "      <td>16709</td>\n",
       "      <td>SCORE International Baja 1000: The Official Game</td>\n",
       "      <td>PS2</td>\n",
       "      <td>2008</td>\n",
       "      <td>Racing</td>\n",
       "      <td>0.00</td>\n",
       "      <td>0.00</td>\n",
       "      <td>0.00</td>\n",
       "      <td>0.00</td>\n",
       "      <td>0.0</td>\n",
       "      <td>0.0</td>\n",
       "      <td>unknown</td>\n",
       "      <td>0.00</td>\n",
       "    </tr>\n",
       "    <tr>\n",
       "      <td>8045</td>\n",
       "      <td>Summer Athletics: The Ultimate Challenge</td>\n",
       "      <td>PS2</td>\n",
       "      <td>2008</td>\n",
       "      <td>Sports</td>\n",
       "      <td>0.00</td>\n",
       "      <td>0.00</td>\n",
       "      <td>0.00</td>\n",
       "      <td>0.18</td>\n",
       "      <td>0.0</td>\n",
       "      <td>0.0</td>\n",
       "      <td>E</td>\n",
       "      <td>0.00</td>\n",
       "    </tr>\n",
       "  </tbody>\n",
       "</table>\n",
       "<p>16713 rows × 12 columns</p>\n",
       "</div>"
      ],
      "text/plain": [
       "                                                   name platform  \\\n",
       "0                                            Wii Sports      Wii   \n",
       "1                                     Super Mario Bros.      NES   \n",
       "2                                        Mario Kart Wii      Wii   \n",
       "4                              Pokemon Red/Pokemon Blue       GB   \n",
       "3                                     Wii Sports Resort      Wii   \n",
       "...                                                 ...      ...   \n",
       "16179                                  Pro Angler Moves      PS3   \n",
       "16162        Neverwinter Nights 2: Mask of the Betrayer       PC   \n",
       "16676                                  G1 Jockey 4 2008      PS3   \n",
       "16709  SCORE International Baja 1000: The Official Game      PS2   \n",
       "8045           Summer Athletics: The Ultimate Challenge      PS2   \n",
       "\n",
       "       year_of_release         genre  na_sales  eu_sales  jp_sales  \\\n",
       "0                 2006        Sports     41.36     28.96      3.77   \n",
       "1                 1985      Platform     29.08      3.58      6.81   \n",
       "2                 2008        Racing     15.68     12.76      3.79   \n",
       "4                 1996  Role-Playing     11.27      8.89     10.22   \n",
       "3                 2009        Sports     15.61     10.93      3.28   \n",
       "...                ...           ...       ...       ...       ...   \n",
       "16179             2012        Sports      0.01      0.00      0.00   \n",
       "16162             2007  Role-Playing      0.00      0.01      0.00   \n",
       "16676             2008        Sports      0.00      0.00      0.00   \n",
       "16709             2008        Racing      0.00      0.00      0.00   \n",
       "8045              2008        Sports      0.00      0.00      0.00   \n",
       "\n",
       "       other_sales  critic_score  user_score   rating  global_sales  \n",
       "0             8.45          76.0         8.0        E         74.09  \n",
       "1             0.77           0.0         0.0  unknown         39.47  \n",
       "2             3.29          82.0         8.3        E         32.23  \n",
       "4             1.00           0.0         0.0  unknown         30.38  \n",
       "3             2.95          80.0         8.0        E         29.82  \n",
       "...            ...           ...         ...      ...           ...  \n",
       "16179         0.00           0.0         0.0        E          0.01  \n",
       "16162         0.00          82.0         8.8        T          0.01  \n",
       "16676         0.00           0.0         0.0  unknown          0.00  \n",
       "16709         0.00           0.0         0.0  unknown          0.00  \n",
       "8045          0.18           0.0         0.0        E          0.00  \n",
       "\n",
       "[16713 rows x 12 columns]"
      ]
     },
     "execution_count": 18,
     "metadata": {},
     "output_type": "execute_result"
    }
   ],
   "source": [
    "df['global_sales']= df.iloc[:, -8:-4].sum(axis=1)\n",
    "df.sort_values(by='global_sales', ascending=False)"
   ]
  },
  {
   "cell_type": "markdown",
   "metadata": {},
   "source": [
    "## Исследовательский анализ данных"
   ]
  },
  {
   "cell_type": "markdown",
   "metadata": {},
   "source": [
    "### Сколько игр выпускалось в разные годы"
   ]
  },
  {
   "cell_type": "code",
   "execution_count": 19,
   "metadata": {},
   "outputs": [],
   "source": [
    "years_of_rel=df['year_of_release'].value_counts()\n",
    "years_of_rel=pd.DataFrame({'year_of_release':years_of_rel.index, 'games_num':years_of_rel.values})\n",
    "years_of_rel.drop(years_of_rel[years_of_rel['year_of_release']==0].index, inplace=True)"
   ]
  },
  {
   "cell_type": "markdown",
   "metadata": {},
   "source": [
    "Построим диаграмму по количеству выпущенных игр по годам."
   ]
  },
  {
   "cell_type": "code",
   "execution_count": 20,
   "metadata": {},
   "outputs": [
    {
     "data": {
      "image/png": "[encoded data removed]",
      "text/plain": [
       "<Figure size 1656x360 with 1 Axes>"
      ]
     },
     "metadata": {
      "needs_background": "light"
     },
     "output_type": "display_data"
    }
   ],
   "source": [
    "def rel_years_chart(df, x, y):\n",
    "  df.sort_values(by=x, ascending=True, inplace=True)\n",
    "  ax=df.plot(x=x, y=y, kind='bar', figsize=(23, 5), rot=45)\n",
    "  ax.get_legend().remove()\n",
    "  plt.title('Количество выпущенных игр по годам', size=14)\n",
    "  plt.xlabel('Год')\n",
    "  plt.ylabel('Количество игр, шт.')\n",
    "  plt.show()\n",
    "\n",
    "rel_years_chart(years_of_rel, 'year_of_release', 'games_num')\n"
   ]
  },
  {
   "cell_type": "markdown",
   "metadata": {},
   "source": [
    "Для прогноза продаж отберем отберем данные за последние 10 лет."
   ]
  },
  {
   "cell_type": "code",
   "execution_count": 21,
   "metadata": {},
   "outputs": [
    {
     "data": {
      "image/png": "[encoded data removed]",
      "text/plain": [
       "<Figure size 1656x360 with 1 Axes>"
      ]
     },
     "metadata": {
      "needs_background": "light"
     },
     "output_type": "display_data"
    }
   ],
   "source": [
    "rel_years_10=years_of_rel.query('year_of_release>=2006').copy()\n",
    "rel_years_chart(rel_years_10, 'year_of_release', 'games_num')"
   ]
  },
  {
   "cell_type": "markdown",
   "metadata": {},
   "source": [
    "После роста в 2008 году, в 2009 объемы сохранились. Затем началочь падение до 2013 года включительно. К 2016 году объемы, которые были максимальными, так и не были достигнуты."
   ]
  },
  {
   "cell_type": "markdown",
   "metadata": {},
   "source": [
    "### Изменение продаж по платформам"
   ]
  },
  {
   "cell_type": "code",
   "execution_count": 22,
   "metadata": {},
   "outputs": [],
   "source": [
    "platf_sales=df.groupby('platform')['global_sales'].sum().sort_values(ascending=False).reset_index()"
   ]
  },
  {
   "cell_type": "markdown",
   "metadata": {},
   "source": [
    "Создадим таблицу по продажам каждой платформы и отсортируем данные по объему.\n",
    "Затем выделим 10 наиболее крупных платформ и построим диаграмму."
   ]
  },
  {
   "cell_type": "code",
   "execution_count": 23,
   "metadata": {},
   "outputs": [
    {
     "data": {
      "image/png": "[encoded data removed]",
      "text/plain": [
       "<Figure size 1656x360 with 1 Axes>"
      ]
     },
     "metadata": {
      "needs_background": "light"
     },
     "output_type": "display_data"
    }
   ],
   "source": [
    "platf_sales_top10=platf_sales.iloc[0:10,0:10]\n",
    "ax=platf_sales_top10.plot(x='platform', y='global_sales', kind='bar', figsize=(23, 5), rot=360)\n",
    "ax.get_legend().remove()\n",
    "plt.title('Продажи по платформам', size=14)\n",
    "plt.xlabel('Платформы')\n",
    "plt.ylabel('Мировые продажи, млн копий')\n",
    "plt.show()"
   ]
  },
  {
   "cell_type": "code",
   "execution_count": 24,
   "metadata": {},
   "outputs": [
    {
     "data": {
      "text/plain": [
       "['PS2', 'X360', 'Wii', 'PS3', 'DS', 'PS', 'GBA', 'PS4', 'PSP', 'XB']"
      ]
     },
     "execution_count": 24,
     "metadata": {},
     "output_type": "execute_result"
    }
   ],
   "source": [
    "top_10_platf=platf_sales_top10['platform'].tolist()\n",
    "top_10_platf"
   ]
  },
  {
   "cell_type": "code",
   "execution_count": 25,
   "metadata": {},
   "outputs": [],
   "source": [
    "platf_sales_top10=df.drop(df[df.year_of_release == 0].index)\n",
    "platf_sales_top10=platf_sales_top10.query('platform==@top_10_platf')\n",
    "platf_sales_top10['platform']=platf_sales_top10['platform'].astype('object')"
   ]
  },
  {
   "cell_type": "code",
   "execution_count": 26,
   "metadata": {},
   "outputs": [
    {
     "data": {
      "image/png": "[encoded data removed]",
      "text/plain": [
       "<Figure size 1440x360 with 10 Axes>"
      ]
     },
     "metadata": {
      "needs_background": "light"
     },
     "output_type": "display_data"
    }
   ],
   "source": [
    "platf_sales_top10_plot=platf_sales_top10.groupby(['year_of_release','platform']).count()['global_sales'].reset_index()\n",
    "\n",
    "fig, axes = plt.subplots(nrows=2, ncols=5, sharex=True, sharey=True, figsize=(20,5))\n",
    "axes_list = [item for sublist in axes for item in sublist]\n",
    "\n",
    "for platf, selection in platf_sales_top10_plot.groupby('platform'):\n",
    "  ax = axes_list.pop(0)\n",
    "  selection.plot(x='year_of_release', y='global_sales', ax=ax, label=platf, legend=False)\n",
    "  ax.set_title(platf)\n",
    "  ax.grid(linewidth=0.25)\n",
    "  ax.set_xlim((1993, 2016))\n",
    "  ax.set_xlabel(\"Год\")\n",
    "  ax.set_ylabel(\"Кол-во выпущенных игр, шт.\")\n",
    "  ax.spines['top'].set_visible(False)\n",
    "  ax.spines['right'].set_visible(False)\n",
    "plt.tight_layout()"
   ]
  },
  {
   "cell_type": "markdown",
   "metadata": {},
   "source": [
    "По некоторым платформам нет выпуска новых игр. Отберем для дальнейшего анализа актуальные платформы."
   ]
  },
  {
   "cell_type": "markdown",
   "metadata": {},
   "source": [
    "Анализируя графики, можно отметить, что платформы в среднем живут 10 лет.\n",
    "\n",
    "Пик продаж по ним наступает в середине жизненного цикла, примерно на 5 год."
   ]
  },
  {
   "cell_type": "markdown",
   "metadata": {},
   "source": [
    "### Лидирующие платформы по продажам"
   ]
  },
  {
   "cell_type": "markdown",
   "metadata": {},
   "source": [
    "Для анализа выберем актуальный период для прогноза - последние 3 года в выборке с 2014 по 2016 года."
   ]
  },
  {
   "cell_type": "code",
   "execution_count": 27,
   "metadata": {},
   "outputs": [],
   "source": [
    "all_platf = df.query('year_of_release>=2014').copy()"
   ]
  },
  {
   "cell_type": "code",
   "execution_count": 28,
   "metadata": {},
   "outputs": [
    {
     "data": {
      "image/png": "[encoded data removed]",
      "text/plain": [
       "<Figure size 1080x576 with 1 Axes>"
      ]
     },
     "metadata": {
      "needs_background": "light"
     },
     "output_type": "display_data"
    }
   ],
   "source": [
    "fig, ax = plt.subplots(figsize=(15,8))\n",
    "all_platf.groupby(['year_of_release','platform']).count()['global_sales'].unstack().plot(ax=ax)\n",
    "plt.title('Количество выпущенных игр по платформам', size=20)\n",
    "plt.xlabel('Год', fontsize=12)\n",
    "plt.ylabel('Количество выпущенных игр, шт.', fontsize=12)\n",
    "plt.show()"
   ]
  },
  {
   "cell_type": "markdown",
   "metadata": {},
   "source": [
    "По большинству платформ выпуск сокращается. Платформы с наибольшим объемом выпуска на 2016 г - это PS4 (2013 год запуска), XOne(2013 год запуска) и PSV. Платформы новые и учитывая их тенденцию к росту и жизненный цикл продукта, именно они будут наиболее перспективными."
   ]
  },
  {
   "cell_type": "markdown",
   "metadata": {},
   "source": [
    "### Разброс суммы глобальных продаж"
   ]
  },
  {
   "cell_type": "markdown",
   "metadata": {},
   "source": [
    "Посмотрим на разброс мировых продаж по платформам."
   ]
  },
  {
   "cell_type": "code",
   "execution_count": 29,
   "metadata": {},
   "outputs": [
    {
     "data": {
      "image/png": "[encoded data removed]",
      "text/plain": [
       "<Figure size 1080x360 with 1 Axes>"
      ]
     },
     "metadata": {
      "needs_background": "light"
     },
     "output_type": "display_data"
    }
   ],
   "source": [
    "#platf_sales_top5=platf_sales_top5.sort_values(by='platform')\n",
    "ax=all_platf.boxplot(column='global_sales', by='platform', vert=False, figsize=(15,5), patch_artist=True, flierprops=dict(markeredgecolor=\"#e0434b\"),\n",
    "            medianprops=dict(color='#71c451'))\n",
    "plt.suptitle('')\n",
    "plt.title('Разброс суммы глобальных продаж по платформам', size=14)\n",
    "plt.xlabel('Мировые продажи, млн копий')\n",
    "plt.show()"
   ]
  },
  {
   "cell_type": "markdown",
   "metadata": {},
   "source": [
    "Удалим явные выбросы."
   ]
  },
  {
   "cell_type": "code",
   "execution_count": 30,
   "metadata": {},
   "outputs": [
    {
     "data": {
      "image/png": "[encoded data removed]",
      "text/plain": [
       "<Figure size 1080x360 with 1 Axes>"
      ]
     },
     "metadata": {
      "needs_background": "light"
     },
     "output_type": "display_data"
    }
   ],
   "source": [
    "all_platf_cut=all_platf.drop(all_platf[all_platf['global_sales'] > 1.1].index, inplace=True)\n",
    "ax=all_platf.boxplot(column='global_sales', by='platform', vert=False, figsize=(15,5), patch_artist=True, flierprops=dict(markeredgecolor=\"#e0434b\"),\n",
    "            medianprops=dict(color='#71c451'))\n",
    "plt.suptitle('')\n",
    "plt.title('Разброс суммы глобальных продаж', size=14)\n",
    "plt.xlabel('Мировые продажи, млн копий')\n",
    "plt.show()"
   ]
  },
  {
   "cell_type": "markdown",
   "metadata": {},
   "source": [
    "При анализе глобальных продаж наиболее популярными являются платформы Wii, WiiU и XOne."
   ]
  },
  {
   "cell_type": "markdown",
   "metadata": {},
   "source": [
    "### Влияние отзывов пользователей и критиков на продажи"
   ]
  },
  {
   "cell_type": "code",
   "execution_count": 31,
   "metadata": {},
   "outputs": [],
   "source": [
    "def score_vs_sales (df_slice, score):\n",
    "  df_slice.plot(x=score, y='global_sales', kind='scatter', alpha=0.2)\n",
    "  plt.xlabel('Оценка')\n",
    "  plt.ylabel('Мировые продажи, млн копий')\n",
    "  plt.show()\n",
    "  print('Корреляция - ', df_slice[score].corr(df['global_sales']).round(2))"
   ]
  },
  {
   "cell_type": "markdown",
   "metadata": {},
   "source": [
    "#### По платформе PS4"
   ]
  },
  {
   "cell_type": "code",
   "execution_count": 32,
   "metadata": {},
   "outputs": [
    {
     "data": {
      "image/png": "[encoded data removed]",
      "text/plain": [
       "<Figure size 432x288 with 1 Axes>"
      ]
     },
     "metadata": {
      "needs_background": "light"
     },
     "output_type": "display_data"
    },
    {
     "name": "stdout",
     "output_type": "stream",
     "text": [
      "Корреляция -  0.31\n"
     ]
    }
   ],
   "source": [
    "score_vs_sales(all_platf.query('platform==\"PS4\" and critic_score != 0'), 'critic_score')"
   ]
  },
  {
   "cell_type": "markdown",
   "metadata": {},
   "source": [
    "Корреляция - средневыраженная, чем больше оценки критиков, тем больше количество продаж. \n"
   ]
  },
  {
   "cell_type": "code",
   "execution_count": 33,
   "metadata": {},
   "outputs": [
    {
     "data": {
      "image/png": "[encoded data removed]",
      "text/plain": [
       "<Figure size 432x288 with 1 Axes>"
      ]
     },
     "metadata": {
      "needs_background": "light"
     },
     "output_type": "display_data"
    },
    {
     "name": "stdout",
     "output_type": "stream",
     "text": [
      "Корреляция -  0.04\n"
     ]
    }
   ],
   "source": [
    "score_vs_sales(all_platf.query('platform==\"PS4\" and user_score !=0'), 'user_score')"
   ]
  },
  {
   "cell_type": "markdown",
   "metadata": {},
   "source": [
    "Корреляция оценок пользователей низкая - слабовыраженная.\n"
   ]
  },
  {
   "cell_type": "markdown",
   "metadata": {},
   "source": [
    "#### По остальным  платформам"
   ]
  },
  {
   "cell_type": "code",
   "execution_count": 34,
   "metadata": {},
   "outputs": [
    {
     "data": {
      "image/png": "[encoded data removed]",
      "text/plain": [
       "<Figure size 432x288 with 1 Axes>"
      ]
     },
     "metadata": {
      "needs_background": "light"
     },
     "output_type": "display_data"
    },
    {
     "name": "stdout",
     "output_type": "stream",
     "text": [
      "Корреляция -  0.29\n"
     ]
    }
   ],
   "source": [
    "score_vs_sales(all_platf.query('platform!=\"PS4\" and critic_score != 0'), 'critic_score')"
   ]
  },
  {
   "cell_type": "markdown",
   "metadata": {},
   "source": [
    "Имеется слабовыраженная положительная тенденция - чем выше оценки критиков, тем больше количество продаж.\n"
   ]
  },
  {
   "cell_type": "code",
   "execution_count": 35,
   "metadata": {},
   "outputs": [
    {
     "data": {
      "image/png": "[encoded data removed]",
      "text/plain": [
       "<Figure size 432x288 with 1 Axes>"
      ]
     },
     "metadata": {
      "needs_background": "light"
     },
     "output_type": "display_data"
    },
    {
     "name": "stdout",
     "output_type": "stream",
     "text": [
      "Корреляция -  0.0\n"
     ]
    }
   ],
   "source": [
    "score_vs_sales(all_platf.query('platform!=\"PS4\" and user_score !=0'), 'user_score')"
   ]
  },
  {
   "cell_type": "markdown",
   "metadata": {},
   "source": [
    "По оценке пользователей корреляция нулевая. Основная концентрация оценок приходится на значения в диапазоне от 6 до 8 при продажах до 0,2 млн копий.\n",
    "\n"
   ]
  },
  {
   "cell_type": "markdown",
   "metadata": {},
   "source": [
    "### Распределение игр по жанрам"
   ]
  },
  {
   "cell_type": "code",
   "execution_count": 36,
   "metadata": {},
   "outputs": [
    {
     "data": {
      "image/png": "[encoded data removed]",
      "text/plain": [
       "<Figure size 1656x360 with 1 Axes>"
      ]
     },
     "metadata": {
      "needs_background": "light"
     },
     "output_type": "display_data"
    }
   ],
   "source": [
    "\n",
    "genre=all_platf.groupby('genre')['global_sales'].sum().reset_index()\n",
    "ax=genre.sort_values(by='global_sales', ascending=False).plot(x='genre', y='global_sales', kind='bar', figsize=(23, 5), rot=360)\n",
    "ax.get_legend().remove()\n",
    "plt.title('Самые продаваемые жанры', size=14)\n",
    "plt.xlabel('Жанр')\n",
    "plt.ylabel('Мировые продажи, млн копий')\n",
    "plt.show()"
   ]
  },
  {
   "cell_type": "markdown",
   "metadata": {},
   "source": [
    "Больше всего покупают игры жанра Action. Sports идёт на втором месте и по количеству выпускаемых игр и по продажам.\n",
    "Третье место в рейтинге занимает жанр Misc."
   ]
  },
  {
   "cell_type": "code",
   "execution_count": 37,
   "metadata": {},
   "outputs": [
    {
     "data": {
      "image/png": "[encoded data removed]",
      "text/plain": [
       "<Figure size 1656x504 with 1 Axes>"
      ]
     },
     "metadata": {
      "needs_background": "light"
     },
     "output_type": "display_data"
    }
   ],
   "source": [
    "ax=all_platf.boxplot(column='global_sales', by='genre', vert=False, figsize=(23,7), patch_artist=True, flierprops=dict(markeredgecolor=\"#e0434b\"),\n",
    "            medianprops=dict(color='#71c451'))\n",
    "plt.suptitle('')\n",
    "plt.title('Разброс суммы глобальных продаж по жанрам', size=14)\n",
    "plt.xlabel('Мировые продажи, млн копий')\n",
    "plt.show()"
   ]
  },
  {
   "cell_type": "markdown",
   "metadata": {},
   "source": [
    "Максимальные медианное значение и разброс покупаемости игр отмечается у жанра Shooter.\n",
    "\n",
    "Следом за ним по медианному значению идет Sports."
   ]
  },
  {
   "cell_type": "markdown",
   "metadata": {},
   "source": [
    "## Портрет пользователя"
   ]
  },
  {
   "cell_type": "markdown",
   "metadata": {},
   "source": [
    "Для наглядной оценки портретов пользователей создадим функцию для сводных таблиц и графиков."
   ]
  },
  {
   "cell_type": "code",
   "execution_count": 39,
   "metadata": {},
   "outputs": [],
   "source": [
    "\n",
    "def forpivot(row, title):\n",
    "    fig, axes = plt.subplots(1, 3, figsize=(20, 4))\n",
    "    for pivot, ax in zip(list(['platform','genre','rating']),axes.flatten()[:3]):\n",
    "        ppivot = all_platf.pivot_table(index=pivot, values=row, aggfunc='sum'\n",
    "                  ).sort_values(by=row, ascending=False).reset_index().rename_axis(None, axis=1).head(5)\n",
    "        print(ppivot)\n",
    "        print('\\n\\n') \n",
    "        sns.set_palette(\"Blues\")\n",
    "        sns.barplot(data=ppivot, x=pivot, y=row, ax=ax)\n",
    "        fig.suptitle(title, fontsize=15)\n",
    "        \n",
    "\n",
    "plt.show()\n",
    "sns.set()"
   ]
  },
  {
   "cell_type": "markdown",
   "metadata": {},
   "source": [
    "### Портрет пользователя North America"
   ]
  },
  {
   "cell_type": "code",
   "execution_count": 40,
   "metadata": {},
   "outputs": [
    {
     "name": "stdout",
     "output_type": "stream",
     "text": [
      "  platform  na_sales\n",
      "0     XOne     27.66\n",
      "1      PS4     26.12\n",
      "2     X360     16.32\n",
      "3      PS3     14.26\n",
      "4     WiiU      8.30\n",
      "\n",
      "\n",
      "\n",
      "          genre  na_sales\n",
      "0        Action     38.14\n",
      "1        Sports     18.03\n",
      "2       Shooter     15.32\n",
      "3  Role-Playing     12.60\n",
      "4          Misc      8.07\n",
      "\n",
      "\n",
      "\n",
      "    rating  na_sales\n",
      "0        M     26.09\n",
      "1     E10+     23.92\n",
      "2  unknown     22.65\n",
      "3        T     19.12\n",
      "4        E     16.91\n",
      "\n",
      "\n",
      "\n"
     ]
    },
    {
     "data": {
      "image/png": "[encoded data removed]",
      "text/plain": [
       "<Figure size 1440x288 with 3 Axes>"
      ]
     },
     "metadata": {},
     "output_type": "display_data"
    }
   ],
   "source": [
    "forpivot('na_sales','Топ 5 платформ, жанров и рейтингов за 2006-2016гг, North America')"
   ]
  },
  {
   "cell_type": "markdown",
   "metadata": {},
   "source": [
    "- Самые популярные игровые платформы в Америке - это XOne, PS4, Х360, PS3, WiiU\n",
    "- Топ 5 жанров в северной америке за все время: action, sports, shooter,role-playing, misc\n",
    "По рейтингам видно, что больше всего продаж за все время у игр с рейтингом \"для взрослых\", на втором месте игры с рейтингом \"от 10 и выше\" и на третьем месте игры без указания рейтинга"
   ]
  },
  {
   "cell_type": "markdown",
   "metadata": {},
   "source": [
    "### Портрет пользователя European Union"
   ]
  },
  {
   "cell_type": "code",
   "execution_count": 41,
   "metadata": {},
   "outputs": [
    {
     "name": "stdout",
     "output_type": "stream",
     "text": [
      "  platform  eu_sales\n",
      "0      PS4     33.17\n",
      "1     XOne     15.99\n",
      "2       PC     14.44\n",
      "3      PS3     13.70\n",
      "4     X360      9.36\n",
      "\n",
      "\n",
      "\n",
      "          genre  eu_sales\n",
      "0        Action     37.81\n",
      "1       Shooter     14.20\n",
      "2        Sports     13.31\n",
      "3  Role-Playing      9.88\n",
      "4        Racing      6.34\n",
      "\n",
      "\n",
      "\n",
      "    rating  eu_sales\n",
      "0        M     25.08\n",
      "1  unknown     23.16\n",
      "2     E10+     21.52\n",
      "3        T     17.10\n",
      "4        E     16.41\n",
      "\n",
      "\n",
      "\n"
     ]
    },
    {
     "data": {
      "image/png": "[encoded data removed]",
      "text/plain": [
       "<Figure size 1440x288 with 3 Axes>"
      ]
     },
     "metadata": {},
     "output_type": "display_data"
    }
   ],
   "source": [
    "forpivot('eu_sales','Топ 5 платформ, жанров и рейтингов за 2006-2016гг, European Union')"
   ]
  },
  {
   "cell_type": "markdown",
   "metadata": {},
   "source": [
    " Самые популярные игровые платформы в Европе - это PS4, XOne, PC, PS3, Х360\n",
    "- Топ 5 жанров в северной америке за все время: action, shooter, sports, role-playing,racing\n",
    "По рейтингам видно, что больше всего продаж за все время у игр с рейтингом \"для взрослых\", на втором месте игры без рейтинга и на третьем месте игры с рейтингом для детей от 10 лет."
   ]
  },
  {
   "cell_type": "markdown",
   "metadata": {},
   "source": [
    "### Портрет пользователя Japanese"
   ]
  },
  {
   "cell_type": "code",
   "execution_count": 42,
   "metadata": {},
   "outputs": [
    {
     "name": "stdout",
     "output_type": "stream",
     "text": [
      "  platform  jp_sales\n",
      "0      3DS     17.76\n",
      "1      PSV     13.64\n",
      "2      PS3     10.25\n",
      "3      PS4      8.94\n",
      "4     WiiU      2.18\n",
      "\n",
      "\n",
      "\n",
      "          genre  jp_sales\n",
      "0        Action     20.20\n",
      "1  Role-Playing     15.06\n",
      "2          Misc      4.33\n",
      "3     Adventure      3.53\n",
      "4      Fighting      3.13\n",
      "\n",
      "\n",
      "\n",
      "    rating  jp_sales\n",
      "0  unknown     33.51\n",
      "1        T     10.73\n",
      "2        M      3.50\n",
      "3        E      3.03\n",
      "4     E10+      2.49\n",
      "\n",
      "\n",
      "\n"
     ]
    },
    {
     "data": {
      "image/png": "[encoded data removed]",
      "text/plain": [
       "<Figure size 1440x288 with 3 Axes>"
      ]
     },
     "metadata": {},
     "output_type": "display_data"
    }
   ],
   "source": [
    "forpivot('jp_sales','Топ 5 платформ, жанров и рейтингов за 2006-2016гг, Japanese')"
   ]
  },
  {
   "cell_type": "markdown",
   "metadata": {},
   "source": [
    "Самые популярные игровые платформы в Японии - это 3DS, PSV, PS3, PS4, WiiU\n",
    "- Топ 5 жанров в северной америке за все время: action, role-olaying,  misc, adventure, fighting\n",
    "По рейтингам видно, что больше всего продаж у игр без указания рейтинга, на втором с рейтингом для подростков \"от 13 и выше\" и на третьем месте игры с рейтингом для взрослых \"от 17 и выше\"."
   ]
  },
  {
   "cell_type": "markdown",
   "metadata": {},
   "source": [
    "## Проверем гипотезы"
   ]
  },
  {
   "cell_type": "markdown",
   "metadata": {},
   "source": [
    "### Средние пользовательские рейтинги платформ X360 и PSP"
   ]
  },
  {
   "cell_type": "markdown",
   "metadata": {},
   "source": [
    "H0 - cредние пользовательские рейтинги платформ X360 и PC одинаковые\n",
    "\n",
    "H1 - cредние пользовательские рейтинги платформ X360 и PC разные"
   ]
  },
  {
   "cell_type": "code",
   "execution_count": 43,
   "metadata": {},
   "outputs": [],
   "source": [
    "hypo=all_platf[all_platf['platform'].isin(['PC', 'X360']) ]\n",
    "hypo=hypo.query('user_score != 0')"
   ]
  },
  {
   "cell_type": "code",
   "execution_count": 44,
   "metadata": {},
   "outputs": [
    {
     "name": "stdout",
     "output_type": "stream",
     "text": [
      "2.914041271000731\n",
      "2.869915972222222\n"
     ]
    }
   ],
   "source": [
    "variance_estimate1 = np.var(hypo.loc[hypo['platform']=='X360', 'user_score'])\n",
    "print(variance_estimate1)\n",
    "\n",
    "variance_estimate2 = np.var(hypo.loc[hypo['platform']=='PC', 'user_score'])\n",
    "print(variance_estimate2)"
   ]
  },
  {
   "cell_type": "markdown",
   "metadata": {},
   "source": [
    "Дисперсии отличаются менее чем на 5 % - разница существенная, поэтому в тесте необходимо указать параметр equal_var = True."
   ]
  },
  {
   "cell_type": "code",
   "execution_count": 45,
   "metadata": {},
   "outputs": [
    {
     "name": "stdout",
     "output_type": "stream",
     "text": [
      "p-значение:  0.08433047129627051\n",
      "Не получилось отвергнуть нулевую гипотезу\n"
     ]
    }
   ],
   "source": [
    "alpha = .05\n",
    "results = st.ttest_ind(hypo.query(\"platform=='X360'\")['user_score'], hypo.query(\"platform=='PC'\")['user_score'], equal_var = True)\n",
    "print('p-значение: ', results.pvalue)\n",
    "if (results.pvalue < alpha):\n",
    "    print(\"Отвергаем нулевую гипотезу\")\n",
    "else:\n",
    "    print(\"Не получилось отвергнуть нулевую гипотезу\")"
   ]
  },
  {
   "cell_type": "markdown",
   "metadata": {},
   "source": [
    "Средние пользовательские рейтинги платформ X360 и PC одинаковые."
   ]
  },
  {
   "cell_type": "markdown",
   "metadata": {},
   "source": [
    "### Средние пользовательские рейтинги жанров Action и Sports"
   ]
  },
  {
   "cell_type": "markdown",
   "metadata": {},
   "source": [
    "H0 - средние пользовательские рейтинги жанров Action и Sports одинаковые\n",
    "\n",
    "H1 - средние пользовательские рейтинги жанров Action и Sports разные"
   ]
  },
  {
   "cell_type": "code",
   "execution_count": 46,
   "metadata": {},
   "outputs": [],
   "source": [
    "hypo=all_platf[all_platf['genre'].isin(['Action', 'Sports']) ]"
   ]
  },
  {
   "cell_type": "code",
   "execution_count": 47,
   "metadata": {},
   "outputs": [
    {
     "name": "stdout",
     "output_type": "stream",
     "text": [
      "12.168896201470025\n",
      "7.974383532871246\n"
     ]
    }
   ],
   "source": [
    "variance_estimate1 = np.var(hypo.loc[hypo['genre']=='Action', 'user_score'])\n",
    "print(variance_estimate1)\n",
    "\n",
    "variance_estimate2 = np.var(hypo.loc[hypo['genre']=='Sports', 'user_score'])\n",
    "print(variance_estimate2)"
   ]
  },
  {
   "cell_type": "markdown",
   "metadata": {},
   "source": [
    "Дисперсии отличаются более чем на 5 % - разница существенная, поэтому в тесте укажем параметр equal_var = False."
   ]
  },
  {
   "cell_type": "code",
   "execution_count": 48,
   "metadata": {},
   "outputs": [
    {
     "name": "stdout",
     "output_type": "stream",
     "text": [
      "p-значение:  0.0026768784889616578\n",
      "Отвергаем нулевую гипотезу\n"
     ]
    }
   ],
   "source": [
    "alpha = .05\n",
    "results = st.ttest_ind(hypo.query(\"genre=='Action'\")['user_score'], hypo.query(\"genre=='Sports'\")['user_score'], equal_var = False)\n",
    "print('p-значение: ', results.pvalue)\n",
    "if (results.pvalue < alpha):\n",
    "    print(\"Отвергаем нулевую гипотезу\")\n",
    "else:\n",
    "    print(\"Не получилось отвергнуть нулевую гипотезу\")"
   ]
  },
  {
   "cell_type": "markdown",
   "metadata": {},
   "source": [
    "\n",
    "Средние пользовательские рейтинги жанров Action и Sports разные, так как значение статистической значимости меньше критического уровня статистической значимости."
   ]
  },
  {
   "cell_type": "markdown",
   "metadata": {},
   "source": [
    "## Общий вывод"
   ]
  },
  {
   "cell_type": "markdown",
   "metadata": {},
   "source": [
    "При планировании продаж на 2017 год стоит принять во внимание следующие аспекты:\n",
    "\n",
    "- сумма продаж за последние 5 лет колеблется незначительно - 400-600 млн копий;\n",
    "- По большинству платформ выпуск сокращается. Платформы с наибольшим объемом выпуска на 2016 г - это PS4 (2013 год запуска), XOne(2013 год запуска) и PSV. Платформы новые и учитывая их тенденцию к росту и жизненный цикл продукта, именно они будут наиболее перспективными.\n",
    "- увеличение выпускаемых игр наблюдается по платформе - PS4;\n",
    "- максимальное медианное значение по продажам у платформ - Wii, WiiU и XOne, а максимальный разброс покупаемости игр отмечается у платформы WiiU;\n",
    "- оценки как критиков, так и пользователей игр не имеют сильного влияния на объемы продаж, тут вероятнее всего выходит на первый план маркетинговая раскрутка игр;\n",
    "- максимальные медианное значение и разброс покупаемости игр отмечается у жанра Shooter.\n",
    "\n",
    "В отношении каждого региона можно отметить следующее:\n",
    "- Самые популярные игровые платформы в Америке - это XOne, PS4, Х360, PS3, WiiU\n",
    "Топ 5 жанров в северной америке за все время: action, sports, shooter,role-playing, misc\n",
    "По рейтингам видно, что больше всего продаж за все время у игр с рейтингом \"для взрослых\", на втором месте игры с рейтингом \"от 10 и выше\" и на третьем месте игры без указания рейтинга\n",
    " \n",
    "- Самые популярные игровые платформы в Европе - это PS4, XOne, PC, PS3, Х360\n",
    "Топ 5 жанров в северной америке за все время: action, shooter, sports, role-playing,racing\n",
    "По рейтингам видно, что больше всего продаж за все время у игр с рейтингом \"для взрослых\", на втором месте игры без рейтинга и на третьем месте игры с рейтингом для детей от 10 лет.\n",
    "\n",
    "- Самые популярные игровые платформы в Японии - это 3DS, PSV, PS3, PS4, WiiU\n",
    "Топ 5 жанров в северной америке за все время: action, role-olaying,  misc, adventure, fighting\n",
    "По рейтингам видно, что больше всего продаж у игр без указания рейтинга, на втором с рейтингом для подростков \"от 13 и выше\" и на третьем месте игры с рейтингом для взрослых \"от 17 и выше\".\n",
    "\n",
    "\n",
    "Проверили гипотезы и опровергли предположения о том, что:\n",
    "\n",
    "Средние пользовательские рейтинги платформ X360 и PSP разные; средние пользовательские рейтинги жанров Action и Sports одинаковые.\n",
    "\n"
   ]
  }
 ],
 "metadata": {
  "ExecuteTimeLog": [
   {
    "duration": 1156,
    "start_time": "2021-08-26T15:28:01.458Z"
   },
   {
    "duration": 36,
    "start_time": "2021-08-26T15:28:42.787Z"
   },
   {
    "duration": 47,
    "start_time": "2021-08-26T15:29:02.613Z"
   },
   {
    "duration": 10,
    "start_time": "2021-08-26T15:29:15.935Z"
   },
   {
    "duration": 9,
    "start_time": "2021-08-26T15:29:43.098Z"
   },
   {
    "duration": 43,
    "start_time": "2021-08-26T15:29:55.090Z"
   },
   {
    "duration": 3,
    "start_time": "2021-08-26T15:34:39.678Z"
   },
   {
    "duration": 6,
    "start_time": "2021-08-26T16:06:01.775Z"
   },
   {
    "duration": 328,
    "start_time": "2021-08-26T16:06:31.914Z"
   },
   {
    "duration": 256,
    "start_time": "2021-08-26T16:07:02.795Z"
   },
   {
    "duration": 968,
    "start_time": "2021-08-26T16:07:48.087Z"
   },
   {
    "duration": -226,
    "start_time": "2021-08-26T16:07:49.283Z"
   },
   {
    "duration": -225,
    "start_time": "2021-08-26T16:07:49.284Z"
   },
   {
    "duration": -255,
    "start_time": "2021-08-26T16:07:49.315Z"
   },
   {
    "duration": -255,
    "start_time": "2021-08-26T16:07:49.317Z"
   },
   {
    "duration": -255,
    "start_time": "2021-08-26T16:07:49.318Z"
   },
   {
    "duration": -255,
    "start_time": "2021-08-26T16:07:49.319Z"
   },
   {
    "duration": 242,
    "start_time": "2021-08-26T16:08:28.141Z"
   },
   {
    "duration": 331,
    "start_time": "2021-08-26T16:08:31.889Z"
   },
   {
    "duration": 505,
    "start_time": "2021-08-26T16:17:03.595Z"
   },
   {
    "duration": 1183,
    "start_time": "2021-08-26T16:17:10.860Z"
   },
   {
    "duration": 48,
    "start_time": "2021-08-26T16:17:12.046Z"
   },
   {
    "duration": 9,
    "start_time": "2021-08-26T16:17:12.095Z"
   },
   {
    "duration": 10,
    "start_time": "2021-08-26T16:17:12.106Z"
   },
   {
    "duration": 26,
    "start_time": "2021-08-26T16:17:12.118Z"
   },
   {
    "duration": 2,
    "start_time": "2021-08-26T16:17:12.145Z"
   },
   {
    "duration": 321,
    "start_time": "2021-08-26T16:17:12.149Z"
   },
   {
    "duration": 12,
    "start_time": "2021-08-26T16:28:34.993Z"
   },
   {
    "duration": 7,
    "start_time": "2021-08-26T16:29:21.997Z"
   },
   {
    "duration": 10,
    "start_time": "2021-08-26T16:31:00.217Z"
   },
   {
    "duration": 11,
    "start_time": "2021-08-26T17:20:25.004Z"
   },
   {
    "duration": 8,
    "start_time": "2021-08-26T17:20:43.816Z"
   },
   {
    "duration": 262,
    "start_time": "2021-08-26T17:21:01.809Z"
   },
   {
    "duration": 8,
    "start_time": "2021-08-26T17:24:36.771Z"
   },
   {
    "duration": 11,
    "start_time": "2021-08-26T17:24:57.604Z"
   },
   {
    "duration": 4,
    "start_time": "2021-08-26T17:25:12.564Z"
   },
   {
    "duration": 3,
    "start_time": "2021-08-26T17:27:45.044Z"
   },
   {
    "duration": 25,
    "start_time": "2021-08-26T17:27:55.883Z"
   },
   {
    "duration": 4,
    "start_time": "2021-08-26T17:28:17.871Z"
   },
   {
    "duration": 31,
    "start_time": "2021-08-26T17:28:58.815Z"
   },
   {
    "duration": 1114,
    "start_time": "2021-08-26T18:42:38.271Z"
   },
   {
    "duration": 49,
    "start_time": "2021-08-26T18:42:39.387Z"
   },
   {
    "duration": 10,
    "start_time": "2021-08-26T18:42:39.438Z"
   },
   {
    "duration": 9,
    "start_time": "2021-08-26T18:42:39.450Z"
   },
   {
    "duration": 35,
    "start_time": "2021-08-26T18:42:39.461Z"
   },
   {
    "duration": 13,
    "start_time": "2021-08-26T18:42:39.498Z"
   },
   {
    "duration": 11,
    "start_time": "2021-08-26T18:42:39.513Z"
   },
   {
    "duration": 10,
    "start_time": "2021-08-26T18:42:39.526Z"
   },
   {
    "duration": 13,
    "start_time": "2021-08-26T18:42:39.537Z"
   },
   {
    "duration": 7,
    "start_time": "2021-08-26T18:42:39.552Z"
   },
   {
    "duration": 33,
    "start_time": "2021-08-26T18:42:39.560Z"
   },
   {
    "duration": 22,
    "start_time": "2021-08-26T18:42:39.594Z"
   },
   {
    "duration": 12,
    "start_time": "2021-08-26T18:42:39.617Z"
   },
   {
    "duration": 31,
    "start_time": "2021-08-26T18:42:39.631Z"
   },
   {
    "duration": 3,
    "start_time": "2021-08-26T18:42:39.663Z"
   },
   {
    "duration": 52,
    "start_time": "2021-08-26T18:42:39.668Z"
   },
   {
    "duration": 335,
    "start_time": "2021-08-26T18:46:10.623Z"
   },
   {
    "duration": 6,
    "start_time": "2021-08-26T18:46:39.534Z"
   },
   {
    "duration": 356,
    "start_time": "2021-08-26T18:47:29.223Z"
   },
   {
    "duration": 239,
    "start_time": "2021-08-26T18:48:26.851Z"
   },
   {
    "duration": 7,
    "start_time": "2021-08-26T19:05:28.262Z"
   },
   {
    "duration": 233,
    "start_time": "2021-08-26T19:05:48.371Z"
   },
   {
    "duration": 4,
    "start_time": "2021-08-26T19:06:01.139Z"
   },
   {
    "duration": 12,
    "start_time": "2021-08-26T19:06:21.758Z"
   },
   {
    "duration": 2685,
    "start_time": "2021-08-26T19:06:30.579Z"
   },
   {
    "duration": 260,
    "start_time": "2021-08-26T19:08:41.342Z"
   },
   {
    "duration": 7,
    "start_time": "2021-08-26T19:09:36.626Z"
   },
   {
    "duration": 281,
    "start_time": "2021-08-26T19:09:38.038Z"
   },
   {
    "duration": 276,
    "start_time": "2021-08-26T19:09:39.582Z"
   },
   {
    "duration": 276,
    "start_time": "2021-08-26T19:10:09.706Z"
   },
   {
    "duration": 1465,
    "start_time": "2021-08-27T04:40:36.454Z"
   },
   {
    "duration": 3,
    "start_time": "2021-08-27T04:40:37.922Z"
   },
   {
    "duration": 75,
    "start_time": "2021-08-27T04:40:37.932Z"
   },
   {
    "duration": 14,
    "start_time": "2021-08-27T04:40:38.010Z"
   },
   {
    "duration": 33,
    "start_time": "2021-08-27T04:40:38.026Z"
   },
   {
    "duration": 42,
    "start_time": "2021-08-27T04:40:38.062Z"
   },
   {
    "duration": 48,
    "start_time": "2021-08-27T04:40:38.108Z"
   },
   {
    "duration": 14,
    "start_time": "2021-08-27T04:40:38.159Z"
   },
   {
    "duration": 17,
    "start_time": "2021-08-27T04:40:38.176Z"
   },
   {
    "duration": 14,
    "start_time": "2021-08-27T04:40:38.195Z"
   },
   {
    "duration": 49,
    "start_time": "2021-08-27T04:40:38.211Z"
   },
   {
    "duration": 6,
    "start_time": "2021-08-27T04:40:38.263Z"
   },
   {
    "duration": 23,
    "start_time": "2021-08-27T04:40:38.272Z"
   },
   {
    "duration": 7,
    "start_time": "2021-08-27T04:40:38.298Z"
   },
   {
    "duration": 76,
    "start_time": "2021-08-27T04:40:38.307Z"
   },
   {
    "duration": 5,
    "start_time": "2021-08-27T04:40:38.385Z"
   },
   {
    "duration": 67,
    "start_time": "2021-08-27T04:40:38.392Z"
   },
   {
    "duration": 9,
    "start_time": "2021-08-27T04:40:38.461Z"
   },
   {
    "duration": 675,
    "start_time": "2021-08-27T04:40:38.472Z"
   },
   {
    "duration": 456,
    "start_time": "2021-08-27T04:40:39.154Z"
   },
   {
    "duration": 8,
    "start_time": "2021-08-27T04:40:39.613Z"
   },
   {
    "duration": 442,
    "start_time": "2021-08-27T04:40:39.626Z"
   },
   {
    "duration": 5,
    "start_time": "2021-08-27T04:40:40.071Z"
   },
   {
    "duration": 23,
    "start_time": "2021-08-27T04:40:40.078Z"
   },
   {
    "duration": 4686,
    "start_time": "2021-08-27T04:40:40.103Z"
   },
   {
    "duration": 9,
    "start_time": "2021-08-27T04:40:44.791Z"
   },
   {
    "duration": 639,
    "start_time": "2021-08-27T04:40:44.802Z"
   },
   {
    "duration": 514,
    "start_time": "2021-08-27T04:40:45.454Z"
   },
   {
    "duration": 512,
    "start_time": "2021-08-27T04:40:45.970Z"
   },
   {
    "duration": 5,
    "start_time": "2021-08-27T05:36:23.880Z"
   },
   {
    "duration": 403,
    "start_time": "2021-08-27T05:36:33.996Z"
   },
   {
    "duration": 397,
    "start_time": "2021-08-27T05:37:07.547Z"
   },
   {
    "duration": 1463,
    "start_time": "2021-08-27T05:40:20.852Z"
   },
   {
    "duration": 5,
    "start_time": "2021-08-27T05:40:22.318Z"
   },
   {
    "duration": 77,
    "start_time": "2021-08-27T05:40:22.327Z"
   },
   {
    "duration": 13,
    "start_time": "2021-08-27T05:40:22.407Z"
   },
   {
    "duration": 12,
    "start_time": "2021-08-27T05:40:22.424Z"
   },
   {
    "duration": 46,
    "start_time": "2021-08-27T05:40:22.456Z"
   },
   {
    "duration": 51,
    "start_time": "2021-08-27T05:40:22.505Z"
   },
   {
    "duration": 10,
    "start_time": "2021-08-27T05:40:22.559Z"
   },
   {
    "duration": 22,
    "start_time": "2021-08-27T05:40:22.572Z"
   },
   {
    "duration": 27,
    "start_time": "2021-08-27T05:40:22.596Z"
   },
   {
    "duration": 33,
    "start_time": "2021-08-27T05:40:22.625Z"
   },
   {
    "duration": 5,
    "start_time": "2021-08-27T05:40:22.661Z"
   },
   {
    "duration": 9,
    "start_time": "2021-08-27T05:40:22.668Z"
   },
   {
    "duration": 21,
    "start_time": "2021-08-27T05:40:22.679Z"
   },
   {
    "duration": 8,
    "start_time": "2021-08-27T05:40:22.703Z"
   },
   {
    "duration": 100,
    "start_time": "2021-08-27T05:40:22.714Z"
   },
   {
    "duration": 8,
    "start_time": "2021-08-27T05:40:22.817Z"
   },
   {
    "duration": 105,
    "start_time": "2021-08-27T05:40:22.828Z"
   },
   {
    "duration": 17,
    "start_time": "2021-08-27T05:40:22.936Z"
   },
   {
    "duration": 767,
    "start_time": "2021-08-27T05:40:22.956Z"
   },
   {
    "duration": 452,
    "start_time": "2021-08-27T05:40:23.725Z"
   },
   {
    "duration": 9,
    "start_time": "2021-08-27T05:40:24.180Z"
   },
   {
    "duration": 449,
    "start_time": "2021-08-27T05:40:24.194Z"
   },
   {
    "duration": 11,
    "start_time": "2021-08-27T05:40:24.645Z"
   },
   {
    "duration": 19,
    "start_time": "2021-08-27T05:40:24.658Z"
   },
   {
    "duration": 4601,
    "start_time": "2021-08-27T05:40:24.679Z"
   },
   {
    "duration": 10,
    "start_time": "2021-08-27T05:40:29.282Z"
   },
   {
    "duration": 602,
    "start_time": "2021-08-27T05:40:29.295Z"
   },
   {
    "duration": 509,
    "start_time": "2021-08-27T05:40:29.900Z"
   },
   {
    "duration": 490,
    "start_time": "2021-08-27T05:40:30.411Z"
   },
   {
    "duration": 5,
    "start_time": "2021-08-27T05:40:30.904Z"
   },
   {
    "duration": 433,
    "start_time": "2021-08-27T05:40:30.911Z"
   },
   {
    "duration": 415,
    "start_time": "2021-08-27T05:40:31.347Z"
   },
   {
    "duration": 6,
    "start_time": "2021-08-27T05:41:03.758Z"
   },
   {
    "duration": 1488,
    "start_time": "2021-08-27T05:41:09.226Z"
   },
   {
    "duration": 4,
    "start_time": "2021-08-27T05:41:10.716Z"
   },
   {
    "duration": 76,
    "start_time": "2021-08-27T05:41:10.723Z"
   },
   {
    "duration": 14,
    "start_time": "2021-08-27T05:41:10.802Z"
   },
   {
    "duration": 12,
    "start_time": "2021-08-27T05:41:10.818Z"
   },
   {
    "duration": 42,
    "start_time": "2021-08-27T05:41:10.855Z"
   },
   {
    "duration": 18,
    "start_time": "2021-08-27T05:41:10.899Z"
   },
   {
    "duration": 38,
    "start_time": "2021-08-27T05:41:10.919Z"
   },
   {
    "duration": 19,
    "start_time": "2021-08-27T05:41:10.961Z"
   },
   {
    "duration": 13,
    "start_time": "2021-08-27T05:41:10.983Z"
   },
   {
    "duration": 12,
    "start_time": "2021-08-27T05:41:10.999Z"
   },
   {
    "duration": 41,
    "start_time": "2021-08-27T05:41:11.013Z"
   },
   {
    "duration": 8,
    "start_time": "2021-08-27T05:41:11.058Z"
   },
   {
    "duration": 24,
    "start_time": "2021-08-27T05:41:11.068Z"
   },
   {
    "duration": 7,
    "start_time": "2021-08-27T05:41:11.094Z"
   },
   {
    "duration": 73,
    "start_time": "2021-08-27T05:41:11.103Z"
   },
   {
    "duration": 4,
    "start_time": "2021-08-27T05:41:11.179Z"
   },
   {
    "duration": 73,
    "start_time": "2021-08-27T05:41:11.185Z"
   },
   {
    "duration": 9,
    "start_time": "2021-08-27T05:41:11.260Z"
   },
   {
    "duration": 679,
    "start_time": "2021-08-27T05:41:11.271Z"
   },
   {
    "duration": 448,
    "start_time": "2021-08-27T05:41:11.955Z"
   },
   {
    "duration": 9,
    "start_time": "2021-08-27T05:41:12.406Z"
   },
   {
    "duration": 429,
    "start_time": "2021-08-27T05:41:12.417Z"
   },
   {
    "duration": 7,
    "start_time": "2021-08-27T05:41:12.853Z"
   },
   {
    "duration": 19,
    "start_time": "2021-08-27T05:41:12.862Z"
   },
   {
    "duration": 4900,
    "start_time": "2021-08-27T05:41:12.884Z"
   },
   {
    "duration": 9,
    "start_time": "2021-08-27T05:41:17.789Z"
   },
   {
    "duration": 529,
    "start_time": "2021-08-27T05:41:17.801Z"
   },
   {
    "duration": 501,
    "start_time": "2021-08-27T05:41:18.332Z"
   },
   {
    "duration": 485,
    "start_time": "2021-08-27T05:41:18.835Z"
   },
   {
    "duration": 5,
    "start_time": "2021-08-27T05:41:19.323Z"
   },
   {
    "duration": 424,
    "start_time": "2021-08-27T05:41:19.330Z"
   },
   {
    "duration": 410,
    "start_time": "2021-08-27T05:41:19.757Z"
   },
   {
    "duration": 437,
    "start_time": "2021-08-27T06:05:49.059Z"
   },
   {
    "duration": 432,
    "start_time": "2021-08-27T06:06:05.767Z"
   },
   {
    "duration": 464,
    "start_time": "2021-08-27T06:07:12.743Z"
   },
   {
    "duration": 853,
    "start_time": "2021-08-27T06:07:21.971Z"
   },
   {
    "duration": 65,
    "start_time": "2021-08-27T06:10:20.182Z"
   },
   {
    "duration": 672,
    "start_time": "2021-08-27T06:10:32.298Z"
   },
   {
    "duration": 600,
    "start_time": "2021-08-27T06:11:01.131Z"
   },
   {
    "duration": 65,
    "start_time": "2021-08-27T06:11:12.818Z"
   },
   {
    "duration": 694,
    "start_time": "2021-08-27T06:11:29.903Z"
   },
   {
    "duration": 620,
    "start_time": "2021-08-27T06:11:41.390Z"
   },
   {
    "duration": 11,
    "start_time": "2021-08-27T06:41:25.516Z"
   },
   {
    "duration": 15,
    "start_time": "2021-08-27T06:41:46.815Z"
   },
   {
    "duration": 8,
    "start_time": "2021-08-27T06:43:00.059Z"
   },
   {
    "duration": 11,
    "start_time": "2021-08-27T06:43:15.615Z"
   },
   {
    "duration": 14,
    "start_time": "2021-08-27T06:43:25.528Z"
   },
   {
    "duration": 1525,
    "start_time": "2021-08-27T07:05:38.994Z"
   },
   {
    "duration": 3,
    "start_time": "2021-08-27T07:05:40.522Z"
   },
   {
    "duration": 91,
    "start_time": "2021-08-27T07:05:40.532Z"
   },
   {
    "duration": 14,
    "start_time": "2021-08-27T07:05:40.626Z"
   },
   {
    "duration": 34,
    "start_time": "2021-08-27T07:05:40.643Z"
   },
   {
    "duration": 58,
    "start_time": "2021-08-27T07:05:40.680Z"
   },
   {
    "duration": 20,
    "start_time": "2021-08-27T07:05:40.741Z"
   },
   {
    "duration": 23,
    "start_time": "2021-08-27T07:05:40.767Z"
   },
   {
    "duration": 25,
    "start_time": "2021-08-27T07:05:40.795Z"
   },
   {
    "duration": 34,
    "start_time": "2021-08-27T07:05:40.823Z"
   },
   {
    "duration": 15,
    "start_time": "2021-08-27T07:05:40.860Z"
   },
   {
    "duration": 27,
    "start_time": "2021-08-27T07:05:40.877Z"
   },
   {
    "duration": 23,
    "start_time": "2021-08-27T07:05:40.907Z"
   },
   {
    "duration": 36,
    "start_time": "2021-08-27T07:05:40.932Z"
   },
   {
    "duration": 26,
    "start_time": "2021-08-27T07:05:40.971Z"
   },
   {
    "duration": 57,
    "start_time": "2021-08-27T07:05:40.999Z"
   },
   {
    "duration": 5,
    "start_time": "2021-08-27T07:05:41.058Z"
   },
   {
    "duration": 67,
    "start_time": "2021-08-27T07:05:41.066Z"
   },
   {
    "duration": 22,
    "start_time": "2021-08-27T07:05:41.136Z"
   },
   {
    "duration": 697,
    "start_time": "2021-08-27T07:05:41.160Z"
   },
   {
    "duration": 447,
    "start_time": "2021-08-27T07:05:41.859Z"
   },
   {
    "duration": 9,
    "start_time": "2021-08-27T07:05:42.308Z"
   },
   {
    "duration": 440,
    "start_time": "2021-08-27T07:05:42.320Z"
   },
   {
    "duration": 6,
    "start_time": "2021-08-27T07:05:42.763Z"
   },
   {
    "duration": 20,
    "start_time": "2021-08-27T07:05:42.771Z"
   },
   {
    "duration": 4718,
    "start_time": "2021-08-27T07:05:42.797Z"
   },
   {
    "duration": 9,
    "start_time": "2021-08-27T07:05:47.518Z"
   },
   {
    "duration": 543,
    "start_time": "2021-08-27T07:05:47.530Z"
   },
   {
    "duration": 505,
    "start_time": "2021-08-27T07:05:48.076Z"
   },
   {
    "duration": 498,
    "start_time": "2021-08-27T07:05:48.583Z"
   },
   {
    "duration": 5,
    "start_time": "2021-08-27T07:05:49.083Z"
   },
   {
    "duration": 402,
    "start_time": "2021-08-27T07:05:49.090Z"
   },
   {
    "duration": 410,
    "start_time": "2021-08-27T07:05:49.494Z"
   },
   {
    "duration": 478,
    "start_time": "2021-08-27T07:05:49.906Z"
   },
   {
    "duration": 468,
    "start_time": "2021-08-27T07:05:50.387Z"
   },
   {
    "duration": 486,
    "start_time": "2021-08-27T07:05:50.857Z"
   },
   {
    "duration": 905,
    "start_time": "2021-08-27T07:05:51.345Z"
   },
   {
    "duration": 627,
    "start_time": "2021-08-27T07:05:52.255Z"
   },
   {
    "duration": 73,
    "start_time": "2021-08-27T07:05:52.885Z"
   },
   {
    "duration": 794,
    "start_time": "2021-08-27T07:05:52.960Z"
   },
   {
    "duration": 698,
    "start_time": "2021-08-27T07:05:53.757Z"
   },
   {
    "duration": 14,
    "start_time": "2021-08-27T07:05:54.458Z"
   },
   {
    "duration": 19,
    "start_time": "2021-08-27T07:05:54.475Z"
   },
   {
    "duration": 19,
    "start_time": "2021-08-27T07:05:54.497Z"
   },
   {
    "duration": 39,
    "start_time": "2021-08-27T07:05:54.519Z"
   },
   {
    "duration": 19,
    "start_time": "2021-08-27T07:05:54.561Z"
   },
   {
    "duration": 21,
    "start_time": "2021-08-27T07:05:54.583Z"
   },
   {
    "duration": 1500,
    "start_time": "2021-08-27T07:39:16.131Z"
   },
   {
    "duration": 3,
    "start_time": "2021-08-27T07:39:17.634Z"
   },
   {
    "duration": 80,
    "start_time": "2021-08-27T07:39:17.640Z"
   },
   {
    "duration": 14,
    "start_time": "2021-08-27T07:39:17.722Z"
   },
   {
    "duration": 32,
    "start_time": "2021-08-27T07:39:17.738Z"
   },
   {
    "duration": 50,
    "start_time": "2021-08-27T07:39:17.774Z"
   },
   {
    "duration": 46,
    "start_time": "2021-08-27T07:39:17.827Z"
   },
   {
    "duration": 12,
    "start_time": "2021-08-27T07:39:17.875Z"
   },
   {
    "duration": 18,
    "start_time": "2021-08-27T07:39:17.890Z"
   },
   {
    "duration": 47,
    "start_time": "2021-08-27T07:39:17.912Z"
   },
   {
    "duration": 17,
    "start_time": "2021-08-27T07:39:17.964Z"
   },
   {
    "duration": 6,
    "start_time": "2021-08-27T07:39:17.984Z"
   },
   {
    "duration": 6,
    "start_time": "2021-08-27T07:39:17.992Z"
   },
   {
    "duration": 22,
    "start_time": "2021-08-27T07:39:18.000Z"
   },
   {
    "duration": 7,
    "start_time": "2021-08-27T07:39:18.054Z"
   },
   {
    "duration": 51,
    "start_time": "2021-08-27T07:39:18.063Z"
   },
   {
    "duration": 5,
    "start_time": "2021-08-27T07:39:18.116Z"
   },
   {
    "duration": 57,
    "start_time": "2021-08-27T07:39:18.155Z"
   },
   {
    "duration": 8,
    "start_time": "2021-08-27T07:39:18.215Z"
   },
   {
    "duration": 728,
    "start_time": "2021-08-27T07:39:18.226Z"
   },
   {
    "duration": 471,
    "start_time": "2021-08-27T07:39:18.957Z"
   },
   {
    "duration": 23,
    "start_time": "2021-08-27T07:39:19.431Z"
   },
   {
    "duration": 586,
    "start_time": "2021-08-27T07:39:19.457Z"
   },
   {
    "duration": 11,
    "start_time": "2021-08-27T07:39:20.046Z"
   },
   {
    "duration": 33,
    "start_time": "2021-08-27T07:39:20.062Z"
   },
   {
    "duration": 4933,
    "start_time": "2021-08-27T07:39:20.098Z"
   },
   {
    "duration": 26,
    "start_time": "2021-08-27T07:39:25.033Z"
   },
   {
    "duration": 547,
    "start_time": "2021-08-27T07:39:25.062Z"
   },
   {
    "duration": 547,
    "start_time": "2021-08-27T07:39:25.613Z"
   },
   {
    "duration": 715,
    "start_time": "2021-08-27T07:39:26.163Z"
   },
   {
    "duration": 5,
    "start_time": "2021-08-27T07:39:26.881Z"
   },
   {
    "duration": 413,
    "start_time": "2021-08-27T07:39:26.888Z"
   },
   {
    "duration": 455,
    "start_time": "2021-08-27T07:39:27.304Z"
   },
   {
    "duration": 460,
    "start_time": "2021-08-27T07:39:27.762Z"
   },
   {
    "duration": 488,
    "start_time": "2021-08-27T07:39:28.225Z"
   },
   {
    "duration": 503,
    "start_time": "2021-08-27T07:39:28.716Z"
   },
   {
    "duration": 1016,
    "start_time": "2021-08-27T07:39:29.222Z"
   },
   {
    "duration": 645,
    "start_time": "2021-08-27T07:39:30.242Z"
   },
   {
    "duration": 85,
    "start_time": "2021-08-27T07:39:30.890Z"
   },
   {
    "duration": 754,
    "start_time": "2021-08-27T07:39:30.978Z"
   },
   {
    "duration": 664,
    "start_time": "2021-08-27T07:39:31.736Z"
   },
   {
    "duration": 12,
    "start_time": "2021-08-27T07:39:32.403Z"
   },
   {
    "duration": 11,
    "start_time": "2021-08-27T07:39:32.418Z"
   },
   {
    "duration": 20,
    "start_time": "2021-08-27T07:39:32.455Z"
   },
   {
    "duration": 10,
    "start_time": "2021-08-27T07:39:32.478Z"
   },
   {
    "duration": 17,
    "start_time": "2021-08-27T07:39:32.491Z"
   },
   {
    "duration": 58,
    "start_time": "2021-08-27T07:39:32.511Z"
   },
   {
    "duration": 1443,
    "start_time": "2021-08-27T07:42:26.181Z"
   },
   {
    "duration": 4,
    "start_time": "2021-08-27T07:42:27.627Z"
   },
   {
    "duration": 84,
    "start_time": "2021-08-27T07:42:27.634Z"
   },
   {
    "duration": 14,
    "start_time": "2021-08-27T07:42:27.721Z"
   },
   {
    "duration": 17,
    "start_time": "2021-08-27T07:42:27.754Z"
   },
   {
    "duration": 46,
    "start_time": "2021-08-27T07:42:27.774Z"
   },
   {
    "duration": 49,
    "start_time": "2021-08-27T07:42:27.823Z"
   },
   {
    "duration": 10,
    "start_time": "2021-08-27T07:42:27.876Z"
   },
   {
    "duration": 17,
    "start_time": "2021-08-27T07:42:27.889Z"
   },
   {
    "duration": 59,
    "start_time": "2021-08-27T07:42:27.909Z"
   },
   {
    "duration": 15,
    "start_time": "2021-08-27T07:42:27.971Z"
   },
   {
    "duration": 9,
    "start_time": "2021-08-27T07:42:27.989Z"
   },
   {
    "duration": 9,
    "start_time": "2021-08-27T07:42:28.001Z"
   },
   {
    "duration": 50,
    "start_time": "2021-08-27T07:42:28.013Z"
   },
   {
    "duration": 6,
    "start_time": "2021-08-27T07:42:28.067Z"
   },
   {
    "duration": 49,
    "start_time": "2021-08-27T07:42:28.076Z"
   },
   {
    "duration": 32,
    "start_time": "2021-08-27T07:42:28.128Z"
   },
   {
    "duration": 56,
    "start_time": "2021-08-27T07:42:28.163Z"
   },
   {
    "duration": 9,
    "start_time": "2021-08-27T07:42:28.221Z"
   },
   {
    "duration": 720,
    "start_time": "2021-08-27T07:42:28.254Z"
   },
   {
    "duration": 477,
    "start_time": "2021-08-27T07:42:28.977Z"
   },
   {
    "duration": 12,
    "start_time": "2021-08-27T07:42:29.456Z"
   },
   {
    "duration": 459,
    "start_time": "2021-08-27T07:42:29.474Z"
   },
   {
    "duration": 6,
    "start_time": "2021-08-27T07:42:29.935Z"
   },
   {
    "duration": 18,
    "start_time": "2021-08-27T07:42:29.960Z"
   },
   {
    "duration": 4924,
    "start_time": "2021-08-27T07:42:29.980Z"
   },
   {
    "duration": 9,
    "start_time": "2021-08-27T07:42:34.907Z"
   },
   {
    "duration": 556,
    "start_time": "2021-08-27T07:42:34.918Z"
   },
   {
    "duration": 531,
    "start_time": "2021-08-27T07:42:35.477Z"
   },
   {
    "duration": 515,
    "start_time": "2021-08-27T07:42:36.010Z"
   },
   {
    "duration": 5,
    "start_time": "2021-08-27T07:42:36.528Z"
   },
   {
    "duration": 439,
    "start_time": "2021-08-27T07:42:36.535Z"
   },
   {
    "duration": 409,
    "start_time": "2021-08-27T07:42:36.977Z"
   },
   {
    "duration": 466,
    "start_time": "2021-08-27T07:42:37.388Z"
   },
   {
    "duration": 471,
    "start_time": "2021-08-27T07:42:37.858Z"
   },
   {
    "duration": 488,
    "start_time": "2021-08-27T07:42:38.331Z"
   },
   {
    "duration": 1004,
    "start_time": "2021-08-27T07:42:38.821Z"
   },
   {
    "duration": 642,
    "start_time": "2021-08-27T07:42:39.827Z"
   },
   {
    "duration": 61,
    "start_time": "2021-08-27T07:42:40.471Z"
   },
   {
    "duration": 723,
    "start_time": "2021-08-27T07:42:40.534Z"
   },
   {
    "duration": 652,
    "start_time": "2021-08-27T07:42:41.261Z"
   },
   {
    "duration": 11,
    "start_time": "2021-08-27T07:42:41.915Z"
   },
   {
    "duration": 33,
    "start_time": "2021-08-27T07:42:41.928Z"
   },
   {
    "duration": 13,
    "start_time": "2021-08-27T07:42:41.964Z"
   },
   {
    "duration": 18,
    "start_time": "2021-08-27T07:42:41.980Z"
   },
   {
    "duration": 29,
    "start_time": "2021-08-27T07:42:42.000Z"
   },
   {
    "duration": 32,
    "start_time": "2021-08-27T07:42:42.032Z"
   },
   {
    "duration": 1672,
    "start_time": "2021-08-27T08:35:49.674Z"
   },
   {
    "duration": 3,
    "start_time": "2021-08-27T08:35:51.349Z"
   },
   {
    "duration": 77,
    "start_time": "2021-08-27T08:35:51.367Z"
   },
   {
    "duration": 26,
    "start_time": "2021-08-27T08:35:51.447Z"
   },
   {
    "duration": 16,
    "start_time": "2021-08-27T08:35:51.476Z"
   },
   {
    "duration": 72,
    "start_time": "2021-08-27T08:35:51.495Z"
   },
   {
    "duration": 22,
    "start_time": "2021-08-27T08:35:51.570Z"
   },
   {
    "duration": 19,
    "start_time": "2021-08-27T08:35:51.596Z"
   },
   {
    "duration": 21,
    "start_time": "2021-08-27T08:35:51.617Z"
   },
   {
    "duration": 37,
    "start_time": "2021-08-27T08:35:51.641Z"
   },
   {
    "duration": 26,
    "start_time": "2021-08-27T08:35:51.681Z"
   },
   {
    "duration": 6,
    "start_time": "2021-08-27T08:35:51.711Z"
   },
   {
    "duration": 19,
    "start_time": "2021-08-27T08:35:51.720Z"
   },
   {
    "duration": 50,
    "start_time": "2021-08-27T08:35:51.742Z"
   },
   {
    "duration": 9,
    "start_time": "2021-08-27T08:35:51.795Z"
   },
   {
    "duration": 83,
    "start_time": "2021-08-27T08:35:51.807Z"
   },
   {
    "duration": 6,
    "start_time": "2021-08-27T08:35:51.893Z"
   },
   {
    "duration": 82,
    "start_time": "2021-08-27T08:35:51.902Z"
   },
   {
    "duration": 10,
    "start_time": "2021-08-27T08:35:51.987Z"
   },
   {
    "duration": 1917,
    "start_time": "2021-08-27T08:35:52.000Z"
   },
   {
    "duration": 662,
    "start_time": "2021-08-27T08:35:53.920Z"
   },
   {
    "duration": 10,
    "start_time": "2021-08-27T08:35:54.585Z"
   },
   {
    "duration": 527,
    "start_time": "2021-08-27T08:35:54.601Z"
   },
   {
    "duration": 5,
    "start_time": "2021-08-27T08:35:55.131Z"
   },
   {
    "duration": 39,
    "start_time": "2021-08-27T08:35:55.139Z"
   },
   {
    "duration": 4739,
    "start_time": "2021-08-27T08:35:55.181Z"
   },
   {
    "duration": 14,
    "start_time": "2021-08-27T08:35:59.923Z"
   },
   {
    "duration": 587,
    "start_time": "2021-08-27T08:35:59.940Z"
   },
   {
    "duration": 514,
    "start_time": "2021-08-27T08:36:00.530Z"
   },
   {
    "duration": 593,
    "start_time": "2021-08-27T08:36:01.046Z"
   },
   {
    "duration": 5,
    "start_time": "2021-08-27T08:36:01.642Z"
   },
   {
    "duration": 421,
    "start_time": "2021-08-27T08:36:01.650Z"
   },
   {
    "duration": 401,
    "start_time": "2021-08-27T08:36:02.073Z"
   },
   {
    "duration": 435,
    "start_time": "2021-08-27T08:36:02.476Z"
   },
   {
    "duration": 483,
    "start_time": "2021-08-27T08:36:02.913Z"
   },
   {
    "duration": 489,
    "start_time": "2021-08-27T08:36:03.398Z"
   },
   {
    "duration": 779,
    "start_time": "2021-08-27T08:36:03.890Z"
   },
   {
    "duration": 605,
    "start_time": "2021-08-27T08:36:04.671Z"
   },
   {
    "duration": 55,
    "start_time": "2021-08-27T08:36:05.278Z"
   },
   {
    "duration": 701,
    "start_time": "2021-08-27T08:36:05.335Z"
   },
   {
    "duration": 737,
    "start_time": "2021-08-27T08:36:06.038Z"
   },
   {
    "duration": 10,
    "start_time": "2021-08-27T08:36:06.778Z"
   },
   {
    "duration": 12,
    "start_time": "2021-08-27T08:36:06.790Z"
   },
   {
    "duration": 13,
    "start_time": "2021-08-27T08:36:06.804Z"
   },
   {
    "duration": 12,
    "start_time": "2021-08-27T08:36:06.819Z"
   },
   {
    "duration": 46,
    "start_time": "2021-08-27T08:36:06.833Z"
   },
   {
    "duration": 14,
    "start_time": "2021-08-27T08:36:06.882Z"
   },
   {
    "duration": 33,
    "start_time": "2021-08-27T11:01:48.799Z"
   },
   {
    "duration": 7,
    "start_time": "2021-08-27T11:02:00.089Z"
   },
   {
    "duration": 489,
    "start_time": "2021-09-01T19:15:10.336Z"
   },
   {
    "duration": 1603,
    "start_time": "2021-09-01T19:15:22.699Z"
   },
   {
    "duration": 4,
    "start_time": "2021-09-01T19:15:24.304Z"
   },
   {
    "duration": 77,
    "start_time": "2021-09-01T19:15:24.311Z"
   },
   {
    "duration": 26,
    "start_time": "2021-09-01T19:15:24.392Z"
   },
   {
    "duration": 15,
    "start_time": "2021-09-01T19:15:24.421Z"
   },
   {
    "duration": 47,
    "start_time": "2021-09-01T19:15:24.439Z"
   },
   {
    "duration": 23,
    "start_time": "2021-09-01T19:15:24.517Z"
   },
   {
    "duration": 13,
    "start_time": "2021-09-01T19:15:24.543Z"
   },
   {
    "duration": 56,
    "start_time": "2021-09-01T19:15:24.562Z"
   },
   {
    "duration": 14,
    "start_time": "2021-09-01T19:15:24.622Z"
   },
   {
    "duration": 12,
    "start_time": "2021-09-01T19:15:24.639Z"
   },
   {
    "duration": 5,
    "start_time": "2021-09-01T19:15:24.654Z"
   },
   {
    "duration": 14,
    "start_time": "2021-09-01T19:15:24.662Z"
   },
   {
    "duration": 57,
    "start_time": "2021-09-01T19:15:24.678Z"
   },
   {
    "duration": 7,
    "start_time": "2021-09-01T19:15:24.738Z"
   },
   {
    "duration": 85,
    "start_time": "2021-09-01T19:15:24.749Z"
   },
   {
    "duration": 6,
    "start_time": "2021-09-01T19:15:24.837Z"
   },
   {
    "duration": 73,
    "start_time": "2021-09-01T19:15:24.845Z"
   },
   {
    "duration": 9,
    "start_time": "2021-09-01T19:15:24.920Z"
   },
   {
    "duration": 766,
    "start_time": "2021-09-01T19:15:24.932Z"
   },
   {
    "duration": 457,
    "start_time": "2021-09-01T19:15:25.701Z"
   },
   {
    "duration": 9,
    "start_time": "2021-09-01T19:15:26.160Z"
   },
   {
    "duration": 447,
    "start_time": "2021-09-01T19:15:26.172Z"
   },
   {
    "duration": 5,
    "start_time": "2021-09-01T19:15:26.621Z"
   },
   {
    "duration": 18,
    "start_time": "2021-09-01T19:15:26.629Z"
   },
   {
    "duration": 4850,
    "start_time": "2021-09-01T19:15:26.649Z"
   },
   {
    "duration": 548,
    "start_time": "2021-09-01T19:15:31.504Z"
   },
   {
    "duration": -557,
    "start_time": "2021-09-01T19:15:32.612Z"
   },
   {
    "duration": -560,
    "start_time": "2021-09-01T19:15:32.616Z"
   },
   {
    "duration": -561,
    "start_time": "2021-09-01T19:15:32.619Z"
   },
   {
    "duration": -562,
    "start_time": "2021-09-01T19:15:32.621Z"
   },
   {
    "duration": -564,
    "start_time": "2021-09-01T19:15:32.624Z"
   },
   {
    "duration": -565,
    "start_time": "2021-09-01T19:15:32.627Z"
   },
   {
    "duration": -567,
    "start_time": "2021-09-01T19:15:32.630Z"
   },
   {
    "duration": -569,
    "start_time": "2021-09-01T19:15:32.633Z"
   },
   {
    "duration": -570,
    "start_time": "2021-09-01T19:15:32.635Z"
   },
   {
    "duration": -576,
    "start_time": "2021-09-01T19:15:32.643Z"
   },
   {
    "duration": -577,
    "start_time": "2021-09-01T19:15:32.645Z"
   },
   {
    "duration": -579,
    "start_time": "2021-09-01T19:15:32.648Z"
   },
   {
    "duration": -581,
    "start_time": "2021-09-01T19:15:32.651Z"
   },
   {
    "duration": -583,
    "start_time": "2021-09-01T19:15:32.654Z"
   },
   {
    "duration": -583,
    "start_time": "2021-09-01T19:15:32.656Z"
   },
   {
    "duration": -585,
    "start_time": "2021-09-01T19:15:32.659Z"
   },
   {
    "duration": -585,
    "start_time": "2021-09-01T19:15:32.661Z"
   },
   {
    "duration": -587,
    "start_time": "2021-09-01T19:15:32.664Z"
   },
   {
    "duration": -588,
    "start_time": "2021-09-01T19:15:32.666Z"
   },
   {
    "duration": -594,
    "start_time": "2021-09-01T19:15:32.674Z"
   },
   {
    "duration": 11,
    "start_time": "2021-09-01T19:19:52.301Z"
   },
   {
    "duration": 521,
    "start_time": "2021-09-01T19:19:54.313Z"
   },
   {
    "duration": 1492,
    "start_time": "2021-09-01T19:38:27.264Z"
   },
   {
    "duration": 5,
    "start_time": "2021-09-01T19:38:28.759Z"
   },
   {
    "duration": 83,
    "start_time": "2021-09-01T19:38:28.768Z"
   },
   {
    "duration": 17,
    "start_time": "2021-09-01T19:38:28.855Z"
   },
   {
    "duration": 42,
    "start_time": "2021-09-01T19:38:28.875Z"
   },
   {
    "duration": 45,
    "start_time": "2021-09-01T19:38:28.920Z"
   },
   {
    "duration": 19,
    "start_time": "2021-09-01T19:38:28.968Z"
   },
   {
    "duration": 10,
    "start_time": "2021-09-01T19:38:29.016Z"
   },
   {
    "duration": 19,
    "start_time": "2021-09-01T19:38:29.030Z"
   },
   {
    "duration": 17,
    "start_time": "2021-09-01T19:38:29.052Z"
   },
   {
    "duration": 18,
    "start_time": "2021-09-01T19:38:29.071Z"
   },
   {
    "duration": 6,
    "start_time": "2021-09-01T19:38:29.116Z"
   },
   {
    "duration": 27,
    "start_time": "2021-09-01T19:38:29.124Z"
   },
   {
    "duration": 40,
    "start_time": "2021-09-01T19:38:29.153Z"
   },
   {
    "duration": 18,
    "start_time": "2021-09-01T19:38:29.195Z"
   },
   {
    "duration": 57,
    "start_time": "2021-09-01T19:38:29.216Z"
   },
   {
    "duration": 6,
    "start_time": "2021-09-01T19:38:29.275Z"
   },
   {
    "duration": 71,
    "start_time": "2021-09-01T19:38:29.284Z"
   },
   {
    "duration": 9,
    "start_time": "2021-09-01T19:38:29.357Z"
   },
   {
    "duration": 852,
    "start_time": "2021-09-01T19:38:29.368Z"
   },
   {
    "duration": 465,
    "start_time": "2021-09-01T19:38:30.223Z"
   },
   {
    "duration": 28,
    "start_time": "2021-09-01T19:38:30.692Z"
   },
   {
    "duration": 450,
    "start_time": "2021-09-01T19:38:30.722Z"
   },
   {
    "duration": 7,
    "start_time": "2021-09-01T19:38:31.175Z"
   },
   {
    "duration": 43,
    "start_time": "2021-09-01T19:38:31.185Z"
   },
   {
    "duration": 4937,
    "start_time": "2021-09-01T19:38:31.231Z"
   },
   {
    "duration": 11,
    "start_time": "2021-09-01T19:38:36.176Z"
   },
   {
    "duration": 544,
    "start_time": "2021-09-01T19:38:36.190Z"
   },
   {
    "duration": 524,
    "start_time": "2021-09-01T19:38:36.736Z"
   },
   {
    "duration": 514,
    "start_time": "2021-09-01T19:38:37.262Z"
   },
   {
    "duration": 5,
    "start_time": "2021-09-01T19:38:37.778Z"
   },
   {
    "duration": 469,
    "start_time": "2021-09-01T19:38:37.785Z"
   },
   {
    "duration": 473,
    "start_time": "2021-09-01T19:38:38.257Z"
   },
   {
    "duration": 425,
    "start_time": "2021-09-01T19:38:38.733Z"
   },
   {
    "duration": 527,
    "start_time": "2021-09-01T19:38:39.161Z"
   },
   {
    "duration": 577,
    "start_time": "2021-09-01T19:38:39.692Z"
   },
   {
    "duration": 879,
    "start_time": "2021-09-01T19:38:40.271Z"
   },
   {
    "duration": 615,
    "start_time": "2021-09-01T19:38:41.153Z"
   },
   {
    "duration": 72,
    "start_time": "2021-09-01T19:38:41.771Z"
   },
   {
    "duration": 796,
    "start_time": "2021-09-01T19:38:41.845Z"
   },
   {
    "duration": 741,
    "start_time": "2021-09-01T19:38:42.645Z"
   },
   {
    "duration": 30,
    "start_time": "2021-09-01T19:38:43.389Z"
   },
   {
    "duration": 9,
    "start_time": "2021-09-01T19:38:43.421Z"
   },
   {
    "duration": 14,
    "start_time": "2021-09-01T19:38:43.432Z"
   },
   {
    "duration": 7,
    "start_time": "2021-09-01T19:38:43.448Z"
   },
   {
    "duration": 10,
    "start_time": "2021-09-01T19:38:43.457Z"
   },
   {
    "duration": 55,
    "start_time": "2021-09-01T19:38:43.470Z"
   },
   {
    "duration": 416,
    "start_time": "2021-09-01T19:39:09.235Z"
   },
   {
    "duration": 440,
    "start_time": "2021-09-01T19:39:27.863Z"
   },
   {
    "duration": 430,
    "start_time": "2021-09-01T19:39:44.016Z"
   },
   {
    "duration": 600,
    "start_time": "2021-09-01T19:47:21.121Z"
   },
   {
    "duration": 441,
    "start_time": "2021-09-01T19:48:01.958Z"
   },
   {
    "duration": 637,
    "start_time": "2021-09-01T19:52:11.633Z"
   },
   {
    "duration": 1540,
    "start_time": "2021-09-01T19:52:37.438Z"
   },
   {
    "duration": 4,
    "start_time": "2021-09-01T19:52:38.980Z"
   },
   {
    "duration": 78,
    "start_time": "2021-09-01T19:52:38.987Z"
   },
   {
    "duration": 14,
    "start_time": "2021-09-01T19:52:39.067Z"
   },
   {
    "duration": 13,
    "start_time": "2021-09-01T19:52:39.083Z"
   },
   {
    "duration": 45,
    "start_time": "2021-09-01T19:52:39.117Z"
   },
   {
    "duration": 19,
    "start_time": "2021-09-01T19:52:39.164Z"
   },
   {
    "duration": 36,
    "start_time": "2021-09-01T19:52:39.187Z"
   },
   {
    "duration": 26,
    "start_time": "2021-09-01T19:52:39.226Z"
   },
   {
    "duration": 14,
    "start_time": "2021-09-01T19:52:39.255Z"
   },
   {
    "duration": 12,
    "start_time": "2021-09-01T19:52:39.272Z"
   },
   {
    "duration": 31,
    "start_time": "2021-09-01T19:52:39.286Z"
   },
   {
    "duration": 9,
    "start_time": "2021-09-01T19:52:39.320Z"
   },
   {
    "duration": 22,
    "start_time": "2021-09-01T19:52:39.331Z"
   },
   {
    "duration": 7,
    "start_time": "2021-09-01T19:52:39.355Z"
   },
   {
    "duration": 82,
    "start_time": "2021-09-01T19:52:39.364Z"
   },
   {
    "duration": 5,
    "start_time": "2021-09-01T19:52:39.449Z"
   },
   {
    "duration": 68,
    "start_time": "2021-09-01T19:52:39.457Z"
   },
   {
    "duration": 9,
    "start_time": "2021-09-01T19:52:39.528Z"
   },
   {
    "duration": 710,
    "start_time": "2021-09-01T19:52:39.539Z"
   },
   {
    "duration": 465,
    "start_time": "2021-09-01T19:52:40.251Z"
   },
   {
    "duration": 12,
    "start_time": "2021-09-01T19:52:40.719Z"
   },
   {
    "duration": 455,
    "start_time": "2021-09-01T19:52:40.739Z"
   },
   {
    "duration": 6,
    "start_time": "2021-09-01T19:52:41.197Z"
   },
   {
    "duration": 16,
    "start_time": "2021-09-01T19:52:41.216Z"
   },
   {
    "duration": 4866,
    "start_time": "2021-09-01T19:52:41.234Z"
   },
   {
    "duration": 20,
    "start_time": "2021-09-01T19:52:46.103Z"
   },
   {
    "duration": 532,
    "start_time": "2021-09-01T19:52:46.125Z"
   },
   {
    "duration": 512,
    "start_time": "2021-09-01T19:52:46.659Z"
   },
   {
    "duration": 505,
    "start_time": "2021-09-01T19:52:47.174Z"
   },
   {
    "duration": 4,
    "start_time": "2021-09-01T19:52:47.682Z"
   },
   {
    "duration": 436,
    "start_time": "2021-09-01T19:52:47.689Z"
   },
   {
    "duration": 391,
    "start_time": "2021-09-01T19:52:48.128Z"
   },
   {
    "duration": 434,
    "start_time": "2021-09-01T19:52:48.522Z"
   },
   {
    "duration": 447,
    "start_time": "2021-09-01T19:52:48.959Z"
   },
   {
    "duration": 468,
    "start_time": "2021-09-01T19:52:49.417Z"
   },
   {
    "duration": 858,
    "start_time": "2021-09-01T19:52:49.888Z"
   },
   {
    "duration": 552,
    "start_time": "2021-09-01T19:52:50.749Z"
   },
   {
    "duration": -571,
    "start_time": "2021-09-01T19:52:51.875Z"
   },
   {
    "duration": -573,
    "start_time": "2021-09-01T19:52:51.878Z"
   },
   {
    "duration": -574,
    "start_time": "2021-09-01T19:52:51.881Z"
   },
   {
    "duration": -575,
    "start_time": "2021-09-01T19:52:51.883Z"
   },
   {
    "duration": -577,
    "start_time": "2021-09-01T19:52:51.886Z"
   },
   {
    "duration": -578,
    "start_time": "2021-09-01T19:52:51.889Z"
   },
   {
    "duration": -578,
    "start_time": "2021-09-01T19:52:51.891Z"
   },
   {
    "duration": -580,
    "start_time": "2021-09-01T19:52:51.894Z"
   },
   {
    "duration": -582,
    "start_time": "2021-09-01T19:52:51.897Z"
   },
   {
    "duration": 11,
    "start_time": "2021-09-01T19:53:50.904Z"
   },
   {
    "duration": 1564,
    "start_time": "2021-09-01T19:54:30.328Z"
   },
   {
    "duration": 4,
    "start_time": "2021-09-01T19:54:31.895Z"
   },
   {
    "duration": 90,
    "start_time": "2021-09-01T19:54:31.903Z"
   },
   {
    "duration": 14,
    "start_time": "2021-09-01T19:54:31.995Z"
   },
   {
    "duration": 17,
    "start_time": "2021-09-01T19:54:32.011Z"
   },
   {
    "duration": 43,
    "start_time": "2021-09-01T19:54:32.030Z"
   },
   {
    "duration": 18,
    "start_time": "2021-09-01T19:54:32.075Z"
   },
   {
    "duration": 9,
    "start_time": "2021-09-01T19:54:32.117Z"
   },
   {
    "duration": 23,
    "start_time": "2021-09-01T19:54:32.130Z"
   },
   {
    "duration": 13,
    "start_time": "2021-09-01T19:54:32.156Z"
   },
   {
    "duration": 44,
    "start_time": "2021-09-01T19:54:32.172Z"
   },
   {
    "duration": 7,
    "start_time": "2021-09-01T19:54:32.219Z"
   },
   {
    "duration": 6,
    "start_time": "2021-09-01T19:54:32.228Z"
   },
   {
    "duration": 22,
    "start_time": "2021-09-01T19:54:32.237Z"
   },
   {
    "duration": 5,
    "start_time": "2021-09-01T19:54:32.261Z"
   },
   {
    "duration": 83,
    "start_time": "2021-09-01T19:54:32.268Z"
   },
   {
    "duration": 4,
    "start_time": "2021-09-01T19:54:32.353Z"
   },
   {
    "duration": 68,
    "start_time": "2021-09-01T19:54:32.359Z"
   },
   {
    "duration": 9,
    "start_time": "2021-09-01T19:54:32.429Z"
   },
   {
    "duration": 832,
    "start_time": "2021-09-01T19:54:32.440Z"
   },
   {
    "duration": 456,
    "start_time": "2021-09-01T19:54:33.275Z"
   },
   {
    "duration": 9,
    "start_time": "2021-09-01T19:54:33.734Z"
   },
   {
    "duration": 443,
    "start_time": "2021-09-01T19:54:33.746Z"
   },
   {
    "duration": 5,
    "start_time": "2021-09-01T19:54:34.192Z"
   },
   {
    "duration": 31,
    "start_time": "2021-09-01T19:54:34.199Z"
   },
   {
    "duration": 4978,
    "start_time": "2021-09-01T19:54:34.232Z"
   },
   {
    "duration": 13,
    "start_time": "2021-09-01T19:54:39.215Z"
   },
   {
    "duration": 563,
    "start_time": "2021-09-01T19:54:39.232Z"
   },
   {
    "duration": 538,
    "start_time": "2021-09-01T19:54:39.798Z"
   },
   {
    "duration": 525,
    "start_time": "2021-09-01T19:54:40.339Z"
   },
   {
    "duration": 5,
    "start_time": "2021-09-01T19:54:40.866Z"
   },
   {
    "duration": 444,
    "start_time": "2021-09-01T19:54:40.873Z"
   },
   {
    "duration": 397,
    "start_time": "2021-09-01T19:54:41.320Z"
   },
   {
    "duration": 434,
    "start_time": "2021-09-01T19:54:41.720Z"
   },
   {
    "duration": 418,
    "start_time": "2021-09-01T19:54:42.157Z"
   },
   {
    "duration": 477,
    "start_time": "2021-09-01T19:54:42.577Z"
   },
   {
    "duration": 872,
    "start_time": "2021-09-01T19:54:43.057Z"
   },
   {
    "duration": 607,
    "start_time": "2021-09-01T19:54:43.932Z"
   },
   {
    "duration": 80,
    "start_time": "2021-09-01T19:54:44.542Z"
   },
   {
    "duration": 891,
    "start_time": "2021-09-01T19:54:44.625Z"
   },
   {
    "duration": 626,
    "start_time": "2021-09-01T19:54:45.518Z"
   },
   {
    "duration": 11,
    "start_time": "2021-09-01T19:54:46.147Z"
   },
   {
    "duration": 12,
    "start_time": "2021-09-01T19:54:46.161Z"
   },
   {
    "duration": 22,
    "start_time": "2021-09-01T19:54:46.176Z"
   },
   {
    "duration": 23,
    "start_time": "2021-09-01T19:54:46.200Z"
   },
   {
    "duration": 14,
    "start_time": "2021-09-01T19:54:46.226Z"
   },
   {
    "duration": 25,
    "start_time": "2021-09-01T19:54:46.242Z"
   },
   {
    "duration": 864,
    "start_time": "2021-09-01T20:30:46.121Z"
   },
   {
    "duration": 10,
    "start_time": "2021-09-01T20:33:06.212Z"
   },
   {
    "duration": 664,
    "start_time": "2021-09-01T20:33:20.744Z"
   },
   {
    "duration": 9,
    "start_time": "2021-09-01T20:34:54.404Z"
   },
   {
    "duration": 708,
    "start_time": "2021-09-01T20:34:55.108Z"
   },
   {
    "duration": 887,
    "start_time": "2021-09-01T20:35:22.152Z"
   },
   {
    "duration": 1213,
    "start_time": "2021-09-01T20:35:37.016Z"
   },
   {
    "duration": 1084,
    "start_time": "2021-09-01T20:36:00.033Z"
   },
   {
    "duration": 792,
    "start_time": "2021-09-01T20:36:21.359Z"
   },
   {
    "duration": 1564,
    "start_time": "2021-09-01T20:36:38.232Z"
   },
   {
    "duration": 1465,
    "start_time": "2021-09-01T20:36:48.299Z"
   },
   {
    "duration": 656,
    "start_time": "2021-09-01T20:46:42.295Z"
   },
   {
    "duration": 519,
    "start_time": "2021-09-01T20:47:24.397Z"
   },
   {
    "duration": 426,
    "start_time": "2021-09-01T20:48:47.405Z"
   },
   {
    "duration": 472,
    "start_time": "2021-09-01T20:49:24.765Z"
   },
   {
    "duration": 427,
    "start_time": "2021-09-01T20:49:54.101Z"
   },
   {
    "duration": 1831,
    "start_time": "2021-09-01T20:52:42.595Z"
   },
   {
    "duration": 4,
    "start_time": "2021-09-01T20:52:44.429Z"
   },
   {
    "duration": 79,
    "start_time": "2021-09-01T20:52:44.437Z"
   },
   {
    "duration": 23,
    "start_time": "2021-09-01T20:52:44.520Z"
   },
   {
    "duration": 13,
    "start_time": "2021-09-01T20:52:44.546Z"
   },
   {
    "duration": 86,
    "start_time": "2021-09-01T20:52:44.562Z"
   },
   {
    "duration": 20,
    "start_time": "2021-09-01T20:52:44.651Z"
   },
   {
    "duration": 11,
    "start_time": "2021-09-01T20:52:44.674Z"
   },
   {
    "duration": 21,
    "start_time": "2021-09-01T20:52:44.720Z"
   },
   {
    "duration": 17,
    "start_time": "2021-09-01T20:52:44.744Z"
   },
   {
    "duration": 13,
    "start_time": "2021-09-01T20:52:44.764Z"
   },
   {
    "duration": 39,
    "start_time": "2021-09-01T20:52:44.780Z"
   },
   {
    "duration": 15,
    "start_time": "2021-09-01T20:52:44.822Z"
   },
   {
    "duration": 26,
    "start_time": "2021-09-01T20:52:44.840Z"
   },
   {
    "duration": 10,
    "start_time": "2021-09-01T20:52:44.869Z"
   },
   {
    "duration": 68,
    "start_time": "2021-09-01T20:52:44.881Z"
   },
   {
    "duration": 6,
    "start_time": "2021-09-01T20:52:44.951Z"
   },
   {
    "duration": 80,
    "start_time": "2021-09-01T20:52:44.960Z"
   },
   {
    "duration": 12,
    "start_time": "2021-09-01T20:52:45.043Z"
   },
   {
    "duration": 743,
    "start_time": "2021-09-01T20:52:45.058Z"
   },
   {
    "duration": 480,
    "start_time": "2021-09-01T20:52:45.803Z"
   },
   {
    "duration": 10,
    "start_time": "2021-09-01T20:52:46.285Z"
   },
   {
    "duration": 569,
    "start_time": "2021-09-01T20:52:46.298Z"
   },
   {
    "duration": 7,
    "start_time": "2021-09-01T20:52:46.870Z"
   },
   {
    "duration": 41,
    "start_time": "2021-09-01T20:52:46.880Z"
   },
   {
    "duration": 5120,
    "start_time": "2021-09-01T20:52:46.924Z"
   },
   {
    "duration": 12,
    "start_time": "2021-09-01T20:52:52.052Z"
   },
   {
    "duration": 579,
    "start_time": "2021-09-01T20:52:52.067Z"
   },
   {
    "duration": 9,
    "start_time": "2021-09-01T20:52:52.649Z"
   },
   {
    "duration": 1528,
    "start_time": "2021-09-01T20:52:52.660Z"
   },
   {
    "duration": 567,
    "start_time": "2021-09-01T20:52:54.191Z"
   },
   {
    "duration": 796,
    "start_time": "2021-09-01T20:52:54.760Z"
   },
   {
    "duration": 5,
    "start_time": "2021-09-01T20:52:55.558Z"
   },
   {
    "duration": 570,
    "start_time": "2021-09-01T20:52:55.566Z"
   },
   {
    "duration": 443,
    "start_time": "2021-09-01T20:52:56.139Z"
   },
   {
    "duration": 542,
    "start_time": "2021-09-01T20:52:56.584Z"
   },
   {
    "duration": 768,
    "start_time": "2021-09-01T20:52:57.129Z"
   },
   {
    "duration": 467,
    "start_time": "2021-09-01T20:52:57.900Z"
   },
   {
    "duration": 521,
    "start_time": "2021-09-01T20:52:58.370Z"
   },
   {
    "duration": 922,
    "start_time": "2021-09-01T20:52:58.894Z"
   },
   {
    "duration": 644,
    "start_time": "2021-09-01T20:52:59.819Z"
   },
   {
    "duration": 97,
    "start_time": "2021-09-01T20:53:00.466Z"
   },
   {
    "duration": 1379,
    "start_time": "2021-09-01T20:53:00.566Z"
   },
   {
    "duration": 738,
    "start_time": "2021-09-01T20:53:01.949Z"
   },
   {
    "duration": 11,
    "start_time": "2021-09-01T20:53:02.689Z"
   },
   {
    "duration": 10,
    "start_time": "2021-09-01T20:53:02.718Z"
   },
   {
    "duration": 21,
    "start_time": "2021-09-01T20:53:02.731Z"
   },
   {
    "duration": 8,
    "start_time": "2021-09-01T20:53:02.755Z"
   },
   {
    "duration": 55,
    "start_time": "2021-09-01T20:53:02.767Z"
   },
   {
    "duration": 20,
    "start_time": "2021-09-01T20:53:02.825Z"
   },
   {
    "duration": 1495,
    "start_time": "2021-09-02T05:06:04.060Z"
   },
   {
    "duration": 9,
    "start_time": "2021-09-02T05:06:05.558Z"
   },
   {
    "duration": 78,
    "start_time": "2021-09-02T05:06:05.570Z"
   },
   {
    "duration": 20,
    "start_time": "2021-09-02T05:06:05.650Z"
   },
   {
    "duration": 15,
    "start_time": "2021-09-02T05:06:05.672Z"
   },
   {
    "duration": 48,
    "start_time": "2021-09-02T05:06:05.690Z"
   },
   {
    "duration": 42,
    "start_time": "2021-09-02T05:06:05.741Z"
   },
   {
    "duration": 10,
    "start_time": "2021-09-02T05:06:05.789Z"
   },
   {
    "duration": 17,
    "start_time": "2021-09-02T05:06:05.803Z"
   },
   {
    "duration": 54,
    "start_time": "2021-09-02T05:06:05.822Z"
   },
   {
    "duration": 12,
    "start_time": "2021-09-02T05:06:05.878Z"
   },
   {
    "duration": 6,
    "start_time": "2021-09-02T05:06:05.892Z"
   },
   {
    "duration": 10,
    "start_time": "2021-09-02T05:06:05.900Z"
   },
   {
    "duration": 24,
    "start_time": "2021-09-02T05:06:05.913Z"
   },
   {
    "duration": 7,
    "start_time": "2021-09-02T05:06:05.967Z"
   },
   {
    "duration": 55,
    "start_time": "2021-09-02T05:06:05.977Z"
   },
   {
    "duration": 32,
    "start_time": "2021-09-02T05:06:06.035Z"
   },
   {
    "duration": 50,
    "start_time": "2021-09-02T05:06:06.070Z"
   },
   {
    "duration": 10,
    "start_time": "2021-09-02T05:06:06.122Z"
   },
   {
    "duration": 723,
    "start_time": "2021-09-02T05:06:06.134Z"
   },
   {
    "duration": 458,
    "start_time": "2021-09-02T05:06:06.867Z"
   },
   {
    "duration": 9,
    "start_time": "2021-09-02T05:06:07.327Z"
   },
   {
    "duration": 464,
    "start_time": "2021-09-02T05:06:07.341Z"
   },
   {
    "duration": 5,
    "start_time": "2021-09-02T05:06:07.808Z"
   },
   {
    "duration": 19,
    "start_time": "2021-09-02T05:06:07.815Z"
   },
   {
    "duration": 4846,
    "start_time": "2021-09-02T05:06:07.836Z"
   },
   {
    "duration": 11,
    "start_time": "2021-09-02T05:06:12.684Z"
   },
   {
    "duration": 554,
    "start_time": "2021-09-02T05:06:12.697Z"
   },
   {
    "duration": 19,
    "start_time": "2021-09-02T05:06:13.254Z"
   },
   {
    "duration": 1453,
    "start_time": "2021-09-02T05:06:13.275Z"
   },
   {
    "duration": 541,
    "start_time": "2021-09-02T05:06:14.731Z"
   },
   {
    "duration": 513,
    "start_time": "2021-09-02T05:06:15.274Z"
   },
   {
    "duration": 5,
    "start_time": "2021-09-02T05:06:15.789Z"
   },
   {
    "duration": 415,
    "start_time": "2021-09-02T05:06:15.796Z"
   },
   {
    "duration": 578,
    "start_time": "2021-09-02T05:06:16.213Z"
   },
   {
    "duration": 450,
    "start_time": "2021-09-02T05:06:16.795Z"
   },
   {
    "duration": 652,
    "start_time": "2021-09-02T05:06:17.248Z"
   },
   {
    "duration": 445,
    "start_time": "2021-09-02T05:06:17.903Z"
   },
   {
    "duration": 499,
    "start_time": "2021-09-02T05:06:18.351Z"
   },
   {
    "duration": 777,
    "start_time": "2021-09-02T05:06:18.852Z"
   },
   {
    "duration": 622,
    "start_time": "2021-09-02T05:06:19.632Z"
   },
   {
    "duration": 67,
    "start_time": "2021-09-02T05:06:20.256Z"
   },
   {
    "duration": 825,
    "start_time": "2021-09-02T05:06:20.325Z"
   },
   {
    "duration": 638,
    "start_time": "2021-09-02T05:06:21.153Z"
   },
   {
    "duration": 11,
    "start_time": "2021-09-02T05:06:21.793Z"
   },
   {
    "duration": 9,
    "start_time": "2021-09-02T05:06:21.807Z"
   },
   {
    "duration": 49,
    "start_time": "2021-09-02T05:06:21.819Z"
   },
   {
    "duration": 7,
    "start_time": "2021-09-02T05:06:21.870Z"
   },
   {
    "duration": 12,
    "start_time": "2021-09-02T05:06:21.880Z"
   },
   {
    "duration": 15,
    "start_time": "2021-09-02T05:06:21.895Z"
   },
   {
    "duration": 1421,
    "start_time": "2021-09-02T05:11:29.452Z"
   },
   {
    "duration": 1496,
    "start_time": "2021-09-02T05:11:43.537Z"
   },
   {
    "duration": 600,
    "start_time": "2021-09-02T05:11:59.276Z"
   },
   {
    "duration": 579,
    "start_time": "2021-09-02T05:12:12.640Z"
   },
   {
    "duration": 622,
    "start_time": "2021-09-02T05:12:28.028Z"
   },
   {
    "duration": 584,
    "start_time": "2021-09-02T05:12:37.156Z"
   },
   {
    "duration": 647,
    "start_time": "2021-09-02T05:12:43.824Z"
   },
   {
    "duration": 93,
    "start_time": "2021-09-02T05:13:07.092Z"
   },
   {
    "duration": 641,
    "start_time": "2021-09-02T05:13:14.048Z"
   },
   {
    "duration": 652,
    "start_time": "2021-09-02T05:13:22.927Z"
   },
   {
    "duration": 652,
    "start_time": "2021-09-02T05:13:46.960Z"
   },
   {
    "duration": 1595,
    "start_time": "2021-09-02T10:13:17.276Z"
   },
   {
    "duration": 6,
    "start_time": "2021-09-02T10:13:18.876Z"
   },
   {
    "duration": 77,
    "start_time": "2021-09-02T10:13:18.885Z"
   },
   {
    "duration": 22,
    "start_time": "2021-09-02T10:13:18.970Z"
   },
   {
    "duration": 14,
    "start_time": "2021-09-02T10:13:18.994Z"
   },
   {
    "duration": 81,
    "start_time": "2021-09-02T10:13:19.011Z"
   },
   {
    "duration": 20,
    "start_time": "2021-09-02T10:13:19.095Z"
   },
   {
    "duration": 12,
    "start_time": "2021-09-02T10:13:19.118Z"
   },
   {
    "duration": 64,
    "start_time": "2021-09-02T10:13:19.134Z"
   },
   {
    "duration": 13,
    "start_time": "2021-09-02T10:13:19.202Z"
   },
   {
    "duration": 21,
    "start_time": "2021-09-02T10:13:19.218Z"
   },
   {
    "duration": 6,
    "start_time": "2021-09-02T10:13:19.242Z"
   },
   {
    "duration": 9,
    "start_time": "2021-09-02T10:13:19.273Z"
   },
   {
    "duration": 25,
    "start_time": "2021-09-02T10:13:19.285Z"
   },
   {
    "duration": 10,
    "start_time": "2021-09-02T10:13:19.312Z"
   },
   {
    "duration": 83,
    "start_time": "2021-09-02T10:13:19.324Z"
   },
   {
    "duration": 5,
    "start_time": "2021-09-02T10:13:19.410Z"
   },
   {
    "duration": 93,
    "start_time": "2021-09-02T10:13:19.418Z"
   },
   {
    "duration": 9,
    "start_time": "2021-09-02T10:13:19.513Z"
   },
   {
    "duration": 772,
    "start_time": "2021-09-02T10:13:19.524Z"
   },
   {
    "duration": 506,
    "start_time": "2021-09-02T10:13:20.299Z"
   },
   {
    "duration": 9,
    "start_time": "2021-09-02T10:13:20.807Z"
   },
   {
    "duration": 491,
    "start_time": "2021-09-02T10:13:20.819Z"
   },
   {
    "duration": 7,
    "start_time": "2021-09-02T10:13:21.313Z"
   },
   {
    "duration": 19,
    "start_time": "2021-09-02T10:13:21.322Z"
   },
   {
    "duration": 5291,
    "start_time": "2021-09-02T10:13:21.344Z"
   },
   {
    "duration": 10,
    "start_time": "2021-09-02T10:13:26.641Z"
   },
   {
    "duration": 688,
    "start_time": "2021-09-02T10:13:26.669Z"
   },
   {
    "duration": 456,
    "start_time": "2021-09-02T10:13:27.370Z"
   },
   {
    "duration": -179,
    "start_time": "2021-09-02T10:13:28.009Z"
   },
   {
    "duration": -181,
    "start_time": "2021-09-02T10:13:28.013Z"
   },
   {
    "duration": -182,
    "start_time": "2021-09-02T10:13:28.016Z"
   },
   {
    "duration": -182,
    "start_time": "2021-09-02T10:13:28.018Z"
   },
   {
    "duration": -183,
    "start_time": "2021-09-02T10:13:28.021Z"
   },
   {
    "duration": -183,
    "start_time": "2021-09-02T10:13:28.024Z"
   },
   {
    "duration": -186,
    "start_time": "2021-09-02T10:13:28.029Z"
   },
   {
    "duration": -187,
    "start_time": "2021-09-02T10:13:28.032Z"
   },
   {
    "duration": -188,
    "start_time": "2021-09-02T10:13:28.035Z"
   },
   {
    "duration": -189,
    "start_time": "2021-09-02T10:13:28.038Z"
   },
   {
    "duration": -189,
    "start_time": "2021-09-02T10:13:28.040Z"
   },
   {
    "duration": -195,
    "start_time": "2021-09-02T10:13:28.048Z"
   },
   {
    "duration": -197,
    "start_time": "2021-09-02T10:13:28.052Z"
   },
   {
    "duration": -197,
    "start_time": "2021-09-02T10:13:28.054Z"
   },
   {
    "duration": -198,
    "start_time": "2021-09-02T10:13:28.057Z"
   },
   {
    "duration": -199,
    "start_time": "2021-09-02T10:13:28.060Z"
   },
   {
    "duration": -204,
    "start_time": "2021-09-02T10:13:28.068Z"
   },
   {
    "duration": -205,
    "start_time": "2021-09-02T10:13:28.071Z"
   },
   {
    "duration": -206,
    "start_time": "2021-09-02T10:13:28.073Z"
   },
   {
    "duration": 824,
    "start_time": "2021-09-02T10:14:27.435Z"
   },
   {
    "duration": 749,
    "start_time": "2021-09-02T10:15:58.333Z"
   },
   {
    "duration": 900,
    "start_time": "2021-09-02T10:16:55.381Z"
   },
   {
    "duration": 758,
    "start_time": "2021-09-02T10:17:14.669Z"
   },
   {
    "duration": 1523,
    "start_time": "2021-09-02T10:18:01.656Z"
   },
   {
    "duration": 4,
    "start_time": "2021-09-02T10:18:03.182Z"
   },
   {
    "duration": 90,
    "start_time": "2021-09-02T10:18:03.190Z"
   },
   {
    "duration": 15,
    "start_time": "2021-09-02T10:18:03.283Z"
   },
   {
    "duration": 14,
    "start_time": "2021-09-02T10:18:03.300Z"
   },
   {
    "duration": 65,
    "start_time": "2021-09-02T10:18:03.316Z"
   },
   {
    "duration": 18,
    "start_time": "2021-09-02T10:18:03.384Z"
   },
   {
    "duration": 9,
    "start_time": "2021-09-02T10:18:03.405Z"
   },
   {
    "duration": 16,
    "start_time": "2021-09-02T10:18:03.418Z"
   },
   {
    "duration": 47,
    "start_time": "2021-09-02T10:18:03.437Z"
   },
   {
    "duration": 16,
    "start_time": "2021-09-02T10:18:03.487Z"
   },
   {
    "duration": 6,
    "start_time": "2021-09-02T10:18:03.506Z"
   },
   {
    "duration": 12,
    "start_time": "2021-09-02T10:18:03.515Z"
   },
   {
    "duration": 55,
    "start_time": "2021-09-02T10:18:03.530Z"
   },
   {
    "duration": 5,
    "start_time": "2021-09-02T10:18:03.587Z"
   },
   {
    "duration": 47,
    "start_time": "2021-09-02T10:18:03.595Z"
   },
   {
    "duration": 28,
    "start_time": "2021-09-02T10:18:03.644Z"
   },
   {
    "duration": 51,
    "start_time": "2021-09-02T10:18:03.675Z"
   },
   {
    "duration": 9,
    "start_time": "2021-09-02T10:18:03.728Z"
   },
   {
    "duration": 854,
    "start_time": "2021-09-02T10:18:03.739Z"
   },
   {
    "duration": 486,
    "start_time": "2021-09-02T10:18:04.596Z"
   },
   {
    "duration": 12,
    "start_time": "2021-09-02T10:18:05.086Z"
   },
   {
    "duration": 483,
    "start_time": "2021-09-02T10:18:05.100Z"
   },
   {
    "duration": 6,
    "start_time": "2021-09-02T10:18:05.585Z"
   },
   {
    "duration": 24,
    "start_time": "2021-09-02T10:18:05.593Z"
   },
   {
    "duration": 5196,
    "start_time": "2021-09-02T10:18:05.619Z"
   },
   {
    "duration": 10,
    "start_time": "2021-09-02T10:18:10.823Z"
   },
   {
    "duration": 696,
    "start_time": "2021-09-02T10:18:10.837Z"
   },
   {
    "duration": 793,
    "start_time": "2021-09-02T10:18:11.536Z"
   },
   {
    "duration": 781,
    "start_time": "2021-09-02T10:18:12.331Z"
   },
   {
    "duration": 5,
    "start_time": "2021-09-02T10:18:13.115Z"
   },
   {
    "duration": 444,
    "start_time": "2021-09-02T10:18:13.122Z"
   },
   {
    "duration": 504,
    "start_time": "2021-09-02T10:18:13.570Z"
   },
   {
    "duration": 570,
    "start_time": "2021-09-02T10:18:14.077Z"
   },
   {
    "duration": -154,
    "start_time": "2021-09-02T10:18:14.805Z"
   },
   {
    "duration": -157,
    "start_time": "2021-09-02T10:18:14.809Z"
   },
   {
    "duration": -162,
    "start_time": "2021-09-02T10:18:14.816Z"
   },
   {
    "duration": -163,
    "start_time": "2021-09-02T10:18:14.819Z"
   },
   {
    "duration": -164,
    "start_time": "2021-09-02T10:18:14.822Z"
   },
   {
    "duration": -165,
    "start_time": "2021-09-02T10:18:14.825Z"
   },
   {
    "duration": -166,
    "start_time": "2021-09-02T10:18:14.828Z"
   },
   {
    "duration": -165,
    "start_time": "2021-09-02T10:18:14.830Z"
   },
   {
    "duration": -166,
    "start_time": "2021-09-02T10:18:14.833Z"
   },
   {
    "duration": -166,
    "start_time": "2021-09-02T10:18:14.835Z"
   },
   {
    "duration": -168,
    "start_time": "2021-09-02T10:18:14.839Z"
   },
   {
    "duration": -169,
    "start_time": "2021-09-02T10:18:14.842Z"
   },
   {
    "duration": -170,
    "start_time": "2021-09-02T10:18:14.845Z"
   },
   {
    "duration": -168,
    "start_time": "2021-09-02T10:18:14.852Z"
   },
   {
    "duration": 456,
    "start_time": "2021-09-02T10:22:47.184Z"
   },
   {
    "duration": 482,
    "start_time": "2021-09-02T10:22:58.715Z"
   },
   {
    "duration": 498,
    "start_time": "2021-09-02T10:23:04.839Z"
   },
   {
    "duration": 484,
    "start_time": "2021-09-02T10:23:12.523Z"
   },
   {
    "duration": 484,
    "start_time": "2021-09-02T10:23:35.487Z"
   },
   {
    "duration": 794,
    "start_time": "2021-09-02T10:23:43.298Z"
   },
   {
    "duration": 1179,
    "start_time": "2021-09-02T10:24:14.155Z"
   },
   {
    "duration": 490,
    "start_time": "2021-09-02T10:27:10.694Z"
   },
   {
    "duration": 589,
    "start_time": "2021-09-02T11:00:46.108Z"
   },
   {
    "duration": 236,
    "start_time": "2021-09-02T11:19:30.042Z"
   },
   {
    "duration": 1078,
    "start_time": "2021-09-02T11:19:38.448Z"
   },
   {
    "duration": 9,
    "start_time": "2021-09-02T11:25:53.842Z"
   },
   {
    "duration": 1046,
    "start_time": "2021-09-02T11:26:21.946Z"
   },
   {
    "duration": 1057,
    "start_time": "2021-09-02T11:27:21.480Z"
   },
   {
    "duration": 1083,
    "start_time": "2021-09-02T11:28:26.543Z"
   },
   {
    "duration": 13,
    "start_time": "2021-09-02T11:32:09.931Z"
   },
   {
    "duration": 11,
    "start_time": "2021-09-02T11:32:10.728Z"
   },
   {
    "duration": 18,
    "start_time": "2021-09-02T11:32:20.509Z"
   },
   {
    "duration": 9,
    "start_time": "2021-09-02T11:33:00.544Z"
   },
   {
    "duration": 17,
    "start_time": "2021-09-02T11:33:06.580Z"
   },
   {
    "duration": 25,
    "start_time": "2021-09-02T11:33:19.253Z"
   },
   {
    "duration": 2712,
    "start_time": "2021-09-02T11:34:01.997Z"
   },
   {
    "duration": 5,
    "start_time": "2021-09-02T11:34:04.713Z"
   },
   {
    "duration": 115,
    "start_time": "2021-09-02T11:34:04.722Z"
   },
   {
    "duration": 36,
    "start_time": "2021-09-02T11:34:04.840Z"
   },
   {
    "duration": 53,
    "start_time": "2021-09-02T11:34:04.881Z"
   },
   {
    "duration": 54,
    "start_time": "2021-09-02T11:34:04.937Z"
   },
   {
    "duration": 24,
    "start_time": "2021-09-02T11:34:04.996Z"
   },
   {
    "duration": 23,
    "start_time": "2021-09-02T11:34:05.024Z"
   },
   {
    "duration": 37,
    "start_time": "2021-09-02T11:34:05.050Z"
   },
   {
    "duration": 20,
    "start_time": "2021-09-02T11:34:05.091Z"
   },
   {
    "duration": 17,
    "start_time": "2021-09-02T11:34:05.116Z"
   },
   {
    "duration": 40,
    "start_time": "2021-09-02T11:34:05.136Z"
   },
   {
    "duration": 13,
    "start_time": "2021-09-02T11:34:05.178Z"
   },
   {
    "duration": 35,
    "start_time": "2021-09-02T11:34:05.193Z"
   },
   {
    "duration": 7,
    "start_time": "2021-09-02T11:34:05.232Z"
   },
   {
    "duration": 97,
    "start_time": "2021-09-02T11:34:05.242Z"
   },
   {
    "duration": 8,
    "start_time": "2021-09-02T11:34:05.342Z"
   },
   {
    "duration": 96,
    "start_time": "2021-09-02T11:34:05.353Z"
   },
   {
    "duration": 9,
    "start_time": "2021-09-02T11:34:05.451Z"
   },
   {
    "duration": 925,
    "start_time": "2021-09-02T11:34:05.462Z"
   },
   {
    "duration": 592,
    "start_time": "2021-09-02T11:34:06.390Z"
   },
   {
    "duration": 21,
    "start_time": "2021-09-02T11:34:06.993Z"
   },
   {
    "duration": 617,
    "start_time": "2021-09-02T11:34:07.021Z"
   },
   {
    "duration": 6,
    "start_time": "2021-09-02T11:34:07.641Z"
   },
   {
    "duration": 28,
    "start_time": "2021-09-02T11:34:07.650Z"
   },
   {
    "duration": 6116,
    "start_time": "2021-09-02T11:34:07.681Z"
   },
   {
    "duration": 13,
    "start_time": "2021-09-02T11:34:13.799Z"
   },
   {
    "duration": 826,
    "start_time": "2021-09-02T11:34:13.815Z"
   },
   {
    "duration": 845,
    "start_time": "2021-09-02T11:34:14.644Z"
   },
   {
    "duration": 827,
    "start_time": "2021-09-02T11:34:15.492Z"
   },
   {
    "duration": 6,
    "start_time": "2021-09-02T11:34:16.322Z"
   },
   {
    "duration": 502,
    "start_time": "2021-09-02T11:34:16.331Z"
   },
   {
    "duration": 556,
    "start_time": "2021-09-02T11:34:16.836Z"
   },
   {
    "duration": 567,
    "start_time": "2021-09-02T11:34:17.395Z"
   },
   {
    "duration": 507,
    "start_time": "2021-09-02T11:34:17.971Z"
   },
   {
    "duration": 499,
    "start_time": "2021-09-02T11:34:18.480Z"
   },
   {
    "duration": 542,
    "start_time": "2021-09-02T11:34:18.981Z"
   },
   {
    "duration": 892,
    "start_time": "2021-09-02T11:34:19.525Z"
   },
   {
    "duration": 8,
    "start_time": "2021-09-02T11:34:20.420Z"
   },
   {
    "duration": 1203,
    "start_time": "2021-09-02T11:34:20.431Z"
   },
   {
    "duration": 1300,
    "start_time": "2021-09-02T11:34:21.637Z"
   },
   {
    "duration": 1440,
    "start_time": "2021-09-02T11:34:22.940Z"
   },
   {
    "duration": 15,
    "start_time": "2021-09-02T11:34:24.384Z"
   },
   {
    "duration": 20,
    "start_time": "2021-09-02T11:34:24.401Z"
   },
   {
    "duration": 26,
    "start_time": "2021-09-02T11:34:24.424Z"
   },
   {
    "duration": 17,
    "start_time": "2021-09-02T11:34:24.453Z"
   },
   {
    "duration": 21,
    "start_time": "2021-09-02T11:34:24.473Z"
   },
   {
    "duration": 25,
    "start_time": "2021-09-02T11:34:24.497Z"
   },
   {
    "duration": 1015,
    "start_time": "2021-09-02T12:14:12.712Z"
   },
   {
    "duration": 9,
    "start_time": "2021-09-02T12:15:56.011Z"
   },
   {
    "duration": 2527,
    "start_time": "2021-09-02T12:16:00.543Z"
   },
   {
    "duration": 11,
    "start_time": "2021-09-02T12:16:28.276Z"
   },
   {
    "duration": 955,
    "start_time": "2021-09-02T12:16:29.992Z"
   },
   {
    "duration": 709,
    "start_time": "2021-09-02T12:19:07.077Z"
   },
   {
    "duration": 2079,
    "start_time": "2021-09-02T12:19:33.558Z"
   },
   {
    "duration": 3,
    "start_time": "2021-09-02T12:19:35.640Z"
   },
   {
    "duration": 97,
    "start_time": "2021-09-02T12:19:35.646Z"
   },
   {
    "duration": 28,
    "start_time": "2021-09-02T12:19:35.746Z"
   },
   {
    "duration": 25,
    "start_time": "2021-09-02T12:19:35.777Z"
   },
   {
    "duration": 68,
    "start_time": "2021-09-02T12:19:35.804Z"
   },
   {
    "duration": 30,
    "start_time": "2021-09-02T12:19:35.874Z"
   },
   {
    "duration": 18,
    "start_time": "2021-09-02T12:19:35.906Z"
   },
   {
    "duration": 19,
    "start_time": "2021-09-02T12:19:35.929Z"
   },
   {
    "duration": 35,
    "start_time": "2021-09-02T12:19:35.951Z"
   },
   {
    "duration": 27,
    "start_time": "2021-09-02T12:19:35.992Z"
   },
   {
    "duration": 9,
    "start_time": "2021-09-02T12:19:36.022Z"
   },
   {
    "duration": 6,
    "start_time": "2021-09-02T12:19:36.034Z"
   },
   {
    "duration": 38,
    "start_time": "2021-09-02T12:19:36.043Z"
   },
   {
    "duration": 10,
    "start_time": "2021-09-02T12:19:36.083Z"
   },
   {
    "duration": 51,
    "start_time": "2021-09-02T12:19:36.096Z"
   },
   {
    "duration": 8,
    "start_time": "2021-09-02T12:19:36.171Z"
   },
   {
    "duration": 86,
    "start_time": "2021-09-02T12:19:36.182Z"
   },
   {
    "duration": 23,
    "start_time": "2021-09-02T12:19:36.271Z"
   },
   {
    "duration": 810,
    "start_time": "2021-09-02T12:19:36.299Z"
   },
   {
    "duration": 574,
    "start_time": "2021-09-02T12:19:37.114Z"
   },
   {
    "duration": 15,
    "start_time": "2021-09-02T12:19:37.691Z"
   },
   {
    "duration": 588,
    "start_time": "2021-09-02T12:19:37.709Z"
   },
   {
    "duration": 7,
    "start_time": "2021-09-02T12:19:38.299Z"
   },
   {
    "duration": 30,
    "start_time": "2021-09-02T12:19:38.317Z"
   },
   {
    "duration": 5971,
    "start_time": "2021-09-02T12:19:38.349Z"
   },
   {
    "duration": 12,
    "start_time": "2021-09-02T12:19:44.332Z"
   },
   {
    "duration": 1000,
    "start_time": "2021-09-02T12:19:44.347Z"
   },
   {
    "duration": 1040,
    "start_time": "2021-09-02T12:19:45.351Z"
   },
   {
    "duration": 994,
    "start_time": "2021-09-02T12:19:46.394Z"
   },
   {
    "duration": 7,
    "start_time": "2021-09-02T12:19:47.391Z"
   },
   {
    "duration": 633,
    "start_time": "2021-09-02T12:19:47.401Z"
   },
   {
    "duration": 610,
    "start_time": "2021-09-02T12:19:48.037Z"
   },
   {
    "duration": 630,
    "start_time": "2021-09-02T12:19:48.650Z"
   },
   {
    "duration": 654,
    "start_time": "2021-09-02T12:19:49.284Z"
   },
   {
    "duration": 542,
    "start_time": "2021-09-02T12:19:49.940Z"
   },
   {
    "duration": 557,
    "start_time": "2021-09-02T12:19:50.485Z"
   },
   {
    "duration": 1105,
    "start_time": "2021-09-02T12:19:51.044Z"
   },
   {
    "duration": 598,
    "start_time": "2021-09-02T12:19:52.152Z"
   },
   {
    "duration": -256,
    "start_time": "2021-09-02T12:19:53.010Z"
   },
   {
    "duration": -256,
    "start_time": "2021-09-02T12:19:53.013Z"
   },
   {
    "duration": -256,
    "start_time": "2021-09-02T12:19:53.015Z"
   },
   {
    "duration": -257,
    "start_time": "2021-09-02T12:19:53.018Z"
   },
   {
    "duration": -257,
    "start_time": "2021-09-02T12:19:53.020Z"
   },
   {
    "duration": -261,
    "start_time": "2021-09-02T12:19:53.027Z"
   },
   {
    "duration": -255,
    "start_time": "2021-09-02T12:19:53.030Z"
   },
   {
    "duration": -254,
    "start_time": "2021-09-02T12:19:53.033Z"
   },
   {
    "duration": -248,
    "start_time": "2021-09-02T12:19:53.035Z"
   },
   {
    "duration": 421,
    "start_time": "2021-09-02T12:20:50.185Z"
   },
   {
    "duration": 378,
    "start_time": "2021-09-02T12:24:22.639Z"
   },
   {
    "duration": 8,
    "start_time": "2021-09-02T12:27:23.316Z"
   },
   {
    "duration": 10,
    "start_time": "2021-09-02T12:27:24.935Z"
   },
   {
    "duration": 1328,
    "start_time": "2021-09-02T12:27:30.396Z"
   },
   {
    "duration": 1718,
    "start_time": "2021-09-02T12:27:41.096Z"
   },
   {
    "duration": 4,
    "start_time": "2021-09-02T12:27:42.819Z"
   },
   {
    "duration": 89,
    "start_time": "2021-09-02T12:27:42.828Z"
   },
   {
    "duration": 22,
    "start_time": "2021-09-02T12:27:42.922Z"
   },
   {
    "duration": 40,
    "start_time": "2021-09-02T12:27:42.948Z"
   },
   {
    "duration": 49,
    "start_time": "2021-09-02T12:27:42.994Z"
   },
   {
    "duration": 35,
    "start_time": "2021-09-02T12:27:43.070Z"
   },
   {
    "duration": 13,
    "start_time": "2021-09-02T12:27:43.111Z"
   },
   {
    "duration": 53,
    "start_time": "2021-09-02T12:27:43.129Z"
   },
   {
    "duration": 21,
    "start_time": "2021-09-02T12:27:43.185Z"
   },
   {
    "duration": 17,
    "start_time": "2021-09-02T12:27:43.209Z"
   },
   {
    "duration": 40,
    "start_time": "2021-09-02T12:27:43.229Z"
   },
   {
    "duration": 9,
    "start_time": "2021-09-02T12:27:43.273Z"
   },
   {
    "duration": 29,
    "start_time": "2021-09-02T12:27:43.286Z"
   },
   {
    "duration": 19,
    "start_time": "2021-09-02T12:27:43.318Z"
   },
   {
    "duration": 97,
    "start_time": "2021-09-02T12:27:43.341Z"
   },
   {
    "duration": 7,
    "start_time": "2021-09-02T12:27:43.441Z"
   },
   {
    "duration": 107,
    "start_time": "2021-09-02T12:27:43.451Z"
   },
   {
    "duration": 16,
    "start_time": "2021-09-02T12:27:43.570Z"
   },
   {
    "duration": 1122,
    "start_time": "2021-09-02T12:27:43.589Z"
   },
   {
    "duration": 532,
    "start_time": "2021-09-02T12:27:44.714Z"
   },
   {
    "duration": 20,
    "start_time": "2021-09-02T12:27:45.249Z"
   },
   {
    "duration": 599,
    "start_time": "2021-09-02T12:27:45.275Z"
   },
   {
    "duration": 7,
    "start_time": "2021-09-02T12:27:45.878Z"
   },
   {
    "duration": 28,
    "start_time": "2021-09-02T12:27:45.888Z"
   },
   {
    "duration": 5779,
    "start_time": "2021-09-02T12:27:45.919Z"
   },
   {
    "duration": 15,
    "start_time": "2021-09-02T12:27:51.701Z"
   },
   {
    "duration": 1006,
    "start_time": "2021-09-02T12:27:51.719Z"
   },
   {
    "duration": 1189,
    "start_time": "2021-09-02T12:27:52.727Z"
   },
   {
    "duration": 1117,
    "start_time": "2021-09-02T12:27:53.919Z"
   },
   {
    "duration": 8,
    "start_time": "2021-09-02T12:27:55.039Z"
   },
   {
    "duration": 555,
    "start_time": "2021-09-02T12:27:55.051Z"
   },
   {
    "duration": 671,
    "start_time": "2021-09-02T12:27:55.609Z"
   },
   {
    "duration": 560,
    "start_time": "2021-09-02T12:27:56.285Z"
   },
   {
    "duration": 654,
    "start_time": "2021-09-02T12:27:56.849Z"
   },
   {
    "duration": 639,
    "start_time": "2021-09-02T12:27:57.509Z"
   },
   {
    "duration": 659,
    "start_time": "2021-09-02T12:27:58.159Z"
   },
   {
    "duration": 1094,
    "start_time": "2021-09-02T12:27:58.833Z"
   },
   {
    "duration": 11,
    "start_time": "2021-09-02T12:27:59.930Z"
   },
   {
    "duration": 12,
    "start_time": "2021-09-02T12:27:59.944Z"
   },
   {
    "duration": 1220,
    "start_time": "2021-09-02T12:27:59.970Z"
   },
   {
    "duration": 1202,
    "start_time": "2021-09-02T12:28:01.195Z"
   },
   {
    "duration": 1390,
    "start_time": "2021-09-02T12:28:02.400Z"
   },
   {
    "duration": 14,
    "start_time": "2021-09-02T12:28:03.793Z"
   },
   {
    "duration": 17,
    "start_time": "2021-09-02T12:28:03.810Z"
   },
   {
    "duration": 53,
    "start_time": "2021-09-02T12:28:03.829Z"
   },
   {
    "duration": 9,
    "start_time": "2021-09-02T12:28:03.885Z"
   },
   {
    "duration": 15,
    "start_time": "2021-09-02T12:28:03.898Z"
   },
   {
    "duration": 22,
    "start_time": "2021-09-02T12:28:03.916Z"
   },
   {
    "duration": 971,
    "start_time": "2021-09-02T12:42:06.700Z"
   },
   {
    "duration": 998,
    "start_time": "2021-09-02T12:43:30.043Z"
   },
   {
    "duration": 2306,
    "start_time": "2021-09-02T12:46:00.085Z"
   },
   {
    "duration": 6,
    "start_time": "2021-09-02T12:46:02.395Z"
   },
   {
    "duration": 108,
    "start_time": "2021-09-02T12:46:02.404Z"
   },
   {
    "duration": 22,
    "start_time": "2021-09-02T12:46:02.515Z"
   },
   {
    "duration": 51,
    "start_time": "2021-09-02T12:46:02.540Z"
   },
   {
    "duration": 67,
    "start_time": "2021-09-02T12:46:02.594Z"
   },
   {
    "duration": 28,
    "start_time": "2021-09-02T12:46:02.664Z"
   },
   {
    "duration": 12,
    "start_time": "2021-09-02T12:46:02.698Z"
   },
   {
    "duration": 25,
    "start_time": "2021-09-02T12:46:02.714Z"
   },
   {
    "duration": 41,
    "start_time": "2021-09-02T12:46:02.742Z"
   },
   {
    "duration": 20,
    "start_time": "2021-09-02T12:46:02.787Z"
   },
   {
    "duration": 6,
    "start_time": "2021-09-02T12:46:02.811Z"
   },
   {
    "duration": 12,
    "start_time": "2021-09-02T12:46:02.820Z"
   },
   {
    "duration": 55,
    "start_time": "2021-09-02T12:46:02.835Z"
   },
   {
    "duration": 8,
    "start_time": "2021-09-02T12:46:02.893Z"
   },
   {
    "duration": 93,
    "start_time": "2021-09-02T12:46:02.905Z"
   },
   {
    "duration": 13,
    "start_time": "2021-09-02T12:46:03.002Z"
   },
   {
    "duration": 87,
    "start_time": "2021-09-02T12:46:03.018Z"
   },
   {
    "duration": 17,
    "start_time": "2021-09-02T12:46:03.109Z"
   },
   {
    "duration": 813,
    "start_time": "2021-09-02T12:46:03.129Z"
   },
   {
    "duration": 523,
    "start_time": "2021-09-02T12:46:03.944Z"
   },
   {
    "duration": 14,
    "start_time": "2021-09-02T12:46:04.470Z"
   },
   {
    "duration": 529,
    "start_time": "2021-09-02T12:46:04.492Z"
   },
   {
    "duration": 8,
    "start_time": "2021-09-02T12:46:05.025Z"
   },
   {
    "duration": 47,
    "start_time": "2021-09-02T12:46:05.035Z"
   },
   {
    "duration": 5389,
    "start_time": "2021-09-02T12:46:05.088Z"
   },
   {
    "duration": 13,
    "start_time": "2021-09-02T12:46:10.481Z"
   },
   {
    "duration": 758,
    "start_time": "2021-09-02T12:46:10.497Z"
   },
   {
    "duration": 1107,
    "start_time": "2021-09-02T12:46:11.266Z"
   },
   {
    "duration": 854,
    "start_time": "2021-09-02T12:46:12.378Z"
   },
   {
    "duration": 5,
    "start_time": "2021-09-02T12:46:13.234Z"
   },
   {
    "duration": 574,
    "start_time": "2021-09-02T12:46:13.242Z"
   },
   {
    "duration": 631,
    "start_time": "2021-09-02T12:46:13.819Z"
   },
   {
    "duration": 620,
    "start_time": "2021-09-02T12:46:14.453Z"
   },
   {
    "duration": 670,
    "start_time": "2021-09-02T12:46:15.077Z"
   },
   {
    "duration": 602,
    "start_time": "2021-09-02T12:46:15.750Z"
   },
   {
    "duration": 1050,
    "start_time": "2021-09-02T12:46:16.355Z"
   },
   {
    "duration": 11,
    "start_time": "2021-09-02T12:46:17.407Z"
   },
   {
    "duration": 18,
    "start_time": "2021-09-02T12:46:17.420Z"
   },
   {
    "duration": 1256,
    "start_time": "2021-09-02T12:46:17.441Z"
   },
   {
    "duration": 1002,
    "start_time": "2021-09-02T12:46:18.701Z"
   },
   {
    "duration": 1109,
    "start_time": "2021-09-02T12:46:19.708Z"
   },
   {
    "duration": 11,
    "start_time": "2021-09-02T12:46:20.820Z"
   },
   {
    "duration": 13,
    "start_time": "2021-09-02T12:46:20.833Z"
   },
   {
    "duration": 25,
    "start_time": "2021-09-02T12:46:20.873Z"
   },
   {
    "duration": 18,
    "start_time": "2021-09-02T12:46:20.900Z"
   },
   {
    "duration": 13,
    "start_time": "2021-09-02T12:46:20.921Z"
   },
   {
    "duration": 48,
    "start_time": "2021-09-02T12:46:20.937Z"
   },
   {
    "duration": 15,
    "start_time": "2021-09-02T14:29:35.476Z"
   },
   {
    "duration": 1526,
    "start_time": "2021-09-02T17:48:00.204Z"
   },
   {
    "duration": 4,
    "start_time": "2021-09-02T17:48:01.732Z"
   },
   {
    "duration": 82,
    "start_time": "2021-09-02T17:48:01.740Z"
   },
   {
    "duration": 19,
    "start_time": "2021-09-02T17:48:01.826Z"
   },
   {
    "duration": 27,
    "start_time": "2021-09-02T17:48:01.848Z"
   },
   {
    "duration": 58,
    "start_time": "2021-09-02T17:48:01.878Z"
   },
   {
    "duration": 34,
    "start_time": "2021-09-02T17:48:01.940Z"
   },
   {
    "duration": 42,
    "start_time": "2021-09-02T17:48:01.976Z"
   },
   {
    "duration": 21,
    "start_time": "2021-09-02T17:48:02.022Z"
   },
   {
    "duration": 15,
    "start_time": "2021-09-02T17:48:02.046Z"
   },
   {
    "duration": 21,
    "start_time": "2021-09-02T17:48:02.068Z"
   },
   {
    "duration": 18,
    "start_time": "2021-09-02T17:48:02.092Z"
   },
   {
    "duration": 28,
    "start_time": "2021-09-02T17:48:02.113Z"
   },
   {
    "duration": 27,
    "start_time": "2021-09-02T17:48:02.144Z"
   },
   {
    "duration": 15,
    "start_time": "2021-09-02T17:48:02.177Z"
   },
   {
    "duration": 71,
    "start_time": "2021-09-02T17:48:02.195Z"
   },
   {
    "duration": 6,
    "start_time": "2021-09-02T17:48:02.268Z"
   },
   {
    "duration": 59,
    "start_time": "2021-09-02T17:48:02.277Z"
   },
   {
    "duration": 31,
    "start_time": "2021-09-02T17:48:02.338Z"
   },
   {
    "duration": 735,
    "start_time": "2021-09-02T17:48:02.374Z"
   },
   {
    "duration": 493,
    "start_time": "2021-09-02T17:48:03.112Z"
   },
   {
    "duration": 9,
    "start_time": "2021-09-02T17:48:03.608Z"
   },
   {
    "duration": 480,
    "start_time": "2021-09-02T17:48:03.620Z"
   },
   {
    "duration": 7,
    "start_time": "2021-09-02T17:48:04.102Z"
   },
   {
    "duration": 22,
    "start_time": "2021-09-02T17:48:04.112Z"
   },
   {
    "duration": 4969,
    "start_time": "2021-09-02T17:48:04.136Z"
   },
   {
    "duration": 9,
    "start_time": "2021-09-02T17:48:09.110Z"
   },
   {
    "duration": 801,
    "start_time": "2021-09-02T17:48:09.122Z"
   },
   {
    "duration": 833,
    "start_time": "2021-09-02T17:48:09.925Z"
   },
   {
    "duration": 879,
    "start_time": "2021-09-02T17:48:10.761Z"
   },
   {
    "duration": 4,
    "start_time": "2021-09-02T17:48:11.643Z"
   },
   {
    "duration": 434,
    "start_time": "2021-09-02T17:48:11.650Z"
   },
   {
    "duration": 607,
    "start_time": "2021-09-02T17:48:12.086Z"
   },
   {
    "duration": 500,
    "start_time": "2021-09-02T17:48:12.696Z"
   },
   {
    "duration": 484,
    "start_time": "2021-09-02T17:48:13.199Z"
   },
   {
    "duration": 499,
    "start_time": "2021-09-02T17:48:13.686Z"
   },
   {
    "duration": 810,
    "start_time": "2021-09-02T17:48:14.188Z"
   },
   {
    "duration": 12,
    "start_time": "2021-09-02T17:48:15.011Z"
   },
   {
    "duration": 38,
    "start_time": "2021-09-02T17:48:15.025Z"
   },
   {
    "duration": 929,
    "start_time": "2021-09-02T17:48:15.066Z"
   },
   {
    "duration": 1201,
    "start_time": "2021-09-02T17:48:15.999Z"
   },
   {
    "duration": 1396,
    "start_time": "2021-09-02T17:48:17.203Z"
   },
   {
    "duration": 13,
    "start_time": "2021-09-02T17:48:18.602Z"
   },
   {
    "duration": 14,
    "start_time": "2021-09-02T17:48:18.618Z"
   },
   {
    "duration": 47,
    "start_time": "2021-09-02T17:48:18.635Z"
   },
   {
    "duration": 10,
    "start_time": "2021-09-02T17:48:18.685Z"
   },
   {
    "duration": 12,
    "start_time": "2021-09-02T17:48:18.698Z"
   },
   {
    "duration": 15,
    "start_time": "2021-09-02T17:48:18.713Z"
   },
   {
    "duration": 1770,
    "start_time": "2021-09-02T19:42:49.692Z"
   },
   {
    "duration": 3,
    "start_time": "2021-09-02T19:42:51.464Z"
   },
   {
    "duration": 56,
    "start_time": "2021-09-02T19:42:51.469Z"
   },
   {
    "duration": 10,
    "start_time": "2021-09-02T19:42:51.527Z"
   },
   {
    "duration": 10,
    "start_time": "2021-09-02T19:42:51.539Z"
   },
   {
    "duration": 58,
    "start_time": "2021-09-02T19:42:51.551Z"
   },
   {
    "duration": 13,
    "start_time": "2021-09-02T19:42:51.611Z"
   },
   {
    "duration": 11,
    "start_time": "2021-09-02T19:42:51.627Z"
   },
   {
    "duration": 12,
    "start_time": "2021-09-02T19:42:51.640Z"
   },
   {
    "duration": 40,
    "start_time": "2021-09-02T19:42:51.654Z"
   },
   {
    "duration": 10,
    "start_time": "2021-09-02T19:42:51.696Z"
   },
   {
    "duration": 5,
    "start_time": "2021-09-02T19:42:51.708Z"
   },
   {
    "duration": 8,
    "start_time": "2021-09-02T19:42:51.714Z"
   },
   {
    "duration": 19,
    "start_time": "2021-09-02T19:42:51.724Z"
   },
   {
    "duration": 10,
    "start_time": "2021-09-02T19:42:51.745Z"
   },
   {
    "duration": 55,
    "start_time": "2021-09-02T19:42:51.756Z"
   },
   {
    "duration": 4,
    "start_time": "2021-09-02T19:42:51.812Z"
   },
   {
    "duration": 33,
    "start_time": "2021-09-02T19:42:51.817Z"
   },
   {
    "duration": 6,
    "start_time": "2021-09-02T19:42:51.851Z"
   },
   {
    "duration": 412,
    "start_time": "2021-09-02T19:42:51.858Z"
   },
   {
    "duration": 267,
    "start_time": "2021-09-02T19:42:52.271Z"
   },
   {
    "duration": 7,
    "start_time": "2021-09-02T19:42:52.540Z"
   },
   {
    "duration": 260,
    "start_time": "2021-09-02T19:42:52.550Z"
   },
   {
    "duration": 5,
    "start_time": "2021-09-02T19:42:52.813Z"
   },
   {
    "duration": 22,
    "start_time": "2021-09-02T19:42:52.820Z"
   },
   {
    "duration": 2710,
    "start_time": "2021-09-02T19:42:52.844Z"
   },
   {
    "duration": 9,
    "start_time": "2021-09-02T19:42:55.556Z"
   },
   {
    "duration": 389,
    "start_time": "2021-09-02T19:42:55.567Z"
   },
   {
    "duration": 424,
    "start_time": "2021-09-02T19:42:55.958Z"
   },
   {
    "duration": 521,
    "start_time": "2021-09-02T19:42:56.385Z"
   },
   {
    "duration": 5,
    "start_time": "2021-09-02T19:42:56.908Z"
   },
   {
    "duration": 296,
    "start_time": "2021-09-02T19:42:56.915Z"
   },
   {
    "duration": 392,
    "start_time": "2021-09-02T19:42:57.213Z"
   },
   {
    "duration": 338,
    "start_time": "2021-09-02T19:42:57.607Z"
   },
   {
    "duration": 346,
    "start_time": "2021-09-02T19:42:57.947Z"
   },
   {
    "duration": 265,
    "start_time": "2021-09-02T19:42:58.295Z"
   },
   {
    "duration": 445,
    "start_time": "2021-09-02T19:42:58.561Z"
   },
   {
    "duration": 6,
    "start_time": "2021-09-02T19:42:59.008Z"
   },
   {
    "duration": 16,
    "start_time": "2021-09-02T19:42:59.015Z"
   },
   {
    "duration": 595,
    "start_time": "2021-09-02T19:42:59.032Z"
   },
   {
    "duration": 506,
    "start_time": "2021-09-02T19:42:59.628Z"
   },
   {
    "duration": 624,
    "start_time": "2021-09-02T19:43:00.135Z"
   },
   {
    "duration": 9,
    "start_time": "2021-09-02T19:43:00.762Z"
   },
   {
    "duration": 25,
    "start_time": "2021-09-02T19:43:00.773Z"
   },
   {
    "duration": 17,
    "start_time": "2021-09-02T19:43:00.800Z"
   },
   {
    "duration": 10,
    "start_time": "2021-09-02T19:43:00.820Z"
   },
   {
    "duration": 13,
    "start_time": "2021-09-02T19:43:00.832Z"
   },
   {
    "duration": 15,
    "start_time": "2021-09-02T19:43:00.847Z"
   },
   {
    "duration": 276,
    "start_time": "2021-09-03T07:28:39.464Z"
   },
   {
    "duration": 1115,
    "start_time": "2021-09-03T07:28:45.141Z"
   },
   {
    "duration": 3,
    "start_time": "2021-09-03T07:28:46.258Z"
   },
   {
    "duration": 54,
    "start_time": "2021-09-03T07:28:46.263Z"
   },
   {
    "duration": 9,
    "start_time": "2021-09-03T07:28:46.319Z"
   },
   {
    "duration": 10,
    "start_time": "2021-09-03T07:28:46.330Z"
   },
   {
    "duration": 27,
    "start_time": "2021-09-03T07:28:46.341Z"
   },
   {
    "duration": 24,
    "start_time": "2021-09-03T07:28:46.370Z"
   },
   {
    "duration": 9,
    "start_time": "2021-09-03T07:28:46.395Z"
   },
   {
    "duration": 10,
    "start_time": "2021-09-03T07:28:46.406Z"
   },
   {
    "duration": 10,
    "start_time": "2021-09-03T07:28:46.418Z"
   },
   {
    "duration": 9,
    "start_time": "2021-09-03T07:28:46.429Z"
   },
   {
    "duration": 6,
    "start_time": "2021-09-03T07:28:46.439Z"
   },
   {
    "duration": 6,
    "start_time": "2021-09-03T07:28:46.446Z"
   },
   {
    "duration": 43,
    "start_time": "2021-09-03T07:28:46.453Z"
   },
   {
    "duration": 6,
    "start_time": "2021-09-03T07:28:46.497Z"
   },
   {
    "duration": 28,
    "start_time": "2021-09-03T07:28:46.504Z"
   },
   {
    "duration": 3,
    "start_time": "2021-09-03T07:28:46.534Z"
   },
   {
    "duration": 34,
    "start_time": "2021-09-03T07:28:46.538Z"
   },
   {
    "duration": 6,
    "start_time": "2021-09-03T07:28:46.592Z"
   },
   {
    "duration": 388,
    "start_time": "2021-09-03T07:28:46.600Z"
   },
   {
    "duration": 261,
    "start_time": "2021-09-03T07:28:46.991Z"
   },
   {
    "duration": 6,
    "start_time": "2021-09-03T07:28:47.254Z"
   },
   {
    "duration": 252,
    "start_time": "2021-09-03T07:28:47.262Z"
   },
   {
    "duration": 4,
    "start_time": "2021-09-03T07:28:47.516Z"
   },
   {
    "duration": 15,
    "start_time": "2021-09-03T07:28:47.521Z"
   },
   {
    "duration": 2692,
    "start_time": "2021-09-03T07:28:47.537Z"
   },
   {
    "duration": 7,
    "start_time": "2021-09-03T07:28:50.233Z"
   },
   {
    "duration": 352,
    "start_time": "2021-09-03T07:28:50.241Z"
   },
   {
    "duration": 314,
    "start_time": "2021-09-03T07:28:50.595Z"
   },
   {
    "duration": 320,
    "start_time": "2021-09-03T07:28:50.911Z"
   },
   {
    "duration": 4,
    "start_time": "2021-09-03T07:28:51.233Z"
   },
   {
    "duration": 270,
    "start_time": "2021-09-03T07:28:51.238Z"
   },
   {
    "duration": 272,
    "start_time": "2021-09-03T07:28:51.510Z"
   },
   {
    "duration": 301,
    "start_time": "2021-09-03T07:28:51.783Z"
   },
   {
    "duration": 381,
    "start_time": "2021-09-03T07:28:52.086Z"
   },
   {
    "duration": 275,
    "start_time": "2021-09-03T07:28:52.469Z"
   },
   {
    "duration": 428,
    "start_time": "2021-09-03T07:28:52.745Z"
   },
   {
    "duration": 5,
    "start_time": "2021-09-03T07:28:53.174Z"
   },
   {
    "duration": 22,
    "start_time": "2021-09-03T07:28:53.181Z"
   },
   {
    "duration": 452,
    "start_time": "2021-09-03T07:28:53.205Z"
   },
   {
    "duration": 470,
    "start_time": "2021-09-03T07:28:53.659Z"
   },
   {
    "duration": 480,
    "start_time": "2021-09-03T07:28:54.130Z"
   },
   {
    "duration": 6,
    "start_time": "2021-09-03T07:28:54.611Z"
   },
   {
    "duration": 10,
    "start_time": "2021-09-03T07:28:54.619Z"
   },
   {
    "duration": 17,
    "start_time": "2021-09-03T07:28:54.630Z"
   },
   {
    "duration": 16,
    "start_time": "2021-09-03T07:28:54.648Z"
   },
   {
    "duration": 14,
    "start_time": "2021-09-03T07:28:54.666Z"
   },
   {
    "duration": 9,
    "start_time": "2021-09-03T07:28:54.681Z"
   },
   {
    "duration": 6,
    "start_time": "2021-09-03T08:47:40.507Z"
   },
   {
    "duration": 653,
    "start_time": "2021-09-03T08:47:44.003Z"
   },
   {
    "duration": 486,
    "start_time": "2021-09-03T08:47:51.283Z"
   },
   {
    "duration": 485,
    "start_time": "2021-09-03T08:47:54.562Z"
   },
   {
    "duration": 1185,
    "start_time": "2021-09-03T10:57:15.863Z"
   },
   {
    "duration": 3,
    "start_time": "2021-09-03T10:57:17.050Z"
   },
   {
    "duration": 54,
    "start_time": "2021-09-03T10:57:17.055Z"
   },
   {
    "duration": 10,
    "start_time": "2021-09-03T10:57:17.111Z"
   },
   {
    "duration": 9,
    "start_time": "2021-09-03T10:57:17.122Z"
   },
   {
    "duration": 27,
    "start_time": "2021-09-03T10:57:17.132Z"
   },
   {
    "duration": 30,
    "start_time": "2021-09-03T10:57:17.161Z"
   },
   {
    "duration": 7,
    "start_time": "2021-09-03T10:57:17.194Z"
   },
   {
    "duration": 10,
    "start_time": "2021-09-03T10:57:17.203Z"
   },
   {
    "duration": 10,
    "start_time": "2021-09-03T10:57:17.214Z"
   },
   {
    "duration": 9,
    "start_time": "2021-09-03T10:57:17.225Z"
   },
   {
    "duration": 3,
    "start_time": "2021-09-03T10:57:17.236Z"
   },
   {
    "duration": 8,
    "start_time": "2021-09-03T10:57:17.241Z"
   },
   {
    "duration": 48,
    "start_time": "2021-09-03T10:57:17.251Z"
   },
   {
    "duration": 5,
    "start_time": "2021-09-03T10:57:17.301Z"
   },
   {
    "duration": 35,
    "start_time": "2021-09-03T10:57:17.308Z"
   },
   {
    "duration": 4,
    "start_time": "2021-09-03T10:57:17.345Z"
   },
   {
    "duration": 47,
    "start_time": "2021-09-03T10:57:17.350Z"
   },
   {
    "duration": 6,
    "start_time": "2021-09-03T10:57:17.398Z"
   },
   {
    "duration": 401,
    "start_time": "2021-09-03T10:57:17.406Z"
   },
   {
    "duration": 265,
    "start_time": "2021-09-03T10:57:17.809Z"
   },
   {
    "duration": 16,
    "start_time": "2021-09-03T10:57:18.075Z"
   },
   {
    "duration": 244,
    "start_time": "2021-09-03T10:57:18.094Z"
   },
   {
    "duration": 4,
    "start_time": "2021-09-03T10:57:18.340Z"
   },
   {
    "duration": 15,
    "start_time": "2021-09-03T10:57:18.345Z"
   },
   {
    "duration": 2771,
    "start_time": "2021-09-03T10:57:18.361Z"
   },
   {
    "duration": 8,
    "start_time": "2021-09-03T10:57:21.134Z"
   },
   {
    "duration": 374,
    "start_time": "2021-09-03T10:57:21.144Z"
   },
   {
    "duration": 334,
    "start_time": "2021-09-03T10:57:21.520Z"
   },
   {
    "duration": 429,
    "start_time": "2021-09-03T10:57:21.857Z"
   },
   {
    "duration": 3,
    "start_time": "2021-09-03T10:57:22.291Z"
   },
   {
    "duration": 287,
    "start_time": "2021-09-03T10:57:22.296Z"
   },
   {
    "duration": 295,
    "start_time": "2021-09-03T10:57:22.585Z"
   },
   {
    "duration": 294,
    "start_time": "2021-09-03T10:57:22.881Z"
   },
   {
    "duration": 393,
    "start_time": "2021-09-03T10:57:23.177Z"
   },
   {
    "duration": 276,
    "start_time": "2021-09-03T10:57:23.572Z"
   },
   {
    "duration": 436,
    "start_time": "2021-09-03T10:57:23.850Z"
   },
   {
    "duration": 2,
    "start_time": "2021-09-03T10:57:24.292Z"
   },
   {
    "duration": 7,
    "start_time": "2021-09-03T10:57:24.296Z"
   },
   {
    "duration": 509,
    "start_time": "2021-09-03T10:57:24.304Z"
   },
   {
    "duration": 488,
    "start_time": "2021-09-03T10:57:24.815Z"
   },
   {
    "duration": 505,
    "start_time": "2021-09-03T10:57:25.305Z"
   },
   {
    "duration": 7,
    "start_time": "2021-09-03T10:57:25.811Z"
   },
   {
    "duration": 9,
    "start_time": "2021-09-03T10:57:25.819Z"
   },
   {
    "duration": 9,
    "start_time": "2021-09-03T10:57:25.830Z"
   },
   {
    "duration": 6,
    "start_time": "2021-09-03T10:57:25.841Z"
   },
   {
    "duration": 8,
    "start_time": "2021-09-03T10:57:25.849Z"
   },
   {
    "duration": 37,
    "start_time": "2021-09-03T10:57:25.859Z"
   },
   {
    "duration": 1097,
    "start_time": "2021-09-03T10:57:37.646Z"
   },
   {
    "duration": 2,
    "start_time": "2021-09-03T10:57:38.745Z"
   },
   {
    "duration": 59,
    "start_time": "2021-09-03T10:57:38.749Z"
   },
   {
    "duration": 9,
    "start_time": "2021-09-03T10:57:38.810Z"
   },
   {
    "duration": 12,
    "start_time": "2021-09-03T10:57:38.821Z"
   },
   {
    "duration": 27,
    "start_time": "2021-09-03T10:57:38.835Z"
   },
   {
    "duration": 28,
    "start_time": "2021-09-03T10:57:38.864Z"
   },
   {
    "duration": 13,
    "start_time": "2021-09-03T10:57:38.894Z"
   },
   {
    "duration": 9,
    "start_time": "2021-09-03T10:57:38.909Z"
   },
   {
    "duration": 9,
    "start_time": "2021-09-03T10:57:38.920Z"
   },
   {
    "duration": 8,
    "start_time": "2021-09-03T10:57:38.931Z"
   },
   {
    "duration": 3,
    "start_time": "2021-09-03T10:57:38.941Z"
   },
   {
    "duration": 6,
    "start_time": "2021-09-03T10:57:38.946Z"
   },
   {
    "duration": 40,
    "start_time": "2021-09-03T10:57:38.953Z"
   },
   {
    "duration": 5,
    "start_time": "2021-09-03T10:57:38.995Z"
   },
   {
    "duration": 35,
    "start_time": "2021-09-03T10:57:39.001Z"
   },
   {
    "duration": 3,
    "start_time": "2021-09-03T10:57:39.038Z"
   },
   {
    "duration": 50,
    "start_time": "2021-09-03T10:57:39.042Z"
   },
   {
    "duration": 6,
    "start_time": "2021-09-03T10:57:39.094Z"
   },
   {
    "duration": 407,
    "start_time": "2021-09-03T10:57:39.101Z"
   },
   {
    "duration": 274,
    "start_time": "2021-09-03T10:57:39.511Z"
   },
   {
    "duration": 8,
    "start_time": "2021-09-03T10:57:39.787Z"
   },
   {
    "duration": 258,
    "start_time": "2021-09-03T10:57:39.798Z"
   },
   {
    "duration": 4,
    "start_time": "2021-09-03T10:57:40.058Z"
   },
   {
    "duration": 14,
    "start_time": "2021-09-03T10:57:40.064Z"
   },
   {
    "duration": 2861,
    "start_time": "2021-09-03T10:57:40.080Z"
   },
   {
    "duration": 6,
    "start_time": "2021-09-03T10:57:42.943Z"
   },
   {
    "duration": 371,
    "start_time": "2021-09-03T10:57:42.951Z"
   },
   {
    "duration": 329,
    "start_time": "2021-09-03T10:57:43.324Z"
   },
   {
    "duration": 338,
    "start_time": "2021-09-03T10:57:43.655Z"
   },
   {
    "duration": 4,
    "start_time": "2021-09-03T10:57:43.995Z"
   },
   {
    "duration": 283,
    "start_time": "2021-09-03T10:57:44.000Z"
   },
   {
    "duration": 300,
    "start_time": "2021-09-03T10:57:44.292Z"
   },
   {
    "duration": 299,
    "start_time": "2021-09-03T10:57:44.594Z"
   },
   {
    "duration": 385,
    "start_time": "2021-09-03T10:57:44.895Z"
   },
   {
    "duration": 282,
    "start_time": "2021-09-03T10:57:45.282Z"
   },
   {
    "duration": 443,
    "start_time": "2021-09-03T10:57:45.565Z"
   },
   {
    "duration": 2,
    "start_time": "2021-09-03T10:57:46.009Z"
   },
   {
    "duration": 9,
    "start_time": "2021-09-03T10:57:46.013Z"
   },
   {
    "duration": 514,
    "start_time": "2021-09-03T10:57:46.024Z"
   },
   {
    "duration": 517,
    "start_time": "2021-09-03T10:57:46.540Z"
   },
   {
    "duration": 517,
    "start_time": "2021-09-03T10:57:47.059Z"
   },
   {
    "duration": 14,
    "start_time": "2021-09-03T10:57:47.578Z"
   },
   {
    "duration": 10,
    "start_time": "2021-09-03T10:57:47.594Z"
   },
   {
    "duration": 10,
    "start_time": "2021-09-03T10:57:47.605Z"
   },
   {
    "duration": 14,
    "start_time": "2021-09-03T10:57:47.617Z"
   },
   {
    "duration": 21,
    "start_time": "2021-09-03T10:57:47.633Z"
   },
   {
    "duration": 17,
    "start_time": "2021-09-03T10:57:47.656Z"
   },
   {
    "duration": 19,
    "start_time": "2021-09-03T10:59:36.115Z"
   },
   {
    "duration": 20,
    "start_time": "2021-09-03T10:59:59.803Z"
   },
   {
    "duration": 20,
    "start_time": "2021-09-03T11:00:47.654Z"
   },
   {
    "duration": 8,
    "start_time": "2021-09-03T11:01:52.579Z"
   },
   {
    "duration": 19,
    "start_time": "2021-09-03T11:01:53.871Z"
   },
   {
    "duration": 6,
    "start_time": "2021-09-03T11:01:59.294Z"
   },
   {
    "duration": 10,
    "start_time": "2021-09-03T11:02:11.766Z"
   },
   {
    "duration": 29,
    "start_time": "2021-09-03T11:02:13.715Z"
   },
   {
    "duration": 7,
    "start_time": "2021-09-03T11:02:20.910Z"
   },
   {
    "duration": 18,
    "start_time": "2021-09-03T11:02:24.119Z"
   },
   {
    "duration": 7,
    "start_time": "2021-09-03T11:03:51.829Z"
   },
   {
    "duration": 6,
    "start_time": "2021-09-03T11:03:56.070Z"
   },
   {
    "duration": 19,
    "start_time": "2021-09-03T11:03:56.942Z"
   },
   {
    "duration": 6,
    "start_time": "2021-09-03T11:03:59.906Z"
   },
   {
    "duration": 6,
    "start_time": "2021-09-03T11:04:36.943Z"
   },
   {
    "duration": 6,
    "start_time": "2021-09-03T11:04:39.986Z"
   },
   {
    "duration": 6,
    "start_time": "2021-09-03T11:05:46.677Z"
   },
   {
    "duration": 6,
    "start_time": "2021-09-03T11:06:15.874Z"
   },
   {
    "duration": 6,
    "start_time": "2021-09-03T11:06:43.541Z"
   },
   {
    "duration": 6,
    "start_time": "2021-09-03T11:06:44.197Z"
   },
   {
    "duration": 10,
    "start_time": "2021-09-03T11:06:45.969Z"
   },
   {
    "duration": 5,
    "start_time": "2021-09-03T11:06:50.473Z"
   },
   {
    "duration": 7,
    "start_time": "2021-09-03T11:06:51.737Z"
   },
   {
    "duration": 9,
    "start_time": "2021-09-03T11:06:57.425Z"
   },
   {
    "duration": 7,
    "start_time": "2021-09-03T11:08:30.245Z"
   },
   {
    "duration": 6,
    "start_time": "2021-09-03T11:08:31.265Z"
   },
   {
    "duration": 8,
    "start_time": "2021-09-03T11:09:24.905Z"
   },
   {
    "duration": 1179,
    "start_time": "2021-09-03T11:10:22.373Z"
   },
   {
    "duration": 3,
    "start_time": "2021-09-03T11:10:23.554Z"
   },
   {
    "duration": 70,
    "start_time": "2021-09-03T11:10:23.559Z"
   },
   {
    "duration": 12,
    "start_time": "2021-09-03T11:10:23.632Z"
   },
   {
    "duration": 9,
    "start_time": "2021-09-03T11:10:23.647Z"
   },
   {
    "duration": 52,
    "start_time": "2021-09-03T11:10:23.658Z"
   },
   {
    "duration": 13,
    "start_time": "2021-09-03T11:10:23.712Z"
   },
   {
    "duration": 12,
    "start_time": "2021-09-03T11:10:23.728Z"
   },
   {
    "duration": 12,
    "start_time": "2021-09-03T11:10:23.743Z"
   },
   {
    "duration": 39,
    "start_time": "2021-09-03T11:10:23.757Z"
   },
   {
    "duration": 11,
    "start_time": "2021-09-03T11:10:23.798Z"
   },
   {
    "duration": 17,
    "start_time": "2021-09-03T11:10:23.811Z"
   },
   {
    "duration": 18,
    "start_time": "2021-09-03T11:10:23.830Z"
   },
   {
    "duration": 26,
    "start_time": "2021-09-03T11:10:23.850Z"
   },
   {
    "duration": 20,
    "start_time": "2021-09-03T11:10:23.878Z"
   },
   {
    "duration": 35,
    "start_time": "2021-09-03T11:10:23.900Z"
   },
   {
    "duration": 3,
    "start_time": "2021-09-03T11:10:23.937Z"
   },
   {
    "duration": 36,
    "start_time": "2021-09-03T11:10:23.942Z"
   },
   {
    "duration": 16,
    "start_time": "2021-09-03T11:10:23.980Z"
   },
   {
    "duration": 408,
    "start_time": "2021-09-03T11:10:23.998Z"
   },
   {
    "duration": 269,
    "start_time": "2021-09-03T11:10:24.407Z"
   },
   {
    "duration": 15,
    "start_time": "2021-09-03T11:10:24.677Z"
   },
   {
    "duration": 264,
    "start_time": "2021-09-03T11:10:24.695Z"
   },
   {
    "duration": 5,
    "start_time": "2021-09-03T11:10:24.961Z"
   },
   {
    "duration": 27,
    "start_time": "2021-09-03T11:10:24.967Z"
   },
   {
    "duration": 2788,
    "start_time": "2021-09-03T11:10:24.996Z"
   },
   {
    "duration": 9,
    "start_time": "2021-09-03T11:10:27.786Z"
   },
   {
    "duration": 372,
    "start_time": "2021-09-03T11:10:27.797Z"
   },
   {
    "duration": 328,
    "start_time": "2021-09-03T11:10:28.171Z"
   },
   {
    "duration": 325,
    "start_time": "2021-09-03T11:10:28.500Z"
   },
   {
    "duration": 4,
    "start_time": "2021-09-03T11:10:28.827Z"
   },
   {
    "duration": 323,
    "start_time": "2021-09-03T11:10:28.832Z"
   },
   {
    "duration": 312,
    "start_time": "2021-09-03T11:10:29.157Z"
   },
   {
    "duration": 312,
    "start_time": "2021-09-03T11:10:29.471Z"
   },
   {
    "duration": 386,
    "start_time": "2021-09-03T11:10:29.785Z"
   },
   {
    "duration": 285,
    "start_time": "2021-09-03T11:10:30.172Z"
   },
   {
    "duration": 440,
    "start_time": "2021-09-03T11:10:30.458Z"
   },
   {
    "duration": 2,
    "start_time": "2021-09-03T11:10:30.900Z"
   },
   {
    "duration": 25,
    "start_time": "2021-09-03T11:10:30.904Z"
   },
   {
    "duration": 547,
    "start_time": "2021-09-03T11:10:30.931Z"
   },
   {
    "duration": 526,
    "start_time": "2021-09-03T11:10:31.481Z"
   },
   {
    "duration": 526,
    "start_time": "2021-09-03T11:10:32.009Z"
   },
   {
    "duration": 7,
    "start_time": "2021-09-03T11:10:32.537Z"
   },
   {
    "duration": 22,
    "start_time": "2021-09-03T11:10:32.546Z"
   },
   {
    "duration": 21,
    "start_time": "2021-09-03T11:10:32.570Z"
   },
   {
    "duration": 18,
    "start_time": "2021-09-03T11:10:32.593Z"
   },
   {
    "duration": 29,
    "start_time": "2021-09-03T11:10:32.613Z"
   },
   {
    "duration": 24,
    "start_time": "2021-09-03T11:10:32.644Z"
   },
   {
    "duration": 1189,
    "start_time": "2021-09-03T11:13:57.967Z"
   },
   {
    "duration": 3,
    "start_time": "2021-09-03T11:13:59.158Z"
   },
   {
    "duration": 55,
    "start_time": "2021-09-03T11:13:59.164Z"
   },
   {
    "duration": 12,
    "start_time": "2021-09-03T11:13:59.221Z"
   },
   {
    "duration": 10,
    "start_time": "2021-09-03T11:13:59.236Z"
   },
   {
    "duration": 56,
    "start_time": "2021-09-03T11:13:59.248Z"
   },
   {
    "duration": 13,
    "start_time": "2021-09-03T11:13:59.306Z"
   },
   {
    "duration": 8,
    "start_time": "2021-09-03T11:13:59.323Z"
   },
   {
    "duration": 11,
    "start_time": "2021-09-03T11:13:59.333Z"
   },
   {
    "duration": 10,
    "start_time": "2021-09-03T11:13:59.346Z"
   },
   {
    "duration": 40,
    "start_time": "2021-09-03T11:13:59.357Z"
   },
   {
    "duration": 4,
    "start_time": "2021-09-03T11:13:59.399Z"
   },
   {
    "duration": 7,
    "start_time": "2021-09-03T11:13:59.404Z"
   },
   {
    "duration": 19,
    "start_time": "2021-09-03T11:13:59.412Z"
   },
   {
    "duration": 9,
    "start_time": "2021-09-03T11:13:59.432Z"
   },
   {
    "duration": 32,
    "start_time": "2021-09-03T11:13:59.443Z"
   },
   {
    "duration": 4,
    "start_time": "2021-09-03T11:13:59.491Z"
   },
   {
    "duration": 34,
    "start_time": "2021-09-03T11:13:59.497Z"
   },
   {
    "duration": 5,
    "start_time": "2021-09-03T11:13:59.533Z"
   },
   {
    "duration": 413,
    "start_time": "2021-09-03T11:13:59.540Z"
   },
   {
    "duration": 378,
    "start_time": "2021-09-03T11:13:59.955Z"
   },
   {
    "duration": 7,
    "start_time": "2021-09-03T11:14:00.335Z"
   },
   {
    "duration": 270,
    "start_time": "2021-09-03T11:14:00.346Z"
   },
   {
    "duration": 4,
    "start_time": "2021-09-03T11:14:00.618Z"
   },
   {
    "duration": 21,
    "start_time": "2021-09-03T11:14:00.624Z"
   },
   {
    "duration": 3096,
    "start_time": "2021-09-03T11:14:00.647Z"
   },
   {
    "duration": 8,
    "start_time": "2021-09-03T11:14:03.745Z"
   },
   {
    "duration": 368,
    "start_time": "2021-09-03T11:14:03.755Z"
   },
   {
    "duration": 339,
    "start_time": "2021-09-03T11:14:04.125Z"
   },
   {
    "duration": 330,
    "start_time": "2021-09-03T11:14:04.466Z"
   },
   {
    "duration": 4,
    "start_time": "2021-09-03T11:14:04.798Z"
   },
   {
    "duration": 282,
    "start_time": "2021-09-03T11:14:04.804Z"
   },
   {
    "duration": 292,
    "start_time": "2021-09-03T11:14:05.092Z"
   },
   {
    "duration": 293,
    "start_time": "2021-09-03T11:14:05.392Z"
   },
   {
    "duration": 385,
    "start_time": "2021-09-03T11:14:05.691Z"
   },
   {
    "duration": 277,
    "start_time": "2021-09-03T11:14:06.077Z"
   },
   {
    "duration": 441,
    "start_time": "2021-09-03T11:14:06.356Z"
   },
   {
    "duration": 2,
    "start_time": "2021-09-03T11:14:06.799Z"
   },
   {
    "duration": 13,
    "start_time": "2021-09-03T11:14:06.802Z"
   },
   {
    "duration": 510,
    "start_time": "2021-09-03T11:14:06.817Z"
   },
   {
    "duration": 508,
    "start_time": "2021-09-03T11:14:07.329Z"
   },
   {
    "duration": 509,
    "start_time": "2021-09-03T11:14:07.838Z"
   },
   {
    "duration": 6,
    "start_time": "2021-09-03T11:14:08.349Z"
   },
   {
    "duration": 39,
    "start_time": "2021-09-03T11:14:08.356Z"
   },
   {
    "duration": 17,
    "start_time": "2021-09-03T11:14:08.397Z"
   },
   {
    "duration": 18,
    "start_time": "2021-09-03T11:14:08.415Z"
   },
   {
    "duration": 36,
    "start_time": "2021-09-03T11:14:08.435Z"
   },
   {
    "duration": 27,
    "start_time": "2021-09-03T11:14:08.472Z"
   },
   {
    "duration": 1570,
    "start_time": "2021-09-04T09:30:27.292Z"
   },
   {
    "duration": 3,
    "start_time": "2021-09-04T09:30:28.865Z"
   },
   {
    "duration": 72,
    "start_time": "2021-09-04T09:30:28.870Z"
   },
   {
    "duration": 14,
    "start_time": "2021-09-04T09:30:28.944Z"
   },
   {
    "duration": 11,
    "start_time": "2021-09-04T09:30:28.961Z"
   },
   {
    "duration": 44,
    "start_time": "2021-09-04T09:30:28.974Z"
   },
   {
    "duration": 18,
    "start_time": "2021-09-04T09:30:29.021Z"
   },
   {
    "duration": 10,
    "start_time": "2021-09-04T09:30:29.043Z"
   },
   {
    "duration": 22,
    "start_time": "2021-09-04T09:30:29.056Z"
   },
   {
    "duration": 13,
    "start_time": "2021-09-04T09:30:29.080Z"
   },
   {
    "duration": 13,
    "start_time": "2021-09-04T09:30:29.096Z"
   },
   {
    "duration": 5,
    "start_time": "2021-09-04T09:30:29.111Z"
   },
   {
    "duration": 7,
    "start_time": "2021-09-04T09:30:29.118Z"
   },
   {
    "duration": 21,
    "start_time": "2021-09-04T09:30:29.127Z"
   },
   {
    "duration": 18,
    "start_time": "2021-09-04T09:30:29.150Z"
   },
   {
    "duration": 58,
    "start_time": "2021-09-04T09:30:29.171Z"
   },
   {
    "duration": 5,
    "start_time": "2021-09-04T09:30:29.231Z"
   },
   {
    "duration": 55,
    "start_time": "2021-09-04T09:30:29.238Z"
   },
   {
    "duration": 9,
    "start_time": "2021-09-04T09:30:29.296Z"
   },
   {
    "duration": 977,
    "start_time": "2021-09-04T09:30:29.307Z"
   },
   {
    "duration": 480,
    "start_time": "2021-09-04T09:30:30.287Z"
   },
   {
    "duration": 11,
    "start_time": "2021-09-04T09:30:30.770Z"
   },
   {
    "duration": 449,
    "start_time": "2021-09-04T09:30:30.788Z"
   },
   {
    "duration": 7,
    "start_time": "2021-09-04T09:30:31.241Z"
   },
   {
    "duration": 32,
    "start_time": "2021-09-04T09:30:31.250Z"
   },
   {
    "duration": 4668,
    "start_time": "2021-09-04T09:30:31.284Z"
   },
   {
    "duration": 15,
    "start_time": "2021-09-04T09:30:35.955Z"
   },
   {
    "duration": 614,
    "start_time": "2021-09-04T09:30:35.972Z"
   },
   {
    "duration": 563,
    "start_time": "2021-09-04T09:30:36.589Z"
   },
   {
    "duration": 571,
    "start_time": "2021-09-04T09:30:37.154Z"
   },
   {
    "duration": 5,
    "start_time": "2021-09-04T09:30:37.728Z"
   },
   {
    "duration": 430,
    "start_time": "2021-09-04T09:30:37.736Z"
   },
   {
    "duration": 409,
    "start_time": "2021-09-04T09:30:38.169Z"
   },
   {
    "duration": 446,
    "start_time": "2021-09-04T09:30:38.581Z"
   },
   {
    "duration": 520,
    "start_time": "2021-09-04T09:30:39.029Z"
   },
   {
    "duration": 479,
    "start_time": "2021-09-04T09:30:39.552Z"
   },
   {
    "duration": 771,
    "start_time": "2021-09-04T09:30:40.033Z"
   },
   {
    "duration": 3,
    "start_time": "2021-09-04T09:30:40.806Z"
   },
   {
    "duration": 8,
    "start_time": "2021-09-04T09:30:40.812Z"
   },
   {
    "duration": 895,
    "start_time": "2021-09-04T09:30:40.822Z"
   },
   {
    "duration": 865,
    "start_time": "2021-09-04T09:30:41.720Z"
   },
   {
    "duration": 890,
    "start_time": "2021-09-04T09:30:42.587Z"
   },
   {
    "duration": 9,
    "start_time": "2021-09-04T09:30:43.480Z"
   },
   {
    "duration": 13,
    "start_time": "2021-09-04T09:30:43.491Z"
   },
   {
    "duration": 13,
    "start_time": "2021-09-04T09:30:43.507Z"
   },
   {
    "duration": 7,
    "start_time": "2021-09-04T09:30:43.523Z"
   },
   {
    "duration": 41,
    "start_time": "2021-09-04T09:30:43.533Z"
   },
   {
    "duration": 14,
    "start_time": "2021-09-04T09:30:43.576Z"
   }
  ],
  "kernelspec": {
   "display_name": "Python 3 (ipykernel)",
   "language": "python",
   "name": "python3"
  },
  "language_info": {
   "codemirror_mode": {
    "name": "ipython",
    "version": 3
   },
   "file_extension": ".py",
   "mimetype": "text/x-python",
   "name": "python",
   "nbconvert_exporter": "python",
   "pygments_lexer": "ipython3",
   "version": "3.9.7"
  },
  "toc": {
   "base_numbering": 1,
   "nav_menu": {},
   "number_sections": true,
   "sideBar": true,
   "skip_h1_title": true,
   "title_cell": "Table of Contents",
   "title_sidebar": "Contents",
   "toc_cell": false,
   "toc_position": {},
   "toc_section_display": true,
   "toc_window_display": false
  }
 },
 "nbformat": 4,
 "nbformat_minor": 2
}
