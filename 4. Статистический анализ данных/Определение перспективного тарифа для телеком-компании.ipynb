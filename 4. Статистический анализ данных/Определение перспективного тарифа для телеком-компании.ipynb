{
 "cells": [
  {
   "cell_type": "markdown",
   "metadata": {},
   "source": [
    "## Изучение общей информации\n",
    "Путь к файлам:\n",
    "\n",
    "/datasets/calls.csv. Скачать датасет\n",
    "\n",
    "/datasets/internet.csv. Скачать датасет\n",
    "\n",
    "/datasets/messages.csv. Скачать датасет\n",
    "\n",
    "/datasets/tariffs.csv. Скачать датасет\n",
    "\n",
    "/datasets/users.csv. Скачать датасет"
   ]
  },
  {
   "cell_type": "code",
   "execution_count": 76,
   "metadata": {},
   "outputs": [],
   "source": [
    "import pandas as pd\n",
    "import matplotlib.pyplot as plt\n",
    "import numpy as np\n",
    "from IPython.display import display\n",
    "import math\n",
    "from statsmodels.stats import weightstats as stests\n",
    "import seaborn as sns\n",
    "from scipy import stats as st\n",
    "\n",
    "pd.set_option('display.max_columns', 50)\n",
    "\n"
   ]
  },
  {
   "cell_type": "markdown",
   "metadata": {},
   "source": [
    "Импортируем необходимые библиотеки"
   ]
  },
  {
   "cell_type": "code",
   "execution_count": 77,
   "metadata": {},
   "outputs": [],
   "source": [
    "calls = pd.read_csv('/datasets/calls.csv')\n",
    "internet = pd.read_csv('/datasets/internet.csv')\n",
    "messages = pd.read_csv('/datasets/messages.csv')\n",
    "tariffs = pd.read_csv('/datasets/tariffs.csv')\n",
    "users = pd.read_csv('/datasets/users.csv')\n",
    "\n"
   ]
  },
  {
   "cell_type": "markdown",
   "metadata": {},
   "source": [
    "Читаем необходимые файлы. Через фукцию выводим по ним необходимую информацию."
   ]
  },
  {
   "cell_type": "code",
   "execution_count": 78,
   "metadata": {},
   "outputs": [
    {
     "data": {
      "text/html": [
       "<div>\n",
       "<style scoped>\n",
       "    .dataframe tbody tr th:only-of-type {\n",
       "        vertical-align: middle;\n",
       "    }\n",
       "\n",
       "    .dataframe tbody tr th {\n",
       "        vertical-align: top;\n",
       "    }\n",
       "\n",
       "    .dataframe thead th {\n",
       "        text-align: right;\n",
       "    }\n",
       "</style>\n",
       "<table border=\"1\" class=\"dataframe\">\n",
       "  <thead>\n",
       "    <tr style=\"text-align: right;\">\n",
       "      <th></th>\n",
       "      <th>id</th>\n",
       "      <th>call_date</th>\n",
       "      <th>duration</th>\n",
       "      <th>user_id</th>\n",
       "    </tr>\n",
       "  </thead>\n",
       "  <tbody>\n",
       "    <tr>\n",
       "      <td>0</td>\n",
       "      <td>1000_0</td>\n",
       "      <td>2018-07-25</td>\n",
       "      <td>0.00</td>\n",
       "      <td>1000</td>\n",
       "    </tr>\n",
       "    <tr>\n",
       "      <td>1</td>\n",
       "      <td>1000_1</td>\n",
       "      <td>2018-08-17</td>\n",
       "      <td>0.00</td>\n",
       "      <td>1000</td>\n",
       "    </tr>\n",
       "    <tr>\n",
       "      <td>2</td>\n",
       "      <td>1000_2</td>\n",
       "      <td>2018-06-11</td>\n",
       "      <td>2.85</td>\n",
       "      <td>1000</td>\n",
       "    </tr>\n",
       "    <tr>\n",
       "      <td>3</td>\n",
       "      <td>1000_3</td>\n",
       "      <td>2018-09-21</td>\n",
       "      <td>13.80</td>\n",
       "      <td>1000</td>\n",
       "    </tr>\n",
       "    <tr>\n",
       "      <td>4</td>\n",
       "      <td>1000_4</td>\n",
       "      <td>2018-12-15</td>\n",
       "      <td>5.18</td>\n",
       "      <td>1000</td>\n",
       "    </tr>\n",
       "  </tbody>\n",
       "</table>\n",
       "</div>"
      ],
      "text/plain": [
       "       id   call_date  duration  user_id\n",
       "0  1000_0  2018-07-25      0.00     1000\n",
       "1  1000_1  2018-08-17      0.00     1000\n",
       "2  1000_2  2018-06-11      2.85     1000\n",
       "3  1000_3  2018-09-21     13.80     1000\n",
       "4  1000_4  2018-12-15      5.18     1000"
      ]
     },
     "metadata": {},
     "output_type": "display_data"
    },
    {
     "name": "stdout",
     "output_type": "stream",
     "text": [
      "<class 'pandas.core.frame.DataFrame'>\n",
      "RangeIndex: 202607 entries, 0 to 202606\n",
      "Data columns (total 4 columns):\n",
      "id           202607 non-null object\n",
      "call_date    202607 non-null object\n",
      "duration     202607 non-null float64\n",
      "user_id      202607 non-null int64\n",
      "dtypes: float64(1), int64(1), object(2)\n",
      "memory usage: 6.2+ MB\n"
     ]
    },
    {
     "data": {
      "text/plain": [
       "id           0\n",
       "call_date    0\n",
       "duration     0\n",
       "user_id      0\n",
       "dtype: int64"
      ]
     },
     "metadata": {},
     "output_type": "display_data"
    },
    {
     "data": {
      "text/html": [
       "<div>\n",
       "<style scoped>\n",
       "    .dataframe tbody tr th:only-of-type {\n",
       "        vertical-align: middle;\n",
       "    }\n",
       "\n",
       "    .dataframe tbody tr th {\n",
       "        vertical-align: top;\n",
       "    }\n",
       "\n",
       "    .dataframe thead th {\n",
       "        text-align: right;\n",
       "    }\n",
       "</style>\n",
       "<table border=\"1\" class=\"dataframe\">\n",
       "  <thead>\n",
       "    <tr style=\"text-align: right;\">\n",
       "      <th></th>\n",
       "      <th>duration</th>\n",
       "      <th>user_id</th>\n",
       "    </tr>\n",
       "  </thead>\n",
       "  <tbody>\n",
       "    <tr>\n",
       "      <td>count</td>\n",
       "      <td>202607.000000</td>\n",
       "      <td>202607.000000</td>\n",
       "    </tr>\n",
       "    <tr>\n",
       "      <td>mean</td>\n",
       "      <td>6.755887</td>\n",
       "      <td>1253.940619</td>\n",
       "    </tr>\n",
       "    <tr>\n",
       "      <td>std</td>\n",
       "      <td>5.843365</td>\n",
       "      <td>144.722751</td>\n",
       "    </tr>\n",
       "    <tr>\n",
       "      <td>min</td>\n",
       "      <td>0.000000</td>\n",
       "      <td>1000.000000</td>\n",
       "    </tr>\n",
       "    <tr>\n",
       "      <td>25%</td>\n",
       "      <td>1.300000</td>\n",
       "      <td>1126.000000</td>\n",
       "    </tr>\n",
       "    <tr>\n",
       "      <td>50%</td>\n",
       "      <td>6.000000</td>\n",
       "      <td>1260.000000</td>\n",
       "    </tr>\n",
       "    <tr>\n",
       "      <td>75%</td>\n",
       "      <td>10.700000</td>\n",
       "      <td>1379.000000</td>\n",
       "    </tr>\n",
       "    <tr>\n",
       "      <td>max</td>\n",
       "      <td>38.000000</td>\n",
       "      <td>1499.000000</td>\n",
       "    </tr>\n",
       "  </tbody>\n",
       "</table>\n",
       "</div>"
      ],
      "text/plain": [
       "            duration        user_id\n",
       "count  202607.000000  202607.000000\n",
       "mean        6.755887    1253.940619\n",
       "std         5.843365     144.722751\n",
       "min         0.000000    1000.000000\n",
       "25%         1.300000    1126.000000\n",
       "50%         6.000000    1260.000000\n",
       "75%        10.700000    1379.000000\n",
       "max        38.000000    1499.000000"
      ]
     },
     "metadata": {},
     "output_type": "display_data"
    },
    {
     "data": {
      "text/html": [
       "<div>\n",
       "<style scoped>\n",
       "    .dataframe tbody tr th:only-of-type {\n",
       "        vertical-align: middle;\n",
       "    }\n",
       "\n",
       "    .dataframe tbody tr th {\n",
       "        vertical-align: top;\n",
       "    }\n",
       "\n",
       "    .dataframe thead th {\n",
       "        text-align: right;\n",
       "    }\n",
       "</style>\n",
       "<table border=\"1\" class=\"dataframe\">\n",
       "  <thead>\n",
       "    <tr style=\"text-align: right;\">\n",
       "      <th></th>\n",
       "      <th>Unnamed: 0</th>\n",
       "      <th>id</th>\n",
       "      <th>mb_used</th>\n",
       "      <th>session_date</th>\n",
       "      <th>user_id</th>\n",
       "    </tr>\n",
       "  </thead>\n",
       "  <tbody>\n",
       "    <tr>\n",
       "      <td>0</td>\n",
       "      <td>0</td>\n",
       "      <td>1000_0</td>\n",
       "      <td>112.95</td>\n",
       "      <td>2018-11-25</td>\n",
       "      <td>1000</td>\n",
       "    </tr>\n",
       "    <tr>\n",
       "      <td>1</td>\n",
       "      <td>1</td>\n",
       "      <td>1000_1</td>\n",
       "      <td>1052.81</td>\n",
       "      <td>2018-09-07</td>\n",
       "      <td>1000</td>\n",
       "    </tr>\n",
       "    <tr>\n",
       "      <td>2</td>\n",
       "      <td>2</td>\n",
       "      <td>1000_2</td>\n",
       "      <td>1197.26</td>\n",
       "      <td>2018-06-25</td>\n",
       "      <td>1000</td>\n",
       "    </tr>\n",
       "    <tr>\n",
       "      <td>3</td>\n",
       "      <td>3</td>\n",
       "      <td>1000_3</td>\n",
       "      <td>550.27</td>\n",
       "      <td>2018-08-22</td>\n",
       "      <td>1000</td>\n",
       "    </tr>\n",
       "    <tr>\n",
       "      <td>4</td>\n",
       "      <td>4</td>\n",
       "      <td>1000_4</td>\n",
       "      <td>302.56</td>\n",
       "      <td>2018-09-24</td>\n",
       "      <td>1000</td>\n",
       "    </tr>\n",
       "  </tbody>\n",
       "</table>\n",
       "</div>"
      ],
      "text/plain": [
       "   Unnamed: 0      id  mb_used session_date  user_id\n",
       "0           0  1000_0   112.95   2018-11-25     1000\n",
       "1           1  1000_1  1052.81   2018-09-07     1000\n",
       "2           2  1000_2  1197.26   2018-06-25     1000\n",
       "3           3  1000_3   550.27   2018-08-22     1000\n",
       "4           4  1000_4   302.56   2018-09-24     1000"
      ]
     },
     "metadata": {},
     "output_type": "display_data"
    },
    {
     "name": "stdout",
     "output_type": "stream",
     "text": [
      "<class 'pandas.core.frame.DataFrame'>\n",
      "RangeIndex: 149396 entries, 0 to 149395\n",
      "Data columns (total 5 columns):\n",
      "Unnamed: 0      149396 non-null int64\n",
      "id              149396 non-null object\n",
      "mb_used         149396 non-null float64\n",
      "session_date    149396 non-null object\n",
      "user_id         149396 non-null int64\n",
      "dtypes: float64(1), int64(2), object(2)\n",
      "memory usage: 5.7+ MB\n"
     ]
    },
    {
     "data": {
      "text/plain": [
       "Unnamed: 0      0\n",
       "id              0\n",
       "mb_used         0\n",
       "session_date    0\n",
       "user_id         0\n",
       "dtype: int64"
      ]
     },
     "metadata": {},
     "output_type": "display_data"
    },
    {
     "data": {
      "text/html": [
       "<div>\n",
       "<style scoped>\n",
       "    .dataframe tbody tr th:only-of-type {\n",
       "        vertical-align: middle;\n",
       "    }\n",
       "\n",
       "    .dataframe tbody tr th {\n",
       "        vertical-align: top;\n",
       "    }\n",
       "\n",
       "    .dataframe thead th {\n",
       "        text-align: right;\n",
       "    }\n",
       "</style>\n",
       "<table border=\"1\" class=\"dataframe\">\n",
       "  <thead>\n",
       "    <tr style=\"text-align: right;\">\n",
       "      <th></th>\n",
       "      <th>Unnamed: 0</th>\n",
       "      <th>mb_used</th>\n",
       "      <th>user_id</th>\n",
       "    </tr>\n",
       "  </thead>\n",
       "  <tbody>\n",
       "    <tr>\n",
       "      <td>count</td>\n",
       "      <td>149396.000000</td>\n",
       "      <td>149396.000000</td>\n",
       "      <td>149396.000000</td>\n",
       "    </tr>\n",
       "    <tr>\n",
       "      <td>mean</td>\n",
       "      <td>74697.500000</td>\n",
       "      <td>370.192426</td>\n",
       "      <td>1252.099842</td>\n",
       "    </tr>\n",
       "    <tr>\n",
       "      <td>std</td>\n",
       "      <td>43127.054745</td>\n",
       "      <td>278.300951</td>\n",
       "      <td>144.050823</td>\n",
       "    </tr>\n",
       "    <tr>\n",
       "      <td>min</td>\n",
       "      <td>0.000000</td>\n",
       "      <td>0.000000</td>\n",
       "      <td>1000.000000</td>\n",
       "    </tr>\n",
       "    <tr>\n",
       "      <td>25%</td>\n",
       "      <td>37348.750000</td>\n",
       "      <td>138.187500</td>\n",
       "      <td>1130.000000</td>\n",
       "    </tr>\n",
       "    <tr>\n",
       "      <td>50%</td>\n",
       "      <td>74697.500000</td>\n",
       "      <td>348.015000</td>\n",
       "      <td>1251.000000</td>\n",
       "    </tr>\n",
       "    <tr>\n",
       "      <td>75%</td>\n",
       "      <td>112046.250000</td>\n",
       "      <td>559.552500</td>\n",
       "      <td>1380.000000</td>\n",
       "    </tr>\n",
       "    <tr>\n",
       "      <td>max</td>\n",
       "      <td>149395.000000</td>\n",
       "      <td>1724.830000</td>\n",
       "      <td>1499.000000</td>\n",
       "    </tr>\n",
       "  </tbody>\n",
       "</table>\n",
       "</div>"
      ],
      "text/plain": [
       "          Unnamed: 0        mb_used        user_id\n",
       "count  149396.000000  149396.000000  149396.000000\n",
       "mean    74697.500000     370.192426    1252.099842\n",
       "std     43127.054745     278.300951     144.050823\n",
       "min         0.000000       0.000000    1000.000000\n",
       "25%     37348.750000     138.187500    1130.000000\n",
       "50%     74697.500000     348.015000    1251.000000\n",
       "75%    112046.250000     559.552500    1380.000000\n",
       "max    149395.000000    1724.830000    1499.000000"
      ]
     },
     "metadata": {},
     "output_type": "display_data"
    },
    {
     "data": {
      "text/html": [
       "<div>\n",
       "<style scoped>\n",
       "    .dataframe tbody tr th:only-of-type {\n",
       "        vertical-align: middle;\n",
       "    }\n",
       "\n",
       "    .dataframe tbody tr th {\n",
       "        vertical-align: top;\n",
       "    }\n",
       "\n",
       "    .dataframe thead th {\n",
       "        text-align: right;\n",
       "    }\n",
       "</style>\n",
       "<table border=\"1\" class=\"dataframe\">\n",
       "  <thead>\n",
       "    <tr style=\"text-align: right;\">\n",
       "      <th></th>\n",
       "      <th>id</th>\n",
       "      <th>message_date</th>\n",
       "      <th>user_id</th>\n",
       "    </tr>\n",
       "  </thead>\n",
       "  <tbody>\n",
       "    <tr>\n",
       "      <td>0</td>\n",
       "      <td>1000_0</td>\n",
       "      <td>2018-06-27</td>\n",
       "      <td>1000</td>\n",
       "    </tr>\n",
       "    <tr>\n",
       "      <td>1</td>\n",
       "      <td>1000_1</td>\n",
       "      <td>2018-10-08</td>\n",
       "      <td>1000</td>\n",
       "    </tr>\n",
       "    <tr>\n",
       "      <td>2</td>\n",
       "      <td>1000_2</td>\n",
       "      <td>2018-08-04</td>\n",
       "      <td>1000</td>\n",
       "    </tr>\n",
       "    <tr>\n",
       "      <td>3</td>\n",
       "      <td>1000_3</td>\n",
       "      <td>2018-06-16</td>\n",
       "      <td>1000</td>\n",
       "    </tr>\n",
       "    <tr>\n",
       "      <td>4</td>\n",
       "      <td>1000_4</td>\n",
       "      <td>2018-12-05</td>\n",
       "      <td>1000</td>\n",
       "    </tr>\n",
       "  </tbody>\n",
       "</table>\n",
       "</div>"
      ],
      "text/plain": [
       "       id message_date  user_id\n",
       "0  1000_0   2018-06-27     1000\n",
       "1  1000_1   2018-10-08     1000\n",
       "2  1000_2   2018-08-04     1000\n",
       "3  1000_3   2018-06-16     1000\n",
       "4  1000_4   2018-12-05     1000"
      ]
     },
     "metadata": {},
     "output_type": "display_data"
    },
    {
     "name": "stdout",
     "output_type": "stream",
     "text": [
      "<class 'pandas.core.frame.DataFrame'>\n",
      "RangeIndex: 123036 entries, 0 to 123035\n",
      "Data columns (total 3 columns):\n",
      "id              123036 non-null object\n",
      "message_date    123036 non-null object\n",
      "user_id         123036 non-null int64\n",
      "dtypes: int64(1), object(2)\n",
      "memory usage: 2.8+ MB\n"
     ]
    },
    {
     "data": {
      "text/plain": [
       "id              0\n",
       "message_date    0\n",
       "user_id         0\n",
       "dtype: int64"
      ]
     },
     "metadata": {},
     "output_type": "display_data"
    },
    {
     "data": {
      "text/html": [
       "<div>\n",
       "<style scoped>\n",
       "    .dataframe tbody tr th:only-of-type {\n",
       "        vertical-align: middle;\n",
       "    }\n",
       "\n",
       "    .dataframe tbody tr th {\n",
       "        vertical-align: top;\n",
       "    }\n",
       "\n",
       "    .dataframe thead th {\n",
       "        text-align: right;\n",
       "    }\n",
       "</style>\n",
       "<table border=\"1\" class=\"dataframe\">\n",
       "  <thead>\n",
       "    <tr style=\"text-align: right;\">\n",
       "      <th></th>\n",
       "      <th>user_id</th>\n",
       "    </tr>\n",
       "  </thead>\n",
       "  <tbody>\n",
       "    <tr>\n",
       "      <td>count</td>\n",
       "      <td>123036.000000</td>\n",
       "    </tr>\n",
       "    <tr>\n",
       "      <td>mean</td>\n",
       "      <td>1256.989410</td>\n",
       "    </tr>\n",
       "    <tr>\n",
       "      <td>std</td>\n",
       "      <td>143.523967</td>\n",
       "    </tr>\n",
       "    <tr>\n",
       "      <td>min</td>\n",
       "      <td>1000.000000</td>\n",
       "    </tr>\n",
       "    <tr>\n",
       "      <td>25%</td>\n",
       "      <td>1134.000000</td>\n",
       "    </tr>\n",
       "    <tr>\n",
       "      <td>50%</td>\n",
       "      <td>1271.000000</td>\n",
       "    </tr>\n",
       "    <tr>\n",
       "      <td>75%</td>\n",
       "      <td>1381.000000</td>\n",
       "    </tr>\n",
       "    <tr>\n",
       "      <td>max</td>\n",
       "      <td>1499.000000</td>\n",
       "    </tr>\n",
       "  </tbody>\n",
       "</table>\n",
       "</div>"
      ],
      "text/plain": [
       "             user_id\n",
       "count  123036.000000\n",
       "mean     1256.989410\n",
       "std       143.523967\n",
       "min      1000.000000\n",
       "25%      1134.000000\n",
       "50%      1271.000000\n",
       "75%      1381.000000\n",
       "max      1499.000000"
      ]
     },
     "metadata": {},
     "output_type": "display_data"
    },
    {
     "data": {
      "text/html": [
       "<div>\n",
       "<style scoped>\n",
       "    .dataframe tbody tr th:only-of-type {\n",
       "        vertical-align: middle;\n",
       "    }\n",
       "\n",
       "    .dataframe tbody tr th {\n",
       "        vertical-align: top;\n",
       "    }\n",
       "\n",
       "    .dataframe thead th {\n",
       "        text-align: right;\n",
       "    }\n",
       "</style>\n",
       "<table border=\"1\" class=\"dataframe\">\n",
       "  <thead>\n",
       "    <tr style=\"text-align: right;\">\n",
       "      <th></th>\n",
       "      <th>messages_included</th>\n",
       "      <th>mb_per_month_included</th>\n",
       "      <th>minutes_included</th>\n",
       "      <th>rub_monthly_fee</th>\n",
       "      <th>rub_per_gb</th>\n",
       "      <th>rub_per_message</th>\n",
       "      <th>rub_per_minute</th>\n",
       "      <th>tariff_name</th>\n",
       "    </tr>\n",
       "  </thead>\n",
       "  <tbody>\n",
       "    <tr>\n",
       "      <td>0</td>\n",
       "      <td>50</td>\n",
       "      <td>15360</td>\n",
       "      <td>500</td>\n",
       "      <td>550</td>\n",
       "      <td>200</td>\n",
       "      <td>3</td>\n",
       "      <td>3</td>\n",
       "      <td>smart</td>\n",
       "    </tr>\n",
       "    <tr>\n",
       "      <td>1</td>\n",
       "      <td>1000</td>\n",
       "      <td>30720</td>\n",
       "      <td>3000</td>\n",
       "      <td>1950</td>\n",
       "      <td>150</td>\n",
       "      <td>1</td>\n",
       "      <td>1</td>\n",
       "      <td>ultra</td>\n",
       "    </tr>\n",
       "  </tbody>\n",
       "</table>\n",
       "</div>"
      ],
      "text/plain": [
       "   messages_included  mb_per_month_included  minutes_included  \\\n",
       "0                 50                  15360               500   \n",
       "1               1000                  30720              3000   \n",
       "\n",
       "   rub_monthly_fee  rub_per_gb  rub_per_message  rub_per_minute tariff_name  \n",
       "0              550         200                3               3       smart  \n",
       "1             1950         150                1               1       ultra  "
      ]
     },
     "metadata": {},
     "output_type": "display_data"
    },
    {
     "name": "stdout",
     "output_type": "stream",
     "text": [
      "<class 'pandas.core.frame.DataFrame'>\n",
      "RangeIndex: 2 entries, 0 to 1\n",
      "Data columns (total 8 columns):\n",
      "messages_included        2 non-null int64\n",
      "mb_per_month_included    2 non-null int64\n",
      "minutes_included         2 non-null int64\n",
      "rub_monthly_fee          2 non-null int64\n",
      "rub_per_gb               2 non-null int64\n",
      "rub_per_message          2 non-null int64\n",
      "rub_per_minute           2 non-null int64\n",
      "tariff_name              2 non-null object\n",
      "dtypes: int64(7), object(1)\n",
      "memory usage: 256.0+ bytes\n"
     ]
    },
    {
     "data": {
      "text/plain": [
       "messages_included        0\n",
       "mb_per_month_included    0\n",
       "minutes_included         0\n",
       "rub_monthly_fee          0\n",
       "rub_per_gb               0\n",
       "rub_per_message          0\n",
       "rub_per_minute           0\n",
       "tariff_name              0\n",
       "dtype: int64"
      ]
     },
     "metadata": {},
     "output_type": "display_data"
    },
    {
     "data": {
      "text/html": [
       "<div>\n",
       "<style scoped>\n",
       "    .dataframe tbody tr th:only-of-type {\n",
       "        vertical-align: middle;\n",
       "    }\n",
       "\n",
       "    .dataframe tbody tr th {\n",
       "        vertical-align: top;\n",
       "    }\n",
       "\n",
       "    .dataframe thead th {\n",
       "        text-align: right;\n",
       "    }\n",
       "</style>\n",
       "<table border=\"1\" class=\"dataframe\">\n",
       "  <thead>\n",
       "    <tr style=\"text-align: right;\">\n",
       "      <th></th>\n",
       "      <th>messages_included</th>\n",
       "      <th>mb_per_month_included</th>\n",
       "      <th>minutes_included</th>\n",
       "      <th>rub_monthly_fee</th>\n",
       "      <th>rub_per_gb</th>\n",
       "      <th>rub_per_message</th>\n",
       "      <th>rub_per_minute</th>\n",
       "    </tr>\n",
       "  </thead>\n",
       "  <tbody>\n",
       "    <tr>\n",
       "      <td>count</td>\n",
       "      <td>2.000000</td>\n",
       "      <td>2.000000</td>\n",
       "      <td>2.000000</td>\n",
       "      <td>2.000000</td>\n",
       "      <td>2.000000</td>\n",
       "      <td>2.000000</td>\n",
       "      <td>2.000000</td>\n",
       "    </tr>\n",
       "    <tr>\n",
       "      <td>mean</td>\n",
       "      <td>525.000000</td>\n",
       "      <td>23040.000000</td>\n",
       "      <td>1750.000000</td>\n",
       "      <td>1250.000000</td>\n",
       "      <td>175.000000</td>\n",
       "      <td>2.000000</td>\n",
       "      <td>2.000000</td>\n",
       "    </tr>\n",
       "    <tr>\n",
       "      <td>std</td>\n",
       "      <td>671.751442</td>\n",
       "      <td>10861.160159</td>\n",
       "      <td>1767.766953</td>\n",
       "      <td>989.949494</td>\n",
       "      <td>35.355339</td>\n",
       "      <td>1.414214</td>\n",
       "      <td>1.414214</td>\n",
       "    </tr>\n",
       "    <tr>\n",
       "      <td>min</td>\n",
       "      <td>50.000000</td>\n",
       "      <td>15360.000000</td>\n",
       "      <td>500.000000</td>\n",
       "      <td>550.000000</td>\n",
       "      <td>150.000000</td>\n",
       "      <td>1.000000</td>\n",
       "      <td>1.000000</td>\n",
       "    </tr>\n",
       "    <tr>\n",
       "      <td>25%</td>\n",
       "      <td>287.500000</td>\n",
       "      <td>19200.000000</td>\n",
       "      <td>1125.000000</td>\n",
       "      <td>900.000000</td>\n",
       "      <td>162.500000</td>\n",
       "      <td>1.500000</td>\n",
       "      <td>1.500000</td>\n",
       "    </tr>\n",
       "    <tr>\n",
       "      <td>50%</td>\n",
       "      <td>525.000000</td>\n",
       "      <td>23040.000000</td>\n",
       "      <td>1750.000000</td>\n",
       "      <td>1250.000000</td>\n",
       "      <td>175.000000</td>\n",
       "      <td>2.000000</td>\n",
       "      <td>2.000000</td>\n",
       "    </tr>\n",
       "    <tr>\n",
       "      <td>75%</td>\n",
       "      <td>762.500000</td>\n",
       "      <td>26880.000000</td>\n",
       "      <td>2375.000000</td>\n",
       "      <td>1600.000000</td>\n",
       "      <td>187.500000</td>\n",
       "      <td>2.500000</td>\n",
       "      <td>2.500000</td>\n",
       "    </tr>\n",
       "    <tr>\n",
       "      <td>max</td>\n",
       "      <td>1000.000000</td>\n",
       "      <td>30720.000000</td>\n",
       "      <td>3000.000000</td>\n",
       "      <td>1950.000000</td>\n",
       "      <td>200.000000</td>\n",
       "      <td>3.000000</td>\n",
       "      <td>3.000000</td>\n",
       "    </tr>\n",
       "  </tbody>\n",
       "</table>\n",
       "</div>"
      ],
      "text/plain": [
       "       messages_included  mb_per_month_included  minutes_included  \\\n",
       "count           2.000000               2.000000          2.000000   \n",
       "mean          525.000000           23040.000000       1750.000000   \n",
       "std           671.751442           10861.160159       1767.766953   \n",
       "min            50.000000           15360.000000        500.000000   \n",
       "25%           287.500000           19200.000000       1125.000000   \n",
       "50%           525.000000           23040.000000       1750.000000   \n",
       "75%           762.500000           26880.000000       2375.000000   \n",
       "max          1000.000000           30720.000000       3000.000000   \n",
       "\n",
       "       rub_monthly_fee  rub_per_gb  rub_per_message  rub_per_minute  \n",
       "count         2.000000    2.000000         2.000000        2.000000  \n",
       "mean       1250.000000  175.000000         2.000000        2.000000  \n",
       "std         989.949494   35.355339         1.414214        1.414214  \n",
       "min         550.000000  150.000000         1.000000        1.000000  \n",
       "25%         900.000000  162.500000         1.500000        1.500000  \n",
       "50%        1250.000000  175.000000         2.000000        2.000000  \n",
       "75%        1600.000000  187.500000         2.500000        2.500000  \n",
       "max        1950.000000  200.000000         3.000000        3.000000  "
      ]
     },
     "metadata": {},
     "output_type": "display_data"
    },
    {
     "data": {
      "text/html": [
       "<div>\n",
       "<style scoped>\n",
       "    .dataframe tbody tr th:only-of-type {\n",
       "        vertical-align: middle;\n",
       "    }\n",
       "\n",
       "    .dataframe tbody tr th {\n",
       "        vertical-align: top;\n",
       "    }\n",
       "\n",
       "    .dataframe thead th {\n",
       "        text-align: right;\n",
       "    }\n",
       "</style>\n",
       "<table border=\"1\" class=\"dataframe\">\n",
       "  <thead>\n",
       "    <tr style=\"text-align: right;\">\n",
       "      <th></th>\n",
       "      <th>user_id</th>\n",
       "      <th>age</th>\n",
       "      <th>churn_date</th>\n",
       "      <th>city</th>\n",
       "      <th>first_name</th>\n",
       "      <th>last_name</th>\n",
       "      <th>reg_date</th>\n",
       "      <th>tariff</th>\n",
       "    </tr>\n",
       "  </thead>\n",
       "  <tbody>\n",
       "    <tr>\n",
       "      <td>0</td>\n",
       "      <td>1000</td>\n",
       "      <td>52</td>\n",
       "      <td>NaN</td>\n",
       "      <td>Краснодар</td>\n",
       "      <td>Рафаил</td>\n",
       "      <td>Верещагин</td>\n",
       "      <td>2018-05-25</td>\n",
       "      <td>ultra</td>\n",
       "    </tr>\n",
       "    <tr>\n",
       "      <td>1</td>\n",
       "      <td>1001</td>\n",
       "      <td>41</td>\n",
       "      <td>NaN</td>\n",
       "      <td>Москва</td>\n",
       "      <td>Иван</td>\n",
       "      <td>Ежов</td>\n",
       "      <td>2018-11-01</td>\n",
       "      <td>smart</td>\n",
       "    </tr>\n",
       "    <tr>\n",
       "      <td>2</td>\n",
       "      <td>1002</td>\n",
       "      <td>59</td>\n",
       "      <td>NaN</td>\n",
       "      <td>Стерлитамак</td>\n",
       "      <td>Евгений</td>\n",
       "      <td>Абрамович</td>\n",
       "      <td>2018-06-17</td>\n",
       "      <td>smart</td>\n",
       "    </tr>\n",
       "    <tr>\n",
       "      <td>3</td>\n",
       "      <td>1003</td>\n",
       "      <td>23</td>\n",
       "      <td>NaN</td>\n",
       "      <td>Москва</td>\n",
       "      <td>Белла</td>\n",
       "      <td>Белякова</td>\n",
       "      <td>2018-08-17</td>\n",
       "      <td>ultra</td>\n",
       "    </tr>\n",
       "    <tr>\n",
       "      <td>4</td>\n",
       "      <td>1004</td>\n",
       "      <td>68</td>\n",
       "      <td>NaN</td>\n",
       "      <td>Новокузнецк</td>\n",
       "      <td>Татьяна</td>\n",
       "      <td>Авдеенко</td>\n",
       "      <td>2018-05-14</td>\n",
       "      <td>ultra</td>\n",
       "    </tr>\n",
       "  </tbody>\n",
       "</table>\n",
       "</div>"
      ],
      "text/plain": [
       "   user_id  age churn_date         city first_name  last_name    reg_date  \\\n",
       "0     1000   52        NaN    Краснодар     Рафаил  Верещагин  2018-05-25   \n",
       "1     1001   41        NaN       Москва       Иван       Ежов  2018-11-01   \n",
       "2     1002   59        NaN  Стерлитамак    Евгений  Абрамович  2018-06-17   \n",
       "3     1003   23        NaN       Москва      Белла   Белякова  2018-08-17   \n",
       "4     1004   68        NaN  Новокузнецк    Татьяна   Авдеенко  2018-05-14   \n",
       "\n",
       "  tariff  \n",
       "0  ultra  \n",
       "1  smart  \n",
       "2  smart  \n",
       "3  ultra  \n",
       "4  ultra  "
      ]
     },
     "metadata": {},
     "output_type": "display_data"
    },
    {
     "name": "stdout",
     "output_type": "stream",
     "text": [
      "<class 'pandas.core.frame.DataFrame'>\n",
      "RangeIndex: 500 entries, 0 to 499\n",
      "Data columns (total 8 columns):\n",
      "user_id       500 non-null int64\n",
      "age           500 non-null int64\n",
      "churn_date    38 non-null object\n",
      "city          500 non-null object\n",
      "first_name    500 non-null object\n",
      "last_name     500 non-null object\n",
      "reg_date      500 non-null object\n",
      "tariff        500 non-null object\n",
      "dtypes: int64(2), object(6)\n",
      "memory usage: 31.4+ KB\n"
     ]
    },
    {
     "data": {
      "text/plain": [
       "user_id         0\n",
       "age             0\n",
       "churn_date    462\n",
       "city            0\n",
       "first_name      0\n",
       "last_name       0\n",
       "reg_date        0\n",
       "tariff          0\n",
       "dtype: int64"
      ]
     },
     "metadata": {},
     "output_type": "display_data"
    },
    {
     "data": {
      "text/html": [
       "<div>\n",
       "<style scoped>\n",
       "    .dataframe tbody tr th:only-of-type {\n",
       "        vertical-align: middle;\n",
       "    }\n",
       "\n",
       "    .dataframe tbody tr th {\n",
       "        vertical-align: top;\n",
       "    }\n",
       "\n",
       "    .dataframe thead th {\n",
       "        text-align: right;\n",
       "    }\n",
       "</style>\n",
       "<table border=\"1\" class=\"dataframe\">\n",
       "  <thead>\n",
       "    <tr style=\"text-align: right;\">\n",
       "      <th></th>\n",
       "      <th>user_id</th>\n",
       "      <th>age</th>\n",
       "    </tr>\n",
       "  </thead>\n",
       "  <tbody>\n",
       "    <tr>\n",
       "      <td>count</td>\n",
       "      <td>500.000000</td>\n",
       "      <td>500.00000</td>\n",
       "    </tr>\n",
       "    <tr>\n",
       "      <td>mean</td>\n",
       "      <td>1249.500000</td>\n",
       "      <td>46.58800</td>\n",
       "    </tr>\n",
       "    <tr>\n",
       "      <td>std</td>\n",
       "      <td>144.481833</td>\n",
       "      <td>16.66763</td>\n",
       "    </tr>\n",
       "    <tr>\n",
       "      <td>min</td>\n",
       "      <td>1000.000000</td>\n",
       "      <td>18.00000</td>\n",
       "    </tr>\n",
       "    <tr>\n",
       "      <td>25%</td>\n",
       "      <td>1124.750000</td>\n",
       "      <td>32.00000</td>\n",
       "    </tr>\n",
       "    <tr>\n",
       "      <td>50%</td>\n",
       "      <td>1249.500000</td>\n",
       "      <td>46.00000</td>\n",
       "    </tr>\n",
       "    <tr>\n",
       "      <td>75%</td>\n",
       "      <td>1374.250000</td>\n",
       "      <td>62.00000</td>\n",
       "    </tr>\n",
       "    <tr>\n",
       "      <td>max</td>\n",
       "      <td>1499.000000</td>\n",
       "      <td>75.00000</td>\n",
       "    </tr>\n",
       "  </tbody>\n",
       "</table>\n",
       "</div>"
      ],
      "text/plain": [
       "           user_id        age\n",
       "count   500.000000  500.00000\n",
       "mean   1249.500000   46.58800\n",
       "std     144.481833   16.66763\n",
       "min    1000.000000   18.00000\n",
       "25%    1124.750000   32.00000\n",
       "50%    1249.500000   46.00000\n",
       "75%    1374.250000   62.00000\n",
       "max    1499.000000   75.00000"
      ]
     },
     "metadata": {},
     "output_type": "display_data"
    }
   ],
   "source": [
    "df_list = [calls, internet, messages, tariffs, users]\n",
    "for df in df_list:\n",
    "  display(df.head())\n",
    "  df.info()\n",
    "  display(df.isna().sum())\n",
    "  display(df.describe())\n"
   ]
  },
  {
   "cell_type": "markdown",
   "metadata": {},
   "source": [
    "Вывод: в таблице с информацией о звонках \"calls\" пропущенных значений нет. Нужно поменять тип данных в колонке с датой на соответсвующий. В таблице с информацией об интернет-сессиях также поправить тип даннх с датой, пропущенных нет значений, есть нулевые значения по mb_used, странный столбец Unnamed: 0. В таблице \"users\" в колонке churn_date отсутствуют данные, тип данных с датой неверный. "
   ]
  },
  {
   "cell_type": "markdown",
   "metadata": {},
   "source": [
    "## Подготовка данных\n",
    "Приведите данные к нужным типам;\n",
    "Найдите и исправьте ошибки в данных, если они есть.\n",
    "Поясните, какие ошибки вы нашли и как их исправили. В данных вы найдёте звонки с нулевой продолжительностью. Это не ошибка: нулями обозначены пропущенные звонки, поэтому их не нужно удалять.\n"
   ]
  },
  {
   "cell_type": "markdown",
   "metadata": {},
   "source": [
    "### Обработка типов данных и пропусков"
   ]
  },
  {
   "cell_type": "markdown",
   "metadata": {},
   "source": [
    "Меняем тип данных в колонках с датой на верный."
   ]
  },
  {
   "cell_type": "code",
   "execution_count": 79,
   "metadata": {},
   "outputs": [],
   "source": [
    "for df in df_list:\n",
    "    date_cols = [col for col in df.columns if 'date' in col]\n",
    "    for col in date_cols:\n",
    "        df[col] = pd.to_datetime(df[col])"
   ]
  },
  {
   "cell_type": "markdown",
   "metadata": {},
   "source": [
    "Данные в колонке \"duration\" с длительностью звонка равные 0 не удаляем и не заменяем, в задание оговорено, что это отображаются пропущенные звонки. churn_date — дата прекращения пользования тарифом (если значение пропущено, то тариф ещё действовал на момент выгрузки данных)"
   ]
  },
  {
   "cell_type": "markdown",
   "metadata": {},
   "source": [
    "Удаляем столбец Unnamed: 0, о нем информации в задании нет."
   ]
  },
  {
   "cell_type": "code",
   "execution_count": 80,
   "metadata": {},
   "outputs": [
    {
     "data": {
      "text/html": [
       "<div>\n",
       "<style scoped>\n",
       "    .dataframe tbody tr th:only-of-type {\n",
       "        vertical-align: middle;\n",
       "    }\n",
       "\n",
       "    .dataframe tbody tr th {\n",
       "        vertical-align: top;\n",
       "    }\n",
       "\n",
       "    .dataframe thead th {\n",
       "        text-align: right;\n",
       "    }\n",
       "</style>\n",
       "<table border=\"1\" class=\"dataframe\">\n",
       "  <thead>\n",
       "    <tr style=\"text-align: right;\">\n",
       "      <th></th>\n",
       "      <th>id</th>\n",
       "      <th>mb_used</th>\n",
       "      <th>session_date</th>\n",
       "      <th>user_id</th>\n",
       "    </tr>\n",
       "  </thead>\n",
       "  <tbody>\n",
       "    <tr>\n",
       "      <td>0</td>\n",
       "      <td>1000_0</td>\n",
       "      <td>112.95</td>\n",
       "      <td>2018-11-25</td>\n",
       "      <td>1000</td>\n",
       "    </tr>\n",
       "    <tr>\n",
       "      <td>1</td>\n",
       "      <td>1000_1</td>\n",
       "      <td>1052.81</td>\n",
       "      <td>2018-09-07</td>\n",
       "      <td>1000</td>\n",
       "    </tr>\n",
       "    <tr>\n",
       "      <td>2</td>\n",
       "      <td>1000_2</td>\n",
       "      <td>1197.26</td>\n",
       "      <td>2018-06-25</td>\n",
       "      <td>1000</td>\n",
       "    </tr>\n",
       "    <tr>\n",
       "      <td>3</td>\n",
       "      <td>1000_3</td>\n",
       "      <td>550.27</td>\n",
       "      <td>2018-08-22</td>\n",
       "      <td>1000</td>\n",
       "    </tr>\n",
       "    <tr>\n",
       "      <td>4</td>\n",
       "      <td>1000_4</td>\n",
       "      <td>302.56</td>\n",
       "      <td>2018-09-24</td>\n",
       "      <td>1000</td>\n",
       "    </tr>\n",
       "  </tbody>\n",
       "</table>\n",
       "</div>"
      ],
      "text/plain": [
       "       id  mb_used session_date  user_id\n",
       "0  1000_0   112.95   2018-11-25     1000\n",
       "1  1000_1  1052.81   2018-09-07     1000\n",
       "2  1000_2  1197.26   2018-06-25     1000\n",
       "3  1000_3   550.27   2018-08-22     1000\n",
       "4  1000_4   302.56   2018-09-24     1000"
      ]
     },
     "execution_count": 80,
     "metadata": {},
     "output_type": "execute_result"
    }
   ],
   "source": [
    "internet = internet.drop('Unnamed: 0',axis=1)\n",
    "internet.head()"
   ]
  },
  {
   "cell_type": "markdown",
   "metadata": {},
   "source": [
    "??? нули по продолжительности сессии пока не буду удалять"
   ]
  },
  {
   "cell_type": "markdown",
   "metadata": {},
   "source": [
    "###  Расчеты"
   ]
  },
  {
   "cell_type": "markdown",
   "metadata": {},
   "source": [
    "Посчитайте для каждого пользователя:\n",
    "количество сделанных звонков и израсходованных минут разговора по месяцам;\n",
    "количество отправленных сообщений по месяцам;\n",
    "объем израсходованного интернет-трафика по месяцам;\n",
    "помесячную выручку с каждого пользователя (вычтите бесплатный лимит из суммарного количества звонков, сообщений и интернет-трафика; остаток умножьте на значение из тарифного плана; прибавьте абонентскую плату, соответствующую тарифному плану)."
   ]
  },
  {
   "cell_type": "markdown",
   "metadata": {},
   "source": [
    "#### Количество сделанных звонков и израсходованных минут разговора по месяцам"
   ]
  },
  {
   "cell_type": "code",
   "execution_count": 81,
   "metadata": {},
   "outputs": [
    {
     "name": "stdout",
     "output_type": "stream",
     "text": [
      "2018-01-01 00:00:00\n",
      "2018-12-31 00:00:00\n"
     ]
    }
   ],
   "source": [
    "print(calls['call_date'].min())\n",
    "print(calls['call_date'].max())"
   ]
  },
  {
   "cell_type": "markdown",
   "metadata": {},
   "source": [
    "Звонки были в течение 1 года. Создади столбец с месяцем."
   ]
  },
  {
   "cell_type": "code",
   "execution_count": 82,
   "metadata": {},
   "outputs": [
    {
     "data": {
      "text/html": [
       "<div>\n",
       "<style scoped>\n",
       "    .dataframe tbody tr th:only-of-type {\n",
       "        vertical-align: middle;\n",
       "    }\n",
       "\n",
       "    .dataframe tbody tr th {\n",
       "        vertical-align: top;\n",
       "    }\n",
       "\n",
       "    .dataframe thead th {\n",
       "        text-align: right;\n",
       "    }\n",
       "</style>\n",
       "<table border=\"1\" class=\"dataframe\">\n",
       "  <thead>\n",
       "    <tr style=\"text-align: right;\">\n",
       "      <th></th>\n",
       "      <th>id</th>\n",
       "      <th>call_date</th>\n",
       "      <th>duration</th>\n",
       "      <th>user_id</th>\n",
       "      <th>month</th>\n",
       "    </tr>\n",
       "  </thead>\n",
       "  <tbody>\n",
       "    <tr>\n",
       "      <td>0</td>\n",
       "      <td>1000_0</td>\n",
       "      <td>2018-07-25</td>\n",
       "      <td>0.00</td>\n",
       "      <td>1000</td>\n",
       "      <td>7</td>\n",
       "    </tr>\n",
       "    <tr>\n",
       "      <td>1</td>\n",
       "      <td>1000_1</td>\n",
       "      <td>2018-08-17</td>\n",
       "      <td>0.00</td>\n",
       "      <td>1000</td>\n",
       "      <td>8</td>\n",
       "    </tr>\n",
       "    <tr>\n",
       "      <td>2</td>\n",
       "      <td>1000_2</td>\n",
       "      <td>2018-06-11</td>\n",
       "      <td>2.85</td>\n",
       "      <td>1000</td>\n",
       "      <td>6</td>\n",
       "    </tr>\n",
       "    <tr>\n",
       "      <td>3</td>\n",
       "      <td>1000_3</td>\n",
       "      <td>2018-09-21</td>\n",
       "      <td>13.80</td>\n",
       "      <td>1000</td>\n",
       "      <td>9</td>\n",
       "    </tr>\n",
       "    <tr>\n",
       "      <td>4</td>\n",
       "      <td>1000_4</td>\n",
       "      <td>2018-12-15</td>\n",
       "      <td>5.18</td>\n",
       "      <td>1000</td>\n",
       "      <td>12</td>\n",
       "    </tr>\n",
       "  </tbody>\n",
       "</table>\n",
       "</div>"
      ],
      "text/plain": [
       "       id  call_date  duration  user_id  month\n",
       "0  1000_0 2018-07-25      0.00     1000      7\n",
       "1  1000_1 2018-08-17      0.00     1000      8\n",
       "2  1000_2 2018-06-11      2.85     1000      6\n",
       "3  1000_3 2018-09-21     13.80     1000      9\n",
       "4  1000_4 2018-12-15      5.18     1000     12"
      ]
     },
     "execution_count": 82,
     "metadata": {},
     "output_type": "execute_result"
    }
   ],
   "source": [
    "calls['month']=pd.DatetimeIndex(calls['call_date']).month\n",
    "calls.head()"
   ]
  },
  {
   "cell_type": "markdown",
   "metadata": {},
   "source": [
    "Округляем минуты в большую сторону согласно тарифу."
   ]
  },
  {
   "cell_type": "code",
   "execution_count": 83,
   "metadata": {},
   "outputs": [
    {
     "data": {
      "text/html": [
       "<div>\n",
       "<style scoped>\n",
       "    .dataframe tbody tr th:only-of-type {\n",
       "        vertical-align: middle;\n",
       "    }\n",
       "\n",
       "    .dataframe tbody tr th {\n",
       "        vertical-align: top;\n",
       "    }\n",
       "\n",
       "    .dataframe thead th {\n",
       "        text-align: right;\n",
       "    }\n",
       "</style>\n",
       "<table border=\"1\" class=\"dataframe\">\n",
       "  <thead>\n",
       "    <tr style=\"text-align: right;\">\n",
       "      <th></th>\n",
       "      <th>id</th>\n",
       "      <th>call_date</th>\n",
       "      <th>duration</th>\n",
       "      <th>user_id</th>\n",
       "      <th>month</th>\n",
       "    </tr>\n",
       "  </thead>\n",
       "  <tbody>\n",
       "    <tr>\n",
       "      <td>0</td>\n",
       "      <td>1000_0</td>\n",
       "      <td>2018-07-25</td>\n",
       "      <td>0</td>\n",
       "      <td>1000</td>\n",
       "      <td>7</td>\n",
       "    </tr>\n",
       "    <tr>\n",
       "      <td>1</td>\n",
       "      <td>1000_1</td>\n",
       "      <td>2018-08-17</td>\n",
       "      <td>0</td>\n",
       "      <td>1000</td>\n",
       "      <td>8</td>\n",
       "    </tr>\n",
       "    <tr>\n",
       "      <td>2</td>\n",
       "      <td>1000_2</td>\n",
       "      <td>2018-06-11</td>\n",
       "      <td>3</td>\n",
       "      <td>1000</td>\n",
       "      <td>6</td>\n",
       "    </tr>\n",
       "    <tr>\n",
       "      <td>3</td>\n",
       "      <td>1000_3</td>\n",
       "      <td>2018-09-21</td>\n",
       "      <td>14</td>\n",
       "      <td>1000</td>\n",
       "      <td>9</td>\n",
       "    </tr>\n",
       "    <tr>\n",
       "      <td>4</td>\n",
       "      <td>1000_4</td>\n",
       "      <td>2018-12-15</td>\n",
       "      <td>6</td>\n",
       "      <td>1000</td>\n",
       "      <td>12</td>\n",
       "    </tr>\n",
       "  </tbody>\n",
       "</table>\n",
       "</div>"
      ],
      "text/plain": [
       "       id  call_date  duration  user_id  month\n",
       "0  1000_0 2018-07-25         0     1000      7\n",
       "1  1000_1 2018-08-17         0     1000      8\n",
       "2  1000_2 2018-06-11         3     1000      6\n",
       "3  1000_3 2018-09-21        14     1000      9\n",
       "4  1000_4 2018-12-15         6     1000     12"
      ]
     },
     "execution_count": 83,
     "metadata": {},
     "output_type": "execute_result"
    }
   ],
   "source": [
    "calls['duration']=calls['duration'].apply(math.ceil)\n",
    "calls.head()"
   ]
  },
  {
   "cell_type": "markdown",
   "metadata": {},
   "source": [
    "Создаем отдельные таблицы с количеством и суммой звонков по месяцам, затем объединим их в одну"
   ]
  },
  {
   "cell_type": "code",
   "execution_count": 84,
   "metadata": {},
   "outputs": [
    {
     "name": "stdout",
     "output_type": "stream",
     "text": [
      "      user_id  month  duration\n",
      "1260     1200      4        50\n",
      "1261     1200      5       454\n",
      "1262     1200      6       567\n",
      "1263     1200      7       581\n",
      "1264     1200      8       627\n",
      "1265     1200      9       560\n",
      "1266     1200     10       756\n",
      "1267     1200     11       708\n",
      "1268     1200     12       579\n"
     ]
    }
   ],
   "source": [
    "calls_month_minutes = calls.pivot_table(index=['user_id', 'month'], values='duration',aggfunc='sum').reset_index()\n",
    "print(calls_month_minutes[calls_month_minutes['user_id'].isin([1200])])"
   ]
  },
  {
   "cell_type": "code",
   "execution_count": 85,
   "metadata": {},
   "outputs": [
    {
     "data": {
      "text/plain": [
       "user_id     0\n",
       "month       0\n",
       "duration    0\n",
       "dtype: int64"
      ]
     },
     "execution_count": 85,
     "metadata": {},
     "output_type": "execute_result"
    }
   ],
   "source": [
    "calls_month_minutes.isna().sum()"
   ]
  },
  {
   "cell_type": "code",
   "execution_count": 86,
   "metadata": {},
   "outputs": [
    {
     "name": "stdout",
     "output_type": "stream",
     "text": [
      "      user_id  month  calls_num\n",
      "1260     1200      4          8\n",
      "1261     1200      5         72\n",
      "1262     1200      6         83\n",
      "1263     1200      7         86\n",
      "1264     1200      8         92\n",
      "1265     1200      9         85\n",
      "1266     1200     10         99\n",
      "1267     1200     11         99\n",
      "1268     1200     12         78\n"
     ]
    }
   ],
   "source": [
    "calls_month_num = calls.groupby(['user_id','month'])[['id']].agg(['count']).reset_index()\n",
    "calls_month_num.columns = ['user_id','month','calls_num']\n",
    "print(calls_month_num[calls_month_num['user_id'].isin([1200])])"
   ]
  },
  {
   "cell_type": "code",
   "execution_count": 87,
   "metadata": {},
   "outputs": [
    {
     "data": {
      "text/plain": [
       "user_id      0\n",
       "month        0\n",
       "calls_num    0\n",
       "dtype: int64"
      ]
     },
     "execution_count": 87,
     "metadata": {},
     "output_type": "execute_result"
    }
   ],
   "source": [
    "calls_month_num.isna().sum()"
   ]
  },
  {
   "cell_type": "code",
   "execution_count": 88,
   "metadata": {},
   "outputs": [
    {
     "name": "stdout",
     "output_type": "stream",
     "text": [
      "      user_id  month  calls_num  duration\n",
      "1260     1200      4          8        50\n",
      "1261     1200      5         72       454\n",
      "1262     1200      6         83       567\n",
      "1263     1200      7         86       581\n",
      "1264     1200      8         92       627\n",
      "1265     1200      9         85       560\n",
      "1266     1200     10         99       756\n",
      "1267     1200     11         99       708\n",
      "1268     1200     12         78       579\n"
     ]
    }
   ],
   "source": [
    "calls_month = calls_month_num.merge(calls_month_minutes,how='left',on=['user_id','month'])\n",
    "print(calls_month[calls_month['user_id'].isin([1200])])"
   ]
  },
  {
   "cell_type": "code",
   "execution_count": 89,
   "metadata": {},
   "outputs": [
    {
     "data": {
      "text/plain": [
       "user_id      0\n",
       "month        0\n",
       "calls_num    0\n",
       "duration     0\n",
       "dtype: int64"
      ]
     },
     "execution_count": 89,
     "metadata": {},
     "output_type": "execute_result"
    }
   ],
   "source": [
    "calls_month.isna().sum()"
   ]
  },
  {
   "cell_type": "markdown",
   "metadata": {},
   "source": [
    "#### Количество отправленных сообщений по месяцам"
   ]
  },
  {
   "cell_type": "markdown",
   "metadata": {},
   "source": [
    "Создаем таблицу с количеством сообщений по месяцам"
   ]
  },
  {
   "cell_type": "code",
   "execution_count": 90,
   "metadata": {},
   "outputs": [
    {
     "name": "stdout",
     "output_type": "stream",
     "text": [
      "      user_id  month  messages_num\n",
      "1060     1200      4             4\n",
      "1061     1200      5            53\n",
      "1062     1200      6            44\n",
      "1063     1200      7            47\n",
      "1064     1200      8            49\n",
      "1065     1200      9            57\n",
      "1066     1200     10            35\n",
      "1067     1200     11            51\n",
      "1068     1200     12            38\n"
     ]
    }
   ],
   "source": [
    "messages['month']=pd.DatetimeIndex(messages['message_date']).month\n",
    "messages_month = messages.groupby(['user_id','month'])[['id']].agg(['count']).reset_index()\n",
    "messages_month.columns = ['user_id','month','messages_num']\n",
    "print(messages_month[messages_month['user_id'].isin([1200])])"
   ]
  },
  {
   "cell_type": "code",
   "execution_count": 91,
   "metadata": {},
   "outputs": [
    {
     "data": {
      "text/plain": [
       "user_id         0\n",
       "month           0\n",
       "messages_num    0\n",
       "dtype: int64"
      ]
     },
     "execution_count": 91,
     "metadata": {},
     "output_type": "execute_result"
    }
   ],
   "source": [
    "messages_month.isna().sum()"
   ]
  },
  {
   "cell_type": "markdown",
   "metadata": {},
   "source": [
    "#### Объем израсходованного интернет-трафика по месяцам"
   ]
  },
  {
   "cell_type": "markdown",
   "metadata": {},
   "source": [
    "Создаем сводную таблицу с мегабайтами израсходованного интернета по месяцам, затем переводим объем в гигабайты"
   ]
  },
  {
   "cell_type": "code",
   "execution_count": 92,
   "metadata": {},
   "outputs": [
    {
     "name": "stdout",
     "output_type": "stream",
     "text": [
      "      user_id  month  mb_used\n",
      "1277     1200      4   4338.0\n",
      "1278     1200      5  18717.0\n",
      "1279     1200      6  19316.0\n",
      "1280     1200      7  16880.0\n",
      "1281     1200      8  16318.0\n",
      "1282     1200      9  17853.0\n",
      "1283     1200     10  17642.0\n",
      "1284     1200     11  18548.0\n",
      "1285     1200     12  17988.0\n"
     ]
    }
   ],
   "source": [
    "internet['month']=pd.DatetimeIndex(internet['session_date']).month\n",
    "internet['mb_used'] = np.ceil(internet['mb_used'])\n",
    "internet_month = internet.pivot_table(index=['user_id', 'month'], values='mb_used',aggfunc='sum').reset_index()\n",
    "print(internet_month[internet_month['user_id'].isin([1200])])"
   ]
  },
  {
   "cell_type": "code",
   "execution_count": 93,
   "metadata": {},
   "outputs": [
    {
     "name": "stdout",
     "output_type": "stream",
     "text": [
      "      user_id  month  mb_used\n",
      "1277     1200      4   4338.0\n",
      "1278     1200      5  18717.0\n",
      "1279     1200      6  19316.0\n",
      "1280     1200      7  16880.0\n",
      "1281     1200      8  16318.0\n",
      "1282     1200      9  17853.0\n",
      "1283     1200     10  17642.0\n",
      "1284     1200     11  18548.0\n",
      "1285     1200     12  17988.0\n"
     ]
    }
   ],
   "source": [
    "#internet_month['gb_used']=(internet_month['mb_used']/1024).apply(math.ceil)\n",
    "#internet_month = internet_month.drop('mb_used',axis=1)\n",
    "print(internet_month[internet_month['user_id'].isin([1200])])"
   ]
  },
  {
   "cell_type": "code",
   "execution_count": 94,
   "metadata": {},
   "outputs": [
    {
     "data": {
      "text/plain": [
       "user_id    0\n",
       "month      0\n",
       "mb_used    0\n",
       "dtype: int64"
      ]
     },
     "execution_count": 94,
     "metadata": {},
     "output_type": "execute_result"
    }
   ],
   "source": [
    "internet_month.isna().sum()"
   ]
  },
  {
   "cell_type": "markdown",
   "metadata": {},
   "source": [
    "#### Помесячная выручка с каждого пользователя"
   ]
  },
  {
   "cell_type": "markdown",
   "metadata": {},
   "source": [
    "Вначале создадим таблицу с айди пользователей и тарифом, которым они пользуются.\n",
    "И таблицу с необходимыми данными пользователей с количеством минут, сообщений и гигабайт интернета\n"
   ]
  },
  {
   "cell_type": "code",
   "execution_count": 95,
   "metadata": {},
   "outputs": [
    {
     "data": {
      "text/html": [
       "<div>\n",
       "<style scoped>\n",
       "    .dataframe tbody tr th:only-of-type {\n",
       "        vertical-align: middle;\n",
       "    }\n",
       "\n",
       "    .dataframe tbody tr th {\n",
       "        vertical-align: top;\n",
       "    }\n",
       "\n",
       "    .dataframe thead th {\n",
       "        text-align: right;\n",
       "    }\n",
       "</style>\n",
       "<table border=\"1\" class=\"dataframe\">\n",
       "  <thead>\n",
       "    <tr style=\"text-align: right;\">\n",
       "      <th></th>\n",
       "      <th>user_id</th>\n",
       "      <th>tariff</th>\n",
       "      <th>monthly_fee</th>\n",
       "    </tr>\n",
       "  </thead>\n",
       "  <tbody>\n",
       "    <tr>\n",
       "      <td>0</td>\n",
       "      <td>1000</td>\n",
       "      <td>ultra</td>\n",
       "      <td>1950</td>\n",
       "    </tr>\n",
       "    <tr>\n",
       "      <td>1</td>\n",
       "      <td>1001</td>\n",
       "      <td>smart</td>\n",
       "      <td>550</td>\n",
       "    </tr>\n",
       "    <tr>\n",
       "      <td>2</td>\n",
       "      <td>1002</td>\n",
       "      <td>smart</td>\n",
       "      <td>550</td>\n",
       "    </tr>\n",
       "    <tr>\n",
       "      <td>3</td>\n",
       "      <td>1003</td>\n",
       "      <td>ultra</td>\n",
       "      <td>1950</td>\n",
       "    </tr>\n",
       "    <tr>\n",
       "      <td>4</td>\n",
       "      <td>1004</td>\n",
       "      <td>ultra</td>\n",
       "      <td>1950</td>\n",
       "    </tr>\n",
       "    <tr>\n",
       "      <td>...</td>\n",
       "      <td>...</td>\n",
       "      <td>...</td>\n",
       "      <td>...</td>\n",
       "    </tr>\n",
       "    <tr>\n",
       "      <td>495</td>\n",
       "      <td>1495</td>\n",
       "      <td>ultra</td>\n",
       "      <td>1950</td>\n",
       "    </tr>\n",
       "    <tr>\n",
       "      <td>496</td>\n",
       "      <td>1496</td>\n",
       "      <td>smart</td>\n",
       "      <td>550</td>\n",
       "    </tr>\n",
       "    <tr>\n",
       "      <td>497</td>\n",
       "      <td>1497</td>\n",
       "      <td>smart</td>\n",
       "      <td>550</td>\n",
       "    </tr>\n",
       "    <tr>\n",
       "      <td>498</td>\n",
       "      <td>1498</td>\n",
       "      <td>smart</td>\n",
       "      <td>550</td>\n",
       "    </tr>\n",
       "    <tr>\n",
       "      <td>499</td>\n",
       "      <td>1499</td>\n",
       "      <td>smart</td>\n",
       "      <td>550</td>\n",
       "    </tr>\n",
       "  </tbody>\n",
       "</table>\n",
       "<p>500 rows × 3 columns</p>\n",
       "</div>"
      ],
      "text/plain": [
       "     user_id tariff  monthly_fee\n",
       "0       1000  ultra         1950\n",
       "1       1001  smart          550\n",
       "2       1002  smart          550\n",
       "3       1003  ultra         1950\n",
       "4       1004  ultra         1950\n",
       "..       ...    ...          ...\n",
       "495     1495  ultra         1950\n",
       "496     1496  smart          550\n",
       "497     1497  smart          550\n",
       "498     1498  smart          550\n",
       "499     1499  smart          550\n",
       "\n",
       "[500 rows x 3 columns]"
      ]
     },
     "execution_count": 95,
     "metadata": {},
     "output_type": "execute_result"
    }
   ],
   "source": [
    "profit = users[['user_id', 'tariff']].copy()\n",
    "rate = []\n",
    "for tariff in profit['tariff']:\n",
    "  if tariff=='smart':\n",
    "    rate.append(tariffs.loc[tariffs['tariff_name']=='smart', 'rub_monthly_fee'].values[0])\n",
    "  else:\n",
    "    rate.append(tariffs.loc[tariffs['tariff_name']=='ultra', 'rub_monthly_fee'].values[0])\n",
    "profit['monthly_fee']=rate\n",
    "profit"
   ]
  },
  {
   "cell_type": "code",
   "execution_count": 96,
   "metadata": {},
   "outputs": [
    {
     "data": {
      "text/plain": [
       "user_id        0\n",
       "tariff         0\n",
       "monthly_fee    0\n",
       "dtype: int64"
      ]
     },
     "execution_count": 96,
     "metadata": {},
     "output_type": "execute_result"
    }
   ],
   "source": [
    "profit.isna().sum()"
   ]
  },
  {
   "cell_type": "code",
   "execution_count": 97,
   "metadata": {},
   "outputs": [
    {
     "name": "stdout",
     "output_type": "stream",
     "text": [
      "      user_id  month  duration  messages_num  mb_used\n",
      "2180     1350      8      35.0           2.0   1621.0\n",
      "2181     1350      9     303.0          42.0  18695.0\n",
      "2182     1350     10     456.0          55.0  24538.0\n",
      "2183     1350     11     478.0          60.0  18533.0\n",
      "2184     1350     12     396.0          56.0  22384.0\n"
     ]
    }
   ],
   "source": [
    "all_data = calls_month_minutes[['user_id', 'month', 'duration']]\n",
    "for df in [messages_month, internet_month]:\n",
    "    all_data=all_data.merge(df, how='outer', on=['user_id', 'month'])\n",
    "print(all_data[all_data['user_id'].isin([1350])])"
   ]
  },
  {
   "cell_type": "markdown",
   "metadata": {},
   "source": [
    "Проверим таблицу на пропуски и заменим их на нули."
   ]
  },
  {
   "cell_type": "code",
   "execution_count": 98,
   "metadata": {},
   "outputs": [
    {
     "data": {
      "text/plain": [
       "user_id           0\n",
       "month             0\n",
       "duration         40\n",
       "messages_num    497\n",
       "mb_used          11\n",
       "dtype: int64"
      ]
     },
     "execution_count": 98,
     "metadata": {},
     "output_type": "execute_result"
    }
   ],
   "source": [
    "all_data.isna().sum()"
   ]
  },
  {
   "cell_type": "code",
   "execution_count": 99,
   "metadata": {},
   "outputs": [
    {
     "data": {
      "text/plain": [
       "user_id         0\n",
       "month           0\n",
       "duration        0\n",
       "messages_num    0\n",
       "mb_used         0\n",
       "dtype: int64"
      ]
     },
     "execution_count": 99,
     "metadata": {},
     "output_type": "execute_result"
    }
   ],
   "source": [
    "all_data.fillna(0, inplace = True)\n",
    "all_data.isna().sum()"
   ]
  },
  {
   "cell_type": "markdown",
   "metadata": {},
   "source": [
    "Объдиним две талицы в одну для наглядности"
   ]
  },
  {
   "cell_type": "code",
   "execution_count": 100,
   "metadata": {},
   "outputs": [
    {
     "name": "stdout",
     "output_type": "stream",
     "text": [
      "      user_id tariff  monthly_fee  month  duration  messages_num  mb_used\n",
      "1277     1200  ultra         1950      4      50.0           4.0   4338.0\n",
      "1278     1200  ultra         1950      5     454.0          53.0  18717.0\n",
      "1279     1200  ultra         1950      6     567.0          44.0  19316.0\n",
      "1280     1200  ultra         1950      7     581.0          47.0  16880.0\n",
      "1281     1200  ultra         1950      8     627.0          49.0  16318.0\n",
      "1282     1200  ultra         1950      9     560.0          57.0  17853.0\n",
      "1283     1200  ultra         1950     10     756.0          35.0  17642.0\n",
      "1284     1200  ultra         1950     11     708.0          51.0  18548.0\n",
      "1285     1200  ultra         1950     12     579.0          38.0  17988.0\n"
     ]
    }
   ],
   "source": [
    "profit = profit.merge(all_data, how='right', on=['user_id'])\n",
    "print(profit[profit['user_id'].isin([1200])])"
   ]
  },
  {
   "cell_type": "code",
   "execution_count": 101,
   "metadata": {},
   "outputs": [
    {
     "data": {
      "text/plain": [
       "user_id         0\n",
       "tariff          0\n",
       "monthly_fee     0\n",
       "month           0\n",
       "duration        0\n",
       "messages_num    0\n",
       "mb_used         0\n",
       "dtype: int64"
      ]
     },
     "execution_count": 101,
     "metadata": {},
     "output_type": "execute_result"
    }
   ],
   "source": [
    "profit.isna().sum()"
   ]
  },
  {
   "cell_type": "markdown",
   "metadata": {},
   "source": [
    "Рассчитываем сумму по перерасходованным минутам звонков, количеству смс и гигабайтам интернета, согласно тарифу каждого пользователя."
   ]
  },
  {
   "cell_type": "code",
   "execution_count": 102,
   "metadata": {},
   "outputs": [
    {
     "data": {
      "text/html": [
       "<div>\n",
       "<style scoped>\n",
       "    .dataframe tbody tr th:only-of-type {\n",
       "        vertical-align: middle;\n",
       "    }\n",
       "\n",
       "    .dataframe tbody tr th {\n",
       "        vertical-align: top;\n",
       "    }\n",
       "\n",
       "    .dataframe thead th {\n",
       "        text-align: right;\n",
       "    }\n",
       "</style>\n",
       "<table border=\"1\" class=\"dataframe\">\n",
       "  <thead>\n",
       "    <tr style=\"text-align: right;\">\n",
       "      <th></th>\n",
       "      <th>user_id</th>\n",
       "      <th>tariff</th>\n",
       "      <th>monthly_fee</th>\n",
       "      <th>month</th>\n",
       "      <th>duration</th>\n",
       "      <th>messages_num</th>\n",
       "      <th>mb_used</th>\n",
       "      <th>extra_mins_fee</th>\n",
       "    </tr>\n",
       "  </thead>\n",
       "  <tbody>\n",
       "    <tr>\n",
       "      <td>2</td>\n",
       "      <td>1000</td>\n",
       "      <td>ultra</td>\n",
       "      <td>1950</td>\n",
       "      <td>7</td>\n",
       "      <td>340.0</td>\n",
       "      <td>75.0</td>\n",
       "      <td>14016.0</td>\n",
       "      <td>0.0</td>\n",
       "    </tr>\n",
       "    <tr>\n",
       "      <td>1958</td>\n",
       "      <td>1308</td>\n",
       "      <td>smart</td>\n",
       "      <td>550</td>\n",
       "      <td>11</td>\n",
       "      <td>197.0</td>\n",
       "      <td>31.0</td>\n",
       "      <td>11681.0</td>\n",
       "      <td>0.0</td>\n",
       "    </tr>\n",
       "    <tr>\n",
       "      <td>2689</td>\n",
       "      <td>1420</td>\n",
       "      <td>smart</td>\n",
       "      <td>550</td>\n",
       "      <td>9</td>\n",
       "      <td>83.0</td>\n",
       "      <td>2.0</td>\n",
       "      <td>12136.0</td>\n",
       "      <td>0.0</td>\n",
       "    </tr>\n",
       "    <tr>\n",
       "      <td>2453</td>\n",
       "      <td>1384</td>\n",
       "      <td>smart</td>\n",
       "      <td>550</td>\n",
       "      <td>9</td>\n",
       "      <td>707.0</td>\n",
       "      <td>3.0</td>\n",
       "      <td>21748.0</td>\n",
       "      <td>621.0</td>\n",
       "    </tr>\n",
       "    <tr>\n",
       "      <td>2928</td>\n",
       "      <td>1456</td>\n",
       "      <td>smart</td>\n",
       "      <td>550</td>\n",
       "      <td>12</td>\n",
       "      <td>930.0</td>\n",
       "      <td>0.0</td>\n",
       "      <td>26896.0</td>\n",
       "      <td>1290.0</td>\n",
       "    </tr>\n",
       "    <tr>\n",
       "      <td>1192</td>\n",
       "      <td>1186</td>\n",
       "      <td>smart</td>\n",
       "      <td>550</td>\n",
       "      <td>3</td>\n",
       "      <td>412.0</td>\n",
       "      <td>65.0</td>\n",
       "      <td>16803.0</td>\n",
       "      <td>0.0</td>\n",
       "    </tr>\n",
       "    <tr>\n",
       "      <td>3168</td>\n",
       "      <td>1491</td>\n",
       "      <td>ultra</td>\n",
       "      <td>1950</td>\n",
       "      <td>9</td>\n",
       "      <td>531.0</td>\n",
       "      <td>52.0</td>\n",
       "      <td>15132.0</td>\n",
       "      <td>0.0</td>\n",
       "    </tr>\n",
       "    <tr>\n",
       "      <td>3059</td>\n",
       "      <td>1475</td>\n",
       "      <td>smart</td>\n",
       "      <td>550</td>\n",
       "      <td>8</td>\n",
       "      <td>286.0</td>\n",
       "      <td>24.0</td>\n",
       "      <td>14163.0</td>\n",
       "      <td>0.0</td>\n",
       "    </tr>\n",
       "    <tr>\n",
       "      <td>3114</td>\n",
       "      <td>1482</td>\n",
       "      <td>smart</td>\n",
       "      <td>550</td>\n",
       "      <td>3</td>\n",
       "      <td>444.0</td>\n",
       "      <td>63.0</td>\n",
       "      <td>13125.0</td>\n",
       "      <td>0.0</td>\n",
       "    </tr>\n",
       "    <tr>\n",
       "      <td>2730</td>\n",
       "      <td>1425</td>\n",
       "      <td>smart</td>\n",
       "      <td>550</td>\n",
       "      <td>6</td>\n",
       "      <td>667.0</td>\n",
       "      <td>86.0</td>\n",
       "      <td>13237.0</td>\n",
       "      <td>501.0</td>\n",
       "    </tr>\n",
       "  </tbody>\n",
       "</table>\n",
       "</div>"
      ],
      "text/plain": [
       "      user_id tariff  monthly_fee  month  duration  messages_num  mb_used  \\\n",
       "2        1000  ultra         1950      7     340.0          75.0  14016.0   \n",
       "1958     1308  smart          550     11     197.0          31.0  11681.0   \n",
       "2689     1420  smart          550      9      83.0           2.0  12136.0   \n",
       "2453     1384  smart          550      9     707.0           3.0  21748.0   \n",
       "2928     1456  smart          550     12     930.0           0.0  26896.0   \n",
       "1192     1186  smart          550      3     412.0          65.0  16803.0   \n",
       "3168     1491  ultra         1950      9     531.0          52.0  15132.0   \n",
       "3059     1475  smart          550      8     286.0          24.0  14163.0   \n",
       "3114     1482  smart          550      3     444.0          63.0  13125.0   \n",
       "2730     1425  smart          550      6     667.0          86.0  13237.0   \n",
       "\n",
       "      extra_mins_fee  \n",
       "2                0.0  \n",
       "1958             0.0  \n",
       "2689             0.0  \n",
       "2453           621.0  \n",
       "2928          1290.0  \n",
       "1192             0.0  \n",
       "3168             0.0  \n",
       "3059             0.0  \n",
       "3114             0.0  \n",
       "2730           501.0  "
      ]
     },
     "execution_count": 102,
     "metadata": {},
     "output_type": "execute_result"
    }
   ],
   "source": [
    "def extra_mins_fee(row):\n",
    "  duration = row['duration']\n",
    "  tariff = row['tariff']\n",
    "  free_mins_s=tariffs.loc[tariffs['tariff_name']=='smart', 'minutes_included'].values[0]\n",
    "  free_mins_u=tariffs.loc[tariffs['tariff_name']=='ultra', 'minutes_included'].values[0]\n",
    "  fix_mins_s=tariffs.loc[tariffs['tariff_name']=='smart', 'rub_per_minute'].values[0]\n",
    "  fix_mins_u=tariffs.loc[tariffs['tariff_name']=='ultra', 'rub_per_minute'].values[0]\n",
    "  extra_mins_fee=0\n",
    "  if row['tariff'] == 'smart':\n",
    "    extra_mins_fee=max(duration - free_mins_s,0)*fix_mins_s\n",
    "    return extra_mins_fee\n",
    "  else:\n",
    "    extra_mins_fee=max(duration - free_mins_u,0)*fix_mins_u\n",
    "    return extra_mins_fee\n",
    "\n",
    "profit['extra_mins_fee'] = profit.apply(extra_mins_fee, axis = 1)\n",
    "profit.sample(10)"
   ]
  },
  {
   "cell_type": "code",
   "execution_count": 103,
   "metadata": {},
   "outputs": [
    {
     "data": {
      "text/html": [
       "<div>\n",
       "<style scoped>\n",
       "    .dataframe tbody tr th:only-of-type {\n",
       "        vertical-align: middle;\n",
       "    }\n",
       "\n",
       "    .dataframe tbody tr th {\n",
       "        vertical-align: top;\n",
       "    }\n",
       "\n",
       "    .dataframe thead th {\n",
       "        text-align: right;\n",
       "    }\n",
       "</style>\n",
       "<table border=\"1\" class=\"dataframe\">\n",
       "  <thead>\n",
       "    <tr style=\"text-align: right;\">\n",
       "      <th></th>\n",
       "      <th>user_id</th>\n",
       "      <th>tariff</th>\n",
       "      <th>monthly_fee</th>\n",
       "      <th>month</th>\n",
       "      <th>duration</th>\n",
       "      <th>messages_num</th>\n",
       "      <th>mb_used</th>\n",
       "      <th>extra_mins_fee</th>\n",
       "      <th>extra_msgs_fee</th>\n",
       "    </tr>\n",
       "  </thead>\n",
       "  <tbody>\n",
       "    <tr>\n",
       "      <td>2031</td>\n",
       "      <td>1321</td>\n",
       "      <td>smart</td>\n",
       "      <td>550</td>\n",
       "      <td>3</td>\n",
       "      <td>427.0</td>\n",
       "      <td>23.0</td>\n",
       "      <td>13963.0</td>\n",
       "      <td>0.0</td>\n",
       "      <td>0.0</td>\n",
       "    </tr>\n",
       "    <tr>\n",
       "      <td>2100</td>\n",
       "      <td>1331</td>\n",
       "      <td>ultra</td>\n",
       "      <td>1950</td>\n",
       "      <td>5</td>\n",
       "      <td>536.0</td>\n",
       "      <td>62.0</td>\n",
       "      <td>30588.0</td>\n",
       "      <td>0.0</td>\n",
       "      <td>0.0</td>\n",
       "    </tr>\n",
       "    <tr>\n",
       "      <td>1377</td>\n",
       "      <td>1217</td>\n",
       "      <td>smart</td>\n",
       "      <td>550</td>\n",
       "      <td>2</td>\n",
       "      <td>72.0</td>\n",
       "      <td>6.0</td>\n",
       "      <td>3175.0</td>\n",
       "      <td>0.0</td>\n",
       "      <td>0.0</td>\n",
       "    </tr>\n",
       "    <tr>\n",
       "      <td>2360</td>\n",
       "      <td>1374</td>\n",
       "      <td>smart</td>\n",
       "      <td>550</td>\n",
       "      <td>6</td>\n",
       "      <td>478.0</td>\n",
       "      <td>67.0</td>\n",
       "      <td>18526.0</td>\n",
       "      <td>0.0</td>\n",
       "      <td>51.0</td>\n",
       "    </tr>\n",
       "    <tr>\n",
       "      <td>605</td>\n",
       "      <td>1096</td>\n",
       "      <td>ultra</td>\n",
       "      <td>1950</td>\n",
       "      <td>8</td>\n",
       "      <td>369.0</td>\n",
       "      <td>102.0</td>\n",
       "      <td>3668.0</td>\n",
       "      <td>0.0</td>\n",
       "      <td>0.0</td>\n",
       "    </tr>\n",
       "    <tr>\n",
       "      <td>626</td>\n",
       "      <td>1099</td>\n",
       "      <td>ultra</td>\n",
       "      <td>1950</td>\n",
       "      <td>5</td>\n",
       "      <td>675.0</td>\n",
       "      <td>57.0</td>\n",
       "      <td>16794.0</td>\n",
       "      <td>0.0</td>\n",
       "      <td>0.0</td>\n",
       "    </tr>\n",
       "    <tr>\n",
       "      <td>1711</td>\n",
       "      <td>1270</td>\n",
       "      <td>ultra</td>\n",
       "      <td>1950</td>\n",
       "      <td>12</td>\n",
       "      <td>315.0</td>\n",
       "      <td>48.0</td>\n",
       "      <td>16701.0</td>\n",
       "      <td>0.0</td>\n",
       "      <td>0.0</td>\n",
       "    </tr>\n",
       "    <tr>\n",
       "      <td>1943</td>\n",
       "      <td>1307</td>\n",
       "      <td>smart</td>\n",
       "      <td>550</td>\n",
       "      <td>8</td>\n",
       "      <td>726.0</td>\n",
       "      <td>30.0</td>\n",
       "      <td>14122.0</td>\n",
       "      <td>678.0</td>\n",
       "      <td>0.0</td>\n",
       "    </tr>\n",
       "    <tr>\n",
       "      <td>31</td>\n",
       "      <td>1005</td>\n",
       "      <td>smart</td>\n",
       "      <td>550</td>\n",
       "      <td>2</td>\n",
       "      <td>456.0</td>\n",
       "      <td>38.0</td>\n",
       "      <td>7394.0</td>\n",
       "      <td>0.0</td>\n",
       "      <td>0.0</td>\n",
       "    </tr>\n",
       "    <tr>\n",
       "      <td>2557</td>\n",
       "      <td>1399</td>\n",
       "      <td>ultra</td>\n",
       "      <td>1950</td>\n",
       "      <td>11</td>\n",
       "      <td>282.0</td>\n",
       "      <td>72.0</td>\n",
       "      <td>2625.0</td>\n",
       "      <td>0.0</td>\n",
       "      <td>0.0</td>\n",
       "    </tr>\n",
       "  </tbody>\n",
       "</table>\n",
       "</div>"
      ],
      "text/plain": [
       "      user_id tariff  monthly_fee  month  duration  messages_num  mb_used  \\\n",
       "2031     1321  smart          550      3     427.0          23.0  13963.0   \n",
       "2100     1331  ultra         1950      5     536.0          62.0  30588.0   \n",
       "1377     1217  smart          550      2      72.0           6.0   3175.0   \n",
       "2360     1374  smart          550      6     478.0          67.0  18526.0   \n",
       "605      1096  ultra         1950      8     369.0         102.0   3668.0   \n",
       "626      1099  ultra         1950      5     675.0          57.0  16794.0   \n",
       "1711     1270  ultra         1950     12     315.0          48.0  16701.0   \n",
       "1943     1307  smart          550      8     726.0          30.0  14122.0   \n",
       "31       1005  smart          550      2     456.0          38.0   7394.0   \n",
       "2557     1399  ultra         1950     11     282.0          72.0   2625.0   \n",
       "\n",
       "      extra_mins_fee  extra_msgs_fee  \n",
       "2031             0.0             0.0  \n",
       "2100             0.0             0.0  \n",
       "1377             0.0             0.0  \n",
       "2360             0.0            51.0  \n",
       "605              0.0             0.0  \n",
       "626              0.0             0.0  \n",
       "1711             0.0             0.0  \n",
       "1943           678.0             0.0  \n",
       "31               0.0             0.0  \n",
       "2557             0.0             0.0  "
      ]
     },
     "execution_count": 103,
     "metadata": {},
     "output_type": "execute_result"
    }
   ],
   "source": [
    "def extra_msgs_fee(row):\n",
    "  messages_num = row['messages_num']\n",
    "  tariff = row['tariff']\n",
    "  free_msgs_s=tariffs.loc[tariffs['tariff_name']=='smart', 'messages_included'].values[0]\n",
    "  free_msgs_u=tariffs.loc[tariffs['tariff_name']=='ultra', 'messages_included'].values[0]\n",
    "  fix_msgs_s=tariffs.loc[tariffs['tariff_name']=='smart', 'rub_per_message'].values[0]\n",
    "  fix_msgs_u=tariffs.loc[tariffs['tariff_name']=='ultra', 'rub_per_message'].values[0]\n",
    "  extra_msgs_fee=0\n",
    "  if row['tariff'] == 'smart':\n",
    "    extra_msgs_fee=max(messages_num - free_msgs_s,0)*fix_msgs_s\n",
    "    return extra_msgs_fee\n",
    "  else:\n",
    "    extra_msgs_fee=max(messages_num - free_msgs_u,0)*fix_msgs_u\n",
    "    return extra_msgs_fee\n",
    "\n",
    "profit['extra_msgs_fee'] = profit.apply(extra_msgs_fee, axis = 1)\n",
    "profit.sample(10)"
   ]
  },
  {
   "cell_type": "code",
   "execution_count": 104,
   "metadata": {},
   "outputs": [
    {
     "data": {
      "text/html": [
       "<div>\n",
       "<style scoped>\n",
       "    .dataframe tbody tr th:only-of-type {\n",
       "        vertical-align: middle;\n",
       "    }\n",
       "\n",
       "    .dataframe tbody tr th {\n",
       "        vertical-align: top;\n",
       "    }\n",
       "\n",
       "    .dataframe thead th {\n",
       "        text-align: right;\n",
       "    }\n",
       "</style>\n",
       "<table border=\"1\" class=\"dataframe\">\n",
       "  <thead>\n",
       "    <tr style=\"text-align: right;\">\n",
       "      <th></th>\n",
       "      <th>user_id</th>\n",
       "      <th>tariff</th>\n",
       "      <th>monthly_fee</th>\n",
       "      <th>month</th>\n",
       "      <th>duration</th>\n",
       "      <th>messages_num</th>\n",
       "      <th>mb_used</th>\n",
       "      <th>extra_mins_fee</th>\n",
       "      <th>extra_msgs_fee</th>\n",
       "      <th>extra_gb_fee</th>\n",
       "    </tr>\n",
       "  </thead>\n",
       "  <tbody>\n",
       "    <tr>\n",
       "      <td>1650</td>\n",
       "      <td>1262</td>\n",
       "      <td>smart</td>\n",
       "      <td>550</td>\n",
       "      <td>5</td>\n",
       "      <td>419.0</td>\n",
       "      <td>50.0</td>\n",
       "      <td>22738.0</td>\n",
       "      <td>0.0</td>\n",
       "      <td>0.0</td>\n",
       "      <td>1600.0</td>\n",
       "    </tr>\n",
       "    <tr>\n",
       "      <td>3113</td>\n",
       "      <td>1482</td>\n",
       "      <td>smart</td>\n",
       "      <td>550</td>\n",
       "      <td>2</td>\n",
       "      <td>24.0</td>\n",
       "      <td>2.0</td>\n",
       "      <td>202.0</td>\n",
       "      <td>0.0</td>\n",
       "      <td>0.0</td>\n",
       "      <td>0.0</td>\n",
       "    </tr>\n",
       "    <tr>\n",
       "      <td>1606</td>\n",
       "      <td>1253</td>\n",
       "      <td>ultra</td>\n",
       "      <td>1950</td>\n",
       "      <td>10</td>\n",
       "      <td>272.0</td>\n",
       "      <td>89.0</td>\n",
       "      <td>26044.0</td>\n",
       "      <td>0.0</td>\n",
       "      <td>0.0</td>\n",
       "      <td>0.0</td>\n",
       "    </tr>\n",
       "    <tr>\n",
       "      <td>1450</td>\n",
       "      <td>1227</td>\n",
       "      <td>smart</td>\n",
       "      <td>550</td>\n",
       "      <td>5</td>\n",
       "      <td>546.0</td>\n",
       "      <td>38.0</td>\n",
       "      <td>17617.0</td>\n",
       "      <td>138.0</td>\n",
       "      <td>0.0</td>\n",
       "      <td>600.0</td>\n",
       "    </tr>\n",
       "    <tr>\n",
       "      <td>745</td>\n",
       "      <td>1116</td>\n",
       "      <td>smart</td>\n",
       "      <td>550</td>\n",
       "      <td>12</td>\n",
       "      <td>420.0</td>\n",
       "      <td>0.0</td>\n",
       "      <td>15610.0</td>\n",
       "      <td>0.0</td>\n",
       "      <td>0.0</td>\n",
       "      <td>200.0</td>\n",
       "    </tr>\n",
       "    <tr>\n",
       "      <td>421</td>\n",
       "      <td>1066</td>\n",
       "      <td>smart</td>\n",
       "      <td>550</td>\n",
       "      <td>6</td>\n",
       "      <td>184.0</td>\n",
       "      <td>14.0</td>\n",
       "      <td>4681.0</td>\n",
       "      <td>0.0</td>\n",
       "      <td>0.0</td>\n",
       "      <td>0.0</td>\n",
       "    </tr>\n",
       "    <tr>\n",
       "      <td>3141</td>\n",
       "      <td>1486</td>\n",
       "      <td>smart</td>\n",
       "      <td>550</td>\n",
       "      <td>12</td>\n",
       "      <td>1007.0</td>\n",
       "      <td>83.0</td>\n",
       "      <td>38610.0</td>\n",
       "      <td>1521.0</td>\n",
       "      <td>99.0</td>\n",
       "      <td>4600.0</td>\n",
       "    </tr>\n",
       "    <tr>\n",
       "      <td>2536</td>\n",
       "      <td>1395</td>\n",
       "      <td>smart</td>\n",
       "      <td>550</td>\n",
       "      <td>6</td>\n",
       "      <td>541.0</td>\n",
       "      <td>24.0</td>\n",
       "      <td>19573.0</td>\n",
       "      <td>123.0</td>\n",
       "      <td>0.0</td>\n",
       "      <td>1000.0</td>\n",
       "    </tr>\n",
       "    <tr>\n",
       "      <td>1058</td>\n",
       "      <td>1168</td>\n",
       "      <td>ultra</td>\n",
       "      <td>1950</td>\n",
       "      <td>4</td>\n",
       "      <td>953.0</td>\n",
       "      <td>42.0</td>\n",
       "      <td>30277.0</td>\n",
       "      <td>0.0</td>\n",
       "      <td>0.0</td>\n",
       "      <td>-0.0</td>\n",
       "    </tr>\n",
       "    <tr>\n",
       "      <td>954</td>\n",
       "      <td>1150</td>\n",
       "      <td>ultra</td>\n",
       "      <td>1950</td>\n",
       "      <td>12</td>\n",
       "      <td>645.0</td>\n",
       "      <td>126.0</td>\n",
       "      <td>16556.0</td>\n",
       "      <td>0.0</td>\n",
       "      <td>0.0</td>\n",
       "      <td>0.0</td>\n",
       "    </tr>\n",
       "  </tbody>\n",
       "</table>\n",
       "</div>"
      ],
      "text/plain": [
       "      user_id tariff  monthly_fee  month  duration  messages_num  mb_used  \\\n",
       "1650     1262  smart          550      5     419.0          50.0  22738.0   \n",
       "3113     1482  smart          550      2      24.0           2.0    202.0   \n",
       "1606     1253  ultra         1950     10     272.0          89.0  26044.0   \n",
       "1450     1227  smart          550      5     546.0          38.0  17617.0   \n",
       "745      1116  smart          550     12     420.0           0.0  15610.0   \n",
       "421      1066  smart          550      6     184.0          14.0   4681.0   \n",
       "3141     1486  smart          550     12    1007.0          83.0  38610.0   \n",
       "2536     1395  smart          550      6     541.0          24.0  19573.0   \n",
       "1058     1168  ultra         1950      4     953.0          42.0  30277.0   \n",
       "954      1150  ultra         1950     12     645.0         126.0  16556.0   \n",
       "\n",
       "      extra_mins_fee  extra_msgs_fee  extra_gb_fee  \n",
       "1650             0.0             0.0        1600.0  \n",
       "3113             0.0             0.0           0.0  \n",
       "1606             0.0             0.0           0.0  \n",
       "1450           138.0             0.0         600.0  \n",
       "745              0.0             0.0         200.0  \n",
       "421              0.0             0.0           0.0  \n",
       "3141          1521.0            99.0        4600.0  \n",
       "2536           123.0             0.0        1000.0  \n",
       "1058             0.0             0.0          -0.0  \n",
       "954              0.0             0.0           0.0  "
      ]
     },
     "execution_count": 104,
     "metadata": {},
     "output_type": "execute_result"
    }
   ],
   "source": [
    "def extra_gb_fee(row):\n",
    "  traffic = row['mb_used']\n",
    "  tariff = row['tariff']\n",
    "#   free_gb_s=tariffs.loc[tariffs['tariff_name']=='smart', 'mb_per_month_included'].values[0]/1024\n",
    "#   free_gb_u=tariffs.loc[tariffs['tariff_name']=='ultra', 'mb_per_month_included'].values[0]/1024\n",
    "\n",
    "  free_gb_s=tariffs.loc[tariffs['tariff_name']=='smart', 'mb_per_month_included'].values[0]\n",
    "  free_gb_u=tariffs.loc[tariffs['tariff_name']=='ultra', 'mb_per_month_included'].values[0]\n",
    "\n",
    "  fix_gb_s=tariffs.loc[tariffs['tariff_name']=='smart', 'rub_per_gb'].values[0]\n",
    "  fix_gb_u=tariffs.loc[tariffs['tariff_name']=='ultra', 'rub_per_gb'].values[0]\n",
    "  extra_gb_fee=0\n",
    "  if row['tariff'] == 'smart':\n",
    "    extra_gb_fee=max(np.ceil((traffic - free_gb_s) / 1024),0)*fix_gb_s\n",
    "    return extra_gb_fee\n",
    "  else:\n",
    "    extra_gb_fee=max(np.ceil((traffic - free_gb_u) / 1024),0)*fix_gb_u\n",
    "    return extra_gb_fee\n",
    "\n",
    "profit['extra_gb_fee'] = profit.apply(extra_gb_fee, axis = 1)\n",
    "profit.sample(10)"
   ]
  },
  {
   "cell_type": "markdown",
   "metadata": {},
   "source": [
    "Создадим столбец с итоговой выручкой по каждому клиенту по месяцам."
   ]
  },
  {
   "cell_type": "code",
   "execution_count": 105,
   "metadata": {},
   "outputs": [
    {
     "data": {
      "text/html": [
       "<div>\n",
       "<style scoped>\n",
       "    .dataframe tbody tr th:only-of-type {\n",
       "        vertical-align: middle;\n",
       "    }\n",
       "\n",
       "    .dataframe tbody tr th {\n",
       "        vertical-align: top;\n",
       "    }\n",
       "\n",
       "    .dataframe thead th {\n",
       "        text-align: right;\n",
       "    }\n",
       "</style>\n",
       "<table border=\"1\" class=\"dataframe\">\n",
       "  <thead>\n",
       "    <tr style=\"text-align: right;\">\n",
       "      <th></th>\n",
       "      <th>user_id</th>\n",
       "      <th>tariff</th>\n",
       "      <th>monthly_fee</th>\n",
       "      <th>month</th>\n",
       "      <th>duration</th>\n",
       "      <th>messages_num</th>\n",
       "      <th>mb_used</th>\n",
       "      <th>extra_mins_fee</th>\n",
       "      <th>extra_msgs_fee</th>\n",
       "      <th>extra_gb_fee</th>\n",
       "      <th>total_fee</th>\n",
       "    </tr>\n",
       "  </thead>\n",
       "  <tbody>\n",
       "    <tr>\n",
       "      <td>546</td>\n",
       "      <td>1087</td>\n",
       "      <td>smart</td>\n",
       "      <td>550</td>\n",
       "      <td>10</td>\n",
       "      <td>477.0</td>\n",
       "      <td>32.0</td>\n",
       "      <td>14608.0</td>\n",
       "      <td>0.0</td>\n",
       "      <td>0.0</td>\n",
       "      <td>-0.0</td>\n",
       "      <td>550.0</td>\n",
       "    </tr>\n",
       "    <tr>\n",
       "      <td>2785</td>\n",
       "      <td>1431</td>\n",
       "      <td>smart</td>\n",
       "      <td>550</td>\n",
       "      <td>12</td>\n",
       "      <td>265.0</td>\n",
       "      <td>94.0</td>\n",
       "      <td>20483.0</td>\n",
       "      <td>0.0</td>\n",
       "      <td>132.0</td>\n",
       "      <td>1200.0</td>\n",
       "      <td>1882.0</td>\n",
       "    </tr>\n",
       "    <tr>\n",
       "      <td>1602</td>\n",
       "      <td>1251</td>\n",
       "      <td>smart</td>\n",
       "      <td>550</td>\n",
       "      <td>12</td>\n",
       "      <td>427.0</td>\n",
       "      <td>98.0</td>\n",
       "      <td>21658.0</td>\n",
       "      <td>0.0</td>\n",
       "      <td>144.0</td>\n",
       "      <td>1400.0</td>\n",
       "      <td>2094.0</td>\n",
       "    </tr>\n",
       "    <tr>\n",
       "      <td>2807</td>\n",
       "      <td>1435</td>\n",
       "      <td>smart</td>\n",
       "      <td>550</td>\n",
       "      <td>5</td>\n",
       "      <td>401.0</td>\n",
       "      <td>0.0</td>\n",
       "      <td>23008.0</td>\n",
       "      <td>0.0</td>\n",
       "      <td>0.0</td>\n",
       "      <td>1600.0</td>\n",
       "      <td>2150.0</td>\n",
       "    </tr>\n",
       "    <tr>\n",
       "      <td>86</td>\n",
       "      <td>1011</td>\n",
       "      <td>smart</td>\n",
       "      <td>550</td>\n",
       "      <td>11</td>\n",
       "      <td>501.0</td>\n",
       "      <td>12.0</td>\n",
       "      <td>25332.0</td>\n",
       "      <td>3.0</td>\n",
       "      <td>0.0</td>\n",
       "      <td>2000.0</td>\n",
       "      <td>2553.0</td>\n",
       "    </tr>\n",
       "    <tr>\n",
       "      <td>555</td>\n",
       "      <td>1088</td>\n",
       "      <td>smart</td>\n",
       "      <td>550</td>\n",
       "      <td>12</td>\n",
       "      <td>344.0</td>\n",
       "      <td>39.0</td>\n",
       "      <td>16563.0</td>\n",
       "      <td>0.0</td>\n",
       "      <td>0.0</td>\n",
       "      <td>400.0</td>\n",
       "      <td>950.0</td>\n",
       "    </tr>\n",
       "    <tr>\n",
       "      <td>1376</td>\n",
       "      <td>1216</td>\n",
       "      <td>smart</td>\n",
       "      <td>550</td>\n",
       "      <td>12</td>\n",
       "      <td>1435.0</td>\n",
       "      <td>64.0</td>\n",
       "      <td>20095.0</td>\n",
       "      <td>2805.0</td>\n",
       "      <td>42.0</td>\n",
       "      <td>1000.0</td>\n",
       "      <td>4397.0</td>\n",
       "    </tr>\n",
       "    <tr>\n",
       "      <td>1252</td>\n",
       "      <td>1195</td>\n",
       "      <td>smart</td>\n",
       "      <td>550</td>\n",
       "      <td>12</td>\n",
       "      <td>433.0</td>\n",
       "      <td>0.0</td>\n",
       "      <td>9709.0</td>\n",
       "      <td>0.0</td>\n",
       "      <td>0.0</td>\n",
       "      <td>0.0</td>\n",
       "      <td>550.0</td>\n",
       "    </tr>\n",
       "    <tr>\n",
       "      <td>2079</td>\n",
       "      <td>1327</td>\n",
       "      <td>smart</td>\n",
       "      <td>550</td>\n",
       "      <td>10</td>\n",
       "      <td>303.0</td>\n",
       "      <td>51.0</td>\n",
       "      <td>17030.0</td>\n",
       "      <td>0.0</td>\n",
       "      <td>3.0</td>\n",
       "      <td>400.0</td>\n",
       "      <td>953.0</td>\n",
       "    </tr>\n",
       "    <tr>\n",
       "      <td>681</td>\n",
       "      <td>1107</td>\n",
       "      <td>smart</td>\n",
       "      <td>550</td>\n",
       "      <td>8</td>\n",
       "      <td>274.0</td>\n",
       "      <td>0.0</td>\n",
       "      <td>23367.0</td>\n",
       "      <td>0.0</td>\n",
       "      <td>0.0</td>\n",
       "      <td>1600.0</td>\n",
       "      <td>2150.0</td>\n",
       "    </tr>\n",
       "  </tbody>\n",
       "</table>\n",
       "</div>"
      ],
      "text/plain": [
       "      user_id tariff  monthly_fee  month  duration  messages_num  mb_used  \\\n",
       "546      1087  smart          550     10     477.0          32.0  14608.0   \n",
       "2785     1431  smart          550     12     265.0          94.0  20483.0   \n",
       "1602     1251  smart          550     12     427.0          98.0  21658.0   \n",
       "2807     1435  smart          550      5     401.0           0.0  23008.0   \n",
       "86       1011  smart          550     11     501.0          12.0  25332.0   \n",
       "555      1088  smart          550     12     344.0          39.0  16563.0   \n",
       "1376     1216  smart          550     12    1435.0          64.0  20095.0   \n",
       "1252     1195  smart          550     12     433.0           0.0   9709.0   \n",
       "2079     1327  smart          550     10     303.0          51.0  17030.0   \n",
       "681      1107  smart          550      8     274.0           0.0  23367.0   \n",
       "\n",
       "      extra_mins_fee  extra_msgs_fee  extra_gb_fee  total_fee  \n",
       "546              0.0             0.0          -0.0      550.0  \n",
       "2785             0.0           132.0        1200.0     1882.0  \n",
       "1602             0.0           144.0        1400.0     2094.0  \n",
       "2807             0.0             0.0        1600.0     2150.0  \n",
       "86               3.0             0.0        2000.0     2553.0  \n",
       "555              0.0             0.0         400.0      950.0  \n",
       "1376          2805.0            42.0        1000.0     4397.0  \n",
       "1252             0.0             0.0           0.0      550.0  \n",
       "2079             0.0             3.0         400.0      953.0  \n",
       "681              0.0             0.0        1600.0     2150.0  "
      ]
     },
     "execution_count": 105,
     "metadata": {},
     "output_type": "execute_result"
    }
   ],
   "source": [
    "profit['total_fee'] = profit['monthly_fee']+profit['extra_mins_fee']+profit['extra_msgs_fee']+profit['extra_gb_fee']\n",
    "profit.sample(10)"
   ]
  },
  {
   "cell_type": "code",
   "execution_count": 106,
   "metadata": {},
   "outputs": [
    {
     "data": {
      "text/plain": [
       "count    3214.000000\n",
       "mean     1532.592097\n",
       "std       799.651454\n",
       "min       550.000000\n",
       "25%       750.000000\n",
       "50%      1667.500000\n",
       "75%      1950.000000\n",
       "max      6770.000000\n",
       "Name: total_fee, dtype: float64"
      ]
     },
     "execution_count": 106,
     "metadata": {},
     "output_type": "execute_result"
    }
   ],
   "source": [
    "profit['total_fee'].describe()"
   ]
  },
  {
   "cell_type": "markdown",
   "metadata": {},
   "source": [
    "## Анализ данных\n",
    "Опишите поведение клиентов оператора, исходя из выборки. Сколько минут разговора, сколько сообщений и какой объём интернет-трафика требуется пользователям каждого тарифа в месяц? Посчитайте среднее количество, дисперсию и стандартное отклонение. Постройте гистограммы. Опишите распределения."
   ]
  },
  {
   "cell_type": "markdown",
   "metadata": {},
   "source": [
    "### Среднее количество минут разговора, сообщений и объём интернет-трафика каждого тарифа в месяц"
   ]
  },
  {
   "cell_type": "code",
   "execution_count": 109,
   "metadata": {},
   "outputs": [
    {
     "name": "stdout",
     "output_type": "stream",
     "text": [
      "Количество минут разговора в месяц на тарифе \"Смарт\" составляет - 77631 , на тарифе \"Ультра\" - 43227\n",
      "Количество сообщений в месяц на тарифе \"Смарт\" составляет - 6201 , на тарифе \"Ультра\" - 4052\n",
      "Объем трафика (в Гб) в месяц на тарифе \"Смарт\" составляет - 3014572 , на тарифе \"Ультра\" - 1599550\n"
     ]
    }
   ],
   "source": [
    "smart = profit.query('tariff==\"smart\"')\n",
    "ultra = profit.query('tariff==\"ultra\"')\n",
    "print('Количество минут разговора в месяц на тарифе \"Смарт\" составляет - {:.0f}'.format(smart['duration'].sum()/12),', на тарифе \"Ультра\" - {:.0f}'.format(ultra['duration'].sum()/12))\n",
    "print('Количество сообщений в месяц на тарифе \"Смарт\" составляет - {:.0f}'.format(smart['messages_num'].sum()/12),', на тарифе \"Ультра\" - {:.0f}'.format(ultra['messages_num'].sum()/12))\n",
    "print('Объем трафика (в Гб) в месяц на тарифе \"Смарт\" составляет - {:.0f}'.format(smart['mb_used'].sum()/12),', на тарифе \"Ультра\" - {:.0f}'.format(ultra['mb_used'].sum()/12))"
   ]
  },
  {
   "cell_type": "markdown",
   "metadata": {},
   "source": [
    "### Медиана, дисперсия и стандартное отклонение"
   ]
  },
  {
   "cell_type": "code",
   "execution_count": 110,
   "metadata": {},
   "outputs": [
    {
     "data": {
      "text/html": [
       "<div>\n",
       "<style scoped>\n",
       "    .dataframe tbody tr th:only-of-type {\n",
       "        vertical-align: middle;\n",
       "    }\n",
       "\n",
       "    .dataframe tbody tr th {\n",
       "        vertical-align: top;\n",
       "    }\n",
       "\n",
       "    .dataframe thead th {\n",
       "        text-align: right;\n",
       "    }\n",
       "</style>\n",
       "<table border=\"1\" class=\"dataframe\">\n",
       "  <thead>\n",
       "    <tr style=\"text-align: right;\">\n",
       "      <th></th>\n",
       "      <th>duration</th>\n",
       "      <th>mb_used</th>\n",
       "      <th>messages_num</th>\n",
       "      <th>total_fee</th>\n",
       "      <th>tariff</th>\n",
       "    </tr>\n",
       "    <tr>\n",
       "      <th>user_id</th>\n",
       "      <th></th>\n",
       "      <th></th>\n",
       "      <th></th>\n",
       "      <th></th>\n",
       "      <th></th>\n",
       "    </tr>\n",
       "  </thead>\n",
       "  <tbody>\n",
       "    <tr>\n",
       "      <td>1000</td>\n",
       "      <td>339.0</td>\n",
       "      <td>14325.5</td>\n",
       "      <td>65.0</td>\n",
       "      <td>1950.0</td>\n",
       "      <td>ultra</td>\n",
       "    </tr>\n",
       "    <tr>\n",
       "      <td>1001</td>\n",
       "      <td>422.0</td>\n",
       "      <td>16252.5</td>\n",
       "      <td>0.0</td>\n",
       "      <td>950.0</td>\n",
       "      <td>smart</td>\n",
       "    </tr>\n",
       "    <tr>\n",
       "      <td>1002</td>\n",
       "      <td>214.0</td>\n",
       "      <td>17601.0</td>\n",
       "      <td>11.0</td>\n",
       "      <td>1150.0</td>\n",
       "      <td>smart</td>\n",
       "    </tr>\n",
       "    <tr>\n",
       "      <td>1003</td>\n",
       "      <td>824.0</td>\n",
       "      <td>11368.0</td>\n",
       "      <td>83.0</td>\n",
       "      <td>1950.0</td>\n",
       "      <td>ultra</td>\n",
       "    </tr>\n",
       "    <tr>\n",
       "      <td>1004</td>\n",
       "      <td>132.5</td>\n",
       "      <td>17828.5</td>\n",
       "      <td>154.5</td>\n",
       "      <td>1950.0</td>\n",
       "      <td>ultra</td>\n",
       "    </tr>\n",
       "  </tbody>\n",
       "</table>\n",
       "</div>"
      ],
      "text/plain": [
       "         duration  mb_used  messages_num  total_fee tariff\n",
       "user_id                                                   \n",
       "1000        339.0  14325.5          65.0     1950.0  ultra\n",
       "1001        422.0  16252.5           0.0      950.0  smart\n",
       "1002        214.0  17601.0          11.0     1150.0  smart\n",
       "1003        824.0  11368.0          83.0     1950.0  ultra\n",
       "1004        132.5  17828.5         154.5     1950.0  ultra"
      ]
     },
     "execution_count": 110,
     "metadata": {},
     "output_type": "execute_result"
    }
   ],
   "source": [
    "medians = profit.pivot_table(index='user_id', values=['duration', 'messages_num', 'mb_used', 'total_fee'], aggfunc='median')\n",
    "for user_id in users['user_id']:\n",
    "    medians.loc[user_id, 'tariff'] = users.loc[user_id-1000, 'tariff']\n",
    "medians.head()"
   ]
  },
  {
   "cell_type": "code",
   "execution_count": 112,
   "metadata": {},
   "outputs": [
    {
     "data": {
      "text/html": [
       "<div>\n",
       "<style scoped>\n",
       "    .dataframe tbody tr th:only-of-type {\n",
       "        vertical-align: middle;\n",
       "    }\n",
       "\n",
       "    .dataframe tbody tr th {\n",
       "        vertical-align: top;\n",
       "    }\n",
       "\n",
       "    .dataframe thead tr th {\n",
       "        text-align: left;\n",
       "    }\n",
       "\n",
       "    .dataframe thead tr:last-of-type th {\n",
       "        text-align: right;\n",
       "    }\n",
       "</style>\n",
       "<table border=\"1\" class=\"dataframe\">\n",
       "  <thead>\n",
       "    <tr>\n",
       "      <th></th>\n",
       "      <th colspan=\"3\" halign=\"left\">duration</th>\n",
       "      <th colspan=\"3\" halign=\"left\">mb_used</th>\n",
       "      <th colspan=\"3\" halign=\"left\">messages_num</th>\n",
       "      <th colspan=\"3\" halign=\"left\">total_fee</th>\n",
       "    </tr>\n",
       "    <tr>\n",
       "      <th></th>\n",
       "      <th>median</th>\n",
       "      <th>std</th>\n",
       "      <th>var</th>\n",
       "      <th>median</th>\n",
       "      <th>std</th>\n",
       "      <th>var</th>\n",
       "      <th>median</th>\n",
       "      <th>std</th>\n",
       "      <th>var</th>\n",
       "      <th>median</th>\n",
       "      <th>std</th>\n",
       "      <th>var</th>\n",
       "    </tr>\n",
       "    <tr>\n",
       "      <th>tariff</th>\n",
       "      <th></th>\n",
       "      <th></th>\n",
       "      <th></th>\n",
       "      <th></th>\n",
       "      <th></th>\n",
       "      <th></th>\n",
       "      <th></th>\n",
       "      <th></th>\n",
       "      <th></th>\n",
       "      <th></th>\n",
       "      <th></th>\n",
       "      <th></th>\n",
       "    </tr>\n",
       "  </thead>\n",
       "  <tbody>\n",
       "    <tr>\n",
       "      <td>smart</td>\n",
       "      <td>439.75</td>\n",
       "      <td>160.266622</td>\n",
       "      <td>25685.390127</td>\n",
       "      <td>16948.0</td>\n",
       "      <td>4179.542704</td>\n",
       "      <td>1.746858e+07</td>\n",
       "      <td>28.5</td>\n",
       "      <td>28.010653</td>\n",
       "      <td>784.596662</td>\n",
       "      <td>1150.0</td>\n",
       "      <td>724.375340</td>\n",
       "      <td>524719.632519</td>\n",
       "    </tr>\n",
       "    <tr>\n",
       "      <td>ultra</td>\n",
       "      <td>535.25</td>\n",
       "      <td>303.793641</td>\n",
       "      <td>92290.576519</td>\n",
       "      <td>19750.5</td>\n",
       "      <td>8901.168701</td>\n",
       "      <td>7.923080e+07</td>\n",
       "      <td>47.5</td>\n",
       "      <td>49.236809</td>\n",
       "      <td>2424.263318</td>\n",
       "      <td>1950.0</td>\n",
       "      <td>300.318278</td>\n",
       "      <td>90191.067981</td>\n",
       "    </tr>\n",
       "  </tbody>\n",
       "</table>\n",
       "</div>"
      ],
      "text/plain": [
       "       duration                            mb_used                             \\\n",
       "         median         std           var   median          std           var   \n",
       "tariff                                                                          \n",
       "smart    439.75  160.266622  25685.390127  16948.0  4179.542704  1.746858e+07   \n",
       "ultra    535.25  303.793641  92290.576519  19750.5  8901.168701  7.923080e+07   \n",
       "\n",
       "       messages_num                         total_fee              \\\n",
       "             median        std          var    median         std   \n",
       "tariff                                                              \n",
       "smart          28.5  28.010653   784.596662    1150.0  724.375340   \n",
       "ultra          47.5  49.236809  2424.263318    1950.0  300.318278   \n",
       "\n",
       "                       \n",
       "                  var  \n",
       "tariff                 \n",
       "smart   524719.632519  \n",
       "ultra    90191.067981  "
      ]
     },
     "execution_count": 112,
     "metadata": {},
     "output_type": "execute_result"
    }
   ],
   "source": [
    "medians.dropna(subset=['duration'], inplace=True)\n",
    "desc_stat = medians.pivot_table(index=['tariff'], values=['duration', 'mb_used', 'messages_num', 'total_fee'], \n",
    "                    aggfunc={'duration': [np.median, np.var, np.std], \n",
    "                             'mb_used': [np.median, np.var, np.std], \n",
    "                             'messages_num': [np.median, np.var, np.std],\n",
    "                            'total_fee': [np.median, np.var, np.std]})\n",
    "                            \n",
    "desc_stat"
   ]
  },
  {
   "cell_type": "code",
   "execution_count": 113,
   "metadata": {},
   "outputs": [
    {
     "data": {
      "image/png": "[encoded data removed]",
      "text/plain": [
       "<Figure size 360x360 with 1 Axes>"
      ]
     },
     "metadata": {
      "needs_background": "light"
     },
     "output_type": "display_data"
    },
    {
     "data": {
      "image/png": "[encoded data removed]",
      "text/plain": [
       "<Figure size 360x360 with 1 Axes>"
      ]
     },
     "metadata": {
      "needs_background": "light"
     },
     "output_type": "display_data"
    },
    {
     "data": {
      "image/png": "[encoded data removed]",
      "text/plain": [
       "<Figure size 360x360 with 1 Axes>"
      ]
     },
     "metadata": {
      "needs_background": "light"
     },
     "output_type": "display_data"
    },
    {
     "data": {
      "image/png": "[encoded data removed]",
      "text/plain": [
       "<Figure size 360x360 with 1 Axes>"
      ]
     },
     "metadata": {
      "needs_background": "light"
     },
     "output_type": "display_data"
    }
   ],
   "source": [
    "for column in ['duration', 'mb_used', 'messages_num', 'total_fee']:    \n",
    "    sns.catplot(x=\"tariff\", y=column, kind=\"box\", data=medians, orient='v')"
   ]
  },
  {
   "cell_type": "markdown",
   "metadata": {},
   "source": [
    "Минуты разговора, число сообщений и объем потраченного интернет-трафика по тарифу «Ультра» имеет большую дисперсию по сравнению с тарифом «Смарт», и медианы по вышеперечисленным признакам также смещены в большую сторону. Кроме того, выбросов в рамках более дешевого тарифа существенно больше."
   ]
  },
  {
   "cell_type": "markdown",
   "metadata": {},
   "source": [
    "### Гистограммы"
   ]
  },
  {
   "cell_type": "markdown",
   "metadata": {},
   "source": [
    "#### Анализ продолжительности звонков"
   ]
  },
  {
   "cell_type": "code",
   "execution_count": 114,
   "metadata": {},
   "outputs": [
    {
     "data": {
      "image/png": "[encoded data removed]",
      "text/plain": [
       "<Figure size 720x360 with 1 Axes>"
      ]
     },
     "metadata": {
      "needs_background": "light"
     },
     "output_type": "display_data"
    }
   ],
   "source": [
    "plt.figure(figsize = (10,5))\n",
    "plt.hist(profit.query('tariff == \"smart\"')['duration'], bins=100, alpha=0.5, label='Тариф \"Смарт\"', range = (0, 1750))\n",
    "plt.hist(profit.query('tariff == \"ultra\"')['duration'], bins=100, alpha=0.5, label='Тариф \"Ультра\"', range = (0, 1750))\n",
    "plt.legend(loc='best')\n",
    "plt.xlim(left = 0)\n",
    "plt.xlabel('Продолжительность, мин.')\n",
    "plt.ylabel('Количество наблюдений, шт.')\n",
    "plt.show()"
   ]
  },
  {
   "cell_type": "markdown",
   "metadata": {},
   "source": [
    "Тариф Смарт более массовый по сравнению с тарифом Ультра. Пик на нулевых значениях означает, что пользователи не совершали звонков. По тарифу \"Смарт\" пиковые значения приходятся на 280, 400 и 470 минут. Пиковое значение по тарифу \"Ультра\" - 540 минут. Основная масса клиентов совершает звонки в диапазоне от 250 до 870 минут. В обоих распределениях имеются \"большие хвосты вправо\", что говорит о том, что основной объем минут находится в левой части, т.е. с более низкими значениями."
   ]
  },
  {
   "cell_type": "markdown",
   "metadata": {},
   "source": [
    "#### Анализ сообщений"
   ]
  },
  {
   "cell_type": "code",
   "execution_count": 115,
   "metadata": {
    "scrolled": true
   },
   "outputs": [
    {
     "data": {
      "image/png": "[encoded data removed]",
      "text/plain": [
       "<Figure size 720x360 with 1 Axes>"
      ]
     },
     "metadata": {
      "needs_background": "light"
     },
     "output_type": "display_data"
    }
   ],
   "source": [
    "fig = plt.figure(figsize = (10,5))\n",
    "plt.hist(profit.query('tariff == \"smart\"')['messages_num'], bins=100, alpha=0.5, label='Тариф \"Смарт\"', range = (0, 200))\n",
    "plt.hist(profit.query('tariff == \"ultra\"')['messages_num'], bins=100, alpha=0.5, label='Тариф \"Ультра\"', range = (0, 200))\n",
    "plt.legend(loc='best')\n",
    "plt.xlim(left = 0)\n",
    "plt.xlabel('Количество СМС, шт.')\n",
    "plt.ylabel('Количество наблюдений, шт.')\n",
    "plt.show()"
   ]
  },
  {
   "cell_type": "markdown",
   "metadata": {},
   "source": [
    "Скачки на нулях вызваны отсутствием клиентами отправляемых СМС в рамках тарифа. По обоим тарифам почти никто не отправляет более 100 СМС в месяц. В обоих распределениях имеются \"большие хвосты вправо\", что говорит о том, что основной объем отправляемых СМС находится в левой части, т.е. с более низкими значениями."
   ]
  },
  {
   "cell_type": "markdown",
   "metadata": {},
   "source": [
    "#### Анализ израсходованного интернета"
   ]
  },
  {
   "cell_type": "code",
   "execution_count": 116,
   "metadata": {},
   "outputs": [
    {
     "data": {
      "image/png": "[encoded data removed]",
      "text/plain": [
       "<Figure size 1080x360 with 1 Axes>"
      ]
     },
     "metadata": {
      "needs_background": "light"
     },
     "output_type": "display_data"
    }
   ],
   "source": [
    "fig = plt.figure(figsize = (15,5))\n",
    "plt.hist(profit.query('tariff == \"smart\"')['mb_used'], bins=100, alpha=0.5, label='Тариф \"Смарт\"')\n",
    "plt.hist(profit.query('tariff == \"ultra\"')['mb_used'], bins=100, alpha=0.5, label='Тариф \"Ультра\"', ec=\"k\")\n",
    "plt.plot([0, 50], [150, 150],dashes=[2, 2])\n",
    "plt.xlim(left = 0)\n",
    "plt.legend(loc='best')\n",
    "plt.xlabel('Интернет-трафик, Гб')\n",
    "plt.ylabel('Количество наблюдений, шт.')\n",
    "plt.show()"
   ]
  },
  {
   "cell_type": "markdown",
   "metadata": {},
   "source": [
    "Скачков на нулях почти не наблюдается. По тарифу \"Смарт\" пиковое значение приходятся на 17 Гб. Пиковое значение по тарифу \"Ультра\" - на 19-21 Гб. Можно отметить, что в целом графики интернет-траффика имеют нормальное распределение с минимальным количеством выбросов.\n",
    "\n"
   ]
  },
  {
   "cell_type": "markdown",
   "metadata": {},
   "source": [
    "#### Анализ выручки "
   ]
  },
  {
   "cell_type": "code",
   "execution_count": 117,
   "metadata": {},
   "outputs": [
    {
     "data": {
      "image/png": "[encoded data removed]",
      "text/plain": [
       "<Figure size 1080x360 with 1 Axes>"
      ]
     },
     "metadata": {
      "needs_background": "light"
     },
     "output_type": "display_data"
    }
   ],
   "source": [
    "fig = plt.figure(figsize = (15,5))\n",
    "plt.hist(profit.query('tariff == \"smart\"')['total_fee'], bins=100, alpha=0.5, label='Тариф \"Смарт\"')\n",
    "plt.hist(profit.query('tariff == \"ultra\"')['total_fee'], bins=100, alpha=0.5, label='Тариф \"Ультра\"', ec=\"k\")\n",
    "plt.plot([0, 50], [150, 150],dashes=[2, 2])\n",
    "plt.xlim(left = 0)\n",
    "plt.legend(loc='best')\n",
    "plt.xlabel('Выручка')\n",
    "plt.ylabel('Количество наблюдений, шт.')\n",
    "plt.show()"
   ]
  },
  {
   "cell_type": "markdown",
   "metadata": {},
   "source": [
    "На гистрограмме выраженные пики для абонентских плат тарифов. Выручка выше 3500 редка для обоих тарифов."
   ]
  },
  {
   "cell_type": "code",
   "execution_count": 118,
   "metadata": {},
   "outputs": [
    {
     "name": "stdout",
     "output_type": "stream",
     "text": [
      "Суммарная выручка на тарифе \"Смарт\" составляет - 2885751\n",
      "Суммарная выручка на тарифе \"Ультра\" составляет - 2040000\n"
     ]
    }
   ],
   "source": [
    "print('Суммарная выручка на тарифе \"Смарт\" составляет - {:.0f}'.format(profit.query('tariff == \"smart\"')['total_fee'].sum()))\n",
    "print('Суммарная выручка на тарифе \"Ультра\" составляет - {:.0f}'.format(profit.query('tariff == \"ultra\"')['total_fee'].sum()))"
   ]
  },
  {
   "cell_type": "markdown",
   "metadata": {},
   "source": [
    "Тариф \"Смарт\" приносит выручки больше, чем более дорогой \"Ультра\"."
   ]
  },
  {
   "cell_type": "markdown",
   "metadata": {},
   "source": [
    "## Проверка гипотез\n",
    "средняя выручка пользователей тарифов «Ультра» и «Смарт» различаются;\n",
    "средняя выручка пользователи из Москвы отличается от выручки пользователей из других регионов.\n",
    "Пороговое значение alpha задайте самостоятельно.\n",
    "Поясните:\n",
    "как вы формулировали нулевую и альтернативную гипотезы;\n",
    "какой критерий использовали для проверки гипотез и почему."
   ]
  },
  {
   "cell_type": "markdown",
   "metadata": {},
   "source": [
    "Критический уровень статистической значимости примем равным 5%."
   ]
  },
  {
   "cell_type": "markdown",
   "metadata": {},
   "source": [
    "### Средняя выручка пользователей тарифов «Ультра» и «Смарт» различается"
   ]
  },
  {
   "cell_type": "markdown",
   "metadata": {},
   "source": [
    "H0 - средняя выручка пользователей тарифов «Смарт» и «Ультра» не различается\n",
    "H1 - средняя выручка пользователей тарифов «Смарт» и «Ультра» различается"
   ]
  },
  {
   "cell_type": "code",
   "execution_count": 119,
   "metadata": {},
   "outputs": [
    {
     "name": "stdout",
     "output_type": "stream",
     "text": [
      "p-значение:  2.9776448000521676e-158\n",
      "Отвергаем нулевую гипотезу\n"
     ]
    }
   ],
   "source": [
    "alpha=0.05\n",
    "\n",
    "results = st.ttest_ind(profit.query(\"tariff=='smart'\")['total_fee'],\n",
    "                       profit.query(\"tariff=='ultra'\")['total_fee'])\n",
    "\n",
    "print('p-значение: ', results.pvalue)\n",
    "\n",
    "if results.pvalue < alpha:\n",
    "    print(\"Отвергаем нулевую гипотезу\")\n",
    "else:\n",
    "    print(\"Не получилось отвергнуть нулевую гипотезу\") "
   ]
  },
  {
   "cell_type": "markdown",
   "metadata": {},
   "source": [
    "Средняя выручка пользователей тарифов «Смарт» и «Ультра» различается, так как значение статистической  значимости меньше критического уровня статистической значимости."
   ]
  },
  {
   "cell_type": "markdown",
   "metadata": {},
   "source": [
    "### Средняя выручка пользователей из Москвы отличается от выручки пользователей из других регионов"
   ]
  },
  {
   "cell_type": "markdown",
   "metadata": {},
   "source": [
    "H0 - средняя выручка пользователей из Москвы не отличается от выручки пользователей из других регионов\n",
    "H1 - средняя выручка пользователей из Москвы отличается от выручки пользователей из других регионов"
   ]
  },
  {
   "cell_type": "code",
   "execution_count": 120,
   "metadata": {},
   "outputs": [
    {
     "name": "stdout",
     "output_type": "stream",
     "text": [
      "p-значение:  0.531666503831252\n",
      "Не получилось отвергнуть нулевую гипотезу\n"
     ]
    }
   ],
   "source": [
    "profit_cities=profit.merge(users,how='left',on=['user_id'])\n",
    "alpha=0.05\n",
    "results = st.ttest_ind(profit_cities.query('city==\"Москва\"')['total_fee'],\n",
    "                       profit_cities.query('city!=\"Москва\"')['total_fee'])\n",
    "print('p-значение: ', results.pvalue)\n",
    "\n",
    "if results.pvalue < alpha:\n",
    "    print(\"Отвергаем нулевую гипотезу\")\n",
    "else:\n",
    "    print(\"Не получилось отвергнуть нулевую гипотезу\") "
   ]
  },
  {
   "cell_type": "markdown",
   "metadata": {},
   "source": [
    "Средняя выручка пользователей из Москвы не отличается от выручки пользователей из других регионов, так как значение статистической  значимости больше критического уровня статистической значимости."
   ]
  },
  {
   "cell_type": "markdown",
   "metadata": {},
   "source": [
    "## Общий вывод\n"
   ]
  },
  {
   "cell_type": "markdown",
   "metadata": {},
   "source": [
    "Количество минут разговора в месяц на тарифе \"Смарт\" составляет - 77631, на тарифе \"Ультра\" - 43227. Количество сообщений в месяц на тарифе \"Смарт\" составляет - 6201, на тарифе \"Ультра\" - 4052. Объем трафика (в Гб) в месяц на тарифе \"Смарт\" составляет - 3033, на тарифе \"Ультра\" - 1600.\n",
    "\n",
    "В тарифе \"Ультра\" практически никто не выходит за рамки пределы лимитов, тогда как в тарифе \"Смарт\" при стоимости 550 руб. в месяц разброс относительно большой, а мат. ожидание равно 818 руб. Нормальные значения для тарифа \"Смарт\" от 550 руб. до 1 750 руб., прочие можем считать выбросами. Максимально допустимое значение у тарифа \"Смарт\" - 5 350 руб. Для тарифа Ultra нормальное значение - цена тарифа, 1 950р.\n",
    "\n",
    "Проверка гипотезы только подтвердила, что различия в средних неслучайны. Также выявили, что выручка пользователей из Москвы не отличается от выручки пользователей из других регионов."
   ]
  }
 ],
 "metadata": {
  "ExecuteTimeLog": [
   {
    "duration": 88,
    "start_time": "2021-08-22T08:47:28.403Z"
   },
   {
    "duration": 1309,
    "start_time": "2021-08-22T08:47:52.774Z"
   },
   {
    "duration": 193,
    "start_time": "2021-08-22T08:48:17.970Z"
   },
   {
    "duration": 177,
    "start_time": "2021-08-22T08:48:47.405Z"
   },
   {
    "duration": 335,
    "start_time": "2021-08-22T08:49:59.542Z"
   },
   {
    "duration": 190,
    "start_time": "2021-08-22T08:51:03.302Z"
   },
   {
    "duration": 153,
    "start_time": "2021-08-22T08:51:04.233Z"
   },
   {
    "duration": 104,
    "start_time": "2021-08-22T08:51:05.218Z"
   },
   {
    "duration": 105,
    "start_time": "2021-08-22T08:53:13.414Z"
   },
   {
    "duration": 24,
    "start_time": "2021-08-22T08:53:14.353Z"
   },
   {
    "duration": 35,
    "start_time": "2021-08-22T08:53:15.685Z"
   },
   {
    "duration": 193,
    "start_time": "2021-08-22T08:53:56.958Z"
   },
   {
    "duration": 209,
    "start_time": "2021-08-22T08:54:40.389Z"
   },
   {
    "duration": 197,
    "start_time": "2021-08-22T08:54:47.193Z"
   },
   {
    "duration": 220,
    "start_time": "2021-08-22T08:55:01.053Z"
   },
   {
    "duration": 799,
    "start_time": "2021-08-22T09:04:32.486Z"
   },
   {
    "duration": 475,
    "start_time": "2021-08-22T09:04:33.288Z"
   },
   {
    "duration": 345,
    "start_time": "2021-08-22T09:04:33.766Z"
   },
   {
    "duration": 754,
    "start_time": "2021-08-22T09:12:39.628Z"
   },
   {
    "duration": 482,
    "start_time": "2021-08-22T09:12:40.385Z"
   },
   {
    "duration": 239,
    "start_time": "2021-08-22T09:12:40.870Z"
   },
   {
    "duration": 195,
    "start_time": "2021-08-22T09:14:07.260Z"
   },
   {
    "duration": 361,
    "start_time": "2021-08-22T09:14:57.273Z"
   },
   {
    "duration": 771,
    "start_time": "2021-08-22T09:15:04.735Z"
   },
   {
    "duration": 472,
    "start_time": "2021-08-22T09:15:05.509Z"
   },
   {
    "duration": 338,
    "start_time": "2021-08-22T09:15:05.983Z"
   },
   {
    "duration": 808,
    "start_time": "2021-08-22T09:32:47.351Z"
   },
   {
    "duration": 481,
    "start_time": "2021-08-22T09:32:48.161Z"
   },
   {
    "duration": 81,
    "start_time": "2021-08-22T09:32:48.645Z"
   },
   {
    "duration": -172,
    "start_time": "2021-08-22T09:32:48.900Z"
   },
   {
    "duration": 810,
    "start_time": "2021-08-22T09:33:09.082Z"
   },
   {
    "duration": 498,
    "start_time": "2021-08-22T09:33:09.895Z"
   },
   {
    "duration": 346,
    "start_time": "2021-08-22T09:33:10.395Z"
   },
   {
    "duration": 103,
    "start_time": "2021-08-22T09:34:28.066Z"
   },
   {
    "duration": 10,
    "start_time": "2021-08-22T09:46:41.861Z"
   },
   {
    "duration": 332,
    "start_time": "2021-08-22T09:47:14.390Z"
   },
   {
    "duration": 814,
    "start_time": "2021-08-22T09:48:09.688Z"
   },
   {
    "duration": 471,
    "start_time": "2021-08-22T09:48:10.505Z"
   },
   {
    "duration": 345,
    "start_time": "2021-08-22T09:48:10.982Z"
   },
   {
    "duration": 114,
    "start_time": "2021-08-22T09:48:11.329Z"
   },
   {
    "duration": 18,
    "start_time": "2021-08-22T09:48:11.445Z"
   },
   {
    "duration": 6,
    "start_time": "2021-08-22T10:32:30.438Z"
   },
   {
    "duration": 7,
    "start_time": "2021-08-22T10:32:47.386Z"
   },
   {
    "duration": 6,
    "start_time": "2021-08-22T10:33:09.982Z"
   },
   {
    "duration": 759,
    "start_time": "2021-08-22T10:34:36.985Z"
   },
   {
    "duration": 786,
    "start_time": "2021-08-22T10:34:44.609Z"
   },
   {
    "duration": 479,
    "start_time": "2021-08-22T10:34:45.397Z"
   },
   {
    "duration": 365,
    "start_time": "2021-08-22T10:34:45.884Z"
   },
   {
    "duration": 118,
    "start_time": "2021-08-22T10:34:46.251Z"
   },
   {
    "duration": 25,
    "start_time": "2021-08-22T10:34:46.372Z"
   },
   {
    "duration": 7,
    "start_time": "2021-08-22T10:34:46.400Z"
   },
   {
    "duration": 366,
    "start_time": "2021-08-22T10:34:46.410Z"
   },
   {
    "duration": 33,
    "start_time": "2021-08-22T10:34:53.520Z"
   },
   {
    "duration": 39,
    "start_time": "2021-08-22T10:36:02.508Z"
   },
   {
    "duration": 283,
    "start_time": "2021-08-22T10:45:34.870Z"
   },
   {
    "duration": 814,
    "start_time": "2021-08-22T10:46:39.663Z"
   },
   {
    "duration": 497,
    "start_time": "2021-08-22T10:46:40.479Z"
   },
   {
    "duration": 370,
    "start_time": "2021-08-22T10:46:40.983Z"
   },
   {
    "duration": 122,
    "start_time": "2021-08-22T10:46:41.355Z"
   },
   {
    "duration": 19,
    "start_time": "2021-08-22T10:46:41.483Z"
   },
   {
    "duration": 7,
    "start_time": "2021-08-22T10:46:41.504Z"
   },
   {
    "duration": 70,
    "start_time": "2021-08-22T10:46:41.514Z"
   },
   {
    "duration": 106,
    "start_time": "2021-08-22T10:46:41.586Z"
   },
   {
    "duration": 85,
    "start_time": "2021-08-22T10:46:54.695Z"
   },
   {
    "duration": 823,
    "start_time": "2021-08-22T10:47:41.873Z"
   },
   {
    "duration": 510,
    "start_time": "2021-08-22T10:47:42.699Z"
   },
   {
    "duration": 329,
    "start_time": "2021-08-22T10:47:43.212Z"
   },
   {
    "duration": 118,
    "start_time": "2021-08-22T10:47:43.543Z"
   },
   {
    "duration": 22,
    "start_time": "2021-08-22T10:47:43.663Z"
   },
   {
    "duration": 11,
    "start_time": "2021-08-22T10:47:43.688Z"
   },
   {
    "duration": 45,
    "start_time": "2021-08-22T10:47:43.701Z"
   },
   {
    "duration": 119,
    "start_time": "2021-08-22T10:47:43.748Z"
   },
   {
    "duration": 47,
    "start_time": "2021-08-22T10:56:13.016Z"
   },
   {
    "duration": 42,
    "start_time": "2021-08-22T10:56:24.101Z"
   },
   {
    "duration": 41,
    "start_time": "2021-08-22T10:56:31.929Z"
   },
   {
    "duration": 52,
    "start_time": "2021-08-22T11:02:22.092Z"
   },
   {
    "duration": 52,
    "start_time": "2021-08-22T11:02:38.828Z"
   },
   {
    "duration": 353,
    "start_time": "2021-08-22T11:03:41.187Z"
   },
   {
    "duration": 16,
    "start_time": "2021-08-22T11:03:52.667Z"
   },
   {
    "duration": 844,
    "start_time": "2021-08-22T11:03:59.645Z"
   },
   {
    "duration": 478,
    "start_time": "2021-08-22T11:04:00.492Z"
   },
   {
    "duration": 353,
    "start_time": "2021-08-22T11:04:00.973Z"
   },
   {
    "duration": 119,
    "start_time": "2021-08-22T11:04:01.329Z"
   },
   {
    "duration": 18,
    "start_time": "2021-08-22T11:04:01.450Z"
   },
   {
    "duration": 22,
    "start_time": "2021-08-22T11:04:01.470Z"
   },
   {
    "duration": 58,
    "start_time": "2021-08-22T11:04:01.494Z"
   },
   {
    "duration": 129,
    "start_time": "2021-08-22T11:04:01.561Z"
   },
   {
    "duration": 47,
    "start_time": "2021-08-22T11:04:01.693Z"
   },
   {
    "duration": 75,
    "start_time": "2021-08-22T11:04:01.742Z"
   },
   {
    "duration": 14,
    "start_time": "2021-08-22T11:04:01.819Z"
   },
   {
    "duration": 830,
    "start_time": "2021-08-22T11:06:43.778Z"
   },
   {
    "duration": 482,
    "start_time": "2021-08-22T11:06:44.611Z"
   },
   {
    "duration": 343,
    "start_time": "2021-08-22T11:06:45.099Z"
   },
   {
    "duration": 115,
    "start_time": "2021-08-22T11:06:45.444Z"
   },
   {
    "duration": 22,
    "start_time": "2021-08-22T11:06:45.562Z"
   },
   {
    "duration": 10,
    "start_time": "2021-08-22T11:06:45.587Z"
   },
   {
    "duration": 42,
    "start_time": "2021-08-22T11:06:45.600Z"
   },
   {
    "duration": 120,
    "start_time": "2021-08-22T11:06:45.645Z"
   },
   {
    "duration": 56,
    "start_time": "2021-08-22T11:06:45.767Z"
   },
   {
    "duration": 64,
    "start_time": "2021-08-22T11:06:45.825Z"
   },
   {
    "duration": 13,
    "start_time": "2021-08-22T11:06:45.891Z"
   },
   {
    "duration": 828,
    "start_time": "2021-08-22T11:07:57.445Z"
   },
   {
    "duration": 472,
    "start_time": "2021-08-22T11:07:58.276Z"
   },
   {
    "duration": 341,
    "start_time": "2021-08-22T11:07:58.751Z"
   },
   {
    "duration": 109,
    "start_time": "2021-08-22T11:07:59.095Z"
   },
   {
    "duration": 18,
    "start_time": "2021-08-22T11:07:59.206Z"
   },
   {
    "duration": 9,
    "start_time": "2021-08-22T11:07:59.226Z"
   },
   {
    "duration": 67,
    "start_time": "2021-08-22T11:07:59.237Z"
   },
   {
    "duration": 109,
    "start_time": "2021-08-22T11:07:59.306Z"
   },
   {
    "duration": 48,
    "start_time": "2021-08-22T11:07:59.418Z"
   },
   {
    "duration": 51,
    "start_time": "2021-08-22T11:07:59.483Z"
   },
   {
    "duration": 14,
    "start_time": "2021-08-22T11:07:59.537Z"
   },
   {
    "duration": 776,
    "start_time": "2021-08-22T11:13:05.830Z"
   },
   {
    "duration": 486,
    "start_time": "2021-08-22T11:13:06.609Z"
   },
   {
    "duration": 336,
    "start_time": "2021-08-22T11:13:07.098Z"
   },
   {
    "duration": 113,
    "start_time": "2021-08-22T11:13:07.437Z"
   },
   {
    "duration": 29,
    "start_time": "2021-08-22T11:13:07.553Z"
   },
   {
    "duration": 6,
    "start_time": "2021-08-22T11:13:07.585Z"
   },
   {
    "duration": 43,
    "start_time": "2021-08-22T11:13:07.593Z"
   },
   {
    "duration": 117,
    "start_time": "2021-08-22T11:13:07.638Z"
   },
   {
    "duration": 62,
    "start_time": "2021-08-22T11:13:07.759Z"
   },
   {
    "duration": 61,
    "start_time": "2021-08-22T11:13:07.823Z"
   },
   {
    "duration": 14,
    "start_time": "2021-08-22T11:13:07.886Z"
   },
   {
    "duration": 55,
    "start_time": "2021-08-22T11:15:23.848Z"
   },
   {
    "duration": 795,
    "start_time": "2021-08-22T11:15:42.522Z"
   },
   {
    "duration": 466,
    "start_time": "2021-08-22T11:15:43.320Z"
   },
   {
    "duration": 335,
    "start_time": "2021-08-22T11:15:43.789Z"
   },
   {
    "duration": 115,
    "start_time": "2021-08-22T11:15:44.127Z"
   },
   {
    "duration": 18,
    "start_time": "2021-08-22T11:15:44.244Z"
   },
   {
    "duration": 22,
    "start_time": "2021-08-22T11:15:44.264Z"
   },
   {
    "duration": 41,
    "start_time": "2021-08-22T11:15:44.288Z"
   },
   {
    "duration": 121,
    "start_time": "2021-08-22T11:15:44.333Z"
   },
   {
    "duration": 57,
    "start_time": "2021-08-22T11:15:44.457Z"
   },
   {
    "duration": 53,
    "start_time": "2021-08-22T11:15:44.516Z"
   },
   {
    "duration": 13,
    "start_time": "2021-08-22T11:15:44.582Z"
   },
   {
    "duration": 55,
    "start_time": "2021-08-22T11:15:44.597Z"
   },
   {
    "duration": 58,
    "start_time": "2021-08-22T11:19:17.011Z"
   },
   {
    "duration": 50,
    "start_time": "2021-08-22T11:32:23.273Z"
   },
   {
    "duration": 873,
    "start_time": "2021-08-22T11:32:30.959Z"
   },
   {
    "duration": 479,
    "start_time": "2021-08-22T11:32:31.835Z"
   },
   {
    "duration": 325,
    "start_time": "2021-08-22T11:32:32.317Z"
   },
   {
    "duration": 118,
    "start_time": "2021-08-22T11:32:32.644Z"
   },
   {
    "duration": 22,
    "start_time": "2021-08-22T11:32:32.765Z"
   },
   {
    "duration": 11,
    "start_time": "2021-08-22T11:32:32.790Z"
   },
   {
    "duration": 39,
    "start_time": "2021-08-22T11:32:32.804Z"
   },
   {
    "duration": 143,
    "start_time": "2021-08-22T11:32:32.845Z"
   },
   {
    "duration": 48,
    "start_time": "2021-08-22T11:32:32.991Z"
   },
   {
    "duration": 75,
    "start_time": "2021-08-22T11:32:33.041Z"
   },
   {
    "duration": 13,
    "start_time": "2021-08-22T11:32:33.119Z"
   },
   {
    "duration": 77,
    "start_time": "2021-08-22T11:32:33.135Z"
   },
   {
    "duration": 67,
    "start_time": "2021-08-22T11:32:33.215Z"
   },
   {
    "duration": 17,
    "start_time": "2021-08-22T11:32:33.285Z"
   },
   {
    "duration": 403,
    "start_time": "2021-08-22T12:57:49.220Z"
   },
   {
    "duration": 381,
    "start_time": "2021-08-22T13:00:25.224Z"
   },
   {
    "duration": 890,
    "start_time": "2021-08-22T17:26:46.471Z"
   },
   {
    "duration": 482,
    "start_time": "2021-08-22T17:26:47.363Z"
   },
   {
    "duration": 351,
    "start_time": "2021-08-22T17:26:47.848Z"
   },
   {
    "duration": 114,
    "start_time": "2021-08-22T17:26:48.201Z"
   },
   {
    "duration": 17,
    "start_time": "2021-08-22T17:26:48.317Z"
   },
   {
    "duration": 9,
    "start_time": "2021-08-22T17:26:48.337Z"
   },
   {
    "duration": 71,
    "start_time": "2021-08-22T17:26:48.349Z"
   },
   {
    "duration": 139,
    "start_time": "2021-08-22T17:26:48.424Z"
   },
   {
    "duration": 66,
    "start_time": "2021-08-22T17:26:48.567Z"
   },
   {
    "duration": 71,
    "start_time": "2021-08-22T17:26:48.635Z"
   },
   {
    "duration": 18,
    "start_time": "2021-08-22T17:26:48.709Z"
   },
   {
    "duration": 78,
    "start_time": "2021-08-22T17:26:48.729Z"
   },
   {
    "duration": 74,
    "start_time": "2021-08-22T17:26:48.810Z"
   },
   {
    "duration": 21,
    "start_time": "2021-08-22T17:26:48.886Z"
   },
   {
    "duration": 388,
    "start_time": "2021-08-22T17:26:48.910Z"
   },
   {
    "duration": 266,
    "start_time": "2021-08-22T17:27:16.644Z"
   },
   {
    "duration": 492,
    "start_time": "2021-08-22T17:27:35.014Z"
   },
   {
    "duration": 28,
    "start_time": "2021-08-22T19:22:12.247Z"
   },
   {
    "duration": 25,
    "start_time": "2021-08-22T19:22:51.044Z"
   },
   {
    "duration": 16,
    "start_time": "2021-08-22T19:24:26.416Z"
   },
   {
    "duration": 26,
    "start_time": "2021-08-22T19:24:45.227Z"
   },
   {
    "duration": 779,
    "start_time": "2021-08-22T19:25:12.629Z"
   },
   {
    "duration": 507,
    "start_time": "2021-08-22T19:25:13.411Z"
   },
   {
    "duration": 379,
    "start_time": "2021-08-22T19:25:13.924Z"
   },
   {
    "duration": 129,
    "start_time": "2021-08-22T19:25:14.306Z"
   },
   {
    "duration": 18,
    "start_time": "2021-08-22T19:25:14.438Z"
   },
   {
    "duration": 25,
    "start_time": "2021-08-22T19:25:14.459Z"
   },
   {
    "duration": 42,
    "start_time": "2021-08-22T19:25:14.487Z"
   },
   {
    "duration": 128,
    "start_time": "2021-08-22T19:25:14.532Z"
   },
   {
    "duration": 70,
    "start_time": "2021-08-22T19:25:14.663Z"
   },
   {
    "duration": 68,
    "start_time": "2021-08-22T19:25:14.736Z"
   },
   {
    "duration": 14,
    "start_time": "2021-08-22T19:25:14.806Z"
   },
   {
    "duration": 82,
    "start_time": "2021-08-22T19:25:14.822Z"
   },
   {
    "duration": 59,
    "start_time": "2021-08-22T19:25:14.906Z"
   },
   {
    "duration": 19,
    "start_time": "2021-08-22T19:25:14.983Z"
   },
   {
    "duration": 402,
    "start_time": "2021-08-22T19:25:15.005Z"
   },
   {
    "duration": 27,
    "start_time": "2021-08-22T19:25:15.410Z"
   },
   {
    "duration": 46,
    "start_time": "2021-08-22T19:25:15.440Z"
   },
   {
    "duration": 808,
    "start_time": "2021-08-22T19:25:39.308Z"
   },
   {
    "duration": 504,
    "start_time": "2021-08-22T19:25:40.118Z"
   },
   {
    "duration": 360,
    "start_time": "2021-08-22T19:25:40.628Z"
   },
   {
    "duration": 99,
    "start_time": "2021-08-22T19:25:40.991Z"
   },
   {
    "duration": 16,
    "start_time": "2021-08-22T19:25:41.092Z"
   },
   {
    "duration": 7,
    "start_time": "2021-08-22T19:25:41.111Z"
   },
   {
    "duration": 68,
    "start_time": "2021-08-22T19:25:41.122Z"
   },
   {
    "duration": 105,
    "start_time": "2021-08-22T19:25:41.193Z"
   },
   {
    "duration": 44,
    "start_time": "2021-08-22T19:25:41.301Z"
   },
   {
    "duration": 68,
    "start_time": "2021-08-22T19:25:41.348Z"
   },
   {
    "duration": 14,
    "start_time": "2021-08-22T19:25:41.418Z"
   },
   {
    "duration": 78,
    "start_time": "2021-08-22T19:25:41.435Z"
   },
   {
    "duration": 68,
    "start_time": "2021-08-22T19:25:41.515Z"
   },
   {
    "duration": 17,
    "start_time": "2021-08-22T19:25:41.585Z"
   },
   {
    "duration": 409,
    "start_time": "2021-08-22T19:25:41.604Z"
   },
   {
    "duration": 24,
    "start_time": "2021-08-22T19:25:42.016Z"
   },
   {
    "duration": 49,
    "start_time": "2021-08-22T19:25:42.043Z"
   },
   {
    "duration": 8231,
    "start_time": "2021-08-22T19:28:48.071Z"
   },
   {
    "duration": 916,
    "start_time": "2021-08-22T19:29:30.956Z"
   },
   {
    "duration": 522,
    "start_time": "2021-08-22T19:29:31.875Z"
   },
   {
    "duration": 350,
    "start_time": "2021-08-22T19:29:32.405Z"
   },
   {
    "duration": 124,
    "start_time": "2021-08-22T19:29:32.782Z"
   },
   {
    "duration": 19,
    "start_time": "2021-08-22T19:29:32.908Z"
   },
   {
    "duration": 10,
    "start_time": "2021-08-22T19:29:32.929Z"
   },
   {
    "duration": 74,
    "start_time": "2021-08-22T19:29:32.943Z"
   },
   {
    "duration": 114,
    "start_time": "2021-08-22T19:29:33.020Z"
   },
   {
    "duration": 63,
    "start_time": "2021-08-22T19:29:33.136Z"
   },
   {
    "duration": 54,
    "start_time": "2021-08-22T19:29:33.201Z"
   },
   {
    "duration": 33,
    "start_time": "2021-08-22T19:29:33.257Z"
   },
   {
    "duration": 57,
    "start_time": "2021-08-22T19:29:33.294Z"
   },
   {
    "duration": 88,
    "start_time": "2021-08-22T19:29:33.353Z"
   },
   {
    "duration": 18,
    "start_time": "2021-08-22T19:29:33.443Z"
   },
   {
    "duration": 421,
    "start_time": "2021-08-22T19:29:33.464Z"
   },
   {
    "duration": 30,
    "start_time": "2021-08-22T19:29:33.889Z"
   },
   {
    "duration": 17,
    "start_time": "2021-08-22T19:29:33.921Z"
   },
   {
    "duration": 8542,
    "start_time": "2021-08-22T19:29:33.940Z"
   },
   {
    "duration": 8174,
    "start_time": "2021-08-22T19:33:38.969Z"
   },
   {
    "duration": 827,
    "start_time": "2021-08-22T19:34:09.151Z"
   },
   {
    "duration": 500,
    "start_time": "2021-08-22T19:34:09.983Z"
   },
   {
    "duration": 344,
    "start_time": "2021-08-22T19:34:10.486Z"
   },
   {
    "duration": 123,
    "start_time": "2021-08-22T19:34:10.833Z"
   },
   {
    "duration": 29,
    "start_time": "2021-08-22T19:34:10.958Z"
   },
   {
    "duration": 6,
    "start_time": "2021-08-22T19:34:10.990Z"
   },
   {
    "duration": 39,
    "start_time": "2021-08-22T19:34:10.999Z"
   },
   {
    "duration": 124,
    "start_time": "2021-08-22T19:34:11.042Z"
   },
   {
    "duration": 55,
    "start_time": "2021-08-22T19:34:11.169Z"
   },
   {
    "duration": 70,
    "start_time": "2021-08-22T19:34:11.227Z"
   },
   {
    "duration": 14,
    "start_time": "2021-08-22T19:34:11.299Z"
   },
   {
    "duration": 83,
    "start_time": "2021-08-22T19:34:11.315Z"
   },
   {
    "duration": 56,
    "start_time": "2021-08-22T19:34:11.400Z"
   },
   {
    "duration": 30,
    "start_time": "2021-08-22T19:34:11.459Z"
   },
   {
    "duration": 407,
    "start_time": "2021-08-22T19:34:11.492Z"
   },
   {
    "duration": 25,
    "start_time": "2021-08-22T19:34:11.902Z"
   },
   {
    "duration": 15,
    "start_time": "2021-08-22T19:34:11.930Z"
   },
   {
    "duration": 8263,
    "start_time": "2021-08-22T19:34:11.948Z"
   },
   {
    "duration": 8041,
    "start_time": "2021-08-22T19:34:20.214Z"
   },
   {
    "duration": 7887,
    "start_time": "2021-08-22T19:36:37.983Z"
   },
   {
    "duration": 25,
    "start_time": "2021-08-22T19:37:59.411Z"
   },
   {
    "duration": 9,
    "start_time": "2021-08-22T19:38:44.351Z"
   },
   {
    "duration": 10,
    "start_time": "2021-08-22T19:46:05.181Z"
   },
   {
    "duration": 893,
    "start_time": "2021-08-23T07:57:55.289Z"
   },
   {
    "duration": 510,
    "start_time": "2021-08-23T07:57:56.185Z"
   },
   {
    "duration": 338,
    "start_time": "2021-08-23T07:57:56.698Z"
   },
   {
    "duration": 115,
    "start_time": "2021-08-23T07:57:57.039Z"
   },
   {
    "duration": 28,
    "start_time": "2021-08-23T07:57:57.156Z"
   },
   {
    "duration": 12,
    "start_time": "2021-08-23T07:57:57.187Z"
   },
   {
    "duration": 45,
    "start_time": "2021-08-23T07:57:57.201Z"
   },
   {
    "duration": 119,
    "start_time": "2021-08-23T07:57:57.250Z"
   },
   {
    "duration": 51,
    "start_time": "2021-08-23T07:57:57.372Z"
   },
   {
    "duration": 77,
    "start_time": "2021-08-23T07:57:57.425Z"
   },
   {
    "duration": 13,
    "start_time": "2021-08-23T07:57:57.505Z"
   },
   {
    "duration": 75,
    "start_time": "2021-08-23T07:57:57.520Z"
   },
   {
    "duration": 54,
    "start_time": "2021-08-23T07:57:57.597Z"
   },
   {
    "duration": 35,
    "start_time": "2021-08-23T07:57:57.653Z"
   },
   {
    "duration": 403,
    "start_time": "2021-08-23T07:57:57.691Z"
   },
   {
    "duration": 27,
    "start_time": "2021-08-23T07:57:58.096Z"
   },
   {
    "duration": 15,
    "start_time": "2021-08-23T07:57:58.125Z"
   },
   {
    "duration": 8267,
    "start_time": "2021-08-23T07:57:58.142Z"
   },
   {
    "duration": 8104,
    "start_time": "2021-08-23T07:58:06.412Z"
   },
   {
    "duration": 7951,
    "start_time": "2021-08-23T07:58:14.519Z"
   },
   {
    "duration": 30,
    "start_time": "2021-08-23T07:58:22.472Z"
   },
   {
    "duration": 9,
    "start_time": "2021-08-23T07:58:22.504Z"
   },
   {
    "duration": 10,
    "start_time": "2021-08-23T07:58:22.519Z"
   },
   {
    "duration": 31,
    "start_time": "2021-08-23T08:02:47.283Z"
   },
   {
    "duration": 798,
    "start_time": "2021-08-23T08:02:51.534Z"
   },
   {
    "duration": 554,
    "start_time": "2021-08-23T08:02:52.335Z"
   },
   {
    "duration": 331,
    "start_time": "2021-08-23T08:02:52.892Z"
   },
   {
    "duration": 114,
    "start_time": "2021-08-23T08:02:53.226Z"
   },
   {
    "duration": 20,
    "start_time": "2021-08-23T08:02:53.342Z"
   },
   {
    "duration": 55,
    "start_time": "2021-08-23T08:02:53.365Z"
   },
   {
    "duration": 7,
    "start_time": "2021-08-23T08:02:53.422Z"
   },
   {
    "duration": 62,
    "start_time": "2021-08-23T08:02:53.435Z"
   },
   {
    "duration": 87,
    "start_time": "2021-08-23T08:02:53.501Z"
   },
   {
    "duration": 36,
    "start_time": "2021-08-23T08:02:53.591Z"
   },
   {
    "duration": 80,
    "start_time": "2021-08-23T08:02:53.629Z"
   },
   {
    "duration": 14,
    "start_time": "2021-08-23T08:02:53.711Z"
   },
   {
    "duration": 80,
    "start_time": "2021-08-23T08:02:53.728Z"
   },
   {
    "duration": 59,
    "start_time": "2021-08-23T08:02:53.810Z"
   },
   {
    "duration": 31,
    "start_time": "2021-08-23T08:02:53.883Z"
   },
   {
    "duration": 388,
    "start_time": "2021-08-23T08:02:53.917Z"
   },
   {
    "duration": 25,
    "start_time": "2021-08-23T08:02:54.308Z"
   },
   {
    "duration": 16,
    "start_time": "2021-08-23T08:02:54.335Z"
   },
   {
    "duration": 8017,
    "start_time": "2021-08-23T08:02:54.382Z"
   },
   {
    "duration": 7969,
    "start_time": "2021-08-23T08:03:02.402Z"
   },
   {
    "duration": 7895,
    "start_time": "2021-08-23T08:03:10.373Z"
   },
   {
    "duration": 33,
    "start_time": "2021-08-23T08:03:18.270Z"
   },
   {
    "duration": 10,
    "start_time": "2021-08-23T08:03:18.306Z"
   },
   {
    "duration": 10,
    "start_time": "2021-08-23T08:03:18.319Z"
   },
   {
    "duration": 7,
    "start_time": "2021-08-23T08:05:01.547Z"
   },
   {
    "duration": 8,
    "start_time": "2021-08-23T08:05:23.825Z"
   },
   {
    "duration": 857,
    "start_time": "2021-08-23T08:05:29.065Z"
   },
   {
    "duration": 520,
    "start_time": "2021-08-23T08:05:29.924Z"
   },
   {
    "duration": 360,
    "start_time": "2021-08-23T08:05:30.450Z"
   },
   {
    "duration": 118,
    "start_time": "2021-08-23T08:05:30.812Z"
   },
   {
    "duration": 17,
    "start_time": "2021-08-23T08:05:30.932Z"
   },
   {
    "duration": 28,
    "start_time": "2021-08-23T08:05:30.951Z"
   },
   {
    "duration": 71,
    "start_time": "2021-08-23T08:05:30.982Z"
   },
   {
    "duration": 115,
    "start_time": "2021-08-23T08:05:31.056Z"
   },
   {
    "duration": 52,
    "start_time": "2021-08-23T08:05:31.173Z"
   },
   {
    "duration": 7,
    "start_time": "2021-08-23T08:05:31.228Z"
   },
   {
    "duration": 81,
    "start_time": "2021-08-23T08:05:31.238Z"
   },
   {
    "duration": 7,
    "start_time": "2021-08-23T08:05:31.322Z"
   },
   {
    "duration": 31,
    "start_time": "2021-08-23T08:05:31.331Z"
   },
   {
    "duration": 69,
    "start_time": "2021-08-23T08:05:31.364Z"
   },
   {
    "duration": 72,
    "start_time": "2021-08-23T08:05:31.435Z"
   },
   {
    "duration": 18,
    "start_time": "2021-08-23T08:05:31.509Z"
   },
   {
    "duration": 411,
    "start_time": "2021-08-23T08:05:31.530Z"
   },
   {
    "duration": 42,
    "start_time": "2021-08-23T08:05:31.944Z"
   },
   {
    "duration": 18,
    "start_time": "2021-08-23T08:05:31.989Z"
   },
   {
    "duration": 7921,
    "start_time": "2021-08-23T08:05:32.010Z"
   },
   {
    "duration": 8342,
    "start_time": "2021-08-23T08:05:39.933Z"
   },
   {
    "duration": 8081,
    "start_time": "2021-08-23T08:05:48.285Z"
   },
   {
    "duration": 34,
    "start_time": "2021-08-23T08:05:56.368Z"
   },
   {
    "duration": 12,
    "start_time": "2021-08-23T08:05:56.405Z"
   },
   {
    "duration": 14,
    "start_time": "2021-08-23T08:05:56.420Z"
   },
   {
    "duration": 7,
    "start_time": "2021-08-23T08:06:22.018Z"
   },
   {
    "duration": 52,
    "start_time": "2021-08-23T08:06:55.862Z"
   },
   {
    "duration": 8,
    "start_time": "2021-08-23T08:06:57.673Z"
   },
   {
    "duration": 7,
    "start_time": "2021-08-23T08:07:29.826Z"
   },
   {
    "duration": 10,
    "start_time": "2021-08-23T08:07:57.941Z"
   },
   {
    "duration": 5,
    "start_time": "2021-08-23T08:10:05.213Z"
   },
   {
    "duration": 9,
    "start_time": "2021-08-23T08:10:15.081Z"
   },
   {
    "duration": 1154,
    "start_time": "2021-08-23T08:10:20.166Z"
   },
   {
    "duration": 494,
    "start_time": "2021-08-23T08:10:21.323Z"
   },
   {
    "duration": 376,
    "start_time": "2021-08-23T08:10:21.821Z"
   },
   {
    "duration": 124,
    "start_time": "2021-08-23T08:10:22.201Z"
   },
   {
    "duration": 21,
    "start_time": "2021-08-23T08:10:22.327Z"
   },
   {
    "duration": 11,
    "start_time": "2021-08-23T08:10:22.350Z"
   },
   {
    "duration": 42,
    "start_time": "2021-08-23T08:10:22.383Z"
   },
   {
    "duration": 120,
    "start_time": "2021-08-23T08:10:22.429Z"
   },
   {
    "duration": 66,
    "start_time": "2021-08-23T08:10:22.553Z"
   },
   {
    "duration": 7,
    "start_time": "2021-08-23T08:10:22.622Z"
   },
   {
    "duration": 85,
    "start_time": "2021-08-23T08:10:22.631Z"
   },
   {
    "duration": 8,
    "start_time": "2021-08-23T08:10:22.718Z"
   },
   {
    "duration": 19,
    "start_time": "2021-08-23T08:10:22.729Z"
   },
   {
    "duration": 35,
    "start_time": "2021-08-23T08:10:22.751Z"
   },
   {
    "duration": 75,
    "start_time": "2021-08-23T08:10:22.789Z"
   },
   {
    "duration": 18,
    "start_time": "2021-08-23T08:10:22.866Z"
   },
   {
    "duration": 64,
    "start_time": "2021-08-23T08:10:22.887Z"
   },
   {
    "duration": 35,
    "start_time": "2021-08-23T08:10:22.953Z"
   },
   {
    "duration": 7,
    "start_time": "2021-08-23T08:10:22.991Z"
   },
   {
    "duration": 447,
    "start_time": "2021-08-23T08:10:23.000Z"
   },
   {
    "duration": 11,
    "start_time": "2021-08-23T08:10:23.450Z"
   },
   {
    "duration": 19,
    "start_time": "2021-08-23T08:10:23.463Z"
   },
   {
    "duration": 19,
    "start_time": "2021-08-23T08:10:23.487Z"
   },
   {
    "duration": 31,
    "start_time": "2021-08-23T08:10:23.508Z"
   },
   {
    "duration": 40,
    "start_time": "2021-08-23T08:10:23.542Z"
   },
   {
    "duration": 8384,
    "start_time": "2021-08-23T08:10:23.585Z"
   },
   {
    "duration": 7983,
    "start_time": "2021-08-23T08:10:31.972Z"
   },
   {
    "duration": 8180,
    "start_time": "2021-08-23T08:10:39.958Z"
   },
   {
    "duration": 24,
    "start_time": "2021-08-23T08:10:48.141Z"
   },
   {
    "duration": 9,
    "start_time": "2021-08-23T08:10:48.183Z"
   },
   {
    "duration": 10,
    "start_time": "2021-08-23T08:10:48.195Z"
   },
   {
    "duration": 822,
    "start_time": "2021-08-23T08:12:17.957Z"
   },
   {
    "duration": 468,
    "start_time": "2021-08-23T08:12:18.784Z"
   },
   {
    "duration": 348,
    "start_time": "2021-08-23T08:12:19.255Z"
   },
   {
    "duration": 112,
    "start_time": "2021-08-23T08:12:19.605Z"
   },
   {
    "duration": 16,
    "start_time": "2021-08-23T08:12:19.719Z"
   },
   {
    "duration": 12,
    "start_time": "2021-08-23T08:12:19.737Z"
   },
   {
    "duration": 62,
    "start_time": "2021-08-23T08:12:19.751Z"
   },
   {
    "duration": 106,
    "start_time": "2021-08-23T08:12:19.815Z"
   },
   {
    "duration": 57,
    "start_time": "2021-08-23T08:12:19.925Z"
   },
   {
    "duration": 8,
    "start_time": "2021-08-23T08:12:19.985Z"
   },
   {
    "duration": 82,
    "start_time": "2021-08-23T08:12:19.995Z"
   },
   {
    "duration": 6,
    "start_time": "2021-08-23T08:12:20.080Z"
   },
   {
    "duration": 20,
    "start_time": "2021-08-23T08:12:20.088Z"
   },
   {
    "duration": 8,
    "start_time": "2021-08-23T08:12:20.110Z"
   },
   {
    "duration": 82,
    "start_time": "2021-08-23T08:12:20.120Z"
   },
   {
    "duration": 7,
    "start_time": "2021-08-23T08:12:20.204Z"
   },
   {
    "duration": 72,
    "start_time": "2021-08-23T08:12:20.213Z"
   },
   {
    "duration": 18,
    "start_time": "2021-08-23T08:12:20.287Z"
   },
   {
    "duration": 7,
    "start_time": "2021-08-23T08:12:20.307Z"
   },
   {
    "duration": 387,
    "start_time": "2021-08-23T08:12:20.316Z"
   },
   {
    "duration": 8,
    "start_time": "2021-08-23T08:12:20.706Z"
   },
   {
    "duration": 10,
    "start_time": "2021-08-23T08:12:20.716Z"
   },
   {
    "duration": 58,
    "start_time": "2021-08-23T08:12:20.729Z"
   },
   {
    "duration": 16,
    "start_time": "2021-08-23T08:12:20.789Z"
   },
   {
    "duration": 7777,
    "start_time": "2021-08-23T08:12:20.807Z"
   },
   {
    "duration": 8177,
    "start_time": "2021-08-23T08:12:28.586Z"
   },
   {
    "duration": 8009,
    "start_time": "2021-08-23T08:12:36.767Z"
   },
   {
    "duration": 29,
    "start_time": "2021-08-23T08:12:44.782Z"
   },
   {
    "duration": 8,
    "start_time": "2021-08-23T08:12:44.813Z"
   },
   {
    "duration": 11,
    "start_time": "2021-08-23T08:12:44.824Z"
   },
   {
    "duration": 848,
    "start_time": "2021-08-23T08:12:57.822Z"
   },
   {
    "duration": 488,
    "start_time": "2021-08-23T08:12:58.673Z"
   },
   {
    "duration": 338,
    "start_time": "2021-08-23T08:12:59.164Z"
   },
   {
    "duration": 118,
    "start_time": "2021-08-23T08:12:59.505Z"
   },
   {
    "duration": 19,
    "start_time": "2021-08-23T08:12:59.625Z"
   },
   {
    "duration": 12,
    "start_time": "2021-08-23T08:12:59.646Z"
   },
   {
    "duration": 54,
    "start_time": "2021-08-23T08:12:59.660Z"
   },
   {
    "duration": 118,
    "start_time": "2021-08-23T08:12:59.719Z"
   },
   {
    "duration": 63,
    "start_time": "2021-08-23T08:12:59.840Z"
   },
   {
    "duration": 8,
    "start_time": "2021-08-23T08:12:59.906Z"
   },
   {
    "duration": 80,
    "start_time": "2021-08-23T08:12:59.917Z"
   },
   {
    "duration": 8,
    "start_time": "2021-08-23T08:13:00.000Z"
   },
   {
    "duration": 42,
    "start_time": "2021-08-23T08:13:00.010Z"
   },
   {
    "duration": 7,
    "start_time": "2021-08-23T08:13:00.055Z"
   },
   {
    "duration": 71,
    "start_time": "2021-08-23T08:13:00.063Z"
   },
   {
    "duration": 6,
    "start_time": "2021-08-23T08:13:00.137Z"
   },
   {
    "duration": 79,
    "start_time": "2021-08-23T08:13:00.145Z"
   },
   {
    "duration": 18,
    "start_time": "2021-08-23T08:13:00.227Z"
   },
   {
    "duration": 9,
    "start_time": "2021-08-23T08:13:00.248Z"
   },
   {
    "duration": 397,
    "start_time": "2021-08-23T08:13:00.259Z"
   },
   {
    "duration": 25,
    "start_time": "2021-08-23T08:13:00.659Z"
   },
   {
    "duration": 35,
    "start_time": "2021-08-23T08:13:00.686Z"
   },
   {
    "duration": 16,
    "start_time": "2021-08-23T08:13:00.728Z"
   },
   {
    "duration": 39,
    "start_time": "2021-08-23T08:13:00.747Z"
   },
   {
    "duration": 11,
    "start_time": "2021-08-23T08:13:00.789Z"
   },
   {
    "duration": 7875,
    "start_time": "2021-08-23T08:13:00.802Z"
   },
   {
    "duration": 7884,
    "start_time": "2021-08-23T08:13:08.683Z"
   },
   {
    "duration": 7605,
    "start_time": "2021-08-23T08:13:16.569Z"
   },
   {
    "duration": 25,
    "start_time": "2021-08-23T08:13:24.177Z"
   },
   {
    "duration": 11,
    "start_time": "2021-08-23T08:13:24.204Z"
   },
   {
    "duration": 10,
    "start_time": "2021-08-23T08:13:24.217Z"
   },
   {
    "duration": 8,
    "start_time": "2021-08-23T08:13:25.166Z"
   },
   {
    "duration": 833,
    "start_time": "2021-08-23T08:13:37.649Z"
   },
   {
    "duration": 457,
    "start_time": "2021-08-23T08:13:38.485Z"
   },
   {
    "duration": 347,
    "start_time": "2021-08-23T08:13:38.948Z"
   },
   {
    "duration": 113,
    "start_time": "2021-08-23T08:13:39.298Z"
   },
   {
    "duration": 17,
    "start_time": "2021-08-23T08:13:39.414Z"
   },
   {
    "duration": 7,
    "start_time": "2021-08-23T08:13:39.434Z"
   },
   {
    "duration": 67,
    "start_time": "2021-08-23T08:13:39.445Z"
   },
   {
    "duration": 107,
    "start_time": "2021-08-23T08:13:39.515Z"
   },
   {
    "duration": 60,
    "start_time": "2021-08-23T08:13:39.625Z"
   },
   {
    "duration": 8,
    "start_time": "2021-08-23T08:13:39.688Z"
   },
   {
    "duration": 55,
    "start_time": "2021-08-23T08:13:39.700Z"
   },
   {
    "duration": 9,
    "start_time": "2021-08-23T08:13:39.782Z"
   },
   {
    "duration": 20,
    "start_time": "2021-08-23T08:13:39.794Z"
   },
   {
    "duration": 8,
    "start_time": "2021-08-23T08:13:39.817Z"
   },
   {
    "duration": 95,
    "start_time": "2021-08-23T08:13:39.827Z"
   },
   {
    "duration": 7,
    "start_time": "2021-08-23T08:13:39.925Z"
   },
   {
    "duration": 82,
    "start_time": "2021-08-23T08:13:39.934Z"
   },
   {
    "duration": 18,
    "start_time": "2021-08-23T08:13:40.019Z"
   },
   {
    "duration": 6,
    "start_time": "2021-08-23T08:13:40.040Z"
   },
   {
    "duration": 415,
    "start_time": "2021-08-23T08:13:40.048Z"
   },
   {
    "duration": 8,
    "start_time": "2021-08-23T08:13:40.482Z"
   },
   {
    "duration": 41,
    "start_time": "2021-08-23T08:13:40.501Z"
   },
   {
    "duration": 7,
    "start_time": "2021-08-23T08:13:40.545Z"
   },
   {
    "duration": 35,
    "start_time": "2021-08-23T08:13:40.554Z"
   },
   {
    "duration": 8,
    "start_time": "2021-08-23T08:13:40.591Z"
   },
   {
    "duration": 15,
    "start_time": "2021-08-23T08:13:40.601Z"
   },
   {
    "duration": 7892,
    "start_time": "2021-08-23T08:13:40.618Z"
   },
   {
    "duration": 8293,
    "start_time": "2021-08-23T08:13:48.512Z"
   },
   {
    "duration": 8132,
    "start_time": "2021-08-23T08:13:56.807Z"
   },
   {
    "duration": 24,
    "start_time": "2021-08-23T08:14:04.942Z"
   },
   {
    "duration": 8,
    "start_time": "2021-08-23T08:14:04.983Z"
   },
   {
    "duration": 10,
    "start_time": "2021-08-23T08:14:04.993Z"
   },
   {
    "duration": 27,
    "start_time": "2021-08-23T08:14:25.148Z"
   },
   {
    "duration": 27,
    "start_time": "2021-08-23T08:14:31.896Z"
   },
   {
    "duration": 969,
    "start_time": "2021-08-23T08:16:26.077Z"
   },
   {
    "duration": 490,
    "start_time": "2021-08-23T08:16:27.049Z"
   },
   {
    "duration": 377,
    "start_time": "2021-08-23T08:16:27.541Z"
   },
   {
    "duration": 134,
    "start_time": "2021-08-23T08:16:27.921Z"
   },
   {
    "duration": 27,
    "start_time": "2021-08-23T08:16:28.057Z"
   },
   {
    "duration": 12,
    "start_time": "2021-08-23T08:16:28.087Z"
   },
   {
    "duration": 50,
    "start_time": "2021-08-23T08:16:28.101Z"
   },
   {
    "duration": 120,
    "start_time": "2021-08-23T08:16:28.155Z"
   },
   {
    "duration": 48,
    "start_time": "2021-08-23T08:16:28.283Z"
   },
   {
    "duration": 8,
    "start_time": "2021-08-23T08:16:28.333Z"
   },
   {
    "duration": 84,
    "start_time": "2021-08-23T08:16:28.343Z"
   },
   {
    "duration": 7,
    "start_time": "2021-08-23T08:16:28.429Z"
   },
   {
    "duration": 24,
    "start_time": "2021-08-23T08:16:28.439Z"
   },
   {
    "duration": 21,
    "start_time": "2021-08-23T08:16:28.466Z"
   },
   {
    "duration": 58,
    "start_time": "2021-08-23T08:16:28.489Z"
   },
   {
    "duration": 33,
    "start_time": "2021-08-23T08:16:28.550Z"
   },
   {
    "duration": 58,
    "start_time": "2021-08-23T08:16:28.586Z"
   },
   {
    "duration": 39,
    "start_time": "2021-08-23T08:16:28.646Z"
   },
   {
    "duration": 9,
    "start_time": "2021-08-23T08:16:28.688Z"
   },
   {
    "duration": 409,
    "start_time": "2021-08-23T08:16:28.699Z"
   },
   {
    "duration": 8,
    "start_time": "2021-08-23T08:16:29.110Z"
   },
   {
    "duration": 37,
    "start_time": "2021-08-23T08:16:29.121Z"
   },
   {
    "duration": 22,
    "start_time": "2021-08-23T08:16:29.162Z"
   },
   {
    "duration": 18,
    "start_time": "2021-08-23T08:16:29.186Z"
   },
   {
    "duration": 21,
    "start_time": "2021-08-23T08:16:29.206Z"
   },
   {
    "duration": 11,
    "start_time": "2021-08-23T08:16:29.229Z"
   },
   {
    "duration": 8605,
    "start_time": "2021-08-23T08:16:29.243Z"
   },
   {
    "duration": 8255,
    "start_time": "2021-08-23T08:16:37.851Z"
   },
   {
    "duration": 7953,
    "start_time": "2021-08-23T08:16:46.109Z"
   },
   {
    "duration": 38,
    "start_time": "2021-08-23T08:16:54.065Z"
   },
   {
    "duration": 51,
    "start_time": "2021-08-23T08:16:54.106Z"
   },
   {
    "duration": 10,
    "start_time": "2021-08-23T08:16:54.159Z"
   },
   {
    "duration": 836,
    "start_time": "2021-08-23T08:52:02.984Z"
   },
   {
    "duration": 477,
    "start_time": "2021-08-23T08:52:03.823Z"
   },
   {
    "duration": 334,
    "start_time": "2021-08-23T08:52:04.303Z"
   },
   {
    "duration": 118,
    "start_time": "2021-08-23T08:52:04.640Z"
   },
   {
    "duration": 21,
    "start_time": "2021-08-23T08:52:04.761Z"
   },
   {
    "duration": 6,
    "start_time": "2021-08-23T08:52:04.785Z"
   },
   {
    "duration": 40,
    "start_time": "2021-08-23T08:52:04.793Z"
   },
   {
    "duration": 125,
    "start_time": "2021-08-23T08:52:04.836Z"
   },
   {
    "duration": 61,
    "start_time": "2021-08-23T08:52:04.966Z"
   },
   {
    "duration": 7,
    "start_time": "2021-08-23T08:52:05.030Z"
   },
   {
    "duration": 85,
    "start_time": "2021-08-23T08:52:05.039Z"
   },
   {
    "duration": 8,
    "start_time": "2021-08-23T08:52:05.126Z"
   },
   {
    "duration": 15,
    "start_time": "2021-08-23T08:52:05.137Z"
   },
   {
    "duration": 31,
    "start_time": "2021-08-23T08:52:05.154Z"
   },
   {
    "duration": 59,
    "start_time": "2021-08-23T08:52:05.187Z"
   },
   {
    "duration": 7,
    "start_time": "2021-08-23T08:52:05.249Z"
   },
   {
    "duration": 84,
    "start_time": "2021-08-23T08:52:05.258Z"
   },
   {
    "duration": 18,
    "start_time": "2021-08-23T08:52:05.345Z"
   },
   {
    "duration": 7,
    "start_time": "2021-08-23T08:52:05.383Z"
   },
   {
    "duration": 409,
    "start_time": "2021-08-23T08:52:05.392Z"
   },
   {
    "duration": 8,
    "start_time": "2021-08-23T08:52:05.804Z"
   },
   {
    "duration": 24,
    "start_time": "2021-08-23T08:52:05.815Z"
   },
   {
    "duration": 7,
    "start_time": "2021-08-23T08:52:05.841Z"
   },
   {
    "duration": 38,
    "start_time": "2021-08-23T08:52:05.850Z"
   },
   {
    "duration": 16,
    "start_time": "2021-08-23T08:52:05.891Z"
   },
   {
    "duration": 8,
    "start_time": "2021-08-23T08:52:05.910Z"
   },
   {
    "duration": 7973,
    "start_time": "2021-08-23T08:52:05.923Z"
   },
   {
    "duration": 7968,
    "start_time": "2021-08-23T08:52:13.898Z"
   },
   {
    "duration": 8068,
    "start_time": "2021-08-23T08:52:21.868Z"
   },
   {
    "duration": 47,
    "start_time": "2021-08-23T08:52:29.939Z"
   },
   {
    "duration": 7186,
    "start_time": "2021-08-23T08:54:22.525Z"
   },
   {
    "duration": 17,
    "start_time": "2021-08-23T08:56:11.630Z"
   },
   {
    "duration": 55,
    "start_time": "2021-08-23T09:17:20.310Z"
   },
   {
    "duration": 55,
    "start_time": "2021-08-23T09:18:16.821Z"
   },
   {
    "duration": 12,
    "start_time": "2021-08-23T09:20:05.466Z"
   },
   {
    "duration": 11,
    "start_time": "2021-08-23T09:20:08.994Z"
   },
   {
    "duration": 933,
    "start_time": "2021-08-23T12:23:11.642Z"
   },
   {
    "duration": 537,
    "start_time": "2021-08-23T12:23:12.578Z"
   },
   {
    "duration": 364,
    "start_time": "2021-08-23T12:23:13.118Z"
   },
   {
    "duration": 100,
    "start_time": "2021-08-23T12:23:13.485Z"
   },
   {
    "duration": 18,
    "start_time": "2021-08-23T12:23:13.588Z"
   },
   {
    "duration": 18,
    "start_time": "2021-08-23T12:23:13.609Z"
   },
   {
    "duration": 61,
    "start_time": "2021-08-23T12:23:13.633Z"
   },
   {
    "duration": 117,
    "start_time": "2021-08-23T12:23:13.698Z"
   },
   {
    "duration": 47,
    "start_time": "2021-08-23T12:23:13.818Z"
   },
   {
    "duration": 21,
    "start_time": "2021-08-23T12:23:13.867Z"
   },
   {
    "duration": 53,
    "start_time": "2021-08-23T12:23:13.890Z"
   },
   {
    "duration": 7,
    "start_time": "2021-08-23T12:23:13.945Z"
   },
   {
    "duration": 15,
    "start_time": "2021-08-23T12:23:13.983Z"
   },
   {
    "duration": 8,
    "start_time": "2021-08-23T12:23:14.000Z"
   },
   {
    "duration": 91,
    "start_time": "2021-08-23T12:23:14.011Z"
   },
   {
    "duration": 7,
    "start_time": "2021-08-23T12:23:14.105Z"
   },
   {
    "duration": 78,
    "start_time": "2021-08-23T12:23:14.114Z"
   },
   {
    "duration": 19,
    "start_time": "2021-08-23T12:23:14.195Z"
   },
   {
    "duration": 7,
    "start_time": "2021-08-23T12:23:14.216Z"
   },
   {
    "duration": 359,
    "start_time": "2021-08-23T12:23:14.225Z"
   },
   {
    "duration": 8,
    "start_time": "2021-08-23T12:23:14.587Z"
   },
   {
    "duration": 25,
    "start_time": "2021-08-23T12:23:14.600Z"
   },
   {
    "duration": 8,
    "start_time": "2021-08-23T12:23:14.627Z"
   },
   {
    "duration": 47,
    "start_time": "2021-08-23T12:23:14.637Z"
   },
   {
    "duration": 24,
    "start_time": "2021-08-23T12:23:14.687Z"
   },
   {
    "duration": 8,
    "start_time": "2021-08-23T12:23:14.713Z"
   },
   {
    "duration": 8060,
    "start_time": "2021-08-23T12:23:14.723Z"
   },
   {
    "duration": 8368,
    "start_time": "2021-08-23T12:23:22.786Z"
   },
   {
    "duration": 979,
    "start_time": "2021-08-23T12:23:40.916Z"
   },
   {
    "duration": 485,
    "start_time": "2021-08-23T12:23:41.898Z"
   },
   {
    "duration": 358,
    "start_time": "2021-08-23T12:23:42.387Z"
   },
   {
    "duration": 118,
    "start_time": "2021-08-23T12:23:42.748Z"
   },
   {
    "duration": 27,
    "start_time": "2021-08-23T12:23:42.868Z"
   },
   {
    "duration": 10,
    "start_time": "2021-08-23T12:23:42.897Z"
   },
   {
    "duration": 44,
    "start_time": "2021-08-23T12:23:42.910Z"
   },
   {
    "duration": 106,
    "start_time": "2021-08-23T12:23:42.982Z"
   },
   {
    "duration": 47,
    "start_time": "2021-08-23T12:23:43.091Z"
   },
   {
    "duration": 7,
    "start_time": "2021-08-23T12:23:43.140Z"
   },
   {
    "duration": 80,
    "start_time": "2021-08-23T12:23:43.150Z"
   },
   {
    "duration": 7,
    "start_time": "2021-08-23T12:23:43.232Z"
   },
   {
    "duration": 40,
    "start_time": "2021-08-23T12:23:43.242Z"
   },
   {
    "duration": 7,
    "start_time": "2021-08-23T12:23:43.284Z"
   },
   {
    "duration": 56,
    "start_time": "2021-08-23T12:23:43.294Z"
   },
   {
    "duration": 32,
    "start_time": "2021-08-23T12:23:43.353Z"
   },
   {
    "duration": 58,
    "start_time": "2021-08-23T12:23:43.387Z"
   },
   {
    "duration": 38,
    "start_time": "2021-08-23T12:23:43.447Z"
   },
   {
    "duration": 6,
    "start_time": "2021-08-23T12:23:43.488Z"
   },
   {
    "duration": 395,
    "start_time": "2021-08-23T12:23:43.496Z"
   },
   {
    "duration": 7,
    "start_time": "2021-08-23T12:23:43.894Z"
   },
   {
    "duration": 40,
    "start_time": "2021-08-23T12:23:43.904Z"
   },
   {
    "duration": 8,
    "start_time": "2021-08-23T12:23:43.948Z"
   },
   {
    "duration": 30,
    "start_time": "2021-08-23T12:23:43.959Z"
   },
   {
    "duration": 17,
    "start_time": "2021-08-23T12:23:43.992Z"
   },
   {
    "duration": 8,
    "start_time": "2021-08-23T12:23:44.011Z"
   },
   {
    "duration": 8373,
    "start_time": "2021-08-23T12:23:44.021Z"
   },
   {
    "duration": 8086,
    "start_time": "2021-08-23T12:23:52.396Z"
   },
   {
    "duration": 8018,
    "start_time": "2021-08-23T12:24:00.485Z"
   },
   {
    "duration": 21,
    "start_time": "2021-08-23T12:24:08.505Z"
   },
   {
    "duration": 15,
    "start_time": "2021-08-23T12:24:08.529Z"
   },
   {
    "duration": 38,
    "start_time": "2021-08-23T12:24:08.547Z"
   },
   {
    "duration": 10,
    "start_time": "2021-08-23T12:24:08.587Z"
   },
   {
    "duration": 950,
    "start_time": "2021-08-23T12:24:49.285Z"
   },
   {
    "duration": 1253,
    "start_time": "2021-08-23T12:25:47.797Z"
   },
   {
    "duration": 1005,
    "start_time": "2021-08-23T12:26:28.350Z"
   },
   {
    "duration": 11,
    "start_time": "2021-08-23T12:35:15.459Z"
   },
   {
    "duration": 11,
    "start_time": "2021-08-23T13:42:04.340Z"
   },
   {
    "duration": 11,
    "start_time": "2021-08-23T13:42:05.550Z"
   },
   {
    "duration": 11,
    "start_time": "2021-08-23T13:42:47.246Z"
   },
   {
    "duration": 13,
    "start_time": "2021-08-23T13:43:21.582Z"
   },
   {
    "duration": 12,
    "start_time": "2021-08-23T13:43:22.318Z"
   },
   {
    "duration": 222,
    "start_time": "2021-08-23T13:45:01.189Z"
   },
   {
    "duration": 242,
    "start_time": "2021-08-23T13:47:01.445Z"
   },
   {
    "duration": 394,
    "start_time": "2021-08-23T13:55:10.118Z"
   },
   {
    "duration": 1335,
    "start_time": "2021-08-23T13:59:44.188Z"
   },
   {
    "duration": 483,
    "start_time": "2021-08-23T13:59:45.525Z"
   },
   {
    "duration": 388,
    "start_time": "2021-08-23T13:59:46.012Z"
   },
   {
    "duration": 119,
    "start_time": "2021-08-23T13:59:46.403Z"
   },
   {
    "duration": 19,
    "start_time": "2021-08-23T13:59:46.525Z"
   },
   {
    "duration": 11,
    "start_time": "2021-08-23T13:59:46.546Z"
   },
   {
    "duration": 77,
    "start_time": "2021-08-23T13:59:46.560Z"
   },
   {
    "duration": 142,
    "start_time": "2021-08-23T13:59:46.642Z"
   },
   {
    "duration": 50,
    "start_time": "2021-08-23T13:59:46.788Z"
   },
   {
    "duration": 8,
    "start_time": "2021-08-23T13:59:46.840Z"
   },
   {
    "duration": 79,
    "start_time": "2021-08-23T13:59:46.850Z"
   },
   {
    "duration": 6,
    "start_time": "2021-08-23T13:59:46.931Z"
   },
   {
    "duration": 15,
    "start_time": "2021-08-23T13:59:46.940Z"
   },
   {
    "duration": 29,
    "start_time": "2021-08-23T13:59:46.958Z"
   },
   {
    "duration": 59,
    "start_time": "2021-08-23T13:59:46.989Z"
   },
   {
    "duration": 6,
    "start_time": "2021-08-23T13:59:47.050Z"
   },
   {
    "duration": 78,
    "start_time": "2021-08-23T13:59:47.058Z"
   },
   {
    "duration": 16,
    "start_time": "2021-08-23T13:59:47.138Z"
   },
   {
    "duration": 28,
    "start_time": "2021-08-23T13:59:47.156Z"
   },
   {
    "duration": 374,
    "start_time": "2021-08-23T13:59:47.186Z"
   },
   {
    "duration": 19,
    "start_time": "2021-08-23T13:59:47.564Z"
   },
   {
    "duration": 28,
    "start_time": "2021-08-23T13:59:47.586Z"
   },
   {
    "duration": 10,
    "start_time": "2021-08-23T13:59:47.621Z"
   },
   {
    "duration": 51,
    "start_time": "2021-08-23T13:59:47.634Z"
   },
   {
    "duration": 20,
    "start_time": "2021-08-23T13:59:47.688Z"
   },
   {
    "duration": 9,
    "start_time": "2021-08-23T13:59:47.710Z"
   },
   {
    "duration": 8424,
    "start_time": "2021-08-23T13:59:47.722Z"
   },
   {
    "duration": 8394,
    "start_time": "2021-08-23T13:59:56.148Z"
   },
   {
    "duration": 8197,
    "start_time": "2021-08-23T14:00:04.544Z"
   },
   {
    "duration": 40,
    "start_time": "2021-08-23T14:00:12.744Z"
   },
   {
    "duration": 18,
    "start_time": "2021-08-23T14:00:12.786Z"
   },
   {
    "duration": 22,
    "start_time": "2021-08-23T14:00:12.808Z"
   },
   {
    "duration": 260,
    "start_time": "2021-08-23T14:00:12.833Z"
   },
   {
    "duration": 11,
    "start_time": "2021-08-23T14:00:13.095Z"
   },
   {
    "duration": 237,
    "start_time": "2021-08-23T14:00:13.109Z"
   },
   {
    "duration": 11,
    "start_time": "2021-08-23T14:00:13.349Z"
   },
   {
    "duration": 27,
    "start_time": "2021-08-23T14:00:13.363Z"
   },
   {
    "duration": 11,
    "start_time": "2021-08-23T14:00:13.392Z"
   },
   {
    "duration": 15,
    "start_time": "2021-08-23T14:00:13.405Z"
   },
   {
    "duration": 972,
    "start_time": "2021-08-23T14:00:13.422Z"
   },
   {
    "duration": 1123,
    "start_time": "2021-08-23T14:00:14.396Z"
   },
   {
    "duration": 1295,
    "start_time": "2021-08-23T14:00:15.521Z"
   },
   {
    "duration": 16,
    "start_time": "2021-08-23T14:00:16.819Z"
   },
   {
    "duration": 23,
    "start_time": "2021-08-23T14:02:27.182Z"
   },
   {
    "duration": 371,
    "start_time": "2021-08-23T14:08:55.531Z"
   },
   {
    "duration": 555,
    "start_time": "2021-08-23T14:09:29.797Z"
   },
   {
    "duration": 46,
    "start_time": "2021-08-23T14:14:24.491Z"
   },
   {
    "duration": 1044,
    "start_time": "2021-08-23T14:15:11.978Z"
   },
   {
    "duration": 1510,
    "start_time": "2021-08-23T14:17:00.318Z"
   },
   {
    "duration": 498,
    "start_time": "2021-08-23T14:17:01.832Z"
   },
   {
    "duration": 362,
    "start_time": "2021-08-23T14:17:02.334Z"
   },
   {
    "duration": 119,
    "start_time": "2021-08-23T14:17:02.699Z"
   },
   {
    "duration": 19,
    "start_time": "2021-08-23T14:17:02.821Z"
   },
   {
    "duration": 9,
    "start_time": "2021-08-23T14:17:02.842Z"
   },
   {
    "duration": 61,
    "start_time": "2021-08-23T14:17:02.854Z"
   },
   {
    "duration": 112,
    "start_time": "2021-08-23T14:17:02.919Z"
   },
   {
    "duration": 57,
    "start_time": "2021-08-23T14:17:03.034Z"
   },
   {
    "duration": 7,
    "start_time": "2021-08-23T14:17:03.093Z"
   },
   {
    "duration": 62,
    "start_time": "2021-08-23T14:17:03.102Z"
   },
   {
    "duration": 19,
    "start_time": "2021-08-23T14:17:03.167Z"
   },
   {
    "duration": 18,
    "start_time": "2021-08-23T14:17:03.188Z"
   },
   {
    "duration": 6,
    "start_time": "2021-08-23T14:17:03.208Z"
   },
   {
    "duration": 86,
    "start_time": "2021-08-23T14:17:03.217Z"
   },
   {
    "duration": 6,
    "start_time": "2021-08-23T14:17:03.305Z"
   },
   {
    "duration": 78,
    "start_time": "2021-08-23T14:17:03.314Z"
   },
   {
    "duration": 20,
    "start_time": "2021-08-23T14:17:03.395Z"
   },
   {
    "duration": 7,
    "start_time": "2021-08-23T14:17:03.417Z"
   },
   {
    "duration": 410,
    "start_time": "2021-08-23T14:17:03.427Z"
   },
   {
    "duration": 9,
    "start_time": "2021-08-23T14:17:03.840Z"
   },
   {
    "duration": 47,
    "start_time": "2021-08-23T14:17:03.852Z"
   },
   {
    "duration": 7,
    "start_time": "2021-08-23T14:17:03.904Z"
   },
   {
    "duration": 11,
    "start_time": "2021-08-23T14:17:03.913Z"
   },
   {
    "duration": 16,
    "start_time": "2021-08-23T14:17:03.927Z"
   },
   {
    "duration": 8,
    "start_time": "2021-08-23T14:17:03.983Z"
   },
   {
    "duration": 7990,
    "start_time": "2021-08-23T14:17:03.994Z"
   },
   {
    "duration": 8347,
    "start_time": "2021-08-23T14:17:11.987Z"
   },
   {
    "duration": 8368,
    "start_time": "2021-08-23T14:17:20.337Z"
   },
   {
    "duration": 23,
    "start_time": "2021-08-23T14:17:28.707Z"
   },
   {
    "duration": 20,
    "start_time": "2021-08-23T14:17:28.732Z"
   },
   {
    "duration": 366,
    "start_time": "2021-08-23T14:17:28.783Z"
   },
   {
    "duration": 58,
    "start_time": "2021-08-23T14:17:29.152Z"
   },
   {
    "duration": 1334,
    "start_time": "2021-08-23T14:17:29.213Z"
   },
   {
    "duration": 1020,
    "start_time": "2021-08-23T14:17:30.549Z"
   },
   {
    "duration": 1134,
    "start_time": "2021-08-23T14:17:31.571Z"
   },
   {
    "duration": 1622,
    "start_time": "2021-08-23T14:17:32.708Z"
   },
   {
    "duration": 18,
    "start_time": "2021-08-23T14:17:34.334Z"
   },
   {
    "duration": 58,
    "start_time": "2021-08-23T14:17:34.355Z"
   },
   {
    "duration": 391,
    "start_time": "2021-08-23T14:21:50.100Z"
   },
   {
    "duration": 324,
    "start_time": "2021-08-23T14:23:54.935Z"
   },
   {
    "duration": 6843,
    "start_time": "2021-08-23T14:24:17.363Z"
   },
   {
    "duration": 581,
    "start_time": "2021-08-23T14:24:50.295Z"
   },
   {
    "duration": 320,
    "start_time": "2021-08-23T14:27:25.051Z"
   },
   {
    "duration": 285,
    "start_time": "2021-08-23T14:28:02.723Z"
   },
   {
    "duration": 1337,
    "start_time": "2021-08-23T14:28:35.077Z"
   },
   {
    "duration": 463,
    "start_time": "2021-08-23T14:28:36.417Z"
   },
   {
    "duration": 342,
    "start_time": "2021-08-23T14:28:36.886Z"
   },
   {
    "duration": 120,
    "start_time": "2021-08-23T14:28:37.230Z"
   },
   {
    "duration": 18,
    "start_time": "2021-08-23T14:28:37.353Z"
   },
   {
    "duration": 17,
    "start_time": "2021-08-23T14:28:37.374Z"
   },
   {
    "duration": 43,
    "start_time": "2021-08-23T14:28:37.393Z"
   },
   {
    "duration": 119,
    "start_time": "2021-08-23T14:28:37.440Z"
   },
   {
    "duration": 54,
    "start_time": "2021-08-23T14:28:37.562Z"
   },
   {
    "duration": 7,
    "start_time": "2021-08-23T14:28:37.618Z"
   },
   {
    "duration": 77,
    "start_time": "2021-08-23T14:28:37.628Z"
   },
   {
    "duration": 7,
    "start_time": "2021-08-23T14:28:37.707Z"
   },
   {
    "duration": 15,
    "start_time": "2021-08-23T14:28:37.716Z"
   },
   {
    "duration": 6,
    "start_time": "2021-08-23T14:28:37.734Z"
   },
   {
    "duration": 88,
    "start_time": "2021-08-23T14:28:37.743Z"
   },
   {
    "duration": 7,
    "start_time": "2021-08-23T14:28:37.833Z"
   },
   {
    "duration": 81,
    "start_time": "2021-08-23T14:28:37.842Z"
   },
   {
    "duration": 19,
    "start_time": "2021-08-23T14:28:37.925Z"
   },
   {
    "duration": 7,
    "start_time": "2021-08-23T14:28:37.946Z"
   },
   {
    "duration": 404,
    "start_time": "2021-08-23T14:28:37.955Z"
   },
   {
    "duration": 24,
    "start_time": "2021-08-23T14:28:38.361Z"
   },
   {
    "duration": 26,
    "start_time": "2021-08-23T14:28:38.388Z"
   },
   {
    "duration": 7,
    "start_time": "2021-08-23T14:28:38.416Z"
   },
   {
    "duration": 12,
    "start_time": "2021-08-23T14:28:38.425Z"
   },
   {
    "duration": 56,
    "start_time": "2021-08-23T14:28:38.439Z"
   },
   {
    "duration": 7,
    "start_time": "2021-08-23T14:28:38.500Z"
   },
   {
    "duration": 8631,
    "start_time": "2021-08-23T14:28:38.510Z"
   },
   {
    "duration": 8284,
    "start_time": "2021-08-23T14:28:47.143Z"
   },
   {
    "duration": 8428,
    "start_time": "2021-08-23T14:28:55.430Z"
   },
   {
    "duration": 36,
    "start_time": "2021-08-23T14:29:03.860Z"
   },
   {
    "duration": 16,
    "start_time": "2021-08-23T14:29:03.899Z"
   },
   {
    "duration": 395,
    "start_time": "2021-08-23T14:29:03.917Z"
   },
   {
    "duration": 45,
    "start_time": "2021-08-23T14:29:04.315Z"
   },
   {
    "duration": 417,
    "start_time": "2021-08-23T14:29:04.362Z"
   },
   {
    "duration": -416,
    "start_time": "2021-08-23T14:29:05.197Z"
   },
   {
    "duration": -416,
    "start_time": "2021-08-23T14:29:05.199Z"
   },
   {
    "duration": -416,
    "start_time": "2021-08-23T14:29:05.201Z"
   },
   {
    "duration": -417,
    "start_time": "2021-08-23T14:29:05.203Z"
   },
   {
    "duration": -418,
    "start_time": "2021-08-23T14:29:05.205Z"
   },
   {
    "duration": 253,
    "start_time": "2021-08-23T14:33:54.119Z"
   },
   {
    "duration": 744,
    "start_time": "2021-08-23T14:34:17.178Z"
   },
   {
    "duration": 1259,
    "start_time": "2021-08-23T14:37:53.909Z"
   },
   {
    "duration": 1390,
    "start_time": "2021-08-23T14:50:19.329Z"
   },
   {
    "duration": 481,
    "start_time": "2021-08-23T14:50:20.722Z"
   },
   {
    "duration": 330,
    "start_time": "2021-08-23T14:50:21.206Z"
   },
   {
    "duration": 110,
    "start_time": "2021-08-23T14:50:21.539Z"
   },
   {
    "duration": 18,
    "start_time": "2021-08-23T14:50:21.652Z"
   },
   {
    "duration": 15,
    "start_time": "2021-08-23T14:50:21.672Z"
   },
   {
    "duration": 40,
    "start_time": "2021-08-23T14:50:21.689Z"
   },
   {
    "duration": 129,
    "start_time": "2021-08-23T14:50:21.732Z"
   },
   {
    "duration": 56,
    "start_time": "2021-08-23T14:50:21.865Z"
   },
   {
    "duration": 7,
    "start_time": "2021-08-23T14:50:21.924Z"
   },
   {
    "duration": 79,
    "start_time": "2021-08-23T14:50:21.934Z"
   },
   {
    "duration": 7,
    "start_time": "2021-08-23T14:50:22.016Z"
   },
   {
    "duration": 15,
    "start_time": "2021-08-23T14:50:22.025Z"
   },
   {
    "duration": 7,
    "start_time": "2021-08-23T14:50:22.043Z"
   },
   {
    "duration": 85,
    "start_time": "2021-08-23T14:50:22.052Z"
   },
   {
    "duration": 7,
    "start_time": "2021-08-23T14:50:22.140Z"
   },
   {
    "duration": 82,
    "start_time": "2021-08-23T14:50:22.149Z"
   },
   {
    "duration": 17,
    "start_time": "2021-08-23T14:50:22.234Z"
   },
   {
    "duration": 6,
    "start_time": "2021-08-23T14:50:22.253Z"
   },
   {
    "duration": 388,
    "start_time": "2021-08-23T14:50:22.261Z"
   },
   {
    "duration": 7,
    "start_time": "2021-08-23T14:50:22.651Z"
   },
   {
    "duration": 35,
    "start_time": "2021-08-23T14:50:22.684Z"
   },
   {
    "duration": 9,
    "start_time": "2021-08-23T14:50:22.722Z"
   },
   {
    "duration": 13,
    "start_time": "2021-08-23T14:50:22.734Z"
   },
   {
    "duration": 47,
    "start_time": "2021-08-23T14:50:22.750Z"
   },
   {
    "duration": 8,
    "start_time": "2021-08-23T14:50:22.799Z"
   },
   {
    "duration": 8121,
    "start_time": "2021-08-23T14:50:22.813Z"
   },
   {
    "duration": 8215,
    "start_time": "2021-08-23T14:50:30.937Z"
   },
   {
    "duration": 8276,
    "start_time": "2021-08-23T14:50:39.154Z"
   },
   {
    "duration": 23,
    "start_time": "2021-08-23T14:50:47.432Z"
   },
   {
    "duration": 34,
    "start_time": "2021-08-23T14:50:47.457Z"
   },
   {
    "duration": 398,
    "start_time": "2021-08-23T14:50:47.493Z"
   },
   {
    "duration": 45,
    "start_time": "2021-08-23T14:50:47.893Z"
   },
   {
    "duration": 1279,
    "start_time": "2021-08-23T14:50:47.940Z"
   },
   {
    "duration": 971,
    "start_time": "2021-08-23T14:50:49.221Z"
   },
   {
    "duration": 1065,
    "start_time": "2021-08-23T14:50:50.194Z"
   },
   {
    "duration": 1006,
    "start_time": "2021-08-23T14:50:51.262Z"
   },
   {
    "duration": 22,
    "start_time": "2021-08-23T14:50:52.270Z"
   },
   {
    "duration": 35,
    "start_time": "2021-08-23T14:50:52.295Z"
   },
   {
    "duration": 1344,
    "start_time": "2021-08-23T15:03:43.985Z"
   },
   {
    "duration": 477,
    "start_time": "2021-08-23T15:03:45.332Z"
   },
   {
    "duration": 389,
    "start_time": "2021-08-23T15:03:45.813Z"
   },
   {
    "duration": 130,
    "start_time": "2021-08-23T15:03:46.205Z"
   },
   {
    "duration": 20,
    "start_time": "2021-08-23T15:03:46.338Z"
   },
   {
    "duration": 25,
    "start_time": "2021-08-23T15:03:46.361Z"
   },
   {
    "duration": 41,
    "start_time": "2021-08-23T15:03:46.389Z"
   },
   {
    "duration": 136,
    "start_time": "2021-08-23T15:03:46.433Z"
   },
   {
    "duration": 63,
    "start_time": "2021-08-23T15:03:46.574Z"
   },
   {
    "duration": 8,
    "start_time": "2021-08-23T15:03:46.640Z"
   },
   {
    "duration": 88,
    "start_time": "2021-08-23T15:03:46.651Z"
   },
   {
    "duration": 13,
    "start_time": "2021-08-23T15:03:46.741Z"
   },
   {
    "duration": 32,
    "start_time": "2021-08-23T15:03:46.757Z"
   },
   {
    "duration": 7,
    "start_time": "2021-08-23T15:03:46.792Z"
   },
   {
    "duration": 81,
    "start_time": "2021-08-23T15:03:46.802Z"
   },
   {
    "duration": 7,
    "start_time": "2021-08-23T15:03:46.885Z"
   },
   {
    "duration": 57,
    "start_time": "2021-08-23T15:03:46.894Z"
   },
   {
    "duration": 33,
    "start_time": "2021-08-23T15:03:46.953Z"
   },
   {
    "duration": 7,
    "start_time": "2021-08-23T15:03:46.988Z"
   },
   {
    "duration": 410,
    "start_time": "2021-08-23T15:03:46.997Z"
   },
   {
    "duration": 8,
    "start_time": "2021-08-23T15:03:47.410Z"
   },
   {
    "duration": 27,
    "start_time": "2021-08-23T15:03:47.421Z"
   },
   {
    "duration": 39,
    "start_time": "2021-08-23T15:03:47.450Z"
   },
   {
    "duration": 9,
    "start_time": "2021-08-23T15:03:47.492Z"
   },
   {
    "duration": 17,
    "start_time": "2021-08-23T15:03:47.504Z"
   },
   {
    "duration": 7,
    "start_time": "2021-08-23T15:03:47.524Z"
   },
   {
    "duration": 8122,
    "start_time": "2021-08-23T15:03:47.581Z"
   },
   {
    "duration": 8162,
    "start_time": "2021-08-23T15:03:55.706Z"
   },
   {
    "duration": 8163,
    "start_time": "2021-08-23T15:04:03.871Z"
   },
   {
    "duration": 23,
    "start_time": "2021-08-23T15:04:12.037Z"
   },
   {
    "duration": 16,
    "start_time": "2021-08-23T15:04:12.082Z"
   },
   {
    "duration": 407,
    "start_time": "2021-08-23T15:04:12.100Z"
   },
   {
    "duration": 45,
    "start_time": "2021-08-23T15:04:12.509Z"
   },
   {
    "duration": 1241,
    "start_time": "2021-08-23T15:04:12.556Z"
   },
   {
    "duration": 964,
    "start_time": "2021-08-23T15:04:13.800Z"
   },
   {
    "duration": 1068,
    "start_time": "2021-08-23T15:04:14.767Z"
   },
   {
    "duration": 1014,
    "start_time": "2021-08-23T15:04:15.837Z"
   },
   {
    "duration": 28,
    "start_time": "2021-08-23T15:04:16.854Z"
   },
   {
    "duration": 25,
    "start_time": "2021-08-23T15:04:16.885Z"
   },
   {
    "duration": 127,
    "start_time": "2021-08-24T09:24:21.129Z"
   },
   {
    "duration": 1472,
    "start_time": "2021-08-24T09:33:03.342Z"
   },
   {
    "duration": 523,
    "start_time": "2021-08-24T09:33:04.817Z"
   },
   {
    "duration": 365,
    "start_time": "2021-08-24T09:33:05.343Z"
   },
   {
    "duration": 121,
    "start_time": "2021-08-24T09:33:05.711Z"
   },
   {
    "duration": 33,
    "start_time": "2021-08-24T09:33:05.834Z"
   },
   {
    "duration": 10,
    "start_time": "2021-08-24T09:33:05.870Z"
   },
   {
    "duration": 48,
    "start_time": "2021-08-24T09:33:05.882Z"
   },
   {
    "duration": 132,
    "start_time": "2021-08-24T09:33:05.933Z"
   },
   {
    "duration": 52,
    "start_time": "2021-08-24T09:33:06.069Z"
   },
   {
    "duration": 7,
    "start_time": "2021-08-24T09:33:06.123Z"
   },
   {
    "duration": 86,
    "start_time": "2021-08-24T09:33:06.133Z"
   },
   {
    "duration": 7,
    "start_time": "2021-08-24T09:33:06.221Z"
   },
   {
    "duration": 45,
    "start_time": "2021-08-24T09:33:06.231Z"
   },
   {
    "duration": 7,
    "start_time": "2021-08-24T09:33:06.279Z"
   },
   {
    "duration": 90,
    "start_time": "2021-08-24T09:33:06.289Z"
   },
   {
    "duration": 8,
    "start_time": "2021-08-24T09:33:06.382Z"
   },
   {
    "duration": 84,
    "start_time": "2021-08-24T09:33:06.392Z"
   },
   {
    "duration": 18,
    "start_time": "2021-08-24T09:33:06.478Z"
   },
   {
    "duration": 7,
    "start_time": "2021-08-24T09:33:06.498Z"
   },
   {
    "duration": 436,
    "start_time": "2021-08-24T09:33:06.507Z"
   },
   {
    "duration": 19,
    "start_time": "2021-08-24T09:33:06.947Z"
   },
   {
    "duration": 39,
    "start_time": "2021-08-24T09:33:06.969Z"
   },
   {
    "duration": 9,
    "start_time": "2021-08-24T09:33:07.011Z"
   },
   {
    "duration": 45,
    "start_time": "2021-08-24T09:33:07.023Z"
   },
   {
    "duration": 25,
    "start_time": "2021-08-24T09:33:07.070Z"
   },
   {
    "duration": 5,
    "start_time": "2021-08-24T09:33:16.901Z"
   },
   {
    "duration": 21,
    "start_time": "2021-08-24T09:33:23.940Z"
   },
   {
    "duration": 4,
    "start_time": "2021-08-24T09:35:15.719Z"
   },
   {
    "duration": 543,
    "start_time": "2021-08-24T09:35:15.729Z"
   },
   {
    "duration": 344,
    "start_time": "2021-08-24T09:35:16.275Z"
   },
   {
    "duration": 114,
    "start_time": "2021-08-24T09:35:16.622Z"
   },
   {
    "duration": 28,
    "start_time": "2021-08-24T09:35:16.739Z"
   },
   {
    "duration": 8,
    "start_time": "2021-08-24T09:35:16.769Z"
   },
   {
    "duration": 40,
    "start_time": "2021-08-24T09:35:16.780Z"
   },
   {
    "duration": 141,
    "start_time": "2021-08-24T09:35:16.823Z"
   },
   {
    "duration": 42,
    "start_time": "2021-08-24T09:35:16.969Z"
   },
   {
    "duration": 8,
    "start_time": "2021-08-24T09:35:17.015Z"
   },
   {
    "duration": 87,
    "start_time": "2021-08-24T09:35:17.026Z"
   },
   {
    "duration": 7,
    "start_time": "2021-08-24T09:35:17.115Z"
   },
   {
    "duration": 38,
    "start_time": "2021-08-24T09:35:17.125Z"
   },
   {
    "duration": 8,
    "start_time": "2021-08-24T09:35:17.166Z"
   },
   {
    "duration": 60,
    "start_time": "2021-08-24T09:35:17.176Z"
   },
   {
    "duration": 8,
    "start_time": "2021-08-24T09:35:17.262Z"
   },
   {
    "duration": 58,
    "start_time": "2021-08-24T09:35:17.272Z"
   },
   {
    "duration": 34,
    "start_time": "2021-08-24T09:35:17.333Z"
   },
   {
    "duration": 10,
    "start_time": "2021-08-24T09:35:17.370Z"
   },
   {
    "duration": 407,
    "start_time": "2021-08-24T09:35:17.382Z"
   },
   {
    "duration": 8,
    "start_time": "2021-08-24T09:35:17.791Z"
   },
   {
    "duration": 29,
    "start_time": "2021-08-24T09:35:17.801Z"
   },
   {
    "duration": 30,
    "start_time": "2021-08-24T09:35:17.833Z"
   },
   {
    "duration": 8,
    "start_time": "2021-08-24T09:35:17.868Z"
   },
   {
    "duration": 21,
    "start_time": "2021-08-24T09:35:17.879Z"
   },
   {
    "duration": 8,
    "start_time": "2021-08-24T09:35:17.902Z"
   },
   {
    "duration": 8359,
    "start_time": "2021-08-24T09:35:17.913Z"
   },
   {
    "duration": 8508,
    "start_time": "2021-08-24T09:35:26.274Z"
   },
   {
    "duration": 10111,
    "start_time": "2021-08-24T09:35:34.784Z"
   },
   {
    "duration": 24,
    "start_time": "2021-08-24T09:35:44.897Z"
   },
   {
    "duration": 12,
    "start_time": "2021-08-24T09:35:48.651Z"
   },
   {
    "duration": 6798,
    "start_time": "2021-08-24T15:13:10.027Z"
   },
   {
    "duration": 1410,
    "start_time": "2021-08-24T15:13:28.413Z"
   },
   {
    "duration": 535,
    "start_time": "2021-08-24T15:13:29.825Z"
   },
   {
    "duration": 361,
    "start_time": "2021-08-24T15:13:30.363Z"
   },
   {
    "duration": 124,
    "start_time": "2021-08-24T15:13:30.727Z"
   },
   {
    "duration": 32,
    "start_time": "2021-08-24T15:13:30.853Z"
   },
   {
    "duration": 53,
    "start_time": "2021-08-24T15:13:30.887Z"
   },
   {
    "duration": 55,
    "start_time": "2021-08-24T15:13:30.942Z"
   },
   {
    "duration": 110,
    "start_time": "2021-08-24T15:13:31.000Z"
   },
   {
    "duration": 58,
    "start_time": "2021-08-24T15:13:31.115Z"
   },
   {
    "duration": 8,
    "start_time": "2021-08-24T15:13:31.183Z"
   },
   {
    "duration": 63,
    "start_time": "2021-08-24T15:13:31.193Z"
   },
   {
    "duration": 26,
    "start_time": "2021-08-24T15:13:31.258Z"
   },
   {
    "duration": 18,
    "start_time": "2021-08-24T15:13:31.286Z"
   },
   {
    "duration": 6,
    "start_time": "2021-08-24T15:13:31.307Z"
   },
   {
    "duration": 80,
    "start_time": "2021-08-24T15:13:31.315Z"
   },
   {
    "duration": 6,
    "start_time": "2021-08-24T15:13:31.397Z"
   },
   {
    "duration": 424,
    "start_time": "2021-08-24T15:13:31.405Z"
   },
   {
    "duration": -615,
    "start_time": "2021-08-24T15:13:32.447Z"
   },
   {
    "duration": -636,
    "start_time": "2021-08-24T15:13:32.469Z"
   },
   {
    "duration": -637,
    "start_time": "2021-08-24T15:13:32.472Z"
   },
   {
    "duration": -639,
    "start_time": "2021-08-24T15:13:32.476Z"
   },
   {
    "duration": -640,
    "start_time": "2021-08-24T15:13:32.479Z"
   },
   {
    "duration": -646,
    "start_time": "2021-08-24T15:13:32.486Z"
   },
   {
    "duration": -647,
    "start_time": "2021-08-24T15:13:32.489Z"
   },
   {
    "duration": -648,
    "start_time": "2021-08-24T15:13:32.491Z"
   },
   {
    "duration": -649,
    "start_time": "2021-08-24T15:13:32.494Z"
   },
   {
    "duration": -657,
    "start_time": "2021-08-24T15:13:32.503Z"
   },
   {
    "duration": -659,
    "start_time": "2021-08-24T15:13:32.506Z"
   },
   {
    "duration": -659,
    "start_time": "2021-08-24T15:13:32.508Z"
   },
   {
    "duration": -660,
    "start_time": "2021-08-24T15:13:32.510Z"
   },
   {
    "duration": -661,
    "start_time": "2021-08-24T15:13:32.513Z"
   },
   {
    "duration": -667,
    "start_time": "2021-08-24T15:13:32.521Z"
   },
   {
    "duration": -669,
    "start_time": "2021-08-24T15:13:32.524Z"
   },
   {
    "duration": -671,
    "start_time": "2021-08-24T15:13:32.528Z"
   },
   {
    "duration": -673,
    "start_time": "2021-08-24T15:13:32.532Z"
   },
   {
    "duration": -673,
    "start_time": "2021-08-24T15:13:32.534Z"
   },
   {
    "duration": -674,
    "start_time": "2021-08-24T15:13:32.536Z"
   },
   {
    "duration": -675,
    "start_time": "2021-08-24T15:13:32.538Z"
   },
   {
    "duration": -675,
    "start_time": "2021-08-24T15:13:32.540Z"
   },
   {
    "duration": -676,
    "start_time": "2021-08-24T15:13:32.542Z"
   },
   {
    "duration": -678,
    "start_time": "2021-08-24T15:13:32.545Z"
   },
   {
    "duration": 1390,
    "start_time": "2021-08-24T15:14:04.139Z"
   },
   {
    "duration": 478,
    "start_time": "2021-08-24T15:14:05.534Z"
   },
   {
    "duration": 493,
    "start_time": "2021-08-24T15:14:06.016Z"
   },
   {
    "duration": 107,
    "start_time": "2021-08-24T15:14:06.512Z"
   },
   {
    "duration": 18,
    "start_time": "2021-08-24T15:14:06.622Z"
   },
   {
    "duration": 10,
    "start_time": "2021-08-24T15:14:06.642Z"
   },
   {
    "duration": 61,
    "start_time": "2021-08-24T15:14:06.654Z"
   },
   {
    "duration": 106,
    "start_time": "2021-08-24T15:14:06.719Z"
   },
   {
    "duration": 56,
    "start_time": "2021-08-24T15:14:06.829Z"
   },
   {
    "duration": 7,
    "start_time": "2021-08-24T15:14:06.887Z"
   },
   {
    "duration": 58,
    "start_time": "2021-08-24T15:14:06.896Z"
   },
   {
    "duration": 28,
    "start_time": "2021-08-24T15:14:06.956Z"
   },
   {
    "duration": 24,
    "start_time": "2021-08-24T15:14:06.986Z"
   },
   {
    "duration": 9,
    "start_time": "2021-08-24T15:14:07.012Z"
   },
   {
    "duration": 84,
    "start_time": "2021-08-24T15:14:07.023Z"
   },
   {
    "duration": 7,
    "start_time": "2021-08-24T15:14:07.111Z"
   },
   {
    "duration": 396,
    "start_time": "2021-08-24T15:14:07.122Z"
   },
   {
    "duration": -633,
    "start_time": "2021-08-24T15:14:08.155Z"
   },
   {
    "duration": -633,
    "start_time": "2021-08-24T15:14:08.157Z"
   },
   {
    "duration": -636,
    "start_time": "2021-08-24T15:14:08.162Z"
   },
   {
    "duration": -641,
    "start_time": "2021-08-24T15:14:08.169Z"
   },
   {
    "duration": -641,
    "start_time": "2021-08-24T15:14:08.171Z"
   },
   {
    "duration": -640,
    "start_time": "2021-08-24T15:14:08.173Z"
   },
   {
    "duration": -641,
    "start_time": "2021-08-24T15:14:08.176Z"
   },
   {
    "duration": -642,
    "start_time": "2021-08-24T15:14:08.179Z"
   },
   {
    "duration": -647,
    "start_time": "2021-08-24T15:14:08.187Z"
   },
   {
    "duration": -649,
    "start_time": "2021-08-24T15:14:08.191Z"
   },
   {
    "duration": -649,
    "start_time": "2021-08-24T15:14:08.193Z"
   },
   {
    "duration": -650,
    "start_time": "2021-08-24T15:14:08.197Z"
   },
   {
    "duration": -654,
    "start_time": "2021-08-24T15:14:08.203Z"
   },
   {
    "duration": -655,
    "start_time": "2021-08-24T15:14:08.206Z"
   },
   {
    "duration": -655,
    "start_time": "2021-08-24T15:14:08.208Z"
   },
   {
    "duration": -654,
    "start_time": "2021-08-24T15:14:08.210Z"
   },
   {
    "duration": -661,
    "start_time": "2021-08-24T15:14:08.219Z"
   },
   {
    "duration": -640,
    "start_time": "2021-08-24T15:14:08.221Z"
   },
   {
    "duration": -640,
    "start_time": "2021-08-24T15:14:08.223Z"
   },
   {
    "duration": -640,
    "start_time": "2021-08-24T15:14:08.226Z"
   },
   {
    "duration": -642,
    "start_time": "2021-08-24T15:14:08.230Z"
   },
   {
    "duration": -648,
    "start_time": "2021-08-24T15:14:08.238Z"
   },
   {
    "duration": -650,
    "start_time": "2021-08-24T15:14:08.242Z"
   },
   {
    "duration": -652,
    "start_time": "2021-08-24T15:14:08.246Z"
   },
   {
    "duration": 280,
    "start_time": "2021-08-24T15:14:29.464Z"
   },
   {
    "duration": 297,
    "start_time": "2021-08-24T15:14:35.586Z"
   },
   {
    "duration": 9,
    "start_time": "2021-08-24T15:16:18.480Z"
   },
   {
    "duration": 1608,
    "start_time": "2021-08-24T15:16:25.656Z"
   },
   {
    "duration": 488,
    "start_time": "2021-08-24T15:16:27.266Z"
   },
   {
    "duration": 400,
    "start_time": "2021-08-24T15:16:27.757Z"
   },
   {
    "duration": 128,
    "start_time": "2021-08-24T15:16:28.159Z"
   },
   {
    "duration": 21,
    "start_time": "2021-08-24T15:16:28.290Z"
   },
   {
    "duration": 16,
    "start_time": "2021-08-24T15:16:28.313Z"
   },
   {
    "duration": 62,
    "start_time": "2021-08-24T15:16:28.332Z"
   },
   {
    "duration": 115,
    "start_time": "2021-08-24T15:16:28.400Z"
   },
   {
    "duration": 65,
    "start_time": "2021-08-24T15:16:28.523Z"
   },
   {
    "duration": 9,
    "start_time": "2021-08-24T15:16:28.591Z"
   },
   {
    "duration": 57,
    "start_time": "2021-08-24T15:16:28.603Z"
   },
   {
    "duration": 23,
    "start_time": "2021-08-24T15:16:28.663Z"
   },
   {
    "duration": 19,
    "start_time": "2021-08-24T15:16:28.689Z"
   },
   {
    "duration": 11,
    "start_time": "2021-08-24T15:16:28.711Z"
   },
   {
    "duration": 96,
    "start_time": "2021-08-24T15:16:28.725Z"
   },
   {
    "duration": 8,
    "start_time": "2021-08-24T15:16:28.824Z"
   },
   {
    "duration": 8,
    "start_time": "2021-08-24T15:16:28.834Z"
   },
   {
    "duration": 89,
    "start_time": "2021-08-24T15:16:28.844Z"
   },
   {
    "duration": 17,
    "start_time": "2021-08-24T15:16:28.936Z"
   },
   {
    "duration": 7,
    "start_time": "2021-08-24T15:16:28.955Z"
   },
   {
    "duration": 572,
    "start_time": "2021-08-24T15:16:28.964Z"
   },
   {
    "duration": 10,
    "start_time": "2021-08-24T15:16:29.538Z"
   },
   {
    "duration": 49,
    "start_time": "2021-08-24T15:16:29.553Z"
   },
   {
    "duration": 7,
    "start_time": "2021-08-24T15:16:29.605Z"
   },
   {
    "duration": 11,
    "start_time": "2021-08-24T15:16:29.615Z"
   },
   {
    "duration": 56,
    "start_time": "2021-08-24T15:16:29.628Z"
   },
   {
    "duration": 9,
    "start_time": "2021-08-24T15:16:29.687Z"
   },
   {
    "duration": 9068,
    "start_time": "2021-08-24T15:16:29.699Z"
   },
   {
    "duration": 8017,
    "start_time": "2021-08-24T15:16:38.769Z"
   },
   {
    "duration": 8028,
    "start_time": "2021-08-24T15:16:46.788Z"
   },
   {
    "duration": 24,
    "start_time": "2021-08-24T15:16:54.818Z"
   },
   {
    "duration": 15,
    "start_time": "2021-08-24T15:16:54.844Z"
   },
   {
    "duration": 17,
    "start_time": "2021-08-24T15:16:54.882Z"
   },
   {
    "duration": 369,
    "start_time": "2021-08-24T15:16:54.901Z"
   },
   {
    "duration": 49,
    "start_time": "2021-08-24T15:16:55.272Z"
   },
   {
    "duration": 1310,
    "start_time": "2021-08-24T15:16:55.324Z"
   },
   {
    "duration": 960,
    "start_time": "2021-08-24T15:16:56.637Z"
   },
   {
    "duration": 1100,
    "start_time": "2021-08-24T15:16:57.600Z"
   },
   {
    "duration": 1042,
    "start_time": "2021-08-24T15:16:58.703Z"
   },
   {
    "duration": 15,
    "start_time": "2021-08-24T15:16:59.748Z"
   },
   {
    "duration": 29,
    "start_time": "2021-08-24T15:16:59.782Z"
   },
   {
    "duration": 381,
    "start_time": "2021-08-24T15:21:06.775Z"
   },
   {
    "duration": 311,
    "start_time": "2021-08-24T15:22:59.738Z"
   },
   {
    "duration": 343,
    "start_time": "2021-08-24T15:23:14.986Z"
   },
   {
    "duration": 1309,
    "start_time": "2021-08-24T15:23:56.526Z"
   },
   {
    "duration": 489,
    "start_time": "2021-08-24T15:23:57.838Z"
   },
   {
    "duration": 370,
    "start_time": "2021-08-24T15:23:58.330Z"
   },
   {
    "duration": 118,
    "start_time": "2021-08-24T15:23:58.702Z"
   },
   {
    "duration": 19,
    "start_time": "2021-08-24T15:23:58.823Z"
   },
   {
    "duration": 404,
    "start_time": "2021-08-24T15:23:58.845Z"
   },
   {
    "duration": -613,
    "start_time": "2021-08-24T15:23:59.868Z"
   },
   {
    "duration": -617,
    "start_time": "2021-08-24T15:23:59.873Z"
   },
   {
    "duration": -618,
    "start_time": "2021-08-24T15:23:59.877Z"
   },
   {
    "duration": -628,
    "start_time": "2021-08-24T15:23:59.889Z"
   },
   {
    "duration": -629,
    "start_time": "2021-08-24T15:23:59.892Z"
   },
   {
    "duration": -629,
    "start_time": "2021-08-24T15:23:59.894Z"
   },
   {
    "duration": -629,
    "start_time": "2021-08-24T15:23:59.897Z"
   },
   {
    "duration": -634,
    "start_time": "2021-08-24T15:23:59.904Z"
   },
   {
    "duration": -635,
    "start_time": "2021-08-24T15:23:59.908Z"
   },
   {
    "duration": -636,
    "start_time": "2021-08-24T15:23:59.911Z"
   },
   {
    "duration": -637,
    "start_time": "2021-08-24T15:23:59.914Z"
   },
   {
    "duration": -642,
    "start_time": "2021-08-24T15:23:59.921Z"
   },
   {
    "duration": -643,
    "start_time": "2021-08-24T15:23:59.924Z"
   },
   {
    "duration": -643,
    "start_time": "2021-08-24T15:23:59.926Z"
   },
   {
    "duration": -645,
    "start_time": "2021-08-24T15:23:59.930Z"
   },
   {
    "duration": -649,
    "start_time": "2021-08-24T15:23:59.936Z"
   },
   {
    "duration": -654,
    "start_time": "2021-08-24T15:23:59.943Z"
   },
   {
    "duration": -654,
    "start_time": "2021-08-24T15:23:59.945Z"
   },
   {
    "duration": -654,
    "start_time": "2021-08-24T15:23:59.947Z"
   },
   {
    "duration": -654,
    "start_time": "2021-08-24T15:23:59.950Z"
   },
   {
    "duration": -725,
    "start_time": "2021-08-24T15:24:00.023Z"
   },
   {
    "duration": -726,
    "start_time": "2021-08-24T15:24:00.026Z"
   },
   {
    "duration": -727,
    "start_time": "2021-08-24T15:24:00.029Z"
   },
   {
    "duration": -728,
    "start_time": "2021-08-24T15:24:00.033Z"
   },
   {
    "duration": -752,
    "start_time": "2021-08-24T15:24:00.059Z"
   },
   {
    "duration": -752,
    "start_time": "2021-08-24T15:24:00.061Z"
   },
   {
    "duration": -753,
    "start_time": "2021-08-24T15:24:00.064Z"
   },
   {
    "duration": -752,
    "start_time": "2021-08-24T15:24:00.066Z"
   },
   {
    "duration": -752,
    "start_time": "2021-08-24T15:24:00.068Z"
   },
   {
    "duration": -752,
    "start_time": "2021-08-24T15:24:00.070Z"
   },
   {
    "duration": -753,
    "start_time": "2021-08-24T15:24:00.073Z"
   },
   {
    "duration": -693,
    "start_time": "2021-08-24T15:24:00.076Z"
   },
   {
    "duration": -693,
    "start_time": "2021-08-24T15:24:00.078Z"
   },
   {
    "duration": -695,
    "start_time": "2021-08-24T15:24:00.082Z"
   },
   {
    "duration": -695,
    "start_time": "2021-08-24T15:24:00.085Z"
   },
   {
    "duration": -695,
    "start_time": "2021-08-24T15:24:00.087Z"
   },
   {
    "duration": 282,
    "start_time": "2021-08-24T15:26:59.670Z"
   },
   {
    "duration": 287,
    "start_time": "2021-08-24T15:27:11.286Z"
   },
   {
    "duration": 1308,
    "start_time": "2021-08-24T15:27:17.628Z"
   },
   {
    "duration": 486,
    "start_time": "2021-08-24T15:27:18.938Z"
   },
   {
    "duration": 357,
    "start_time": "2021-08-24T15:27:19.427Z"
   },
   {
    "duration": 99,
    "start_time": "2021-08-24T15:27:19.787Z"
   },
   {
    "duration": 18,
    "start_time": "2021-08-24T15:27:19.889Z"
   },
   {
    "duration": 413,
    "start_time": "2021-08-24T15:27:19.910Z"
   },
   {
    "duration": -610,
    "start_time": "2021-08-24T15:27:20.938Z"
   },
   {
    "duration": -623,
    "start_time": "2021-08-24T15:27:20.952Z"
   },
   {
    "duration": -627,
    "start_time": "2021-08-24T15:27:20.958Z"
   },
   {
    "duration": -634,
    "start_time": "2021-08-24T15:27:20.966Z"
   },
   {
    "duration": -635,
    "start_time": "2021-08-24T15:27:20.969Z"
   },
   {
    "duration": -636,
    "start_time": "2021-08-24T15:27:20.971Z"
   },
   {
    "duration": -642,
    "start_time": "2021-08-24T15:27:20.979Z"
   },
   {
    "duration": -643,
    "start_time": "2021-08-24T15:27:20.981Z"
   },
   {
    "duration": -643,
    "start_time": "2021-08-24T15:27:20.983Z"
   },
   {
    "duration": -644,
    "start_time": "2021-08-24T15:27:20.985Z"
   },
   {
    "duration": -645,
    "start_time": "2021-08-24T15:27:20.987Z"
   },
   {
    "duration": -648,
    "start_time": "2021-08-24T15:27:20.991Z"
   },
   {
    "duration": -653,
    "start_time": "2021-08-24T15:27:20.998Z"
   },
   {
    "duration": -654,
    "start_time": "2021-08-24T15:27:21.000Z"
   },
   {
    "duration": -655,
    "start_time": "2021-08-24T15:27:21.002Z"
   },
   {
    "duration": -656,
    "start_time": "2021-08-24T15:27:21.005Z"
   },
   {
    "duration": -662,
    "start_time": "2021-08-24T15:27:21.012Z"
   },
   {
    "duration": -663,
    "start_time": "2021-08-24T15:27:21.014Z"
   },
   {
    "duration": -664,
    "start_time": "2021-08-24T15:27:21.016Z"
   },
   {
    "duration": -666,
    "start_time": "2021-08-24T15:27:21.019Z"
   },
   {
    "duration": -666,
    "start_time": "2021-08-24T15:27:21.021Z"
   },
   {
    "duration": -672,
    "start_time": "2021-08-24T15:27:21.028Z"
   },
   {
    "duration": -674,
    "start_time": "2021-08-24T15:27:21.031Z"
   },
   {
    "duration": -674,
    "start_time": "2021-08-24T15:27:21.033Z"
   },
   {
    "duration": -675,
    "start_time": "2021-08-24T15:27:21.035Z"
   },
   {
    "duration": -677,
    "start_time": "2021-08-24T15:27:21.038Z"
   },
   {
    "duration": -679,
    "start_time": "2021-08-24T15:27:21.041Z"
   },
   {
    "duration": -684,
    "start_time": "2021-08-24T15:27:21.047Z"
   },
   {
    "duration": -667,
    "start_time": "2021-08-24T15:27:21.050Z"
   },
   {
    "duration": -668,
    "start_time": "2021-08-24T15:27:21.052Z"
   },
   {
    "duration": -670,
    "start_time": "2021-08-24T15:27:21.055Z"
   },
   {
    "duration": -670,
    "start_time": "2021-08-24T15:27:21.057Z"
   },
   {
    "duration": -675,
    "start_time": "2021-08-24T15:27:21.063Z"
   },
   {
    "duration": -675,
    "start_time": "2021-08-24T15:27:21.065Z"
   },
   {
    "duration": -677,
    "start_time": "2021-08-24T15:27:21.068Z"
   },
   {
    "duration": 1499,
    "start_time": "2021-08-24T15:31:17.090Z"
   },
   {
    "duration": 503,
    "start_time": "2021-08-24T15:31:18.592Z"
   },
   {
    "duration": 351,
    "start_time": "2021-08-24T15:31:19.098Z"
   },
   {
    "duration": 120,
    "start_time": "2021-08-24T15:31:19.452Z"
   },
   {
    "duration": 19,
    "start_time": "2021-08-24T15:31:19.583Z"
   },
   {
    "duration": 13,
    "start_time": "2021-08-24T15:31:19.606Z"
   },
   {
    "duration": 77,
    "start_time": "2021-08-24T15:31:19.622Z"
   },
   {
    "duration": 188,
    "start_time": "2021-08-24T15:31:19.702Z"
   },
   {
    "duration": 69,
    "start_time": "2021-08-24T15:31:19.896Z"
   },
   {
    "duration": 9,
    "start_time": "2021-08-24T15:31:19.986Z"
   },
   {
    "duration": 85,
    "start_time": "2021-08-24T15:31:19.999Z"
   },
   {
    "duration": 7,
    "start_time": "2021-08-24T15:31:20.086Z"
   },
   {
    "duration": 16,
    "start_time": "2021-08-24T15:31:20.096Z"
   },
   {
    "duration": 7,
    "start_time": "2021-08-24T15:31:20.114Z"
   },
   {
    "duration": 111,
    "start_time": "2021-08-24T15:31:20.123Z"
   },
   {
    "duration": 8,
    "start_time": "2021-08-24T15:31:20.236Z"
   },
   {
    "duration": 78,
    "start_time": "2021-08-24T15:31:20.247Z"
   },
   {
    "duration": 19,
    "start_time": "2021-08-24T15:31:20.327Z"
   },
   {
    "duration": 7,
    "start_time": "2021-08-24T15:31:20.349Z"
   },
   {
    "duration": 431,
    "start_time": "2021-08-24T15:31:20.358Z"
   },
   {
    "duration": 10,
    "start_time": "2021-08-24T15:31:20.793Z"
   },
   {
    "duration": 27,
    "start_time": "2021-08-24T15:31:20.805Z"
   },
   {
    "duration": 7,
    "start_time": "2021-08-24T15:31:20.835Z"
   },
   {
    "duration": 46,
    "start_time": "2021-08-24T15:31:20.845Z"
   },
   {
    "duration": 19,
    "start_time": "2021-08-24T15:31:20.893Z"
   },
   {
    "duration": 7,
    "start_time": "2021-08-24T15:31:20.914Z"
   },
   {
    "duration": 7978,
    "start_time": "2021-08-24T15:31:20.926Z"
   },
   {
    "duration": 8325,
    "start_time": "2021-08-24T15:31:28.907Z"
   },
   {
    "duration": 7950,
    "start_time": "2021-08-24T15:31:37.234Z"
   },
   {
    "duration": 22,
    "start_time": "2021-08-24T15:31:45.186Z"
   },
   {
    "duration": 15,
    "start_time": "2021-08-24T15:31:45.210Z"
   },
   {
    "duration": 16,
    "start_time": "2021-08-24T15:31:45.228Z"
   },
   {
    "duration": 467,
    "start_time": "2021-08-24T15:31:45.246Z"
   },
   {
    "duration": 44,
    "start_time": "2021-08-24T15:31:45.716Z"
   },
   {
    "duration": 1379,
    "start_time": "2021-08-24T15:31:45.763Z"
   },
   {
    "duration": 1055,
    "start_time": "2021-08-24T15:31:47.145Z"
   },
   {
    "duration": 1058,
    "start_time": "2021-08-24T15:31:48.203Z"
   },
   {
    "duration": 1005,
    "start_time": "2021-08-24T15:31:49.263Z"
   },
   {
    "duration": 19,
    "start_time": "2021-08-24T15:31:50.271Z"
   },
   {
    "duration": 28,
    "start_time": "2021-08-24T15:31:50.293Z"
   },
   {
    "duration": 987,
    "start_time": "2021-08-24T19:33:21.162Z"
   },
   {
    "duration": 1679,
    "start_time": "2021-08-24T19:35:16.012Z"
   },
   {
    "duration": 50,
    "start_time": "2021-08-24T19:37:12.296Z"
   },
   {
    "duration": 15,
    "start_time": "2021-08-24T19:41:58.226Z"
   },
   {
    "duration": 1400,
    "start_time": "2021-08-24T19:43:35.332Z"
   },
   {
    "duration": 572,
    "start_time": "2021-08-24T19:43:36.734Z"
   },
   {
    "duration": 328,
    "start_time": "2021-08-24T19:43:37.310Z"
   },
   {
    "duration": 123,
    "start_time": "2021-08-24T19:43:37.641Z"
   },
   {
    "duration": 28,
    "start_time": "2021-08-24T19:43:37.766Z"
   },
   {
    "duration": 7,
    "start_time": "2021-08-24T19:43:37.796Z"
   },
   {
    "duration": 41,
    "start_time": "2021-08-24T19:43:37.805Z"
   },
   {
    "duration": 136,
    "start_time": "2021-08-24T19:43:37.848Z"
   },
   {
    "duration": 48,
    "start_time": "2021-08-24T19:43:37.988Z"
   },
   {
    "duration": 7,
    "start_time": "2021-08-24T19:43:38.039Z"
   },
   {
    "duration": 77,
    "start_time": "2021-08-24T19:43:38.049Z"
   },
   {
    "duration": 7,
    "start_time": "2021-08-24T19:43:38.128Z"
   },
   {
    "duration": 18,
    "start_time": "2021-08-24T19:43:38.137Z"
   },
   {
    "duration": 38,
    "start_time": "2021-08-24T19:43:38.157Z"
   },
   {
    "duration": 57,
    "start_time": "2021-08-24T19:43:38.197Z"
   },
   {
    "duration": 26,
    "start_time": "2021-08-24T19:43:38.258Z"
   },
   {
    "duration": 55,
    "start_time": "2021-08-24T19:43:38.286Z"
   },
   {
    "duration": 39,
    "start_time": "2021-08-24T19:43:38.343Z"
   },
   {
    "duration": 7,
    "start_time": "2021-08-24T19:43:38.384Z"
   },
   {
    "duration": 401,
    "start_time": "2021-08-24T19:43:38.393Z"
   },
   {
    "duration": 8,
    "start_time": "2021-08-24T19:43:38.796Z"
   },
   {
    "duration": 27,
    "start_time": "2021-08-24T19:43:38.806Z"
   },
   {
    "duration": 7,
    "start_time": "2021-08-24T19:43:38.835Z"
   },
   {
    "duration": 43,
    "start_time": "2021-08-24T19:43:38.845Z"
   },
   {
    "duration": 20,
    "start_time": "2021-08-24T19:43:38.891Z"
   },
   {
    "duration": 7,
    "start_time": "2021-08-24T19:43:38.913Z"
   },
   {
    "duration": 8259,
    "start_time": "2021-08-24T19:43:38.925Z"
   },
   {
    "duration": 8207,
    "start_time": "2021-08-24T19:43:47.187Z"
   },
   {
    "duration": 8740,
    "start_time": "2021-08-24T19:43:55.397Z"
   },
   {
    "duration": 25,
    "start_time": "2021-08-24T19:44:04.139Z"
   },
   {
    "duration": 11,
    "start_time": "2021-08-24T19:44:04.183Z"
   },
   {
    "duration": 16,
    "start_time": "2021-08-24T19:44:04.197Z"
   },
   {
    "duration": 417,
    "start_time": "2021-08-24T19:44:04.216Z"
   },
   {
    "duration": 65,
    "start_time": "2021-08-24T19:44:04.636Z"
   },
   {
    "duration": 1882,
    "start_time": "2021-08-24T19:44:04.704Z"
   },
   {
    "duration": 943,
    "start_time": "2021-08-24T19:44:06.588Z"
   },
   {
    "duration": 1050,
    "start_time": "2021-08-24T19:44:07.535Z"
   },
   {
    "duration": 997,
    "start_time": "2021-08-24T19:44:08.588Z"
   },
   {
    "duration": 1026,
    "start_time": "2021-08-24T19:44:09.588Z"
   },
   {
    "duration": 12,
    "start_time": "2021-08-24T19:44:10.617Z"
   },
   {
    "duration": 15,
    "start_time": "2021-08-24T19:44:10.631Z"
   },
   {
    "duration": 23,
    "start_time": "2021-08-24T19:44:10.682Z"
   },
   {
    "duration": 440,
    "start_time": "2021-08-24T19:59:42.412Z"
   },
   {
    "duration": 1489,
    "start_time": "2021-08-24T20:00:12.470Z"
   },
   {
    "duration": 515,
    "start_time": "2021-08-24T20:00:13.962Z"
   },
   {
    "duration": 387,
    "start_time": "2021-08-24T20:00:14.480Z"
   },
   {
    "duration": 125,
    "start_time": "2021-08-24T20:00:14.882Z"
   },
   {
    "duration": 20,
    "start_time": "2021-08-24T20:00:15.013Z"
   },
   {
    "duration": 18,
    "start_time": "2021-08-24T20:00:15.035Z"
   },
   {
    "duration": 61,
    "start_time": "2021-08-24T20:00:15.056Z"
   },
   {
    "duration": 132,
    "start_time": "2021-08-24T20:00:15.120Z"
   },
   {
    "duration": 72,
    "start_time": "2021-08-24T20:00:15.257Z"
   },
   {
    "duration": 7,
    "start_time": "2021-08-24T20:00:15.332Z"
   },
   {
    "duration": 86,
    "start_time": "2021-08-24T20:00:15.342Z"
   },
   {
    "duration": 7,
    "start_time": "2021-08-24T20:00:15.430Z"
   },
   {
    "duration": 16,
    "start_time": "2021-08-24T20:00:15.440Z"
   },
   {
    "duration": 35,
    "start_time": "2021-08-24T20:00:15.459Z"
   },
   {
    "duration": 63,
    "start_time": "2021-08-24T20:00:15.497Z"
   },
   {
    "duration": 11,
    "start_time": "2021-08-24T20:00:15.583Z"
   },
   {
    "duration": 58,
    "start_time": "2021-08-24T20:00:15.599Z"
   },
   {
    "duration": 44,
    "start_time": "2021-08-24T20:00:15.660Z"
   },
   {
    "duration": 18,
    "start_time": "2021-08-24T20:00:15.706Z"
   },
   {
    "duration": 401,
    "start_time": "2021-08-24T20:00:15.726Z"
   },
   {
    "duration": 8,
    "start_time": "2021-08-24T20:00:16.130Z"
   },
   {
    "duration": 50,
    "start_time": "2021-08-24T20:00:16.141Z"
   },
   {
    "duration": 15,
    "start_time": "2021-08-24T20:00:16.194Z"
   },
   {
    "duration": 10,
    "start_time": "2021-08-24T20:00:16.212Z"
   },
   {
    "duration": 16,
    "start_time": "2021-08-24T20:00:16.225Z"
   },
   {
    "duration": 7,
    "start_time": "2021-08-24T20:00:16.244Z"
   },
   {
    "duration": 8542,
    "start_time": "2021-08-24T20:00:16.255Z"
   },
   {
    "duration": 8660,
    "start_time": "2021-08-24T20:00:24.802Z"
   },
   {
    "duration": 8509,
    "start_time": "2021-08-24T20:00:33.465Z"
   },
   {
    "duration": 37,
    "start_time": "2021-08-24T20:00:41.976Z"
   },
   {
    "duration": 18,
    "start_time": "2021-08-24T20:00:42.016Z"
   },
   {
    "duration": 16,
    "start_time": "2021-08-24T20:00:42.036Z"
   },
   {
    "duration": 387,
    "start_time": "2021-08-24T20:00:42.054Z"
   },
   {
    "duration": 70,
    "start_time": "2021-08-24T20:00:42.443Z"
   },
   {
    "duration": 1813,
    "start_time": "2021-08-24T20:00:42.515Z"
   },
   {
    "duration": 1040,
    "start_time": "2021-08-24T20:00:44.330Z"
   },
   {
    "duration": 1139,
    "start_time": "2021-08-24T20:00:45.372Z"
   },
   {
    "duration": 1100,
    "start_time": "2021-08-24T20:00:46.514Z"
   },
   {
    "duration": 1109,
    "start_time": "2021-08-24T20:00:47.617Z"
   },
   {
    "duration": 13,
    "start_time": "2021-08-24T20:00:48.728Z"
   },
   {
    "duration": 16,
    "start_time": "2021-08-24T20:00:48.744Z"
   },
   {
    "duration": 15,
    "start_time": "2021-08-24T20:00:48.783Z"
   },
   {
    "duration": 26,
    "start_time": "2021-08-24T20:00:48.803Z"
   },
   {
    "duration": 23,
    "start_time": "2021-08-24T20:02:58.711Z"
   },
   {
    "duration": 25,
    "start_time": "2021-08-24T20:03:35.822Z"
   },
   {
    "duration": 1428,
    "start_time": "2021-08-24T20:05:18.891Z"
   },
   {
    "duration": 516,
    "start_time": "2021-08-24T20:05:20.322Z"
   },
   {
    "duration": 392,
    "start_time": "2021-08-24T20:05:20.841Z"
   },
   {
    "duration": 115,
    "start_time": "2021-08-24T20:05:21.235Z"
   },
   {
    "duration": 32,
    "start_time": "2021-08-24T20:05:21.352Z"
   },
   {
    "duration": 12,
    "start_time": "2021-08-24T20:05:21.386Z"
   },
   {
    "duration": 40,
    "start_time": "2021-08-24T20:05:21.405Z"
   },
   {
    "duration": 125,
    "start_time": "2021-08-24T20:05:21.449Z"
   },
   {
    "duration": 56,
    "start_time": "2021-08-24T20:05:21.577Z"
   },
   {
    "duration": 7,
    "start_time": "2021-08-24T20:05:21.635Z"
   },
   {
    "duration": 89,
    "start_time": "2021-08-24T20:05:21.645Z"
   },
   {
    "duration": 8,
    "start_time": "2021-08-24T20:05:21.736Z"
   },
   {
    "duration": 46,
    "start_time": "2021-08-24T20:05:21.746Z"
   },
   {
    "duration": 11,
    "start_time": "2021-08-24T20:05:21.795Z"
   },
   {
    "duration": 56,
    "start_time": "2021-08-24T20:05:21.809Z"
   },
   {
    "duration": 32,
    "start_time": "2021-08-24T20:05:21.867Z"
   },
   {
    "duration": 55,
    "start_time": "2021-08-24T20:05:21.910Z"
   },
   {
    "duration": 22,
    "start_time": "2021-08-24T20:05:21.967Z"
   },
   {
    "duration": 10,
    "start_time": "2021-08-24T20:05:21.995Z"
   },
   {
    "duration": 365,
    "start_time": "2021-08-24T20:05:22.007Z"
   },
   {
    "duration": 14,
    "start_time": "2021-08-24T20:05:22.375Z"
   },
   {
    "duration": 28,
    "start_time": "2021-08-24T20:05:22.392Z"
   },
   {
    "duration": 7,
    "start_time": "2021-08-24T20:05:22.424Z"
   },
   {
    "duration": 9,
    "start_time": "2021-08-24T20:05:22.434Z"
   },
   {
    "duration": 63,
    "start_time": "2021-08-24T20:05:22.445Z"
   },
   {
    "duration": 9,
    "start_time": "2021-08-24T20:05:22.512Z"
   },
   {
    "duration": 8650,
    "start_time": "2021-08-24T20:05:22.524Z"
   },
   {
    "duration": 8308,
    "start_time": "2021-08-24T20:05:31.182Z"
   },
   {
    "duration": 8398,
    "start_time": "2021-08-24T20:05:39.492Z"
   },
   {
    "duration": 27,
    "start_time": "2021-08-24T20:05:47.892Z"
   },
   {
    "duration": 9,
    "start_time": "2021-08-24T20:05:47.922Z"
   },
   {
    "duration": 16,
    "start_time": "2021-08-24T20:05:47.933Z"
   },
   {
    "duration": 409,
    "start_time": "2021-08-24T20:05:47.951Z"
   },
   {
    "duration": 70,
    "start_time": "2021-08-24T20:05:48.363Z"
   },
   {
    "duration": 1789,
    "start_time": "2021-08-24T20:05:48.437Z"
   },
   {
    "duration": 1035,
    "start_time": "2021-08-24T20:05:50.229Z"
   },
   {
    "duration": 1111,
    "start_time": "2021-08-24T20:05:51.267Z"
   },
   {
    "duration": 1051,
    "start_time": "2021-08-24T20:05:52.385Z"
   },
   {
    "duration": 1085,
    "start_time": "2021-08-24T20:05:53.439Z"
   },
   {
    "duration": 12,
    "start_time": "2021-08-24T20:05:54.527Z"
   },
   {
    "duration": 12,
    "start_time": "2021-08-24T20:05:54.541Z"
   },
   {
    "duration": 58,
    "start_time": "2021-08-24T20:05:54.555Z"
   },
   {
    "duration": 348,
    "start_time": "2021-08-25T13:50:21.332Z"
   },
   {
    "duration": 1425,
    "start_time": "2021-08-25T13:50:30.408Z"
   },
   {
    "duration": 540,
    "start_time": "2021-08-25T13:50:31.836Z"
   },
   {
    "duration": 376,
    "start_time": "2021-08-25T13:50:32.379Z"
   },
   {
    "duration": 122,
    "start_time": "2021-08-25T13:50:32.759Z"
   },
   {
    "duration": 19,
    "start_time": "2021-08-25T13:50:32.883Z"
   },
   {
    "duration": 12,
    "start_time": "2021-08-25T13:50:32.904Z"
   },
   {
    "duration": 66,
    "start_time": "2021-08-25T13:50:32.918Z"
   },
   {
    "duration": 128,
    "start_time": "2021-08-25T13:50:32.987Z"
   },
   {
    "duration": 68,
    "start_time": "2021-08-25T13:50:33.117Z"
   },
   {
    "duration": 8,
    "start_time": "2021-08-25T13:50:33.189Z"
   },
   {
    "duration": 86,
    "start_time": "2021-08-25T13:50:33.200Z"
   },
   {
    "duration": 7,
    "start_time": "2021-08-25T13:50:33.289Z"
   },
   {
    "duration": 20,
    "start_time": "2021-08-25T13:50:33.299Z"
   },
   {
    "duration": 6,
    "start_time": "2021-08-25T13:50:33.321Z"
   },
   {
    "duration": 64,
    "start_time": "2021-08-25T13:50:33.357Z"
   },
   {
    "duration": 8,
    "start_time": "2021-08-25T13:50:33.423Z"
   },
   {
    "duration": 63,
    "start_time": "2021-08-25T13:50:33.457Z"
   },
   {
    "duration": 7,
    "start_time": "2021-08-25T13:50:33.522Z"
   },
   {
    "duration": 5,
    "start_time": "2021-08-25T13:50:56.269Z"
   },
   {
    "duration": 562,
    "start_time": "2021-08-25T13:50:56.278Z"
   },
   {
    "duration": 393,
    "start_time": "2021-08-25T13:50:56.843Z"
   },
   {
    "duration": 118,
    "start_time": "2021-08-25T13:50:57.258Z"
   },
   {
    "duration": 16,
    "start_time": "2021-08-25T13:50:57.379Z"
   },
   {
    "duration": 14,
    "start_time": "2021-08-25T13:50:57.398Z"
   },
   {
    "duration": 60,
    "start_time": "2021-08-25T13:50:57.416Z"
   },
   {
    "duration": 115,
    "start_time": "2021-08-25T13:50:57.479Z"
   },
   {
    "duration": 36,
    "start_time": "2021-08-25T13:50:57.597Z"
   },
   {
    "duration": 22,
    "start_time": "2021-08-25T13:50:57.636Z"
   },
   {
    "duration": 52,
    "start_time": "2021-08-25T13:50:57.661Z"
   },
   {
    "duration": 7,
    "start_time": "2021-08-25T13:50:57.715Z"
   },
   {
    "duration": 18,
    "start_time": "2021-08-25T13:50:57.756Z"
   },
   {
    "duration": 7,
    "start_time": "2021-08-25T13:50:57.776Z"
   },
   {
    "duration": 88,
    "start_time": "2021-08-25T13:50:57.785Z"
   },
   {
    "duration": 7,
    "start_time": "2021-08-25T13:50:57.875Z"
   },
   {
    "duration": 72,
    "start_time": "2021-08-25T13:50:57.884Z"
   },
   {
    "duration": 10,
    "start_time": "2021-08-25T13:50:57.959Z"
   },
   {
    "duration": 17,
    "start_time": "2021-08-25T13:50:57.975Z"
   },
   {
    "duration": 461,
    "start_time": "2021-08-25T13:50:57.995Z"
   },
   {
    "duration": 12,
    "start_time": "2021-08-25T13:50:58.459Z"
   },
   {
    "duration": 30,
    "start_time": "2021-08-25T13:50:58.474Z"
   },
   {
    "duration": 7,
    "start_time": "2021-08-25T13:50:58.506Z"
   },
   {
    "duration": 13,
    "start_time": "2021-08-25T13:50:58.556Z"
   },
   {
    "duration": 4,
    "start_time": "2021-08-25T13:52:45.011Z"
   },
   {
    "duration": 581,
    "start_time": "2021-08-25T13:52:45.018Z"
   },
   {
    "duration": 382,
    "start_time": "2021-08-25T13:52:45.603Z"
   },
   {
    "duration": 113,
    "start_time": "2021-08-25T13:52:45.987Z"
   },
   {
    "duration": 18,
    "start_time": "2021-08-25T13:52:46.102Z"
   },
   {
    "duration": 17,
    "start_time": "2021-08-25T13:52:46.122Z"
   },
   {
    "duration": 44,
    "start_time": "2021-08-25T13:52:46.155Z"
   },
   {
    "duration": 135,
    "start_time": "2021-08-25T13:52:46.202Z"
   },
   {
    "duration": 53,
    "start_time": "2021-08-25T13:52:46.340Z"
   },
   {
    "duration": 7,
    "start_time": "2021-08-25T13:52:46.396Z"
   },
   {
    "duration": 74,
    "start_time": "2021-08-25T13:52:46.405Z"
   },
   {
    "duration": 7,
    "start_time": "2021-08-25T13:52:46.481Z"
   },
   {
    "duration": 16,
    "start_time": "2021-08-25T13:52:46.491Z"
   },
   {
    "duration": 7,
    "start_time": "2021-08-25T13:52:46.509Z"
   },
   {
    "duration": 89,
    "start_time": "2021-08-25T13:52:46.518Z"
   },
   {
    "duration": 7,
    "start_time": "2021-08-25T13:52:46.609Z"
   },
   {
    "duration": 79,
    "start_time": "2021-08-25T13:52:46.618Z"
   },
   {
    "duration": 8,
    "start_time": "2021-08-25T13:52:46.699Z"
   },
   {
    "duration": 9,
    "start_time": "2021-08-25T13:52:46.711Z"
   },
   {
    "duration": 451,
    "start_time": "2021-08-25T13:52:46.723Z"
   },
   {
    "duration": 10,
    "start_time": "2021-08-25T13:52:47.178Z"
   },
   {
    "duration": 33,
    "start_time": "2021-08-25T13:52:47.191Z"
   },
   {
    "duration": 34,
    "start_time": "2021-08-25T13:52:47.226Z"
   },
   {
    "duration": 19,
    "start_time": "2021-08-25T13:52:47.263Z"
   },
   {
    "duration": 18,
    "start_time": "2021-08-25T13:52:47.285Z"
   },
   {
    "duration": 8,
    "start_time": "2021-08-25T13:52:47.306Z"
   },
   {
    "duration": 8986,
    "start_time": "2021-08-25T13:52:47.317Z"
   },
   {
    "duration": 9167,
    "start_time": "2021-08-25T13:52:56.305Z"
   },
   {
    "duration": 10236,
    "start_time": "2021-08-25T13:53:05.475Z"
   },
   {
    "duration": 9125,
    "start_time": "2021-08-25T13:56:33.563Z"
   },
   {
    "duration": 44,
    "start_time": "2021-08-25T13:56:49.966Z"
   },
   {
    "duration": 16,
    "start_time": "2021-08-25T13:56:53.397Z"
   },
   {
    "duration": 5,
    "start_time": "2021-08-25T14:06:10.687Z"
   },
   {
    "duration": 539,
    "start_time": "2021-08-25T14:06:10.695Z"
   },
   {
    "duration": 350,
    "start_time": "2021-08-25T14:06:11.237Z"
   },
   {
    "duration": 115,
    "start_time": "2021-08-25T14:06:11.590Z"
   },
   {
    "duration": 18,
    "start_time": "2021-08-25T14:06:11.707Z"
   },
   {
    "duration": 31,
    "start_time": "2021-08-25T14:06:11.727Z"
   },
   {
    "duration": 41,
    "start_time": "2021-08-25T14:06:11.762Z"
   },
   {
    "duration": 126,
    "start_time": "2021-08-25T14:06:11.805Z"
   },
   {
    "duration": 53,
    "start_time": "2021-08-25T14:06:11.933Z"
   },
   {
    "duration": 7,
    "start_time": "2021-08-25T14:06:11.988Z"
   },
   {
    "duration": 69,
    "start_time": "2021-08-25T14:06:11.997Z"
   },
   {
    "duration": 8,
    "start_time": "2021-08-25T14:06:12.068Z"
   },
   {
    "duration": 17,
    "start_time": "2021-08-25T14:06:12.080Z"
   },
   {
    "duration": 8,
    "start_time": "2021-08-25T14:06:12.101Z"
   },
   {
    "duration": 91,
    "start_time": "2021-08-25T14:06:12.111Z"
   },
   {
    "duration": 7,
    "start_time": "2021-08-25T14:06:12.205Z"
   },
   {
    "duration": 80,
    "start_time": "2021-08-25T14:06:12.215Z"
   },
   {
    "duration": 8,
    "start_time": "2021-08-25T14:06:12.297Z"
   },
   {
    "duration": 10,
    "start_time": "2021-08-25T14:06:12.309Z"
   },
   {
    "duration": 417,
    "start_time": "2021-08-25T14:06:12.321Z"
   },
   {
    "duration": 20,
    "start_time": "2021-08-25T14:06:12.740Z"
   },
   {
    "duration": 29,
    "start_time": "2021-08-25T14:06:12.762Z"
   },
   {
    "duration": 6,
    "start_time": "2021-08-25T14:06:12.794Z"
   },
   {
    "duration": 14,
    "start_time": "2021-08-25T14:06:12.803Z"
   },
   {
    "duration": 48,
    "start_time": "2021-08-25T14:06:12.819Z"
   },
   {
    "duration": 8,
    "start_time": "2021-08-25T14:06:12.870Z"
   },
   {
    "duration": 8648,
    "start_time": "2021-08-25T14:06:12.880Z"
   },
   {
    "duration": 8432,
    "start_time": "2021-08-25T14:06:21.530Z"
   },
   {
    "duration": 8525,
    "start_time": "2021-08-25T14:06:29.965Z"
   },
   {
    "duration": 23,
    "start_time": "2021-08-25T14:06:38.493Z"
   },
   {
    "duration": 21,
    "start_time": "2021-08-25T14:06:38.519Z"
   },
   {
    "duration": 6955,
    "start_time": "2021-08-25T14:06:57.112Z"
   },
   {
    "duration": 7261,
    "start_time": "2021-08-25T14:07:10.922Z"
   },
   {
    "duration": -7333,
    "start_time": "2021-08-25T14:07:25.519Z"
   },
   {
    "duration": 16,
    "start_time": "2021-08-25T14:07:27.085Z"
   },
   {
    "duration": 362,
    "start_time": "2021-08-25T14:08:19.557Z"
   },
   {
    "duration": 319,
    "start_time": "2021-08-25T14:08:26.991Z"
   },
   {
    "duration": 52,
    "start_time": "2021-08-25T14:08:31.453Z"
   },
   {
    "duration": 1808,
    "start_time": "2021-08-25T14:08:36.489Z"
   },
   {
    "duration": 1005,
    "start_time": "2021-08-25T14:08:46.694Z"
   },
   {
    "duration": 1096,
    "start_time": "2021-08-25T14:09:11.937Z"
   },
   {
    "duration": 1055,
    "start_time": "2021-08-25T14:09:23.608Z"
   },
   {
    "duration": 1065,
    "start_time": "2021-08-25T14:09:32.094Z"
   },
   {
    "duration": 14,
    "start_time": "2021-08-25T14:09:38.720Z"
   },
   {
    "duration": 14,
    "start_time": "2021-08-25T14:11:33.937Z"
   },
   {
    "duration": 37,
    "start_time": "2021-08-25T14:11:51.063Z"
   }
  ],
  "kernelspec": {
   "display_name": "Python 3 (ipykernel)",
   "language": "python",
   "name": "python3"
  },
  "language_info": {
   "codemirror_mode": {
    "name": "ipython",
    "version": 3
   },
   "file_extension": ".py",
   "mimetype": "text/x-python",
   "name": "python",
   "nbconvert_exporter": "python",
   "pygments_lexer": "ipython3",
   "version": "3.9.7"
  },
  "toc": {
   "base_numbering": 1,
   "nav_menu": {},
   "number_sections": true,
   "sideBar": true,
   "skip_h1_title": true,
   "title_cell": "Table of Contents",
   "title_sidebar": "Contents",
   "toc_cell": false,
   "toc_position": {
    "height": "calc(100% - 180px)",
    "left": "10px",
    "top": "150px",
    "width": "165px"
   },
   "toc_section_display": true,
   "toc_window_display": false
  }
 },
 "nbformat": 4,
 "nbformat_minor": 2
}
